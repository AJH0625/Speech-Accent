{
  "nbformat": 4,
  "nbformat_minor": 0,
  "metadata": {
    "colab": {
      "name": "배포판",
      "provenance": [],
      "collapsed_sections": [
        "zKHjaerkXpCN"
      ]
    },
    "kernelspec": {
      "name": "python3",
      "display_name": "Python 3"
    },
    "language_info": {
      "name": "python"
    },
    "widgets": {
      "application/vnd.jupyter.widget-state+json": {
        "eed43549022548ffbe3dcbc348e590eb": {
          "model_module": "@jupyter-widgets/controls",
          "model_name": "HBoxModel",
          "model_module_version": "1.5.0",
          "state": {
            "_dom_classes": [],
            "_model_module": "@jupyter-widgets/controls",
            "_model_module_version": "1.5.0",
            "_model_name": "HBoxModel",
            "_view_count": null,
            "_view_module": "@jupyter-widgets/controls",
            "_view_module_version": "1.5.0",
            "_view_name": "HBoxView",
            "box_style": "",
            "children": [
              "IPY_MODEL_1aeb09eb4e0a470190fd721bdbb65456",
              "IPY_MODEL_2f95c18d0c9d49c5a90ad244c56b7092",
              "IPY_MODEL_bd3e5bd429be40579c6fbecb25b2de76"
            ],
            "layout": "IPY_MODEL_40a507192b6140cbb9d353f6385c83a5"
          }
        },
        "1aeb09eb4e0a470190fd721bdbb65456": {
          "model_module": "@jupyter-widgets/controls",
          "model_name": "HTMLModel",
          "model_module_version": "1.5.0",
          "state": {
            "_dom_classes": [],
            "_model_module": "@jupyter-widgets/controls",
            "_model_module_version": "1.5.0",
            "_model_name": "HTMLModel",
            "_view_count": null,
            "_view_module": "@jupyter-widgets/controls",
            "_view_module_version": "1.5.0",
            "_view_name": "HTMLView",
            "description": "",
            "description_tooltip": null,
            "layout": "IPY_MODEL_9adabf978b7741faabc8e4a627fce897",
            "placeholder": "​",
            "style": "IPY_MODEL_cf41425e81124348899064507cb3f902",
            "value": "100%"
          }
        },
        "2f95c18d0c9d49c5a90ad244c56b7092": {
          "model_module": "@jupyter-widgets/controls",
          "model_name": "FloatProgressModel",
          "model_module_version": "1.5.0",
          "state": {
            "_dom_classes": [],
            "_model_module": "@jupyter-widgets/controls",
            "_model_module_version": "1.5.0",
            "_model_name": "FloatProgressModel",
            "_view_count": null,
            "_view_module": "@jupyter-widgets/controls",
            "_view_module_version": "1.5.0",
            "_view_name": "ProgressView",
            "bar_style": "success",
            "description": "",
            "description_tooltip": null,
            "layout": "IPY_MODEL_5c1bff30f8634214bf93b0757a6b7c67",
            "max": 117227874,
            "min": 0,
            "orientation": "horizontal",
            "style": "IPY_MODEL_812e43cc33ce48cba0c7455b28db53bc",
            "value": 117227874
          }
        },
        "bd3e5bd429be40579c6fbecb25b2de76": {
          "model_module": "@jupyter-widgets/controls",
          "model_name": "HTMLModel",
          "model_module_version": "1.5.0",
          "state": {
            "_dom_classes": [],
            "_model_module": "@jupyter-widgets/controls",
            "_model_module_version": "1.5.0",
            "_model_name": "HTMLModel",
            "_view_count": null,
            "_view_module": "@jupyter-widgets/controls",
            "_view_module_version": "1.5.0",
            "_view_name": "HTMLView",
            "description": "",
            "description_tooltip": null,
            "layout": "IPY_MODEL_32ae1d047a4f4a43ba6262895f2f4ceb",
            "placeholder": "​",
            "style": "IPY_MODEL_d486b6ea6dd246f998e77b1fa2bbd5b2",
            "value": " 112M/112M [00:00&lt;00:00, 217MB/s]"
          }
        },
        "40a507192b6140cbb9d353f6385c83a5": {
          "model_module": "@jupyter-widgets/base",
          "model_name": "LayoutModel",
          "model_module_version": "1.2.0",
          "state": {
            "_model_module": "@jupyter-widgets/base",
            "_model_module_version": "1.2.0",
            "_model_name": "LayoutModel",
            "_view_count": null,
            "_view_module": "@jupyter-widgets/base",
            "_view_module_version": "1.2.0",
            "_view_name": "LayoutView",
            "align_content": null,
            "align_items": null,
            "align_self": null,
            "border": null,
            "bottom": null,
            "display": null,
            "flex": null,
            "flex_flow": null,
            "grid_area": null,
            "grid_auto_columns": null,
            "grid_auto_flow": null,
            "grid_auto_rows": null,
            "grid_column": null,
            "grid_gap": null,
            "grid_row": null,
            "grid_template_areas": null,
            "grid_template_columns": null,
            "grid_template_rows": null,
            "height": null,
            "justify_content": null,
            "justify_items": null,
            "left": null,
            "margin": null,
            "max_height": null,
            "max_width": null,
            "min_height": null,
            "min_width": null,
            "object_fit": null,
            "object_position": null,
            "order": null,
            "overflow": null,
            "overflow_x": null,
            "overflow_y": null,
            "padding": null,
            "right": null,
            "top": null,
            "visibility": null,
            "width": null
          }
        },
        "9adabf978b7741faabc8e4a627fce897": {
          "model_module": "@jupyter-widgets/base",
          "model_name": "LayoutModel",
          "model_module_version": "1.2.0",
          "state": {
            "_model_module": "@jupyter-widgets/base",
            "_model_module_version": "1.2.0",
            "_model_name": "LayoutModel",
            "_view_count": null,
            "_view_module": "@jupyter-widgets/base",
            "_view_module_version": "1.2.0",
            "_view_name": "LayoutView",
            "align_content": null,
            "align_items": null,
            "align_self": null,
            "border": null,
            "bottom": null,
            "display": null,
            "flex": null,
            "flex_flow": null,
            "grid_area": null,
            "grid_auto_columns": null,
            "grid_auto_flow": null,
            "grid_auto_rows": null,
            "grid_column": null,
            "grid_gap": null,
            "grid_row": null,
            "grid_template_areas": null,
            "grid_template_columns": null,
            "grid_template_rows": null,
            "height": null,
            "justify_content": null,
            "justify_items": null,
            "left": null,
            "margin": null,
            "max_height": null,
            "max_width": null,
            "min_height": null,
            "min_width": null,
            "object_fit": null,
            "object_position": null,
            "order": null,
            "overflow": null,
            "overflow_x": null,
            "overflow_y": null,
            "padding": null,
            "right": null,
            "top": null,
            "visibility": null,
            "width": null
          }
        },
        "cf41425e81124348899064507cb3f902": {
          "model_module": "@jupyter-widgets/controls",
          "model_name": "DescriptionStyleModel",
          "model_module_version": "1.5.0",
          "state": {
            "_model_module": "@jupyter-widgets/controls",
            "_model_module_version": "1.5.0",
            "_model_name": "DescriptionStyleModel",
            "_view_count": null,
            "_view_module": "@jupyter-widgets/base",
            "_view_module_version": "1.2.0",
            "_view_name": "StyleView",
            "description_width": ""
          }
        },
        "5c1bff30f8634214bf93b0757a6b7c67": {
          "model_module": "@jupyter-widgets/base",
          "model_name": "LayoutModel",
          "model_module_version": "1.2.0",
          "state": {
            "_model_module": "@jupyter-widgets/base",
            "_model_module_version": "1.2.0",
            "_model_name": "LayoutModel",
            "_view_count": null,
            "_view_module": "@jupyter-widgets/base",
            "_view_module_version": "1.2.0",
            "_view_name": "LayoutView",
            "align_content": null,
            "align_items": null,
            "align_self": null,
            "border": null,
            "bottom": null,
            "display": null,
            "flex": null,
            "flex_flow": null,
            "grid_area": null,
            "grid_auto_columns": null,
            "grid_auto_flow": null,
            "grid_auto_rows": null,
            "grid_column": null,
            "grid_gap": null,
            "grid_row": null,
            "grid_template_areas": null,
            "grid_template_columns": null,
            "grid_template_rows": null,
            "height": null,
            "justify_content": null,
            "justify_items": null,
            "left": null,
            "margin": null,
            "max_height": null,
            "max_width": null,
            "min_height": null,
            "min_width": null,
            "object_fit": null,
            "object_position": null,
            "order": null,
            "overflow": null,
            "overflow_x": null,
            "overflow_y": null,
            "padding": null,
            "right": null,
            "top": null,
            "visibility": null,
            "width": null
          }
        },
        "812e43cc33ce48cba0c7455b28db53bc": {
          "model_module": "@jupyter-widgets/controls",
          "model_name": "ProgressStyleModel",
          "model_module_version": "1.5.0",
          "state": {
            "_model_module": "@jupyter-widgets/controls",
            "_model_module_version": "1.5.0",
            "_model_name": "ProgressStyleModel",
            "_view_count": null,
            "_view_module": "@jupyter-widgets/base",
            "_view_module_version": "1.2.0",
            "_view_name": "StyleView",
            "bar_color": null,
            "description_width": ""
          }
        },
        "32ae1d047a4f4a43ba6262895f2f4ceb": {
          "model_module": "@jupyter-widgets/base",
          "model_name": "LayoutModel",
          "model_module_version": "1.2.0",
          "state": {
            "_model_module": "@jupyter-widgets/base",
            "_model_module_version": "1.2.0",
            "_model_name": "LayoutModel",
            "_view_count": null,
            "_view_module": "@jupyter-widgets/base",
            "_view_module_version": "1.2.0",
            "_view_name": "LayoutView",
            "align_content": null,
            "align_items": null,
            "align_self": null,
            "border": null,
            "bottom": null,
            "display": null,
            "flex": null,
            "flex_flow": null,
            "grid_area": null,
            "grid_auto_columns": null,
            "grid_auto_flow": null,
            "grid_auto_rows": null,
            "grid_column": null,
            "grid_gap": null,
            "grid_row": null,
            "grid_template_areas": null,
            "grid_template_columns": null,
            "grid_template_rows": null,
            "height": null,
            "justify_content": null,
            "justify_items": null,
            "left": null,
            "margin": null,
            "max_height": null,
            "max_width": null,
            "min_height": null,
            "min_width": null,
            "object_fit": null,
            "object_position": null,
            "order": null,
            "overflow": null,
            "overflow_x": null,
            "overflow_y": null,
            "padding": null,
            "right": null,
            "top": null,
            "visibility": null,
            "width": null
          }
        },
        "d486b6ea6dd246f998e77b1fa2bbd5b2": {
          "model_module": "@jupyter-widgets/controls",
          "model_name": "DescriptionStyleModel",
          "model_module_version": "1.5.0",
          "state": {
            "_model_module": "@jupyter-widgets/controls",
            "_model_module_version": "1.5.0",
            "_model_name": "DescriptionStyleModel",
            "_view_count": null,
            "_view_module": "@jupyter-widgets/base",
            "_view_module_version": "1.2.0",
            "_view_name": "StyleView",
            "description_width": ""
          }
        },
        "299700b418ca49dc9ae3135a50d9a1dd": {
          "model_module": "@jupyter-widgets/controls",
          "model_name": "ButtonModel",
          "model_module_version": "1.5.0",
          "state": {
            "_dom_classes": [],
            "_model_module": "@jupyter-widgets/controls",
            "_model_module_version": "1.5.0",
            "_model_name": "ButtonModel",
            "_view_count": null,
            "_view_module": "@jupyter-widgets/controls",
            "_view_module_version": "1.5.0",
            "_view_name": "ButtonView",
            "button_style": "",
            "description": "Record Speech",
            "disabled": false,
            "icon": "",
            "layout": "IPY_MODEL_b7bb3ed19de245f1b7ab6cff66ceba2a",
            "style": "IPY_MODEL_1a412c8f814a4d78a7e7013c83e9db7b",
            "tooltip": ""
          }
        },
        "b7bb3ed19de245f1b7ab6cff66ceba2a": {
          "model_module": "@jupyter-widgets/base",
          "model_name": "LayoutModel",
          "model_module_version": "1.2.0",
          "state": {
            "_model_module": "@jupyter-widgets/base",
            "_model_module_version": "1.2.0",
            "_model_name": "LayoutModel",
            "_view_count": null,
            "_view_module": "@jupyter-widgets/base",
            "_view_module_version": "1.2.0",
            "_view_name": "LayoutView",
            "align_content": null,
            "align_items": null,
            "align_self": null,
            "border": null,
            "bottom": null,
            "display": null,
            "flex": null,
            "flex_flow": null,
            "grid_area": null,
            "grid_auto_columns": null,
            "grid_auto_flow": null,
            "grid_auto_rows": null,
            "grid_column": null,
            "grid_gap": null,
            "grid_row": null,
            "grid_template_areas": null,
            "grid_template_columns": null,
            "grid_template_rows": null,
            "height": null,
            "justify_content": null,
            "justify_items": null,
            "left": null,
            "margin": null,
            "max_height": null,
            "max_width": null,
            "min_height": null,
            "min_width": null,
            "object_fit": null,
            "object_position": null,
            "order": null,
            "overflow": null,
            "overflow_x": null,
            "overflow_y": null,
            "padding": null,
            "right": null,
            "top": null,
            "visibility": null,
            "width": null
          }
        },
        "1a412c8f814a4d78a7e7013c83e9db7b": {
          "model_module": "@jupyter-widgets/controls",
          "model_name": "ButtonStyleModel",
          "model_module_version": "1.5.0",
          "state": {
            "_model_module": "@jupyter-widgets/controls",
            "_model_module_version": "1.5.0",
            "_model_name": "ButtonStyleModel",
            "_view_count": null,
            "_view_module": "@jupyter-widgets/base",
            "_view_module_version": "1.2.0",
            "_view_name": "StyleView",
            "button_color": null,
            "font_weight": ""
          }
        }
      }
    }
  },
  "cells": [
    {
      "cell_type": "markdown",
      "source": [
        "**Run All 하시고 녹음 후 잠시 기다려주세요 ~~**"
      ],
      "metadata": {
        "id": "ssVtkQjHfh31"
      }
    },
    {
      "cell_type": "markdown",
      "source": [
        "##모델 불러오기"
      ],
      "metadata": {
        "id": "zKHjaerkXpCN"
      }
    },
    {
      "cell_type": "code",
      "source": [
        "!git clone https://github.com/AJH0625/Speech-Accent.git\n",
        "!unzip /content/Speech-Accent/Data_augmented.zip"
      ],
      "metadata": {
        "colab": {
          "base_uri": "https://localhost:8080/"
        },
        "id": "gQiZzcYsYBv0",
        "outputId": "83c5d5c6-49b4-4910-c881-09e3c6cff8fb"
      },
      "execution_count": 1,
      "outputs": [
        {
          "output_type": "stream",
          "name": "stdout",
          "text": [
            "Cloning into 'Speech-Accent'...\n",
            "remote: Enumerating objects: 24, done.\u001b[K\n",
            "remote: Counting objects: 100% (24/24), done.\u001b[K\n",
            "remote: Compressing objects: 100% (22/22), done.\u001b[K\n",
            "remote: Total 24 (delta 5), reused 0 (delta 0), pack-reused 0\u001b[K\n",
            "Unpacking objects: 100% (24/24), done.\n"
          ]
        }
      ]
    },
    {
      "cell_type": "code",
      "source": [
        "# Importing required libraries \n",
        "# Keras\n",
        "import keras\n",
        "from keras import regularizers\n",
        "from keras.preprocessing import sequence\n",
        "from keras.preprocessing.text import Tokenizer\n",
        "from keras.preprocessing.sequence import pad_sequences\n",
        "from keras.models import Sequential, Model, model_from_json\n",
        "from keras.layers import Dense, Embedding, LSTM\n",
        "from keras.layers import Input, Flatten, Dropout, Activation, BatchNormalization\n",
        "from keras.layers import Conv1D, MaxPooling1D, AveragePooling1D\n",
        "from tensorflow.keras.utils import to_categorical\n",
        "from keras.utils import np_utils\n",
        "from keras.callbacks import ModelCheckpoint\n",
        "\n",
        "# sklearn\n",
        "from sklearn.metrics import confusion_matrix, accuracy_score, classification_report\n",
        "from sklearn.model_selection import train_test_split\n",
        "from sklearn.preprocessing import LabelEncoder\n",
        "\n",
        "# Other  \n",
        "import librosa\n",
        "import librosa.display\n",
        "import json\n",
        "import numpy as np\n",
        "import matplotlib.pyplot as plt\n",
        "import tensorflow as tf\n",
        "from matplotlib.pyplot import specgram\n",
        "import pandas as pd\n",
        "import seaborn as sns\n",
        "import glob \n",
        "import os\n",
        "from tqdm import tqdm\n",
        "import pickle\n",
        "import IPython.display as ipd  # To play sound in the notebook"
      ],
      "metadata": {
        "id": "AZgHRCYyYbm0"
      },
      "execution_count": 3,
      "outputs": []
    },
    {
      "cell_type": "code",
      "execution_count": 4,
      "metadata": {
        "colab": {
          "base_uri": "https://localhost:8080/"
        },
        "id": "dKm9r8dIXIAe",
        "outputId": "e7507b25-c33c-4c51-e113-b7f582a8ad1b"
      },
      "outputs": [
        {
          "output_type": "stream",
          "name": "stdout",
          "text": [
            "Loaded model from disk\n"
          ]
        }
      ],
      "source": [
        "# loading json and model architecture \n",
        "json_file = open('Speech-Accent/model128_json_aug.json', 'r')\n",
        "loaded_model_json = json_file.read()\n",
        "json_file.close()\n",
        "loaded_model = model_from_json(loaded_model_json)\n",
        "\n",
        "# load weights into new model\n",
        "loaded_model.load_weights(\"Speech-Accent/Model128.h5\")\n",
        "print(\"Loaded model from disk\")"
      ]
    },
    {
      "cell_type": "code",
      "source": [
        "!pip install -q omegaconf torchaudio pydub\n",
        "\n",
        "import os\n",
        "from os.path import exists\n",
        "\n",
        "if not exists('silero-models'):\n",
        "  !git clone -q --depth 1 https://github.com/snakers4/silero-models\n",
        "\n",
        "%cd silero-models\n",
        "\n",
        "# silero imports\n",
        "import torch\n",
        "import random\n",
        "from glob import glob\n",
        "from omegaconf import OmegaConf\n",
        "from src.silero.utils import (init_jit_model, \n",
        "                       split_into_batches,\n",
        "                       read_audio,\n",
        "                       read_batch,\n",
        "                       prepare_model_input)\n",
        "from colab_utils import (record_audio,\n",
        "                         audio_bytes_to_np,\n",
        "                         upload_audio)\n",
        "\n",
        "device = torch.device('cpu')   # you can use any pytorch device\n",
        "models = OmegaConf.load('models.yml')\n",
        "\n",
        "# imports for uploading/recording\n",
        "import numpy as np\n",
        "import ipywidgets as widgets\n",
        "from scipy.io import wavfile\n",
        "from IPython.display import Audio, display, clear_output\n",
        "from torchaudio.functional import vad\n",
        "\n",
        "\n",
        "# wav to text method\n",
        "def wav_to_text(f='test.wav'):\n",
        "  batch = read_batch([f])\n",
        "  input = prepare_model_input(batch, device=device)\n",
        "  output = model(input)\n",
        "  return decoder(output[0].cpu())"
      ],
      "metadata": {
        "colab": {
          "base_uri": "https://localhost:8080/"
        },
        "id": "ofJ3dZlLYjle",
        "outputId": "02880ba8-1fe0-4212-dde5-08d5c23b2399"
      },
      "execution_count": 5,
      "outputs": [
        {
          "output_type": "stream",
          "name": "stdout",
          "text": [
            "\u001b[K     |████████████████████████████████| 79 kB 4.7 MB/s \n",
            "\u001b[K     |████████████████████████████████| 596 kB 66.4 MB/s \n",
            "\u001b[K     |████████████████████████████████| 117 kB 55.4 MB/s \n",
            "\u001b[?25h  Building wheel for antlr4-python3-runtime (setup.py) ... \u001b[?25l\u001b[?25hdone\n",
            "/content/silero-models\n"
          ]
        }
      ]
    },
    {
      "cell_type": "code",
      "source": [
        "language = \"English\"\n",
        "print(language)\n",
        "if language == 'German':\n",
        "  model, decoder = init_jit_model(models.stt_models.de.latest.jit, device=device)\n",
        "elif language == \"Spanish\":\n",
        "  model, decoder = init_jit_model(models.stt_models.es.latest.jit, device=device)\n",
        "else:\n",
        "  model, decoder = init_jit_model(models.stt_models.en.latest.jit, device=device)\n",
        "\n",
        "use_VAD = \"No\""
      ],
      "metadata": {
        "colab": {
          "base_uri": "https://localhost:8080/",
          "height": 67,
          "referenced_widgets": [
            "eed43549022548ffbe3dcbc348e590eb",
            "1aeb09eb4e0a470190fd721bdbb65456",
            "2f95c18d0c9d49c5a90ad244c56b7092",
            "bd3e5bd429be40579c6fbecb25b2de76",
            "40a507192b6140cbb9d353f6385c83a5",
            "9adabf978b7741faabc8e4a627fce897",
            "cf41425e81124348899064507cb3f902",
            "5c1bff30f8634214bf93b0757a6b7c67",
            "812e43cc33ce48cba0c7455b28db53bc",
            "32ae1d047a4f4a43ba6262895f2f4ceb",
            "d486b6ea6dd246f998e77b1fa2bbd5b2"
          ]
        },
        "id": "Bd10_lmmYowe",
        "outputId": "c0e8b5ac-1ad6-4428-bf42-3c5ab4723b67"
      },
      "execution_count": 6,
      "outputs": [
        {
          "output_type": "stream",
          "name": "stdout",
          "text": [
            "English\n"
          ]
        },
        {
          "output_type": "display_data",
          "data": {
            "text/plain": [
              "  0%|          | 0.00/112M [00:00<?, ?B/s]"
            ],
            "application/vnd.jupyter.widget-view+json": {
              "version_major": 2,
              "version_minor": 0,
              "model_id": "eed43549022548ffbe3dcbc348e590eb"
            }
          },
          "metadata": {}
        }
      ]
    },
    {
      "cell_type": "code",
      "source": [
        "df=pd.read_csv(\"/content/Data_augmented.csv\")\n",
        "freq=df['labels'].value_counts()\n",
        "freq_val=freq[freq>=100].index\n",
        "df=df[df['labels'].isin(freq_val)]\n",
        "df=df.drop(df[df['labels']=='english'].sample(frac=0.7).index)\n",
        "X_train, X_test, y_train, y_test = train_test_split(df.drop(['path','labels','source'],axis=1)\n",
        "                                                    , df.labels, test_size=0.2, shuffle=True, random_state=42)\n",
        "\n",
        "X_train = np.array(X_train)\n",
        "y_train = np.array(y_train)\n",
        "X_test = np.array(X_test)\n",
        "y_test = np.array(y_test)\n",
        "\n",
        "# one hot encode the target \n",
        "lb = LabelEncoder()\n",
        "y_train = np_utils.to_categorical(lb.fit_transform(y_train))\n",
        "y_test = np_utils.to_categorical(lb.fit_transform(y_test))\n",
        "\n",
        "print(lb.classes_)"
      ],
      "metadata": {
        "id": "QRqzegw1eHKz"
      },
      "execution_count": 7,
      "outputs": []
    },
    {
      "cell_type": "markdown",
      "source": [
        "##내 영어발음은 어느 나라 악센트일까?##\n",
        "**셀 실행 후 Record Speech 버튼을 눌러 녹음을 시작하세요! 다음 스크립트를 읽으시면 됩니다.**\n",
        "\n",
        "# Please call Stella.  Ask her to bring these things with her from the store:  Six spoons of fresh snow peas, five thick slabs of blue cheese, and maybe a snack for her brother Bob.  We also need a small plastic snake and a big toy frog for the kids.  She can scoop these things into three red bags, and we will go meet her Wednesday at the train station."
      ],
      "metadata": {
        "id": "MqMJizlKYuQX"
      }
    },
    {
      "cell_type": "code",
      "source": [
        "!mkdir ../test\n",
        "record_or_upload = \"Record\"\n",
        "record_seconds = 30\n",
        "sample_rate = 16000\n",
        "\n",
        "def _apply_vad(audio, boot_time=0, trigger_level=9, **kwargs):\n",
        "  print('\\nVAD applied\\n')\n",
        "  vad_kwargs = dict(locals().copy(), **kwargs)\n",
        "  vad_kwargs['sample_rate'] = sample_rate\n",
        "  del vad_kwargs['kwargs'], vad_kwargs['audio']\n",
        "  audio = vad(torch.flip(audio, ([0])), **vad_kwargs)\n",
        "  return vad(torch.flip(audio, ([0])), **vad_kwargs)\n",
        "\n",
        "def _recognize(audio):\n",
        "  display(Audio(audio, rate=sample_rate, autoplay=True))\n",
        "  if use_VAD == \"Yes\":\n",
        "    audio = _apply_vad(audio)\n",
        "  wavfile.write('test.wav', sample_rate, (32767*audio).numpy().astype(np.int16))\n",
        "  transcription = wav_to_text()\n",
        "  print('\\n\\nTRANSCRIPTION:\\n')\n",
        "  print(transcription)\n",
        "\n",
        "def _record_audio(b):\n",
        "  clear_output()\n",
        "  audio = record_audio(record_seconds)\n",
        "  wavfile.write('korean.wav', sample_rate, (32767*audio).numpy().astype(np.int16))\n",
        "  _recognize(audio)\n",
        "\n",
        "def _upload_audio(b):\n",
        "  clear_output()\n",
        "  audio = upload_audio()\n",
        "  _recognize(audio)\n",
        "  return audio\n",
        "\n",
        "if record_or_upload == \"Record\":\n",
        "  button = widgets.Button(description=\"Record Speech\")\n",
        "  button.on_click(_record_audio)\n",
        "  display(button)\n",
        "else:\n",
        "  audio = _upload_audio(\"\")"
      ],
      "metadata": {
        "colab": {
          "base_uri": "https://localhost:8080/",
          "height": 202,
          "referenced_widgets": [
            "299700b418ca49dc9ae3135a50d9a1dd",
            "b7bb3ed19de245f1b7ab6cff66ceba2a",
            "1a412c8f814a4d78a7e7013c83e9db7b"
          ]
        },
        "id": "xk4CBkVnYvh0",
        "outputId": "0ee2b318-1ff6-467d-a15a-7d20bfda90b9"
      },
      "execution_count": 9,
      "outputs": [
        {
          "output_type": "stream",
          "name": "stdout",
          "text": [
            "Starting recording for 5 seconds...\n"
          ]
        },
        {
          "output_type": "display_data",
          "data": {
            "text/plain": [
              "<IPython.core.display.Javascript object>"
            ],
            "application/javascript": [
              "\n",
              "      const sleep  = time => new Promise(resolve => setTimeout(resolve, time))\n",
              "      const b2text = blob => new Promise(resolve => {\n",
              "        const reader = new FileReader()\n",
              "        reader.onloadend = e => resolve(e.srcElement.result)\n",
              "        reader.readAsDataURL(blob)\n",
              "      })\n",
              "      var record = time => new Promise(async resolve => {\n",
              "        stream = await navigator.mediaDevices.getUserMedia({ audio: true })\n",
              "        recorder = new MediaRecorder(stream)\n",
              "        chunks = []\n",
              "        recorder.ondataavailable = e => chunks.push(e.data)\n",
              "        recorder.start()\n",
              "        await sleep(time)\n",
              "        recorder.onstop = async ()=>{\n",
              "          blob = new Blob(chunks)\n",
              "          text = await b2text(blob)\n",
              "          resolve(text)\n",
              "        }\n",
              "        recorder.stop()\n",
              "      })\n",
              "      "
            ]
          },
          "metadata": {}
        },
        {
          "output_type": "stream",
          "name": "stdout",
          "text": [
            "Finished recording!\n"
          ]
        },
        {
          "output_type": "display_data",
          "data": {
            "text/plain": [
              "<IPython.lib.display.Audio object>"
            ],
            "text/html": [
              "\n",
              "                <audio controls=\"controls\" autoplay=\"autoplay\">\n",
              "                    <source src=\"data:audio/wav;base64,UklGRqRuAgBXQVZFZm10IBAAAAABAAEAgD4AAAB9AAACABAAZGF0YYBuAgAAAAAAAAAAAAAAAAAAAAAAAAAAAAAAAAAAAAAAAAAAAAAAAAAAAAAAAAAAAAAAAAAAAAAAAAAAAAAAAAAAAAAAAAAAAAAAAAAAAAAAAAAAAAAAAAAAAAAAAAAAAAAAAAAAAAAAAAAAAAAAAAAAAAAAAAAAAAAAAAAAAAAAAAAAAAAAAAAAAAAAAAAAAAAAAAAAAAAAAAAAAAAAAAAAAAAAAAAAAAAAAAAAAAAAAAAAAAAAAAAAAAAAAAAAAAAAAAAAAAAAAAAAAAAAAAAAAAAAAAAAAAAAAAAAAAAAAAAAAAAAAAAAAAAAAAAAAAAAAAAAAAAAAAAAAAAAAAAAAAAAAAAAAAAAAAAAAAAAAAAAAAAAAAAAAAAAAAAAAAAAAAAAAAAAAAAAAAAAAAAAAAAAAAAAAAAAAAAAAAAAAAAAAAAAAAAAAAAAAAAAAAAAAAAAAAAAAAAAAAAAAAAAAAAAAAAAAAAAAAAAAAAAAAAAAAAAAAAAAAAAAAAAAAAAAAAAAAAAAAAAAAAAAAAAAAAAAAAAAAAAAAAAAAAAAAAAAAAAAAAAAAAAAAAAAAAAAAAAAAAAAAAAAAAAAAAAAAAAAAAAAAAAAAAAAAAAAAAAAAAAAAAAAAAAAAAAAAAAAAAAAAAAAAAAAAAAAAAAAAAAAAAAAAAAAAAAAAAAAAAAAAAAAAAAAAAAAAAAAAAAAAAAAAAAAAAAAAAAAAAAAAAAAAAAAAAAAAAAAAAAAAAAAAAAAAAAAAAAAAAAAAAAAAAAAAAAAAAAAAAAAAAAAAAAAAAAAAAAAAAAAAAAAAAAAAAAAAAAAAAAAAAAAAAAAAAAAAAAAAAAAAAAAAAAAAAAAAAAAAAAAAAAAAAAAAAAAAAAAAAAAAAAAAAAAAAAAAAAAAAAAAAAAAAAAAAAAAAAAAAAAAAAAAAAAAAAAAAAAAAAAAAAAAAAAAAAAAAAAAAAAAAAAAAAAAAAAAAAAAAAAAAAAAAAAAAAAAAAAAAAAAAAAAAAAAAAAAAAAAAAAAAAAAAAAAAAAAAAAAAAAAAAAAAAAAAAAAAAAAAAAAAAAAAAAAAAAAAAAAAAAAAAAAAAAAAAAAAAAAAAAAAAAAAAAAAAAAAAAAAAAAAAAAAAAAAAAAAAAAAAAAAAAAAAAAAAAAAAAAAAAAAAAAAAAAAAAAAAAAAAAAAAAAAAAAAAAAAAAAAAAAAAAAAAAAAAAAAAAAAAAAAAAAAAAAAAAAAAAAAAAAAAAAAAAAAAAAAAAAAAAAAAAAAAAAAAAAAAAAAAAAAAAAAAAAAAAAAAAAAAAAAAAAAAAQAAAP3//v/+//////8AAAAAAAAAAP7//v//////AAAAAAAAAAAAAAAAAAABAAEAAQABAAEAAQABAAEAAQABAAEAAQABAAEAAAAAAAAAAAAAAAAAAAAAAAAAAAAAAAAAAAAAAAAAAAAAAAAAAAAAAAAAAAAAAAAAAAAAAAAAAAAAAAAAAAAAAAAAAAAAAAAAAAAAAAAAAAAAAAAAAAAAAAAAAAAAAAAAAAAAAAAAAAAAAAAAAAAAAAAAAAAAAAAAAAAAAAAAAAAAAAAAAAAAAAAAAAAAAAAAAAAAAAAAAAAAAAAAAAAAAAAAAAAAAAAAAAAAAAAAAAAAAAEAAAD9//7//v////////8AAAAAAAAAAAAAAAAAAAAAAAAAAAAAAAAAAAAAAAAAAAAAAAAAAAAAAAAAAAAAAAAAAAAAAAAAAAAAAAAAAAAAAAAAAAAAAAAAAAAAAAAAAAAAAAAAAAAAAAAAAAAAAAAAAAAAAAAAAAAAAAAAAAAAAAD/////AAAAAAAAAAAAAAAAAAD///////8AAAAAAAAAAAAAAAAAAAAAAAD///////8AAAAAAAACAAMABAD8//j/+f/7//3//v///wAAAAAAAAAAAAAAAAAAAQABAAEAAQABAAIAAgADAAEAAAAAAAAAAAD//wQACQALAAUA/v/+//3//v/+/wAAAAAAAAAAAAAAAAAAAAAAAAAAAAAAAAAAAAAAAAAAAAAAAAAAAAD/////AAABAAEAAAAAAAAAAAAAAAAAAAAAAAAAAAAAAAAAAAAAAAAAAAAAAAAAAAAAAAAAAAAAAAAAAAAAAAAAAAAAAAAAAAAAAAAAAAAAAAAAAAAAAAAAAAAAAAAAAAAAAAAAAAAAAAAAAAAAAAAAAAAAAAAAAAAAAAAAAAAAAAAAAAAAAAAAAAAAAAAAAAAAAAAAAAAAAAAAAAAAAAAAAAAAAAAAAAAAAAAAAAAAAAAAAAAAAAAAAAAAAAAAAAAAAAAAAAAAAAAAAAAAAAAAAAAAAAAAAAAAAAAAAAAAAAAAAAAAAAAAAAAAAAAAAAAAAAAAAAAAAAAAAAAAAAAAAAAAAAAAAAAAAAAAAAAAAAAAAAAAAAAAAAAAAAAAAAAAAAAAAAAAAAAAAAAAAAAAAAAAAAAAAAAAAAAAAAAAAAAAAAAAAAAAAAAAAAAAAAAAAAAAAAAAAAAAAAAAAAAAAAAAAAAA//////7/AAABAAIAAwADAAMAAgABAAAAAQABAPz/+f/7/wAAAQAAAAEAAQABAAAAAAAAAAAAAAAAAAAAAAAAAAAA///+//3///8BAAIAAgACAAEAAgABAAIA///8//z//P/9//7/AAACAAIAAQABAAAAAAAAAP//AAAAAAAAAAAAAAAAAAD//wAAAAAAAAAAAAAAAAAAAAAAAAAAAAAAAP////8AAAAAAAAAAAAAAAABAAAAAAAAAAAAAAAAAAEAAgABAAEAAQABAAEAAAAAAAAAAAAAAAAAAAAAAAAAAAAAAAAAAAAAAAAAAAAAAAAAAAAAAAAAAAAAAP////8AAAAAAAAAAAEAAgACAAIAAQAAAAAAAAAAAAAAAAAAAAAAAAAAAAAAAAAAAAAAAAAAAAAAAAAAAAAAAAAAAAAA///+//3/AAADAAMAAgACAAIAAgABAAAAAAAAAAAA/////////////wAA/////wAAAAAAAAAAAAAAAAAAAAAAAAAA//8AAAAAAAAAAAAAAQAAAP//AAACAAIAAQABAAEAAAAAAAAAAAAAAAAAAAAAAP////////7///8AAAEAAQABAAEAAQAAAAAAAAAAAAAA/////wAAAAD/////AAD///////8AAAAAAAAAAAAAAAAAAAAAAAD///////8AAP7/AAADAAIAAQABAAEAAQAAAAAAAQABAAEAAQABAAEAAAAAAAAAAAAAAP//AAAAAAAAAAAAAAAAAAAAAAAA//8AAAAAAAAAAAAAAAAAAP////8AAAAAAAAAAAQABAACAAIAAQABAAAAAAAAAAAAAAAAAAAAAAAAAAAAAAD/////AAAAAAAA//8AAAAAAAAAAAAAAAAAAAAAAAAAAP//AAAAAAAAAAABAAIAAwADAAIAAgABAAEAAAAAAAAAAAAAAAAAAAAAAAAAAAD///////8AAAAAAAD//wAAAAAAAP///v/+////AAAAAAAAAAAAAAAAAAAAAAAAAAD/////AQABAAIAAQAAAAAAAAAAAAMAAwADAAMAAgABAAAAAAAAAAAAAAD/////AAAAAP//AAAAAP///////wAA/////wAAAAD//wAA///+//z/AAAGAAUABQAFAAQAAgABAAAAAAAAAAAA/////////////////v////////8AAAAAAAAAAAAA///+/////v/+/wAAAAAAAAAAAQABAAEAAAAAAAEAAQABAAEAAQABAAEAAQAAAAAAAAAAAAAAAQAAAAAA/////wAAAAD+////AgACAAEAAQABAAAA////////AAAAAP////8AAAAAAAAAAAAAAAAAAAAAAAAAAAAAAAAAAP//AAAAAAAA/v8EAAcABQAEAAQAAgAAAAAAAAAAAAAA/////wAAAAAAAAAA/////wAA///+//7////+//////////3//f/8/wEABwAGAAQAAwAEAAEAAQAAAAAAAAD/////AAAAAP////////////8AAP////8AAP///v/+/////v////3///8CAAMAAgADAAIAAQAAAAAAAQACAAAA/f/+/wEAAAABAAIAAgABAAAAAAAAAAAAAAD////////////////+/wIABQAEAAMAAgABAAAAAAAAAAAAAAD///////////7///8AAAAAAAD///7///8AAP////////7//v//////AgAEAAMAAgABAAEAAAAAAAEAAAAAAAAAAAAAAAAA//8AAAAAAAAAAAAAAAD//wAAAAD//wAA///+//7//f8BAAYABwAEAAMAAgACAAEAAAAAAAAA/v////7//v/+//7/AAACAAIAAwADAAAAAAD///3///8AAP///f/9////BAAGAAQAAQAAAAIAAgAAAPz/+//8/wAA///8////AAAAAAEAAAD//wAA//8AAP//+v/8////AQD+//z///8FAAgABgADAAMABAADAAIAAAAAAAAAAAD///3///8AAAAAAAAAAAAAAAAAAAAA/v/+//z//v8AAP/////9/wMACAAGAAQAAgAEAAIAAgAAAAAAAAAAAAAA/////////////wAAAAD///7///////7//f/+////AAD///7/AAAFAAgABQAAAAEAAQAFAAIA//8AAP7/AAAAAP/////+///////+//7//P/+/////f8AAP7/BwAEAAAAAAD//wkACQAHAAMAAgADAAIAAgAAAAEAAAABAAAA/v/9//3//f/9//3//P/8//v//P/7//z///8AAP///v/7//3/BgAIAAcABQADAAMAAwACAAAAAQAAAAAAAAD///3//v/+/////v/+//7/+//+//7//f/+//7/AAD+//7//f8FAAwABwAGAAMAAwACAAIAAAABAAIAAQADAAAAAQD9//v//f////z//f/8//3//v/8//3//f/+//z//f/7/wIADgAKAAoABwAFAAUAAgACAAAAAAAAAAAA//////3//P/8//3//f/7//3//f8AAPn/+P///////v/8//z/AAAIAAsACQAGAAAAAQAEAAMAAQABAAEAAQAAAPz/+//6//7/AAD8//z//v/+//3////8//v//v/9//3/+//8/wcADQAKAAgABgAGAAUABAACAAIAAQABAAAA/v/+//3//v/+/wAA/v/9//7//v////z//f///////v/8//3/AAAJAAsABQADAAEAAQABAAAAAQAAAAAAAAD+//3//v/9/wAAAAAAAP7//f/+/////v/9//7/AAD+//7//f8CAAoACwAJAAUABQAEAAIAAQABAAAAAAD///7//f/6//v//v8AAAAA/P/6//v//f/8//3//f/9/////v/9////CQAMAAoACAAHAAUABAADAAIAAAAAAAAA/P/7//z/+//+/wEAAAD9//3//P8AAP7//f/+//7////+//3//f8FAAoABwAGAAQABQACAAMAAwABAAAA/v/9//3//f/8//z//v8AAP///P/7//7//v/9//7/AAD//wAA///9/wcACwALAAkABwADAAIABQAAAAIAAAD8//3//f/9//n//P/8//3//v/8//z//f/9//3///8AAAAAAAAAAP//AwAJAAkACAAHAAYABAADAAIAAAABAAAA/v////3//v/+//z//P/9//3//f/9//7//f/9/////////wAA/v8BAAUABAAGAAgACQAEAAMAAwAAAAEAAAD///7//v/+//3/+//6//3//P/7//n//P/7//z/AAD9/wAAAwABAAIABQAJAAgABwAGAAMABAADAAAAAAD///7///////7////8//3///////7/+/////7//f/9//z//v///wAA//8EAAcABwAHAAYAAwADAAQAAAAAAP///f/9//7//v/9//z//v8AAAAA/f/8//3////+//3//v8AAAAAAAAAAAMACAAJAAgACAADAAIAAwABAAEAAAD+//3//P/+//3//f///wAAAAD+/wAA///+//z//P///wAAAAD/////AQAHAAcABwAFAAIA//8AAAEA/v8AAP////8AAP///f/9//3/AAD///3//v///wAA/v/+/wAAAAABAAAAAAAAAAQACAAIAAYABAACAAAAAAD+/wAAAAAAAAAA//////z//P/8/////v/+//7//v////3///8AAP//AQAAAP7/BAAHAAYABQAEAAQAAgABAP///f////3//v/+//7////+/wAA//////7//f///wAA/P//////AAAAAP///v8BAAYABAADAAMAAgACAAAAAAD//wAAAAAAAP//AAAAAP7/AAAAAAAA///+/////v8AAAAAAAAAAAAAAAD+/wAACwAKAAQAAgACAAMAAAD///z///8CAPz/AAABAP///P/+/wIA//////z//P/+//z//v/+/wIAAgAAAAAA/v8HAAkABwAHAAUAAwAEAAMAAAD+//7//P/9/wAAAAD+/wAA/////////P/9//n/+/////z//f/6//3//f/6/wYACgAHAAcABgAIAAUAAwABAAAAAAD8//3/AAAAAP///v8BAP7/+//8//n//f/8//3//v/+/////f///wAABgAMAAwACQAJAAgABgAEAAEAAQAAAAAA/P/9/wAA/v/+//7//v////3/+v/8//7//P/7//z//v/+//7//f8BAAwADAAHAAkACwAHAAIA/v/+//7//f/6//7/AgD9//3//P/9//v//f/9//v//v/7//z///////7//f/9/wAABwAKAAkACgALAAkACQAFAAAAAQD8/////v///wAA/P////z//f/+//3//f/8//3/+v/4//7//f/8//3//P8GAAwACgAJAAcACAAJAAUAAQAAAAAA/////wAAAAABAP3//P/5//n////6//7//v/6//v//P/9//z//P/5/wAACwALAAkACwAJAAUAAgD//wAAAAAAAAEAAAABAP///P/6//v//P/7//v//P/+//7//f////7///////v/AQANAA0ACQAKAAYAAgAAAAAA/v8AAP7///8BAAAAAAD///7//v/+/////P/+/////v/+////AAAAAAAA/////wcACgAJAAkABwADAAAA///9/////v/9/wIAAAAAAP7//P////z//v/+//3//v/8//z//v8AAAAA//8AAP//BwAHAAQABAABAAAAAQABAAAAAgD///////8BAAAA/f////7//v/+//3//f///////f/+/wAAAAAAAAAA//8EAAgABAADAAMAAQAAAAAAAAABAAEAAAAAAAAAAAAAAP///f/+//3//P8AAAAAAAD+//7/AAD///7//v/+/wIABQAEAAIAAwACAAAAAgACAAEAAgADAAAAAQAAAAAA/v/9//7//f/+////AAABAP///v///wAA/f/8//z/AAAJAAgABQAGAAYABQADAAMAAQABAAEAAAD//wAAAAD7//f/+v/7////AAAAAAAA/P/5//z//P/7//v/+v/+/wcABAACAAIAAwADAAIACAAFAAYABAAAAP///v8AAP3//P///wIAAAD+/wAAAwD///v/+//7//7//P/9////BAAIAAIAAwAFAAMAAwAEAAMABAADAAEAAAD//wAA/v/8//7///8AAPz////////////8/////P/8//r//P8DAAgACQAEAAMABAAEAAUAAwAFAAUAAQAAAP3/+//8//v//P/9/////v/8//7/AAD8/////f///wAA///7//z/CwAOAAgABgACAAQABgAFAAQAAgABAAAA/v/8//n/+v/6//r////8//r/AAD//////v8AAAUA////////+/8EAAwACgAFAAIAAAAAAAEAAAAAAP7//P/8//r//P/8//7///////7//v///wEAAAAAAAAAAAAAAP//AAD+/wMACgAKAAcAAAAAAAIAAQABAAAAAAD///z//f/8//3/AwD//wMAAgD7//3//f8BAAAA/f/////////+//7///8JAAoABAAAAAIAAwACAAQAAAAAAAAA/f/7//z////9//3/AgAAAPr/9//6//3/AAAAAAEAAgADAAEA/v///wQABwAEAAIAAwACAAEAAAABAAAA//8AAP7//////wAA//8BAAEA+//6//z/AAAAAAAAAQABAAEAAAAAAP7/AgAHAAMAAAABAAEAAAABAAAA//8BAAEAAAD//wAAAAAAAP//AAD+//3//f/+/wAAAAAAAAAAAAAAAP///v8BAAYABwACAAEAAwAAAAAAAAAAAAAAAgAAAP7/AAAAAAAA//8AAAEAAAD///3////9/wAAAAD8//7//f/6//z/BwAJAAAAAAAAAAAAAAAAAAAAAgABAAEAAAABAAIAAAAAAAMAAAD///7///8DAP3/+////wEA/v/9//3//v8DAAgACAADAAcAAwAAAAMABQAAAAAAAAD+//7///////3////+//z//P/8//7//f///wAAAAAAAAEAAAD+/wIABwADAAAABgACAAAAAQD//wUAAwAAAAAA/P8AAPz//P8AAAAA/v/8//3//P///wAAAAADAAMAAgABAAAAAwAFAAMABQAEAAQAAgABAAAAAAAEAAAA/v/9/wAAAQD9//3//v8AAP7//v/+////AAACAAEA/v8AAP///f8AAAMAAQD//wIAAgAAAAAA//8AAAEAAQD8//7/AQAAAPv//P8CAAAA///8//3//v/9/wIA/v/+//3//f//////BgACAAAAAgACAAIAAgACAAEAAQADAAUABQAAAAIAAwD//wAA///+//3//f8AAP7/AAD+//v///8BAP//+/8DAAUAAwAEAAQABAACAAMAAgABAAQAAwAAAP//AQABAAAA///+//3//f/+/wAA/v/+//7//v/+////AAD+/wEAAwABAAIAAgABAP//AAAAAAAAAgABAAEA/////wAA///8/wAAAAD9/wAAAQD///n//f/+//z//////wAAAgADAAIAAAAEAAIAAAABAAIAAgAAAAAAAgD9//3/AQACAAIA/v/4//r/AwAGAAAA/P/9//3////+//3/AAAAAAMABAAEAAMA//8CAAAAAAADAAQAAwAEAAMA+//9////AAD+//3//v8CAAcAAAD8//3/AAAAAAAAAAD+/wAAAwADAAQAAQADAAQABAAFAAEAAgAGAAUAAQD+//7/AAD///3//P/9//3////9////AAD8/wAA/v/+/wAAAAADAAMAAwACAAIAAQABAAAAAAACAAAAAQAAAP7//f///////P8AAP3//f/9////AAD+//z/+////wAAAAAAAAEAAwAFAAEAAAABAAAAAwABAAAAAQAAAP3//P8BAP///f8AAAAAAAD9/wAAAgAFAAAA+//7/wAA/f/6//3//f8EAAoAAwAAAAEAAgACAAIABAABAAAAAgAAAAIA//8BAAMAAQABAP//AgAAAP//AQD///7/AAD///z//P/9//7/AwAGAAQAAwAGAAUABAADAP7//P/+/wAA/v/7/wAAAgACAAIAAQACAP3///8AAPz/+//6//z//P///wAA+P/7/wIABAAEAAEAAwACAAMAAwD///z//v///wAAAgACAAAAAQAEAAMAAQD//wIA/v/5//3/+//9/wEAAQD9//7/BQAHAAEAAQACAAAAAwAEAAAA+v/6//7///8AAP3//v8FAAYAAwAAAP///v8AAP//AAAAAAAAAQAAAAAA+////wMAAgABAAEAAgAEAAMAAAD+//7//v/+//7/AAD+/wEABgACAAAAAAABAAQA//8AAAAA/v/8//v////9//3//v8AAAEAAAABAAIABQAKAAQA/f/+//7/+//8/wMAAwD//wMAAwD///7//f8AAAAAAAAAAP7/AAD///r////+/wAAAAACAAMAAQAHAAAAAAD8//3/AAD+//v///8BAP//AQAEAAMA///9//3/+/8AAAAAAAD//wAA///+/wAA/f8AAAQABwAHAAQAAQACAAAABAAEAP3//v/9//7///8AAAIA/P8AAAEA///+//z/AQABAAIAAgAAAAQABgACAAAAAgADAAMAAAAAAAAAAgAAAP7///8AAAEAAQACAAEA///+/wAAAwADAAEABQAHAAEAAwACAAAAAAAEAAEA+/////3//v8BAP///////////v/6////AAD/////AAAAAP7/+v/7////AAAAAP7/AQABAP//AAD9//7//f8AAP///f8AAP//AAD///7/AQAAAAAAAAACAAEAAAAAAAIAAwABAAAAAgACAP///v/9/wIABQAEAAIAAQAAAAAAAAD+/wEAAgABAAEAAAAAAAAA//8CAAgAAwAFAAIA//8DAP//AAD///7//f/5//j/+/8AAAAABQAEAAYAAAD+//3//v8CAAIABgABAP3//f/8/wAAAQD+/wIABAACAAEAAAD//wAA/v////7//f///wAAAAAAAAAAAAD//////v8AAP7///8BAAQAAgAAAAEAAAD//////v8BAAMABAAEAP7//P/8//7////6//z//P8CAAMAAAABAAYACgAHAP3///8BAAQABwAEAAUAAgAAAAAAAAD+////AgAFAAUAAQD+//7/AQD//wAA/v/+/wEA/////////f8EAAUA//8AAAAAAQADAAQABAAAAAQAAwD+//f/9v/3//n//f///wMABgABAPr/9//8//7/+//+/wAA/v/7//n/+P/5/////v///wAAAAD///r///8BAAAA+//5/wAAAwACAAQABgAHAAYA/v/9/wEA/v/9/////v8AAP7//v8CAAAA//8BAAAABAACAP//AAADAAMAAAD//wAAAQABAAAAAAABAAMABAADAAUABwAEAAAAAgACAAEA/v8AAAMAAwD9//z//P8AAAkAAAAAAAgAAgAAAP///f8CAAQABAAGAAAA/P/8//z/AwAFAAAA///+//n/+P/+/wMABwAHAAgAAQD8//3////+/wAAAwAFAAEAAAD9//z/AAAAAAEAAAD+//3//f////7/AAAAAP/////3//7/AAAAAAUAAwADAAEA+//+////AAADAAAAAQACAP/////4//v//f8BAAAA+/8EAAYABgABAAEAAAACAAAA/v8BAAQABgAFAPr///8AAPj///8AAAEAAAD5/wMACAACAAAA+P/+////+//9/wAAAwAAAAAAAgACAAAAAQABAAIABAAGAAMAAAABAAAAAQD//wIAAAD9//7/+v8DAAEA/f8BAAUABQD///v/BQAJAAYABwACAAEA/P/6//7/AAD9/wAA/////wAAAAD//wEAAwAAAP7//f/+//3/AAABAAAAAAD+////AQD//////P8AAAEA/P/+/wAA/f/8/////f/8//3///8CAAMAAAD+//z/+//+//7//f8DAAIAAAD9//7/AAACAAMA/////wAAAAAAAAAAAAD9//7/CQADAP3//v8DAAgACgADAPz//v/7//r//f///wAA//8AAAEA/////wEAAAAAAAEAAgACAAAAAAABAAIABwAGAAYAAAD//wAA///9////AAD//wAA/P8BAAYAAgACAP////8AAPn/AAAAAPz/AAAAAP7//v/9/wEA/v8BAAcABQADAAIAAAAEAP//AAADAP//AAAAAAAABAABAAEAAAD//wAA//8CAAMA/f/8/wMAAAAAAAIA/v/3//3/BAAAAP7//P/7////AgD9//v///8BAAMAAQADAAIAAQAGAAcABQD+//r//v/7/wAABAD//wIAAgD6//r///8GAAcAAQAAAAAAAAACAAEAAAAAAAAA//8AAAAAAQAFAAQAAwD//wAAAgAAAAAA//8BAAAA/v8BAPX/9f/9////AAADAP///v/+//7/AQD+/wQABAD8////AAABAAUAAgD9/wEAAAD8//3//v8BAAIABgAHAAMA/v8AAAQAAAAAAAIABQACAAIAAwAAAP//+v/1//r/AAABAAIAAAAAAAAAAAAAAPf/+/8BAAEAAAD8/wEAAgAAAAAAAAACAAAA//8AAPn//v8AAP7//P/6//r////+/wQAAgD9/wMAAwAFAAEAAAABAPz//v///wMACAAFAAMAAQABAAAA/v8AAAIAAgACAAAA/f/6////AgAAAP////8BAP3/AQAHAAAA+//5//X/+f/8//7/AQAAAAEABAD7//7/AAAAAAIAAwABAP7//f8AAAMAAgAEAAEAAAAEAAAAAQAEAAUABgAAAAAA+v/1//v/AAAEAAQA/f/+/wAAAgAGAP3/+f8AAAQAAAAAAAAA///+/wMAAAABAAcABQABAP//AAABAP3//v/6//n/+//6////+v8AAAAAAAADAP7/+P/8/wcADQABAAAAAgD8/wMABgAEAAkABgAFAAYABAAEAP//+f8AAAAAAgD9//n///8FAAkAAgAAAPr//v/9//n//v///wAAAQABAAAA/f8BAAMABAABAAMABAACAAcABwAAAP3/+v////////8AAAAAAAD9//3/+//7//b/+/8EAAIAAAD8/wAAAAAAAAIABAAFAAgADwAIAP3//f/9/wEAAQAFAAQAAQD8//v//f/+//7//P////r//P/4//j//f///wUAAgD//wAAAAAAAAIAAwAIAAUABAABAP/////6/wQACAD/////AQABAPz//v8CAPz/+/8CAP//+f8AAAIA//8CAAAA/P/9/wQAAgACAAEA/f////f//P8DAP7/AgAGAAEAAAD+//z/AwAHAAoAAAABAP//+f/7//j/AAADAAgABgD//wIAAAD8/wAABAAFAAAA+f8AAAUAAgACAAAA//8AAAEA///+/wAAAgADAAMA/P/5//f//P/8//j/+//8////AwAHAAIAAQAAAAEAAAD9/wUABAAFAAUAAAD6/wAAAAD+//3/AAACAAAAAQABAAEA/f///wQA/f8HAAUAAAD//wQABgACAAcABwAEAPv/+////wMABQAAAP3//P/+//f/+/8HAAQA+//8/wIA/v8AAP///f/+/wUADQABAP3/BAAEAAUAAwACAPr/9v/+/wAAAQADAPr//f/5//v//f/2/wMABQADAAAABQD+//r/AwAEAAUAAQACAP3/AAAGAAMA/f/9//7/+f/8//7/AQAAAP//AQADAAMABQABAPj///8JAAkAAgAFAP3/+P/5//z/+//7////AQAAAP7//v/3//X/+//+//7/AQAHAAoADQALAAQAAgAJAAIA9f/2/wEABwAIAAYA/v/3//T//f/9//3/AQD7//7/BAAHAPz//P8GAAsADQACAAEABgAKAAsABwACAP//+//6//r/9v/7//z//v////3//f/6//j/+f/4/wAABgADAAQAAAACAAUABAAHAAEAAgALAAIAAQD8//v/+P/4/wAA+P/9/wkAAwD8/wAA/P///wAAAAACAAAACgAEAAAAAgADAP7/AAAFAP///v/9/wIAAAAAAP///f/6//X/+////wUABQAAAAMABAADAP7/+//9/wAAAQABAPz/+f8AAAAA/P/7/wMAAAAFAAAA/f8HAAMAAgACAAMABAAGAAcAAwAGAAIAAgAAAPz/+f/6/wIABQADAPf/9v/6//r/+P/6/wIACAACAPr/+v///wIABgAFAAIAAwACAAUAAQD1/wMACAACAPj/7f/3/wAABwAEAAEAAgADAAYA+f/4//z/BQAMAAwABQD9/wAAAQADAAMAAAABAAYADQADAP7/AAACAAEA///+//n//f8CAP///P/1//v/AQAFAAAA+/8AAP//BgAFAAAAAAAAAAAAAAAAAPz/AAADAAcABAD7/wAA/f8AAP7/AAD7//j//v8BAAUAAAACAAIAAQADAAAA+f8AAAAA/f/+//7/9//s//n/AgADAAkAAwABAP//AQAAAPr//f8GAAEABQAHAPn//v8CAP//+v/5/wEAAAAAAAIA/v/9//3//v/7//v/AwACAAAABgAHAA8ADQAIAAcAAAAAAAMA/////wMABgAKAAAA9f/w//L/AAABAAEAAAABAAUABQD8//L/9f8AAAoABAADAAEAAAAGAAsABwD8//r/AAD+//b//v//////BwAFAP//9v/6/wIABAAEAAQAAAAAAPz/8v/6//z/BAAFAAsADAD3//f//P/+/wAABQAGAAMAAQD9//3//v8IAAwABwAFAP///f/+/wMAAAD2////AAD7//v//v8AAAYAAAD9//3/+v8AAP7/+f8FAAQAAQAJAAMAAgD8/wEADQAEAAEA/v8BAAgACQD///P/8f/6//z/+v8AAPb/AAALAAMAAgABAP//BAADAP7//v/2////DQAKAAsAAgAAAPn/AQAIAAMA//8DAAYA/v/3//P/9//1//v//v/6/wAA+/8AAAUAAgAAAPn/9f/3/wAAAAACAAYABQAJAAsAAAABAAcACAAOAA4ADwAGAAMACgD6//T/8P/y/wcADwAMAAQAAAAIAAAA9v/0//3/CAAOAP3/9v/0//b/AQD9/wcABgAEAAkAAQD9//T/AQANAAUA/P/5//n//f8DAAEA+f/7///////6//X/9P/3/wAAAgD7//n//f8GAAQABAD8//T//P8KAAwABgAGAAAAAgD9//z/AAD3/wUABQD+//T/8P/2//X/CQAOAAYACAAEAP7/AAABAAAAAgABAAIA/P///wsABQAGAAMAAgABAAAAAgAAAP////8AAP3/9P/5/wAAAQADAAUABQD///v/+P/3/wAA+//4//f/AAAEAAUACQAKAAIAAQAAAPz/AwAAAAIAAAD+/wYA/f8AAAsACAAHAAAAAAD5//H/9//v/+7/9//4//r///8JAA8ABQAFAAAA+P/9/////f8AAAIA///9/wAAAAAFAA4ADQATAA4A/v/1//X/AAAHAAMA///8//7/AAD4//3/AAD//woACwAHAPf/+f8GAAMABAAAAP3//v8EAAUA/P/+/wgADAAEAAIA/////wgAEAALAAAA/v/3/+3/9P/0//f/AAAHAAgA+//7//v/9f/8/wMABwAKAAgAAQD7/wAACgACAPz/+//7/wMABgD//wAA/v/8//T/7v/0//r/BQAMAA0ACAD4//L/9P/4//////8FAAsABQACAPr//v8JAAgACQAIAAoAEAAHAP//+P/6//f//f8CAAMABgAMAA0AAQD3//L/+P8AAAgAAgD5//r////9//v//P8CAAgADAAMAAgABgAAAAUABgD+//r/9P///wMAAAD8/wIACAAHAAYAAQADAAAA+//2//T/+v/5////+v/+//////8AAP//AQAAAAMAAAD///r/8//+//7//f8AAAoACQALAAQA/f8FAAsABwD/////AAADAAoACwADAP7//P/6//L/7f/6/wAAAwD7//f/+P/z/wAACgALAAoABgAEAPv/8v/1//n/AQALAAkABQAEAAYAAgADAAEAAQAAAP///f/6/wAAAAD5//z/+/8AAAEAAAAEAAcABgAEAAAA///8//7///8AAAkADQAKAAoADAAHAP7/AAAAAAMABgAIAP//+v8CAPv/8f/x/wAAAAD7/wEAAAABAAAABAD6//P/+f/9/wAABgAJAAAA/P/+//r/8v/z//j//v8CAAAA+/8AAAEA/P/y//j/+//8/wAAAgAEAP///f/6//v//////wcACgAIAAAA9////wQA///+/wEAAgADAAAAAAD7//j//f/7//7//f/0//3/CQAHAAkADAAHAAIABQAMAP3//f8FAAcA//8CAAkAEwAMAAIA/v/3/////f8GAA0AEgARAAQABAD9//v//f8DAAsAEwANAP//+P/1//z//f8GAAsABwAIAAMAAwABAP7/AQD9//T//P8DAAMACAAMAAgA9//8/woA/v/7//r//f///////P/u/+f/8//2//n/BwAGAPr//P8EAAAA9v/w//T/8//6/wQA+P8IAA4ACgAAAP///P/x//v/AAABAAUA/v/s/+P/7P/8/woAFgAZABQACQABAP7/6f/t//v/+f8CAP3//v/2//z/BwAGAA4A/P8CABAACwAFAAEACwAAAAgAAQD6/wIABgAWABIAHwAiABIAGQAVAAoA9P/z/wQAHQAbAAQA/P8JABEADQDx//H/AgAJAAAA9P/1/wgADQD7//L/9P8OABMA9v/q//7/IAASAO7/6/8EABkADADx//P/GAAfAPX/3P/z/wsAAQDw//X/DAAMAOv/3v8VACoA5v/U/xIAKQDx/+f/BgAHAAgAGwACAOf/GAAfAOP/8P/7/ysA3P8YAE8A5P8bADQAKQDK/+L/+v/T/+v/EwBfAAsAKwCW/+L/+v9U/xwA7/5PAHkAmP/a/1v/xP8c/w//Bv+6/qr/BQCz/zUBPQG7AEIA1/wE/aT6t/3YAJAB8AOPAA0Fbv/c/DH/Tv0XBMz+VQP+AZL+ngiDAjkFtgDR+wT3eO/iAQ0E8REZGNEMZwQa+6PpGe0p8cb+tRHpDfkOA/5A8VD0BPJ7BGUFawc0BsHzYfEZ8I/4yAQ/CdcJYANW/Y74lfj7/VcExQrjBYkD5/xe95X82v50A6MIygWKA6UBbv2A/8oA2/81ASv+Lf3k+9b8u/5c/3AA5f9A/8X9T/0X//4AfQHjAvQBDQE9AD/9dP+SAK0BKwMcAhQDLAEeAH8A3f91ATkBigHmAMT/CwGLAFMAmAGYAHsAv/8P/jX+Yv5l/vv/aACR/8j/4v3O/mH/u//OAvMCuwLYAMoAcgBT/34AYACJAQIBrwFMAyIChgLLAW//Rf+BANcAwv+MArMCWgF7AQ7/ZPzJ/MX8KP/TALkCJAEdAAf/QfwS+9H6E/z3/b3+d/9V/uj9GP6W/X79sP4NAdMB8wKpBFcFyQMhA+UADP8Z/l/6m/qa+eL5pvxq/TL/cf9m/gj/zf4z/7MBRAPcBIkEygMbA7IAKQC7/1X/EgIzAh0DmgKf/2AAS/4z/18BKgH9AugCMwHU/oT7XPpj+kP8y/5jAEEBw/6I/Q/8+/qW/BT+mgBcAvMCpQMWBA8EagQgBcUD1ANwAo0APAG5ADYBngAjALv+u/2t/pj+g/7d/+z+Uf8JAEH/MwB+ABwAlQD2/yD/ov4uAJcB7gHHAccBEAEl//L/6/+SAV8CBAE7ASEADv7c/f/9A//R/hr/qv4C/lv9ev2G/eT99/3r/bP+4f6hAE0BDwEZAQ//uP4w/pz9ff8lAHYBDwEoAEf/8f0A//T/XQFhAxACdwAW//j9Xv55/5IASgG2AZkAPf+i/j7++v9xAosDrAN5AsIBjQB3/1T/3v4oAMAA2gDsAKEAc/+V/or9Qf3l/Yz/nQBoAqUCXwEwAR8BywCMAYEBgwADAIn+1f6m/8v/DQCw/6X+7PxY/BX9Nv/gAYwDIgR+AjgAf/4w/hn/pgC5AlwCmgEJAdj/4/6s/1P/s/9v/zL+Df+r/tP/GAF+AakAuv8Z/vX8nf3o/Z7/3QDPAGABDADG/lj+8P0p/4IAiAHjAqwCVAKbAI7+kf2R/Cb9Bv5q/9QAlQApAOD+Zv6F/qv/FgGfAW0BGACi/gv/I//UAJ8CRQISAtAAGP9b/8T/2QG7AlwC2ABN/ub8ef0N/wkBIgILAuT/sP3Y/PD8Kv+HAAMC5AFVAD//Ev8YAPUB3QJiAywCAAEFAGL/j//n//b/3/9O/n3+8v0L/50A1gBAAREAfP+Y/pD+YADNAMkC0QKUAd4AGf90/03/oQDlAc4BuwEEAJ/+N/6w/ef9bf6D/73/Av8Q/vX85Pyr/V7+uf6k/zoA9/+YAG4AZgDmAK0ADAG3AQ4BTAH1AAEBFAE+AFoARgAkAEMA4/8+/zP/A/+N/1H/Xv/P/8P/yf9F//3+6P+QAEEBswGgAS0BagDY/9v/y//hACgBZQFFAWcAEABj/0P/zf8CABUABwDo/yAApv8V/8r+Cf7u/QH+O/8lALQAngGcACMAlv9W/woA0wDuAQUClAGoAA0AOP8E/yj/BP/J/xAANQCwAK4AvgBkAMX/Uv+Z/3v/lQAfAUYB3wDZ/6z/df+B/7T/AgCOACAAGwB3/3H/e/+K//v/bQARAEQAgQDo/5f/tf5H/m7+D/5a/rj+/P5L/+r/4ABvAZcBEQGpACMAEABsABwBNgEtAf0AGwDH/xL/RP/h/7b/EAAy/zr/jf+V/4sA1//c/2H/pf5e/+f/9AC4AeABpgDs/xX/CP8pAJgAQgEhAZEA8f9p//j/v/8nAI3/d//Q/0T/JgATAGP/I/+u/kr+Cf8JAO4AswEOAeL/ev8h/wMA7gC0Af4B6ADj/3b/u/+ZAD4BmAGcAGj/iP7s/Sb/nP8FARMBBAAV/wr+Q/51/83/3QChANH/Gv+e/nv/VgA6AXUBuQD4/5L+A/+o/5IABAKsAeEA2f+8/qn+b/8qANYA/AAyADn/Ev8f/wcABAHsACsBLwBr/yD/c/92ANUAbQHXAOX/Ff+5/l7/0/9oABgAsP/X/qj+OP+F/wUBRAESAYcAZf/9/gr/6v+3AKgBqQHIAEgAev9d//j/RwAvAFAAyP+i/07/Jv9Z/zH/TP8N/4v+of5H/0UAigAUAf0AhgBaANL/5P9ZAEMAkACGAIYA1QCPAMkAQAG2AIYArP9W/5f/o/9JADwAFwDE/+H+vP4e/tn+Yf/R/5YAHwBKAOv/o//8/0cA4wDHABEBbAAEAAcAef8/AMsA/QBCAbIABwCM/yb/Fv9O/6L//f8BALj/if+N/6n/yf/u/30AkgBRAF8AAQDH/7D/vv8FAFMAjgB+AJYAYwA9ANf/qf9r/0v/g/+b/+//OgBPAAQA9f+3/xT/Gf+f/yQAzwAQAacA+P+S/+X+wP5W//H/oQC0AJsAtAA1ANv/u/+U/8z/yf/S/y0AbgDJANMAfwByALv/UP88/4P/1f8JAGIACwD3/+v/xf/v/+7/HgALANj/EwAFAEkAawBvAGUAKwAUADEAWQBQAG4AXgAVAAgAz//3/1QAKgBjADAAk/+P/zf/FP9R/3r/gf9s/6X/r/+n/7r/pf/k//D//P/8/1UAUgByAKQAYQArAOr/+f+v//b/KwBGAJYAcACIABIAkv8U/8P+DP9d/67/DgCJAIQAZwD8/5L/cP8DADcAzwD/ALAAiwDl/3D/lP/B/ygAiwDQALAAagDf/6v/nP/c/+b/sP/B/1z/Kf9J/3f/CwAMABMAv/9t/1f/ev/V/0oAwQDcAN4AvQBlALEA+wDyAN8AtwA4AMP/of9K/2X/vv/J/wgAPAA0ACUA7v/E/1z/kf+w//T/GgBdAHsAPgD7//n/KgArAFsAegCCAIEASgBAAEoARQBbAOX/gv9V/1j/wf8PAEgAPAD1/4f/Pf8z/7j/+/8WAGIAGwAmANP/vf/R/wEAFAC6/6T/R/98/93/BgBMAPH/5v+j/0b/zv/W/1AAwgBtAHkADgCz/5T/gP+q//H/NwCGAIkApgCLAD4ARQDI/9P/s/+//yAATgCVAJYANADz/4L/g/8o/4X/1f+3/xEA4v/L//X/3P8qAFYAPgCbAJkAZgDRAJgAhQBVAA0ALQAVAAkADgAIALn/df9x/1b/gf9JAJEAkQCXABgA9P/M/8//ZAB/AFwABQCx/4D/gv+z/8D/6//i/7//pf9f/2v/0f8KABYAGwAZAEQAPAAXADkAIwD3/+L/lf+m/77/3P/j/6n/yf/a/+j/xP/8/xUAEgA5ADoAMgA4AAYA5P/S/43/4v/q//b/UAAOAAMAxP9d/7D/3f9SAMsAtwB5ACwABAAwAEkAdABYAGQACACi/+j/6/8oAHcARQAiANT/mv+x/2r/9f8yABAA6P+O/5X/zP8GAGMAkACLAGkA5P+7/wUABQDZ/+D/CADZ/7D/kf/T/2AAQABCAAIAvP+u/97/z//v/1sAQQAzAA4AHgA1ACgAJwAvACcADADD/5j/3P8iABAABgAQADMABgA9AAwAvv/y//P/5P/J/8H/0f/X/7j/r//P/8b/of/N/8b/3P+3/6P/AwD4//3/FQAaACsAPABUACUATwBiAA8AWQA9AC4AjAB2AHcAHAC4/4v/r//w/xgAdABrAPj/xP+f/2L/mf/0/1wAegD4/97/Of/r/pL/1f8dACAATgAkAO7/MgAUAEQATgBoALcAVgBDAOD/EQBSAAMA/P/9/zQAwv+r/9X/8v8AAMP/9P8QACQARABLAC8ANABqAAUA1v/T/wUA3P+z//b/CwAbAPr/uv+g/7b/JwA9AEEAcQAhAA0A7v/o/wIAKAAeANz/t/94/1D/Mv9V/w4A9P8eAEUA9P86AC8ARwBmAD0ADwDg//j/zP/K/8b/vP//////9P8XABQALgA3ANT/AAAXAPb/IwD7/0wAWADF/wsADADt////BgD5/+P/AwDp/2QAeABLAAgA3/8kACQA/v8/AFQAQgDa/43/Z/9B/4H/hf/T/z4ABgACAL7/3/8NABgAVQBbAEkAUgD4//H/IwAiACYAEAAuAKkAeQBLAB0AGQAFALj/s//O/8v/5v8LAJr/bf9S/zj/Z/+6/xUAQgAnACYAMgBEAGoATABVAFsATgBNAAoAGQD4/6T/yP+3/3b/fv9s/6b/tv/2/yUANwAgANP/9P8IAAgAKAAWAGMAqwCFAE4ACwAxAFoAXAA+ACYAGgDK/wAABwAvAEQAJAAFAPL/zf/1/+f/AwAGAOr/z/9//2X/hv+1/zEAPADz/w8A+//f/9j/7f9DAAAA/f/6//j//v/z/x8ADQDV/9D/c/+6/8z/0f/g/9r/NAAeACUAYwBbAEYATACFAK0AnQBSAEkA9/+l/5//i/+o/9T/sv+c/7//yv+n/6z/AAAPAO//qP+x/9D/DQBWAAIAFwAuAOv/5v++/wEAVACQAJAAPAA3APv/1/8PAAEA/f/q/wUAFQD+/xwA+P+8/8H/l//Q//T/3f/w/+D/XAAdABMASQBNAGQAawBpABYAMABuAG4ARAA2ABMA9f+8/4z/tv/n/xoA9f/u//b////U/7P/q//Z/83/p/+p/7L/nf+W//3/OwBQAF8ALQD+/wUA3/8qAHcAfQBLABoAAgDT/8H/n/++/wkAIAD2/9//z/+m/9f/+f8UAAYA2f8EAGQAcwA3ACQA4f/h/xMA+P/5//n/BQAZAOj/uP/m//v///86ADsAPQA7AN3/vv8AACYAKwDM/6//uf/g/woAzv+///H/AADC/9X/MgBnAIMAcgA8ADkAKADe/+v/OwBEACAA5P/l/9b/tv+4/6v/qv/R/+b/7f8oAE8APwAzABIAIwBLAEsAPwBgAFoADwCh/3j/qf+X/4//mf/E/+H/9//c/9P/2P+m/6r/3v8YACUAMgAWACEA+P/G/wUAEgA9AGEAfwB5AD8AKAA5AGwAgAB3ADUACwD0//n/BwD+/97/AAA7ACYAAgDk/9X/tP/E/7T/1v8EAN7/7f8SADQAEQDS//X/FQARACgAKADf/+b/BAD4/8z/vP/G/wsAGQDJ/8H/tv+v/53/fv+s/9L/CAAiADsANgAdABgADAAoADoALAA1AEQAPwA8AAwA9f8UABgAHQDh/6L/of+4/8T/5/8qADkANwAaAC0AHADf/wQANQBDACsAHgD6/+j/+//j/8n/8v8bABIAHQAvACMAIgAuACUAMwAfAB4AAgDS/73/cv+E/83/7P/L/7z/w/+j/87/xv+t/73/8f89AGMAfAB0AHMAewBmAC8AEAAAAAkAJQAWAPT/yP+e/7j/4v8AACMAHQAPAAAA5f/g/87/wf/r/w0AJwBQADIADADp/8r/u//b/yEAOQA9ACMA3f/I/5//pP/E/+n/PQAPANX/r/+s/7b/1f8JAA4A/v/W/woAKgD9/wkAEQAsAH0AawBIAGgAhQCdAHEAGAD0/9//7P/0/9H/w/++/8z/8/8AANr/vf/X/9T/tv+0/5z/hP/N/wQADgA0ADYAEgAXABoAQABKADgAZACDAG0ANwDo/9r/7v/X/93/y/+l/9v/6//L/9P/1P/R/wEALwAYABYAOgBNAAgA4/8EABkAGgAeAAsA4v/Z/7H/sv/8//P/8f8iABcAIQBCACUAKABHAFcAUwBSADEAJwDL/7X/8//O/7r/5v8AADsAIgD2/+X/3P/4/zsASQDK/+P/DwDx/73/iP+P/5D/qv+5/8L/wv/A/8P/zf/W/yUA/f+v/70A6ABsAuv/w/6S/g0AbQDT/6v/FABoAE0ATwAS/xX/fgBWAAAAKACYACYA5v96/xcAWgDa/8f/nP8TAAUAxP/e/zcAQQDb/+7/9f8ZAFsAegBWACgALQA3ACsA4f/f/wUA9P+u/77/m//N/zYAiwByAEUAaAA5ADMABQAdADoAVQA9AB4A7v+3/+r/RAAWAAAALwAyAAIA5/8JACcA5v/S/7//l//D/8j/Zv9V/6X/tf/H/+r/9v///8P/AAA7AEMANwAGAAYANABfAGkAUAAXACIA/v/C/83/of+a/8P/1P/E/wsA7v/4/zIABwBbACQAZgC0AIwAAQC2/+b/zP+3/47/sP+Y/9D/GgAuAP3/vP/o/wUAlf+l/+b/+/8FABgAWwBhAFQAZwBnAGYAVwAZAOP/jP/a/0sA7v+u/+H/YABuAHUAlgBfACIADAD7/9//BAADANr/1f+N/9b/3f+K/7j/yf8XAFEAJAAqADYACAAVACkA/v/m//D/KAANAM//1v/U/yEAQAD9/yUA8f+n/7L/9/8zAOz/nP+W/8P/uP/S/wAAIAAQABwAIQDX/5n/kf8LAPv/AwDS/4T/2/8SAJAAeQBdAGYACwC0/6f/qv/f/x8AAQDr/+T/9v8hABUAJwBuAGUASwBrAFEAEgADAPn/9v/a/+D/lP+U/wwAJwAxABwAIgAlABAABgAIAO3/vf/l//3/AADs/+D/AAAvADsACAAJABMAGQD6/w8AFgA+AIoAZgAhAOj/6f8bAAYA7P8CANr/s/+e/6D/6/8IABAAFgA2ACgAJwA5ABYAIAAoABYACwDu//f/6P/T/9L/3/+n/4j/j/+8/x8AGQAFAPj/x//M/+z/HQA+ADQAEwAaABMA8f/D/7T/tv+z/wEAGwAwACAAzP+e/9f/PgBSAEEAKQAMABMADgAlAA4A4//j/7v/o/+m/6//kP+N//D/CgAcADAARgBkAHQAiwA9ACcAMwAkAEEABQAOAAkAv/97/5X/n//K/xsAQwBoAEYAZgAwAPv/CgAxADAAPgBNADIAWQAvACEAAADF/5T/n//F/8H/1v/T/+P/BAAOAAQA+f/v/xYAQwBNAP7/0//q/xcAMQBHAEAABgDZ/9L/+f8pAPf/v//i/0YARwADABMANQASAAYA1P/F/+n/DQAFAN//9P8SAM7/pP+Y/8r/7f/R/8//DgD6/+b/DwAqAB0A3/+6/+T/AAD3/woAHgAqAPT/3/8HAP7/y//X/9n//v8vAAkAAQAHAOn/tv/F/xIA+f8RAB8AKQAhAE0AQQALABIAKQAPAOf/FQAnAPv/6P/t/+r/u/+y/9b/HAA7AC4AQgBPACQANwAqAC4ATwBRAAMA0f/D/8j/9/8jABEAzf/E/9j/3/8aAEoALABEAEkASAAyAAEA8//t/9//vv+9/+//4/+h/5P/pP+3//D/0f+i/8n/BwAeACEALgBPAHkAVAAnAAYADwASAOv/BgDv/63/eP+T/7r/zf+6/4z/t//9/0UAUgBmAHYAcgBeAEwARAA5ACgA//8DABAA2f+a/5j/nf+f/5D/pP+n/6f/CAAaAPr/9v////z/DABRAGUAWgAwABUAAADL/9P/vv/P/+H/uP+w/+T/JgAuAEIAqADFAJAAiAC3ALEAYgA/AEYAKgAhAAsA6v++/57/ff+J/7r/3v/j//r/LQAaAAMALAA4ADAAQwBJABwAHgD8/+r/yv/G/6H/cP+H/5//m/+D/2D/df+x/9b/8v8dAFYAUwAVABYAQABRADIAGgAfAB4A5/++/57/gP+c/7X/u/+0/8b///8rADUAUgBXAGIAcQBqAI8AgABSACQA9f/v/+v/1f+q/6T/o/+y/87/2P8tAEAAPABQAFAAhgCIAGoARQAcACQAGQDc/7H/qP+L/2//eP+B/4D/if+o/8//3v8CAB4AVAB2AE4AeQCCAF4AUwAqABcAAwDn/8//pP+I/4v/dv9w/6z/0P8cACcALgBiAFUAXABJAEwAVQBSADQA/v/L/8X/vv+N/33/iv+L/5n/gP+H/9b/8/8VAA8A7P9MADsAOAAvADYARwAJANX//P8KAOr/zv/D/7n/k/+P/6v/4/8nAEkARQBEAG0AZAB1AFUAOgBCAC4AQwAsAA0AAgDV//H/3/++/77/vf/M/8X/tf/L/+L/+f8NADIAPQBRAFUATAA3AB4AJwDw/7j/zP/E/73/o/+D/2v/X/+B/5X/w/8PAC4AHwA8AGsAVwA4ABYACwALABIA5v+6/8r/3v/l/9b/9P8HABsAKwAKABMAGgA8AD4AXABwAGEAfwBlAFIASgA0AA4A1f/Y//T/AAAAAOv/4f/l/7P/s//g/x8AKgA3AFoAXgBhAFIAUQA9ABkAIQD1/7f/rP/A/5f/ev+D/33/cP+h/9v/BwAvAE4AdgB9AJsAnQCaAHwAagBvAA8Az/+m/4n/gf97/5T/mP+l/7b/u//X/w0AKQA9AEYAMwBMAGsAXAA5ACoAFQDT/53/nf+7/5r/hP+H/33/j/+R/8H/8P/3/zkALAA5AHcAmAB7AE4AXwBOACAA+v/S/8D/tf/V/9H/vf/R/93/CwAGAP//IgAIACcARgBQAFcAMgBBAEEAHQD+/9T/tv+b/63/yP+V/4f/o//b//b/5v8iACQALwA9AB8APAAeADQAUgALANT/3P8BAPf/yv/V/7r/pv+r/7//1/8AAD8AJgAnAEwAQwAnABwAPABCABsAJwAqABIA+P/U/9//2f/H/8T/v/+2/9H/8v/k/9f/6P8IAD4APAA1AEcAYgBcACgAFwD4/8n/uP+s/5P/qP+v/4z/jv/B/+r/5v8hAFAAMAAdACYAOwA4AF0AXABKAFYAMAD//8v/r//F/7f/sf/J/7b/uP/c//z/EgAFABUAYQCKAHEAVwBiAFsAQwAzAAgA4f/L/+z/6//I/6r/kv+//9n/3f/z//T/+f8CACYAYABgAGAAbwBMABEA9//4/xcAAACg/4H/mv+s/6j/qf/N/+T/4f8OAB0A///3/ykATwBHADAAFAAUAPb//v8KANL/r/+9/9v/3v/g//L/AgArAFsAVABDAEoAVgBnAFAARABNADkAHgATAP//6v+3/4r/qf+w/3P/af+a/+D/AQASAEkAYABQADQAJgBfAG8AKwADAAMABwDw/+b/zf+e/5P/xP/r/+L/2f/Y/+j/DgAJACUAKwAuAFEAUQBVAC8AGwAfAA0A9v/2/97/sP+v/83/5f/L/+v/7P/+/wwA/P8AAAwAHAAqABgAFgAxACoA+//h//z/CgAAANv/4v/m/8H/xf/T/9f/5f8HAC4ALQAqADAATQAsACcARwA/ACcA6P/V/73/ev93/5n/wP/Q/8L/sf/F/+r/FgA+AGIAcwB7AHQATAAvAEQAcgA8APb/7v/j/8//xv/L/9j/u/+u/87/7f/9//P/7/8XADEANwAlADcAOQBSAFUALQAEAOn/1v+N/43/s/+4/7D/sv/W/wQA9v/5/xUAIwAZABEAAwDq/+3/2v/g//r/7f/9/9n/oP+J/6L/zP/v//X//P8NAF8AWwBBAG0AhwB8AHIAXQBDACEAFwAWAPf/zf+6/8P/r/+Q/53/uv/R/97/AAAQAAkAIgAzADIAGAA6AEoAKQAGAAkADgD3//D/6//V/9b/yP+p/7T/rv/H/wUAHgApACsAKAAXAC8ATQBKACwAKQAWAPH/4f/d/wAA+//C/7X/jv93/53/pv+4/+3/AgAAABYAPwBhAG8AbQB+AFwAPAArACsAFgDn/+z/+f/S/6r/qP/B//X/9v/s//v/FAAZACIAJgAbADYAPwA9ABcA+P/j/+7/+//G/8T/wv/H/8P/xv/i/wgABwD8/zQAWQBMAFoATAApAE4ARgAcABgA/v/g/9j/1v+7/83/4P+u/6P/1f8HABMA9P/4/zUARQA1ACwAJgAtAA8A4//o//X/xv+z/8j/wP/D/87/y//A/+T/EAAfAB4AFQAgACkALwA1ADoAHAD8//L/AAD8//7/4P+y/77/1f/g/+T/8v8sAFYAOAAnAGAAgQBkAE0ATABPACsAFQAYABMA8P/J/8j/6/+3/7L/2P/F/+P/6f/j/wMACgAaAB0A8v8BABAAIgBIAEMAGwAVACQAGgAOAPz//v/B/7X/yf/c//3/AAAFAP//DQArAA4AEwAWAAAAAAAVAPP/3P/R/9f/1v/9//D/uv+y/8z/4/8IACgAGwAdABQADAARAB4AEQDy/wEA7P/c//P/8P/e/9n/5v/r/+P/8f/8/+f/3/8XAEkAeQCJAE0ARwB1AHoAVwBLAD0AEQDW/7z/qf+b/6n/m/+O/5H/l/+t/8r/4f8VAEIATABtAFYAPQBSAEkAHwAhAPf/3f+7/6T/w/+6/6//wf/i/+L/5v8DABYAKwAuADIAIQASAA0AAAABAPn/3//B/7j/xf+2/4P/kf+p/8H//P/m/9j///8dADYAVABLAGAAXQA/ACoAJgApAAYA///V/77/zf++/8H/1v/U/+r/9f8RADYANgBKAFAANQBKADwAJgAYACAAKgDf/7j/2P/Z/+j/2P/L/9j/4//u/woABgAuAEcAKAA8ADwALgA7AEsAJgAdACEAAADx/+T/0P/v/wIA/v8OAOL/5P/3/wYAGAASABsAHwAmAC8AHwAPACUAFgD3/9b/zf/T/7b/s//X/93/2//P/+j/+v8OAC0ANAArABoAFAAfAPz/BQAbABkAGADx/+L/7//l/+3/AAARACwADQD//wUAAwAkADgAKAAcAAYAGgAzACgA///y/xEACgDw/9n/rf+a/9H/6v/9//r/6//i//r/KQA/AFUAWgBFACEAGgAlAAsAAQAVAOP/yf/Z/8r/yv/U/9//5v/Z//L/+f/7/xAAKQA0ACMAGAAuACAAGgAxABsAIAARAOn/zv/O/+r/3P/E/8L/zv/e/9r/5v8PAAkAEAAhABwAKwAmAAoACgD+/+n/4P/V/9z/wf/M/9L/1v8AABEAHwAkABcAIwAbAB0AOgAfABMALQAvACgAGgAFAAMA6//6/+X/vf/R/9D/6//4/+X/+f8IAAwAIwAUABcAKwARAA8AEAAWAAoABAD5//L/6//z/+T/2//h/9//5f/8/+f/5v/6//H//P8AAPT/BwAGAAAA/f/z/wgADgAPAAEA4//p/9//yf/x//z/9v8PAAYAGAAbADMAOAAMABcADwAEAAQAAAABAPD/7v/d/8r/2v/t/+f/2//q//D/9v/q//j/CQALAAcA+P/5/wkADAD5/+L//v///8D/sv/Y//L/6v/b/8L/1f/y/wwAIAASAC8AQQBJAFYAIwAwADkAGgAEAPb/CAALAN3/yv/L/8H/2//b/9H/4//l//r/BwANACkAJwAdACQAAwD7/w0A9P/V/+D/6P8GAOj/5//8//P/DAAJAP3/FwAdACMAOgAhACAAPgAzADUAHgAFAPX/2v/i/9j/w//P/+n/4//5/wcAIABEACkANQBOADQANAApADMAVQAnABAABQAEAA8A/f/8/wkA///w/+b/3P8AAAAA5v/u/9X/6P8aAAYA7//p/wcABwAOAAwACAAKAPf/2f+2/+n/CAAAAAQAGAARABcAGwASACEADQAWAAsA7v8AAPf/+P8MAOb/7P/x/+z/+v/a/+P/3v/B/9r/8/8YABcAEQAmACkAEQATACAAGQAWABQA+P/v//T/+v8PAP7/1P/U/8n/6v/z/+D/BAAMACEABQD6/yoALwAxADgAEwAGAAAA8P/9//D/3v/K/+f/+v/j/+P/6v/y/+3/7P/g/9X/BwA8ABgAAAD5//j/JAABAAsA/P8JAB0A4v/j/+r/1v/M/+n/9/8OAB8AJAAPABsABAANAAoAEwALAOj/0v/U/8n/0P/M/8X/2f/V/+b/3v/U//P/+/8AAAIA6f/8/w8ANwA/AD0AGgAWABEAEgASAPn/8f/8//r////m//L/DQAbACIAFgAOABgANgASAAsA//8DAPX/5f8bABcA9P/1/wYA/v8BAPn/CgAVABwAHgAOACEALQAmACEAAwD6/wwAAwD+//r/+P8AAAIA6//f//H/9P/X/9r/8P/q/8//5v8AAPz/9//i/wQAQQAnAAEACQAAAAoABAAHAA4A8v/y/9j/1f/W/8//8f8OAAsA8//l//P/8/8LAB0AFQABANr/7//+/+n/5/8BABsAEQDu/+H/+v8lAAEA2/8AAB0A9//1/wcAFwAdABgADgD8//f/CwAiABYA9P/s/+f/9P/a/9T/8//2/wgAFgAnACUAFAAgACgALwAwACcAKAAuACUA6v/z//L/8P/Y/9P/7/8DAAwA7//Y/+T/CQAYACQAJQAZAB8AHwAPAOL/3v8TAP7/+f/y/9//2v/G/9T/3f/X/9r/6P8AAAgAAwD2/wUAFgAIAPr/9//2/xIADwAIAAAA2f/d/wAABgDk/+L/BgAkAA0A7v/y/yUAKgAqABQABwAbAC8AJgD0//f/+//l//H/9P/Q/+H/AAD7//H/6//9/xcAKgBEADgARAA+ADMAIQATAPL/BAAsABwAHADs//n/BgDw//X/8//7//n/6v/n/+v/3//S/9r/6//z//n/+/8IAAkAEgADAPf/+v/x/+n/0//X//n/KgAkAPv/+v8PAPj/9v/8//f/HQAaAOb/1P/A/9z/5f/O/87/wP/L/9v/AAAGAPb//f8JADAANAApACwAEQAJABcAEwAUAAAA5f/q//X/+//5////+P/q/9H/6//d/9D/9f/4//z/DgABAAEA9/8dAEAARgAsACwATABMAC0AHwAZABcAAQDj/+//+P////L/6P/p/+D/6v/6/wAADgAQAPz/CwAAABEAIwAeACUALAAVAO7/3P/g/+3/4P+6/8D/z//1/wwA+/8eADIAKgAlADMAMAANAAoACwABAPj/9v8EABAA+v/9/wwADQAAAPD/+f/5//j/AgD3//b/0P/g/wMA5//T/9r/vf/Q/8z/xv/T/9P/3P/g/xIARABIACUAAgAPAAAAEwASAOr/zP/l//3/6f8YADcAwP+l/wgAIADr/x8AzQCJAAcARwAPAMH/AwAUAMv/tf9MADYAjP/h/z0ADgD3/0kAPwDL/yYANgCj/9j/KgAZAAYAMwB7AA8A1v8cAGwAYADv/9H/pAB9ANz/r//b/8n/kv8cALH/UP/3/4MA0v+p/+j/GQDu/+j/DgAH/9r/fQD//4r/BwBjAAcA9/8yADgA4P9DANf/3f8HADcAuf+Z//T/JQBsANP/5v/A/+7/cADd/9v/6wAgAOz/8f+x/xMAp//J/ob/CgDU/47/XADdAB4A7v+F/1P/T/+v/2gAUQA6ADsA2/8a/+L/mP+k/z//b/8G+psBjwkIAWcAqAQz/1L+nP2A/tgALAD9/lD/tAHf/on6O/1xA5MEAQDd+3v98AFQBFwD8f+I+d0BUAPZ95YE7wbw/TT7jB6G+Ar9AQuu+q3wFv5ZAk7+Ff2wAGn8K/gjAej3pQOFAsv+8fIF6tUk6hOOBCAIyP/o+VnmWftTBO8AiRIQFu4MdwDh/4brXu+3/LAG7QHi99ILW/9kA4AOVfYS7Fvn+vHlEO3+cPng8QLuFe97+zkPZQxVDbQMrfQQ+L//FwsIDr4MnvrQ8470xPsSCNwGyAmABvMA5wH29HP9GgrN+Nj7kwXhAn4CBf0s+vr4xvY0BKQKDQcQAgL+MvcE+7MBlQeYBdn/Pf3T/P78yAK9Br8HbwpSCmwEFAE59iH0NfS78wb3XvMm+Qj6lwTUDgwKeQkGDQ0HgAB0AxUFMQGE/C766/cp+nz9PwM9ALQBSQFwBCQCdf5TBLoC1QQeAsYAKgCf/yMDQAGDAXH+tPrD+Qj5ZPwQ/7YB4wFFAKUCZQIqBCMEwAU/BbAEdATjA18Ax/nC9cL0XPgd+nf6BfrH/MT7wPhf/VIAmv8+/8cEUgFi/MMBT/wKAhEBPAK39x/4SPuH9oP//AEGB40EugN9B24DlgYABsgDwgIOAj8FCQK5AcL/K/oA/IX8ef4PAhkADQCjAMb9zAC6A90DwAfbBmcEcAE3/Cb5tvZc9zz5vvrs/Ur+zP3n/sL8uvzI/uf/EwMhBVUFVwMwAXj/Hv00/H79AP6d/tMBtAEuAboCDgWHBhkK7AnyBOgAY/7l/eb/pAMcAiz/OfwA+/v6IP/wADEBugAAAS8A2gH1AloCLQEXAnMCvAFEAXwBjgB0/Vf78vrL+dn4Vfs4/sf94/yN/5AC4wKMAnMDrgKW/2X+1f/0/hD7iPlA/Nn+xf5Z/iv/5QA+A5gEQwMOAbIBPARFBVAELALHAXoA6f7K/u7+2f4p/hX9iv5jAgcDFQLn/Sf9vf+WAH4CMAbrBLgAyv5A/Kn7E/5q/lAA3wAz/kf/cgCc/80AAQBk/6wABQEjAsgBbwC3/w//2PxL/EP8xP3a/s0AsAJqAmcAo/9U/uT8Ef6J/z8DqAM8BJIDqwHm/4X/Iv5a/Rn+cv9XA38G3gMrA0H/Cv3q/U3/jACnAE7/lv5X/+D94v8LAHv+Iv/U/t7+Jf4r/fL/4wFjAjUCeQCf/hP9xvy7AG4DLQOjAogBO/+A/VX9SP2L/Zj+wgBuAlABVAAI/wT/WP8BAHMAEP/9/nr/4f5M/7X+/AAIAZIAuwG8AWQCYAGQARkCXgE8Ab0AFAB6/zT+p/4BAB3/zP4s/9D/UgAYAML+Xf1U/08AmAGeAqP/i/87/6T/HAGkAtgDZwIAAJ39CPxu/QD/7f9MAtEALP9q/z3/JgD/AvYCnP9C/nz+WwFeBPgB7P8S/a76ofoX/MD9DgACAfYArgEWAToByQCO/5MA6wHpAXABFf8W/zb/zv1d/Zv9Pf7p/w4BZgJ7AlsB9f+j/4D/fP+oAWIB7ACe/5L+gf64/Sz/4gA5AYcAPP8PASgC5AFMAXkAogD7ANMBoAGm/w/+sv6T/zIA7f+TAAr/gv/j/xP/u/9j//b+FQEyAZQBJQGY/6YAff95//f/hP/K/x7/pP+R/0L9dP32/vgAEQN9AtwAHwBy/4z/PwD2/3T+QP7J/n7/EAD7/zX/q/0B/WH9L/+8ARADagLWABUBqwE5AW8AW/+b/fD+yP/FAMoC+gHpAOD+zP2D/7UAbgEUA68CNQG4AC7/Ef9u/mH+iP98/x7/tgAeAfL/0v9M/87+Hf+9/df/qv9C/2AAGP/x/pX/OwG7Ab8A5/9F//b9HP+HAUsCnwKaABX/lP5f/woBMQKNAXf/hf6A/bf+YwDYAK0ANwA3/vf9qv49/wsBWQFuAPH/Nf8N/87/nwBsAbMBJgJrAAX/w/9jAeIB9gLfAt3/zf2B/KD97/6YAN4A/v/m/nD+hf+NANgAaQCj/3f+FP9w/nb/XAH2AFUBdAA//7//GQAbAo4DwwKTAN3+Yv72/moAaQGVAFf+hP1r/Xv+YwCjABwAcP8+/m7/pgClABwBIgHbAB0A+/8PAJv/DQAcAYcBGAGgALP/3v/w/yIAJQHLAMv/F/9Y/nf+JgCFAMP/oP+Y/8H/Yf8VAHUAxf/Q/l3/BgDE/6X/yf/b/w4AsgBrACYARv9k/yD/vf9lAGv/cf83//j/fQCYAMQBHAGvAEsAQABaADb/zf8KAOv/AABw/wsA1/8DADkAA/+f/q//zQCaAKoAEgESAD4AzP/E/1MAMf/0/4oAHAB3AH0AnwCoABIBvQA6AIwAbgCdAF4AHQBl/1X+cf/b/5r/af+l/mT/ZwCSAHgBUAFoAGv/4/9gAJ4ASwF8AIz/9P6b/uv+pP8uAHsAOABDAEQAKAAKAEQAp/9d/nX+9v7P/2EAQAC0/1H/EwCzAIwBdwGmAOv/Zf+P/2n/HgAXAGz/p//h/5EAMAGrAHoAVf8f/1T/yv8FAO//sP9H/0//p/92/7b/jQC1AGUAqP+q/y//pv9uAM//p/+v/7//tQBbAfIBGgGSAIf/dv7//nH/IgAdAKX/kP/K/4UAxgBvAFUADgCx/zb/kv8pAKUAgAADAMj/p/9OAHkAkgD4AIEA6QDWAMIA1QD1AEkAx/9U/wz/Vv+y/+f/o/+m/+z/f/+6/40A1ABtAB4Avv9f/7b/IAAwAAcA2P84AM//z//R//L/OwA+AEsANADP/8//sv/d/33/bv+R/1T/pf9fADoAMQD9/43/Sf8E/xr/E/9R/8X/CgB+AAkB8AGvAfMAMQB4/2b/Q//o/xkAjf83AA0Au//h/wUA5f/2/+UAYwBVAPT/jf+3/0L/l/+K/zf/L/+L/6UAyQDBALAAUgA5AN//sv/c/1j/LP9+/8D/GQCxAAcBgwBYACMAAgDh/yYAUwAnAAMAY/+y/8b/pf+cAMEAlgB7AAkA1v8QAEcAkACNABQA4P9p/wIARwBRAHsA/P/X/+n/JQBxAGEAKwC0/4//Z/9t/7T/9v/K/8f/rP/q/24AsAA8AKf/Dv9I/3j/5P+9AJ8ADACu/3//5/8XAGgAZgAmACwAFQDe/4n/VP8L/6b/0P/h/+f/2P9MAEwAkABJACgA8f+V/83/Of94/w4AfgDEAAEB1wBVAA8ALwAxABoA//95ANv/zv8KAK7/TABUAPj/t/+C/73/dwCDAHQABwBn/0X/AAAcACcAxP92/7v/KAB2AAQADABAAEkAfgAxAOf/j/+u/9D/rP8HAEsAbAChAJAAUwAdAIT/Sf/W/2j/WP8HAML/WwBDADQASwA6AA8ATAA4ADEAIQCz/2f/bP9j/2j/wf9CAGEARgB+AHAAIwDk/+//rf+E/6b/gv+I/6r/0f/Y/wYAPQAVANj/xv8WAD4AYwAjALH/AADY/7//4P9OAIAAoQCgAPD/7/95/4D/4v/A/ywAOAAsAGEANgABAPn/xf++//v/GABLABEA3//R/8f/w//d/yMAYABDAAsA8f8nAFwAqwBfABwA9//p/8r/MgA8AN//1P/n//z/5P//////6P/z/y8A9/+8//P//v8EACcADAABAKL/Qf8d/5//7/9xAIwAXADc/3v/uf8eADsATAAkAN//IgAeAPX/RQAbANL/xP/I/wgAQAAQACQAEAAHAO7/of+f/zYAmQCOADEACgDf/9n/5//F/+X/9//X/8//1f8aAGEAPgA6AGwAPgAxAP//4//+/0gARwBYAOv/cP9f/1//m/8jABUA8//v/8X/DQBLADIAQgAnAO7/MABDAC4AHQD//8H/3f/9/yEAWwCDACAAyf/z//H/EQB2AFEAEgDV/3v/Zv/Z/zcADgDT/33/VP94/6v/0P8lAEAACQAaAAgA8f8VAGwAbgARAPL/x/8IACIAFgDp/6r/0P/i/9H/3v/5/67/5/8YAO3/BQAoAEoAcgDK/+D/FwDA/8f/AgAQAAAAyP/G/yQAdQB9ACsA4P+s/8D/v//V/ygA9f+4/8n/tP/N//L/CQAaAMn/z/81AG8AXQByAFUA5/+3//X/EgAlAHQAeQBPAOb/2f/2/8r/5f/0/6P/zv9XAAAA/v8PAAAA5v/F/+3/OABfADIAGQAFANL/HgBiAG4AZgAAADsAKv/I/yABl/9hAFEAlP8zAPL/XP+S/0D/0/89ABb/c/+jAYgAcP+DANH/p/99AJMAEgAvAKf/aP+Z//H/wwFYAOL+Uv/qAPMAYgBzAP//ov6B/jz+4/7F/+MBngKc/w0A4P7e/jwB3AB5ACz/pf29/nr+Zf+xARUDrAECAO/+F/1p/6H/BwC/AagB7AG5/4H+0f5I/wwAtABbANsAaABy/w3/qf90/1sA8AA6AFkAxP/y/xcANwDK/9n/8P8eAC8AGwDa/0YAPADTAB8A5v9qABYAKQDz/ycAEgBjAGYAOwBVAPz/Rv9u/zP/t/8JAHgAiABMAIL/7/5I/0P/FQDOALcApwCs/1f/9f+c/8D/+v8LACcAiwAMAA4Ayf88AEwA2v8oAPr/mv+k/3MAQwDo/8f/z//q/xcA+f/Y/6b/sf/f/xAAKgC//97/PgCGAF4A3v/H/9L/LQByAG7/x//W/27/y//P/xYAIgDl/4UAigDn/9D/3P+2/7v/lP9m//j/4/9KAFoAaQAtABwAAQBGAHMAXwBGAJ7/zv+I/3n/ZQCSAJ8AJwAfABUAvf8KAPn/7//d/47/6f92ACMAOgB4AOv/LwCAAAcAAAA1AM3/pf+6/zIA0wBqAO3/CgDG/5X/tP8HAHAAYwDp/8X/+v4F/6P/FACcAPoAiwDX/+f/3v9X/2L/q/8bAKoAYAB5ADwAmv+0/17/CABlAJIApAAIAJMAIP9o/0z/xf+4AD8ApgBjAAQAov+f/8b/n/8dABEAPgBAAOr/EwC9/57/NQAlAAcAhACW/5b///+3/5H/vP8AAMf///8WAND/3//a//X//v8CAEQAr//E/0kAMQBoAFsA2//1/9f/c/+7/y0A8v/R/8f///9pACIAHQAgAKn/EQAsAAAAcwBJAAAAUgAvANz/dP8SAPv/CQBqACQACgDS/wwAkv/E/9X/CQAhALz/AAALAEEAEgDI/w0Aov/6/18ANgDk/w0AfP+3/yEALgCQAIsAlwAnAKr/mv/W//v/6f80AOP/6v8fALj/HgCv/wsAUgAAAG4AKwBSAEgAwf+v/3//4/8DAOD/FQD8/wUA///H/7n/wP/0/xoAPQA1AO3/5//J/7b/4v/s/zsARADl////9P+4/ycAFwDm/yYA/v8ZABEAFgBRAAwA7P+p/9X/EQD3/w8A0v+j/7T/7v8WAC8AZgAgACYA+/+9/9//HwAAABAAJQAwAP//0//+//v/EQARAOP/CAAfAN3/GQD3//D/AwD6/xQANAA9ACsAFwDQ//X/zv/L/yIAUQBGAPX/QgATAAwAAwAbABYALADr/97/0v+5/9j/6v/t/zAAIwD2/2QA6f/j/zIA9v8FACEAkP/I/8T/5P85AO7/LwDn/+H/9P/C/9T/2P/O/6L/rP+v/8b///8GAPb/+P/w//3/z//n//L/JwAYAOP/BAAcABYASgAsAPL/LQACAOL/CgDS/x0AGgDl/xMAyv/g/xgA5//3/+b/+v83APP/AwACADUABgBPACoA5f82ADEA/f8YAB8A5P/1/wcA3v8qAOz/0f/h/8n/EQDO/woARwAhACUABwD5/wYAKQAHAAkALQARABoAFQDx//v/+////ykARwBFACMAtf+g/7D/GgAbAOv/FwDE/x0AFgDI//j/GAARAOP/0f8NAB0AFQAMALb/5P/z/9X/MQDv/8X/5f/S/8H/zf+//9D/CAAvAAAA9P/8//7/t/9z/7H/8/9GABQALgD//+v/6v/c//r/IQDl/yQAAQCp/ycAzf8CAPT/tf8MABYAHAA/ACQAOQDq/6r/zf/A//v/RQBdADgAOQAPACQALAAEAC4AJgCv//T/9v/F/wQAFQAgAB0ABgD9/wYASwBLAEYAQQDe/77/PwDT/yMAMwAOADQA1//i/w4AQgBQACIALADk/+z/BADi/9r/QADo/x8A9P/D/zQAAQAsABgA3P8BALj/4v8rAPH/HQArAOX/EQCz/6T/FADy//3/FgCt/8L/nP8GABQA5v8uAPX//v/5/4D/9P/1/+z//P/z/9T/u/8qANT/DQBTAOr/LwAOALv/y/+7//H/9v8EAAkA9/8XABEAOAAmABoAIwDH/+T/6f8QAPv/+v8sAP7/FgAnAAUAIgAFACgA/P+q/7b/5P/c/wMANwAPABkAJgAaADMAIgAzAAAA0P/1/8j/3/85ADsASgA/AAUA9/8nAEgA7f8IAOv/+/86AN7/GwAZAPD/SQDt/x0AQQATABYACQD7//L/+v8IAN3/3v/9/xoAEQANAA8A+v/X/+//8P/u/+r/8P/9/9X/6P8aAOD/w//y//L/6f/v//L/6v/h//b/3v/8/+f/EgAYAMb/1f/I/7D/9f/a/7z/8v8NAPX/1v/r/xkAAQAxABUA9v8BAPz/+P/j//z/DgAIAB0ACQAaAAUA7P8HABYAFAAXABUA6P/5/x4A/v8MABMA7v8CABwA/f8GAC4AJgD9/+n/8v8JAP//JwAvAAAABgARABQADwACACAA+P/+////BgA1AAkACgAIAOj/MQAxADIAGQA6ACUA5/8OABEAGgADAOj/3P/o/xAAz/8TAD8ACABCAAAA4P8IAOH/6v/h/+7/CADi/87/4f8PAAAA9f8HAAIA///9//L/4f/Y/9r/vf/n/xAA/v/x/wgADQDj//n/GgAIAOH/6f/p/8j/7v/3/+z/CQDg/xIAGADk/wAA/v/v//v/1//3/xoA//80ACEA3f8RAOf/2P8QAPn/IQASANT/3f/3/zcAFAAFAAwA/f/8/9v/9f8SAAQA8//o/+X/5v8IACUALAAsAD0ADgDy//X//P/m/97/9f///wEADgAfACEAIQATABYABgDg/wwA+//x/xUA7v8EABIADAADAAYAHwAbAAwAGQAIAPT////4//r/FgAPAP3/DAD//xkAKwD2/+n/+P/3/wQA/P8MACMAFQDl/9X/AAAHAA0AIAD7//T/9P/m//n/KgA6AA0A7//j/+T/2v/i//n/5v8IAPf/2f8NABoAHgAXAAoA8//4//H/6v/p/+v/+P/w/wQA///v//H/7/8FABIAHwAXABoA/f/r/9z/+v8JAPn/EAAWABkACADf/+7/+v/6/wUA6//X//f/EwDw/wUAFgDr/+z/DgALAAcADwAjAAUA9f8NAA4AHgAVANj/1f8DAPr/+/8FACEAGQDr//X/EQD8/woADwDr/+3//P/z/+D/+v8PAAAA8v/q//f/AwASAAkA7P/6//7//f8DAO3/BgAnABkA9f/h//P/+v8AAN7/2f8FAA0A9////xMAFgALAPH/+f8PAPr/9f/u/+f//f8ZAA0A7/8NACwAAgAIAAoAEwAhAP7/+//x/xYABADm/w8ACwAEAB4AHQAYABIAKwD+/wIADgD+/wMA9P8MAPf/7P8JAAoA/P/x//X/9P/3//v//v8XAA8ACwDa/97////s//D/9P/5//j/7P8HAPX/CwA3APz/9f/4//7/+v/P/wIA+v/e/+v/4f8CAAEA4//7/wAAFAAWAO//3P/2/+T/8/8JAAoAFwD2/w4AEQD4/w8AGgAhAAIA4//Z/97/+P8XACEAEgAaAAcAAgABABIAHwD6/wcABAD3/ykAJwAUACIAHQD4//f/CwAeACwAEQAYABcA/f/3//X/AAD9//X/6v/0/xIADwASACMADgAAAAoAHwAdAPr/EgAMAPH/AAABAAAAHwAKAPD//P////z/GAAEAOj/6f/3//3/1P/M/+3/9f/q/9j/9/8eAAwABQABAAwAIgD6/+//+P/1//L/5P/b/+//7//3/wEA3/8AACAACwAGAPP/5f/x/9r/0f/i/9H/4P/2/wYAHQAbACoAKwAIAAkAEQACAN7/0f/h/9j/6f/1//j/GwAdAAoA9P/2/xIADwAIAAIACAARABYAFgAJAA8ACAD1/+T/9/8eABIAAgATAAkAFgD2/9//9f/s//z/6v/j/xIACQD//wcABAANABMADAAQAAwA//8gABAA7v////j/EQAEAPH/EAAdAAwA7f/z/w0A/v/1/wkA/v/w//X/AQAEAAMA+/8OAAgA6f/2/wsAEwAIAPf/CAArAAgA9P/9/xUACQDd/+7/BQAAAPr/CgD9//f/8v/x/+//3P/w/wkABwD4//r/DgAJAPj/6f/m/+z/7f/p/+z/GQAhAAUABwAFAAUA8f/8/w8A6//t/xAAAQDd/+7/BgAIAPj/8v8BABIACgABAPL/AAANAP3/9/8OAA8ABQALAAMADQAXAA0ACQDu//n/IQADAAEAEwAUACAACgDo//b/CgAJAAUA9f/5/wEADwAYAAEABQAPAAQA+P8BABMACQABAPH/6//s/+r//v8AAAYAAwD6//T/+f8WAA4A6//z//P/AwAMAP7/FAATABQAAQDe//n/EgAGAOj/4P/z/wsAFQAGAAkAEQAPAPn/0P/j/xsADQDo/+P/9P/2/wUAFgAKAA0AJwAkAAMA9P/+/w0AEQADAPr/DAAVAAMA9/8SABoAAAD7//T/EQArABMAAgABAPn/BwAKAPf/+/8MACAAGADz/+L/+//6//z/+//6//D/5P/x/wAACgAPAAsADAAdACIAFgAKAP3/6v/l/+L/5v/j////GQAMAAQAAwD7//r/+/8BAAwA+v/1/+z/8f8GAAUA+f8PABEADAAZAAkAAwAQAB0A/P/c//f/CwDz/+X/BwASAAsAHAAEAAkAFAADAAAA3P/W/9//+/8HAPn/8P8XAB8A+//z//z/BAD3/wIAAQAHABAAFgAiAAgA7v/w//T/8P/P/+r/GQAVABIACwAVAPf/z//j//H/5/8GAAwAIgAgAP//AQAGAPn/7v/2//b/9P/z////CwD1/wUAGQALAAkABQD7/xIA+f/j//X//v8JAPz/7v8FAAcABwD9/+7/AQAFAPf/7f/p/+///P/0/+r/7P/6/wwAGgATABYAIAAWAPT/3f/4/wwAAgD5/wAAIgAyABUABwASABwAJQAkAAsAAgAPAAwAAADL/8//AgANABQADQAcADIACwD5/wkA7P/d/+7/9f/0//z/AQABAP7///8IABAAHwAZABEAFgAGANn/6v///wEA9v/2/wkAEwADAAAA8f/6/w8AAgAFAOj/8f/5/+f/2P/S//P/FgAbABEAMQArAAAA8v/i/+f/9v/x/+r/7f8KABMAAAD7/woAEgAXAAUA6f/3//7/AQDr/9v/+v8VABIA///+/wQA+f/k/97/9/8TABsADQD7/wYADQACAPb/6//0//b/4P/f//T/DAAiAB8A8//t//n////7//7/GgAXAAUAAAD0/+7/FQAcABAACQAGAAwA/P/4/w4AEQAQAA4AAwD8/xMAEgAAAP3/CgALAP3/AwAMAPT/7P/o/9z/4////wQABQAKABcAEAD//wUA9f/w/wAAAwABAAcAFwAZAAQA/P/4//b/9P8CAAoACQAPABQADAAGABAAEwAAAP7/+P/w//v/7f/j//b/+f/8//r/+P8GAAoACQARAA4AGQALAAAAAAD///n/5P/j//j/EwASAA4AAwAPAAcA4v/I/9z/7//p/+3/BwAYABMA//8AAAkA9//g/9///P8NAAcA9v///wUA+f/y/+b/9f8HAAsACgAQABIACwAJAAEA7f/m/+7/7v/u//f//v8NAAcA+/8DAP//AAALAAQA+//x//H/+/8HABEAEwAHAAwA+P/m//H/9f8aADUAJAAUAAgA/P/s/+b/+f8SAAcA9//7/w4ADwAAAPb//v8AAPP/8f/1////BwAAAPv/AAD4//3/AgAmACIA/P/r//L/AAAMAAkA/P8FAA0A/v/w//X/EgAhAAIA8f/0//b/8//c/93/9/8MAAQA7//5/zUAMgAYAAEA+P8CAAQAAwDv//f/EAALAPb/EwAhAA4AAQAKAP//6f/q//v//f8BAAgA9f/x//T/9v/v/wQAAQDk/9T//P8PAAIACgAKAAQAAAAJAPv///8SABsAAwD0//v/AQABAAoACQAMAAQA8v/2//j/AAAGAP3/5v/5//3/9P/4/wAAEAAPAAUADQALAAAA+//r//j/CgD7//j/+/8dACoA6f/j/wQADgAPAPn/8/8PABQA/f/k/+7/DQD1/97/5P/c/97/7//7/wgAIAAiABAA/f8AAA0ABwAEAA8A/P/7/wwAEAADAPz/DQAeABkABQABAPz/DwAPAPf//f/9//P/9//8/wYACgD6//7//f/l/+n/6f/g/wIADgANAAAA8P/1//b/AwD//wQADAD7//b/FAAcAAAA+P8EACAAEQDv/+X/8v8IAAwA9//1/wwAEQD3/+3/6f/w//X/+f/7/wAAEgACAPL/BAAYAAQA7P/+/xMABgD0//7/BwAFAAIAAAABABUAGgAEAAQAEQACAOr/4P/0/wAAAwAHAPb/8v8AAAgAAAACABQAEAD4//L/7//f/+b/4f/z/wYACAAFABQALQA4ABQA+P8CAAwAAQDy//T/+//t/+z///8BAAMABAACAAMADQARAAEA//8AAAAA7//p/+z/9f/2//v/AgAIAAwA+v/s////DQD5/+H/8v8SAAkABgAEAP3/CQAYAAYA/v/7//3/BwD9/////P8BAAgA///3/wgACgAFAA4AEwAPAAUAAwAMABAA+v/p/+v/9v/r/+z/8f8QACIAEwD9//n/EwAAAPX/AAAGAAwABADx//b/CQAAAPT/9/8NACcAEgD4//v//P/7/+L/5v/8/wkA/v/k/+n/BAAKAP7/CAADAPr//f/s//j/BwARABQABgD9////BQAAABUAHgAKAPf/9v8IAA4ABwD9/wQAEgAGAPP/9v8RABQAAAAAAAIABQD5/+b/8/8EAAAA8v/y/wAACAACAPT/9v8NAAUA7P/s////DAAIAAAAAwAMABMABADy/wIAEgANAPv/9f/3/wAA/v/6//X/CgAXABYAAAAAAAoA+//x/+H/6/8AAP7/7P/q//z/AAD5//T//f8MABUADAAAAAkACgACAAAAAAAFAAQAEQADAPf/AQD+/wAA//8EABIABgD7//L/9v8CAAUA/P8AABIACAD8//b/CwAQAAIA+v/t/wIACwD+//z/FgAKAO//8//9/wsADwAEAP//+v8DAAMA+v/4//v/+f/0//n/AQAVABMADQAEAP3/+v/6////AAAEAPP/4v/y/+7/7P/o/+3/9P/i/+7//P8AABAAEAAEAPX/+f8EAAEA/P8FAAMA+v/5//T///8fACcAAgAAAA8ACgD2//n/GAAeAAgABgACAAYABAD2/wEACwAWABIAAQADAAAAEwAGAO3/5v/4/xkAEQD0//v/EQAXAAIA+/8DAAAABgAKAPz////0/+3/9v/q//P//v8LAAoABwAQAAYA9v/5//n/8//q//P/9v/p/+r/+/8CAAQABAAAAAsADwAAAP7/EQAiAP//7v8EAP7/5//o//j/AgD7/+j/8P/3//j/+P/x/wAABgAKAAUA+v//////+f/6//j/AwAVAB0AEAAIABYAEAACAAYAEQANAAcAGQAcAP7/+f8AAAAABAATAA8A+P/3//3/6P/n//f/AgAIAAQA+v/4/wEABgDk/+3/DAAGAAcAAAAKAA4A+f/x//D/+/8EAAQACAAEAP3////5/wcAEwAFAAMA9f/u/+3/8f/+//3//v/3//f/AQAAAAcABgDr//L/+f/z//3//f8RABgACgD///H/+P8EAAoACAAFAAkAAQD+/wQADQAVAA8ACQAJAAsAFwASAAsAAwD5//3/9f/s//3/AgANABcA/f8AAAgA+//z//f//v8KAAoABQAAAAAAAADv/+T/9v8ZACUACgD4//z/BgAGAPP/8f8AABkA/P/h/+X/6v/6//j/+f8WABIABQD5/+v/BQABAAEAAwDz////CwAIAA0ABwAEAAgABwAEAP3/9P///wwACAD2//H/7f/y//z/8v8AAA0AAwANAAQA+v8KAAAA6f/0/wcAFQASAP7/7P///wcA+v/8/wAADgAiAAcA+P8AAP///P/1//r/BQAOABcADgADAA8AEQAFAAAA/P8AAA8ABQDv/+n/AQANAPv/AQAYAA8A/f/0//T/6//m//n/+f/x/wwADQD2//r/DAAWAAwAEwAkABwABwD3//r/CQANAAAAAwASAAQA6P/k//v/AwD0/+r/7v/z//L/9P/w/+j/+v8VAA8A9f/z/woAAADr/+f/7v8CABgABgDx//z/DQDx/+P/BgAfACgAJwAeAAwADAAXABkAEAATAAgA7P/q//v/AwD2/wIAHgAOAPD/2f/z/xYAAADU/+T/DAAYAPv/1//w/wYA///t/+n///8OAA0A/P/1//X/+f8NAAQAAwAkAC0ADgD5/wkACwABAPT/AAD+//D/5f8AABwAGQAVABYAFQAKAOf/7P8GAAYA8f/m/+7/3//N/8//5//2/w0AJAApABIADgAhABAA+//t////HwATAPT/6//1/wwA+//s/wAAEgAgAAMA5f/m//H/AwDq/9//IAA3APz/2//2/xIA7P/J/+n/HQAoADIAAADr//j/8f+q/8L/5/+7/+r/AgAjAGoAhgDcAO4AxQDZAPIAugAeAMr/Vv8S/77+jv63/s/+jP4J//L/hwC+APMABQFRAW8B6wAeAeIAzv/h/2UAr/+L/0f/t/8XAJb/uP8nAB4AKABLAEUAQwBIADsAJAAZAA0A8f/m//b///8IAAwA/v/8//7/DwAVAAUACQAMAAMA+v/9/wQA/v/7/xMAGAASAAUAAgAHAP7/6v/o/wUABQD4//j/AAARAPv/7v8LAAYA+f/8/wcABQD9//P/9f/c/+f/KgAwAIMAOwDq/9n/7P8uAPb/Wv14/6oBmQBrARMCcQHY/zv+Sv+U/ZH61gEqA+UAgwC/AD4B8gGk/T39EPvl/LMAFQCZAsoClAClAND96/mT/lv8oAGC/fz6v/5SAeYJNgg+7iADOA7P+W/7sRDF+Xn9oAfJ90X/VP7A7yv1XvM4++T7if74B1ECuAWPBJ8FxAqRDZQCywaP/Y8Oi/D+ANIDXu9WAkkQFRZd9VYDsvVuxVO2AYBw6roURPhEGlEpgWNNAbG3oi27r+OzWPY+whEKRCbgSQohuk5AfL43IzfQPKUCnugVxW3TjLWSxQnongIvCJUHLxLLEdEyGCHr5RMwWiCh5rANlSu5H6oPou/I/BsCtvxcBljUdddQ3A/RRvApx6XXQiDXBfcmGUgNIOoiMxv9DoUOJAn5CHD1yOaA6r/UZtWQ6PfnXPo8BvH8HQpX/Ir46P6d/fcLIBSfELsPJQLrAwwCq/MA5gDbWup9+Z/3afgL/6D/zBHiEqURcxvjFxENRwLA7yzrW+Li7Rjn9viN6fv1fjj89WIDyPs0H7IFAP7EDv0CUBRZ/cnuL/YV/DEB4fUo4yTZae/x6S/+JQnSH1gzHx+zCMQPjRK77bzzS/L92fLhgvEP7ILgrgd5/vAMMgZn/00iFyGlG1gg/Aso+LD8aQI+7F8FVPpd9a0GH+9i/Tv/gu0O/Fv3qu449eL44wgWGm4lZSaNKR8lWA/CCZv9kfav4cbObsxRz/ba3u8G9eQK5xTuIy4erRlnI6MJDBMbDdjy3Pzq957yJPKi7rzrVu0m5kvvQvyCANMRiw4yFlANAxqgCuIaEw+P8r//APGY8JvwBvl/8U38j+9i+Fz/evdGEQIJ4xXhGBIU6xr6+1L7kPPy5Qfq1+jE6A8FHvucAZoMYgiVDEMMSBEIB7wNAAIZ/LD3Eeo78wby4f2l8UEIJhQTAsoAhwDsC7b19gae/LT7/QXp8/gAgwFWBXECcABF+uT6WPzv8WD4bganBGQDnwXPBR0QNxgYEcsF8//Y/dfl+O3H9xDyHQTc/RYGeQU2+Db+ZgDh7ZEF6xGwAgAHeQAwBFQBxf1RAQv1gvrx+gT/9goJFGoGPAR7/LL9xvzAARkPfAcx/ID39ef67Z7xVfl98SkG0wdL8zb5WvkaB64MtA6/Cs0PmBAZClYAwQYR/MHzTfjT8bH6ff9JAXsLtwZY+6cCHPyv9+gKnP67AFj9CP0U/YrzJ/eV+5YJtP+wBBwCtQHZBeX9OA1oAIn7vwkkAlf/RP6K+rn4yPyr/a0I6AmCBloHAgCi+7f4DvO38sfvKPT3/wf25wLcC+YJaRADEU0PIAXVA47+dgHS/BP6E/0e9VDuQvv199/3twzsA6n9TQVtBuEBSQT/BJEIfgt5/f78cP+R+1b7WwG274L3k/Ku9cX+vAJLDJoKAQ7/BDwJSw6zAxMATP6k8kX0bfJ49XH42/u2+ST+1f/t/YkRkQPtDdYLJgazBvb8nwHF/yr8ygFZ9ML6AvuR+TQDMPuY/mD+z/wG/3wCVQl7B4oIGglcCJcBPPcy9hb17fh6AooEDP8gAhwASvzy+6H6FQOYAfX+sgqJC10Fg/jlBAf7V/Or/9gAuADnAMT9Uv1G/+79Efzp/OYB5wHfAb8EBwRlAUMD7f8j/D/9yPvUBLUJegCSAhkFxP4jBIsDrADT+/L0+fhv+Ov4dfxGAT4EjQS4AA4ETgJfAUcF+v5j+yj+efrcA1b7RQIyBkoEDAQzAioAswB9+f37P/ZF/dT9fAD7BqcGOwLx/8D8sP++/pn7h/vJ+JUC6fuPAoUJPQz2BnMETwrNAaoDjfbf+f//YvQk9K73c/QQ/MEG3wZBDCEPrQY/Bp8A+/Tb/Qf8qvU1/8X72/V5+ycFywBRBFsOxwZZCvYIGQKEAdL/hvv7+Gf5G/xl+dv9Rfyu9NTzSvwY/OYBvQhQDtoNmw9eBjMA/f5G95v0WfqS+aH4LwWLAFcAdgrjA94F3wReAp4E/fx17yf8Pf4CACMCSv1nBQ3+yPeg/039hfz6AEAG8QReBPUA2AJmA1sAuvzk/j8BWf9mALUEFP4N+2j/Wf5R+3kFugDLAR/9lPlj/9L61QCSAFEFbQgPAZADMwJS+gD9Mf/p+5ECfwMHAa4BLgCz++H/JQfX/mn9JPyw/fQBs/3z+57/HQJ0/tz95QHlBeQB6wSZA+P4nAKkAOIAKgXC/2b/v/v3/Wn4zvVp/gb8ov9HB+YCxgJwCaID6P49BYcCRfkZAUQCkwCn/Gz+3/6y+Vz6Sft1A20Ecf8WBVQFfwA//+79vf0hAOb8YPp9ASwAqv0/Avr8hwEIAgwCHAiJ/20DWQgX+gb+KABj+/4CBv8N//8Atf2M/1v96/+LAG/+N/7G/YMA1v1w/+UDDALDAbsBe/3B/zsCHgD5/hwAZf4O/9r+kf4IBOUBiQSZAvACnQbi/F78Mf28+lP9Gftr/qL7AAHn/hcAKAUgA7QFmgEH/n//AgIz/AP+eQDP/H/97v5n/BwC0AS8Bq4GjAI+BoQCH/wc/mr7m/3X+TD7if36+7/9b/+NASb9CQW5AgP+6QNABEwAOQJQACX/ZgW0/2b+AwTbAVv/eP9o/2b9lfyQ+r/8e/wG/z0CfQKUBF4CcwMcAaT/MgRR/8T7vv37/Bf8kv17AL4AjgM9AxkDrQL6/rAAogE0/xcCZAK3/Fz9pvk+/Dz9o/zyARUAMAK//5AAKwXTAhwEcgVq/5/8XPy5/Fr9awDQAGEAQQNk/yf/CAHM/V4BTwByAecB6/8EALYAb/+F/iX93Pwl/sD9cP7gABwATwEgAAEFfAMeAbQFq//n/m3+2/siAmL+SAF5Avf89/7l/nr9Bf9gABz+5QAjAm4ADwBM/1UCBQC8/W0B8f0K/hME//76AIwESf+LACAEr/6oAI/+YPxO/939Wv48AAT/bv52Atj/T/3///D+JgAzAlkErAXfAfT/NgAI/tX80/2z/ioAv/8e//H+9ACL/ggBFQDgAuQCNf4nAZj/gv2h/ZX+yvtsANsArAOpA2AE3ANy/x0A2P12/d3/2Pp6/Rn+tPuzAMIALQPEA3UDfAUiAFcBSgAR/9f+C/7I/XL8hv2M/ej97f65AEEDEgHwApEDlgItAlsBn//T/Rb+q/vw/Yv/7QA//0sAYwRz/tEAlgSc/vX+dwB3/Jz8Jf5AAUH/mwFJAvP/0P+2/X0ACwKX/wgDUQJKAFABr/3V/qL9mv+0/8z+2f/1AC0Bd//W/1IAhv9k/hsA5gFGAbwBIAJoAv4A8/4vAOb/nvxO/b/9MP7V/wf/nAE2AM//DQKg/kgB5QDgABUBvf41AML/aAK0AV//h//M/2P/6f+C/p7/+gEAADH/F/8s/cv+Pf+T/jEAnP/I/rMB7AAbARYD/wJgAvoCDAGf/e3+iv1x/an9Gf4g/zv/PADLAAMDqwEcAzoBbf7FAb/9Hv/KAMP/tP05/xX/J/7YAZUA6P+lAT8A//6//yz/P/+1AE0A4QDaApABWAN2A4MAXQC1/gT70/yg+l/81/3t/rUAdP9AATIA+wH6AvYBhAJCAk4ChAJCAXYAZf+qAMT+EP6C/kv+2PsM/Xr+j/4b/xMB+AJjAMwCWQTnAcwBXgGWAJj/LP2t/CT8k/ti/pD8g/4WBD4AtALjA2EBIgNXA6gAUwBvAon+dv4B/9L9GP3X/v/9HP1r/X3+JQBIAPgDNwNRAXkBEgJlAEb/vv9AAJP/D/81/8r+BP9E//r+CwB0/8AB5f8ZAeQC3f8eAkcALwDaAMEAlADj/zgBV/1z/rr9lf2a/2P/aP+N/wIBDADh/0QCdQAOAdMBfQEdAIIALv9BAMP+ef4LAOP9CP/s/wcACgA0AXwB9ACsAVAAg/6RAdv+D/0SANP8uf5B/0f/MQHI/0gCrAEhARoCLP+xABoC/gAQAb4AZP5Y/s3/Uf3pABz/Rv2UAVz+nf6UAZj9xQHSAeL+zgFX/1oBfgCC/z8BNv+PAen+KP4PAB7/6v+IAB4AsQCtAHj/rwCT/60AawHW/pEAdwBjAA3/s/+i/mn9r/0j/kQA5P7CAXoC/ABcAt0AKALVAFEAUgG2/0IADQDk/2T/9f1M/6n+NP+E/7gAyf+p//H/3/+J/9b/ggFI//T/dv8b/zgBnwHtAhQCDgFRAf3+vP73/pf+0v4OAGX/l/7J/zr+I/5/AAn/AwD0AAoBlgHMAKgBp/8XAAIA8/40ALUA///5/pv/MP8r/k//MwF0/+0ARgIpAKYBFAEqAf0BUAD0/zT/C/6c/Aj9zP3g/AYAHgD1/9IBiACQAZIB4QEWArICogGPAFwAef8N/i7+Vf7k/eH+Jv+R/ygAmAF3AIMAXwAx/24BIP8iAesAHf93/+L/Xv9f/hgAlv7c/+P/+f/RAAEBiQL0AWoCoAL/ALQA0f82/979z/0U/kT9GP/r/g/+GwGiADP/6gGDAV8BEgKMAX4BHQCR/7/+C/5Y/6b+Lv+0AKD+7v+OACr/4//mAGgA8gA5AY4AbQDBAFX/OQDz/8j+Zf+D/yn+gv5o/sD9LwAJAS8BsQJVAS8CmgGSALQA4P87/0H/kP70/h//Dv9HADH/OgC1/6b/XAG9/7gAcwC0/9QABgDRAMkA/f5DADX/yv++/6z+dv9BACAADACDAB4BEQEdAWMBfQAo/5wAFv8C/pz/FP6u/qH/pP9+AHkAbQDaABYBbwE9AG8BsgD0/nH/0v7u/l7/ff8JAJP/4wAtAZ4BeAE9APr/Nf9b/iX/7f+f/9b/qwCI/zIADgB4/9YA4f6cAJb/TP++AP//nQDfADsA6f+wADv/t/9AAL3+Yf+V/0gABP8IAfj/IwD3ALj+mwAjABX/owDa/wYALgD6/6cAgADJAF4BYACLAEMAt/4OAB7+7f62/rr9/f9I/+H/owBSAeIAdwECASkBFAGBAG8A///w/2//A/8G/8X+PACW/0L/zP/2/w0APQDlALMA/f+bAKf/mP9mAOH/awDu/+v+8f9j/ov/QACv/9YAPAGAAcIAeQHUADcAmgAv//X+wv5x/uH+C/6k/6H+2v7MAKP/cgGGATcBpAEPAYoA2/+9/3oA/P/u/1oA9/+y/2v/1/8UAAj//P+N/5n/gv9R/zkAb/+n/zMAVAAEADAAaAG4AHsAlwABANv/sf+M/8sAh/+BAFMB2/84AFUAzv67/xX/WP4sAIj/Of8dAZQAIgAeAen/AAC4/+T/+/+Y////ZwCm/2EAbQAQ/6IAJACe/6gA6v+YAMYAnv94AAwAnf80ADP/UQCu/yH/KgAc/9f/6P+L/2L/yP+X/8//iwBnAEcBWQFHAB4BMgCc/7j/Dv+K/97/1f+b/04A7/+7/20Atf9t/wAAaQB1/xYAnAC4/zQAYQD0/+P/MQA7ALP/EQDr/2H/BwDL/+7/CABUAIoA2/8lAOL/Vv8nAN//BABaABMAMgGJ/1sA2v9s/0oAwf++/27/lv+9/3H/QQCNAFQA1ABKAHgA9v/G/ygAmv9FAPf/QADVAFsAIADS/7z/qP+T/wf/Tf+i/0L/2f87ABEANAFNAaIAMgEBALkAEgBU/xkAyP8d/0L/X/+H/wr/2P/Y//L/twCvAB0BDAFDABYAtf+S/3//GACx/5AACgCv/8MAg/+w/xsAu//f/9v/Yf+8/97/XAD//xkALQB2/9L/0/+7/10A/gB5ALwAoQDo/wIA+v+r/zMAlv9T/wEAVv9q/6r/7/6Y/w8A9/5yAG0AhwCtATQBYwHiAIEAvf9X/6P+Gv/5/pX+aP+v/3X/0gDfAMoAfQAUAU0APAC/AGMAPwAkAOH/hf9A/8n+L/8I/67/CQDl/0QAzgBPAAEBBAFWANIAx/8KABUAzf5N/3v/qf8H/3f/jwAMADQBZAFwALUAff/6/1gA8v6p/zsAVQDS/6f/wv8PAHIA1P+D/yv/zP7E/7j/wADfAH8BUwFGANH/Ov90/4v/xv8k/5z/0/8o/ygAuABHAOgA2AAkADQA4P+k/xgAn/8a/9D/1f+F/zgAVADbAPEAqQBSAKn/Hv8d/8j/iP9c/xQAu//d//v/AADcAKwAowDsANQANgBGADUAd/+4/8D/Iv/L/3X/KP92AGP//v9BAMj/mAAtAD0AnQDZAB8AhQCeAGn/FQB7/1n/0v8x/yf/KP8n/2j/XQDCAMcA6ABEAUIBEgFaAI4A3P+Q/yn/cv4m/0f/fP/f/wgAIwCEAPz/FAAeAAUAYQARACIArADz/ygAvf+S/1MAW/+7/+j/Nf/a/5D/sP98ABYAAgDbAHUAHgCcAHMA6f8jAGb/YP9L/z7/GQCl/0AAiwALAFsALwDo/08AvP+d/ygAh/+w/7sAIQBnAAsB8f9IADMABQD3/7n/4v/D/2X/mv/d/zgALwAVAK8A+P84AAAA2v9mAD4AEAD+//D/DwC5/8//3P/b/wEAxP/8/04ADQBMAGkAFwA/AOD/1f/U/2n/NgAbABUAZwCq/8//qf8d/6f/IgA3ALsAswBbAHIARQDV/1UAz/+W/+z/Hf9n/yn/sP9RAOb/WwDGADkAOgB9ALD/LwBIAIj/nP+f/7r/n/8hACAArf8GADkAMQB4AAUAGQBzAIz/GQBWAPv/KwBBAJ3/w//D/zL/3P/L/5D/CQCi/1r/GAAnAGIA+AAXAQoBhwBtAAEAlf+w/2n/j/+f/8z/9v/b/w4AMAAfAOH/GQDr/3T//v/1/y0ANwDe/04A/v9WAPL/4/9HANX/KQAPAOz/IQAEAPX/dgBBABUAOwDZ/9L/xf/i/8v/pv9AAPD/mP8XAMn/9/8mANX/CQCx/87/UwDT/04AZwAZAC8AGAA+AE4AUABaACkA7v8RAL//vf+i/1j/Wv9Y/5f/vv8NAPn/ZwCAACkAeQBlAGgAvwB8ADAAtP+X/1X/I/9G/0//wf8RAB0AaQBMAGkAVgB5AF0AdAAlAO//u/+i/6z/uv9H/6H/4P/J/+T/BwBTAEAAggBKAG0AgAD2/2QAq//F//b/mf/d/9r/6f8MAOj/QgDn/xkAXQAmAA8AAADb/ykA1f+w/yUA2f/r/xUA0v8FAOL/VAAQAM3/rQAQAEEAHwASAHIAmv/b/5H/Uf/N/7j/7P83AEcAKwAeAND/WABSAAUABwCb/4f/df9//9T/5f8FAB8AUABoAEQARQBQADoADwA7AAUA0P8UAOL/1/8LALj/Yf+6/3v/iv/q/9r/KABhAFMAWQBLACkAQwAUAC0A5/8VAPT/w/8qAOL/5f8jAPX/3/8BACwAJwBAABgAHQD+/87/5f/a/8D/8/8aAMj/8//w/93/HwBAAC0ALAA+ADkAPgA3ADkA0P/v/8H/xv8aAOL/FQAXAB8A6v+1/9X/nv/y/0MA3f8tACkA4P8hABQAHwA7AMD/LgDZ/+n/GQDd/zUAv//0/zUAnv82ANj//P9dALn/QQD//8//FwDs//b/wf8JAMr/wf/w//L/1P/7/w4A//8TAE0A9f9EADAAFwApABQAGgAKAOf/PQDu/8n/BQC9/9r/u/+h/8//7f8NADYAaAA1ACEANgABAAcAIgDg/8//7v/Q/+T/HgDm/x8AIAD9/yIAEwDv/2IAHwAYADcA5P/s/9D/zf/w/+z/5P/4/8D/z//z//D/+f9PACQANQBjACMAMAAiAOj/8//d/7f/y//y/+b/EgAAANz/DgDm/xQAYwAYADsAHQDM//b/xP/H/8j/kf/s/4D/3P/o/xAAeQBhAFIAPgAuABoAEQAgAOn/EgDE/67/yv+o//P/8//Z/////f/h/wkACwBGAC4AXQAlABQAFQD8/wsA9v/o/+L/o/+B/6v/2v8TADMAWQBmAGgAUABvAEUAJQABAMD/6P+j/8D/sv+J//7/x//+/wQAHAA5ADgAeQBCACkAQgDs/93/1f/u/8v//f/u/9//3f8wANj/JAAfAO7/EQALAPz/+/8JADMABAAaAA0ACQAhALn/HAACAOb/CAC1/5//3f/C/+n/EQABABYAMQA6ACIACgAJACMAEQAVAAYA1f/7//L/9v8iAAgAAAAPAN//8P///wMA3/+p//n/BgDw/zoAGwAcADQAEgAnABMA5v8GALb/uP/i/8T/AwAEABoAJQAxADwAEwBNAC4A5P8cAOP/1/8FANL/0v/4/7//CAAPAOL/8f8KAOH/IAA2APf/HAD+/+//JgADAAgA/v/9/xsA8v/k/xwAy////xkAw//t//D/2/8WABYA9P8OAPz/AQAAABEAFwD0/xUA/f/m/wkAAgDb//3/9v8HADAAAwAUAP3/9P8fABgAAQBNAAAA7f8YAPP/7v8GAOj/0f/x/w4A7P8XABgA9f8SAP3/AAAQABQAAQAUABYA/P8OABsA9//6/wkA6f8dAAsA4//y/+j/+P8NAAEA6P8AAP//AgD1/w8ADAAEAA4A+f/1//n/BAAAAAIACgADABEABwDn/xYA+//u//H/8f/p/wMA+v/l/+//9f8PABcA+f/9/xIA7//x//3/0//6/9z/AAAUAAAAIQARAAcAFwAWABUA9f8GAA0A9//w/8z/z//Z//f/HAALAAIABwAEACgAAwAQAAcA1v/u/8n/3f8OAOr/FAANACUAMgAZABkAGgD6/w0AAwD6/wAA8//y/+7/7f8NABMAJgAMAAoAHwDj/wsA6v/k/+j/1v/d//r/+P8XACoAAAAQACMADQAhAA0ABAAaAPP/7//5/9D//f/w/wAAFAD+////9f/3//r/2/8AANf/6/8bAP//GAAWAA0AMAASABwAGAAIAPr/5//3/9//7//e/97/AQD7/xMAFwAGAAkAAAD8//L/6//k/wAA+P/1//H/DwAdABwAIAAAABMAAQAIAAgA8f8EAPH/AAAEAPH//P8CAOv/CAANAAQADADp/+X/6f/0//3/7P8FAPz/DwAeAAgADQAQAAYA9v8HAPH/+v8HAO////8fAPL/EQAXAAEACAAKAPH/6v/x/9n/8//s/93/9//q//X/FwAIABgA/f8AAB4A+v8EAAIA5v8XAAAACwAeABAAEQAYAAQA+f8DAP3/7v/e/9f/3v/n//H/7f8GAA0ADgArABQAFwAVAPz//P/p//P/CAADABUADwANAB8AEQARAAIA9v8XAAYA+//+//H/8P/8/9b/AADq/+n/EgD9//z/HgADABEACAD4/wAA+P/2/w4ADAACAAwAAwD///3/7//s//z/8v/t/wYADwAfABQAHAAPAOr/+v/f/+j/9//k/+3/DgD5/xUAIQASACsAEwAVABkA8//0/+L/7f/r/+L/8f/v/+P/CAAIABQAJgANABsAIgD6//v/9//+//X/9f/t//D/BgD5/wIA+v/x/wsAAAD2//v/+/8MAPT/DgADAAQAFgAJAPr/AgDk/+b/+f/d//f/AAAFABMADQASABYAHgAHAAAABADr/+b/7//X/+n/+f/2/wwABAANABIAFwAUAPz/EgDz/+v/+f/W//z/FQACABgAEwAFAB8A+v/+/xAAAAARAPn/+P8FAPz/DQD7//v/CAD8//f/+//v//3/9f/s/93/6////wQACgASAC0AJAAgACYADgAFAPf/5/8AAO7/9v8CAPH/AQAGAAoA7P/q//D//v/0/wEADAAKABcACAD7/wgA7f8AAPX/6P/9//v/CgAPAAkAAQAMAAEAAgD5//P/AwD6//T/AADz/wIAEQAFAAcA+f///wkA7P/1//j//v/7/wUACQADAA8AAwAQAAcAEAAOAAgADQD5/+//7v/u//3/9v/3/wsAAwAYACAACwALAP///v/7//D/9//8//L/BwANABYAIQANAA4ACgAAAAgA7f/w//H//f8GAAEADAAAAPf/AgDz/wcA+P/x/wYA4P8FAAYADQAUABUAFgATAPr/7v/t/9j/8f/o/+j/9P8FABkAFgAVACEAEgAVAAwAAAD5//P//P/6/+//6P/m//7/BQAJAP//BQARABYADAADAAsAAAD9//v/8//0/wEAAAAAAAkA+v/2//P/7P/9//z///8CAP//CAAMAAQAAwD5//X/8//0//z/9v/1/////f8AABAADgD8/wgACAASAAgAAAD///j/AgAEAAUAAAD5/wIA7//s/+f/4P/q//T/BwAQABgAKAAaAB4AFQAAAPn/6//p//L/+f/z//z//f8AABEAEwARAAkABwAIAAMA/P/3//T/7P/v//z/8//z//r/+v8AAAwAGQAJAA0ABAAAAA4A/f8AAAQA//8AAPf/+P/+/wgABQAEAAAA/f/4//7//v/8/wkAFQAAAAQA9//x//P/2//y//b/+P8QABQAHAAiAB0AFgADAPr/6//l/+f/2//p//P/8v8AAAEACwAMAAsAEwAHAAcAAQDv//r//v/6/wIA8P8AAA0ACAAXAAcAAAAKAAMAAQD7//L/9v8AAAgACQANAAoABAACAPL/7//4//z/AgAGABAAGgAWAAwABAACAAAA+f/0/+//9v//////CAARABAAGQAXAA4AAAD3/+7/4f/q//P/8f/7//7/+P/0//v/AAANAA0ACwABAPv//v/5//n/BQAUABcAFAASAPX/7//v/+7/6v/z//H/9P8IAAsACwASABEACwAEAP7/BAD9/+//7f/3//3/CAASABQAEwAfAA8AAwDy/+v/9//6//j/+v/2//j/BQAPAA8AGAATAAsABgD1//f/AAD+/wcACQAWABUAEQASAAsACgAJAPv/8v/z//H/+v8AAPv/AAAIAAMACwAOAAcABQD9//f/+f/t//P/+f/5/wMACgAFAP///f/4//j////1//L/9P/+/wUAAAAEAA8ADQAPAAgA+f/v/+f/7f/m/9//9//r////AgD3/wcA+/8AAAsA/f8GAPz/+f/7//f///8CAAAAAwD6/wgADQACAAEA///9//3//v8DAPr/BAASABAAFQARAAYA+//9/w0ABgD///z/+P8LABoAEQATAAcA//8FAP3/+f/0//f/+v8BAA8ACwANAAgABQAMAAwA/f/8//z////8//P/7//z//z/AAAUABkAEwAWAAYA+/8DAP3/+//9//3/+v/6//3/+P/4//z/9f8BAP//8P/w/+z/8v/2//T//P8FABAAFgAPABEABwD///b/+P/8//L/+f8FAAUA/P/4//3/DQAUAAsABgAGAPn/9P/9//z/+v8CAPr/+v/6////AQD6/wgAAAD+//r/AQAHAP3/AQAIAA0AFgAGAAAAAAD8/+7/5//q//L//v8GABEACwADAAUAAgAAAPr/AAD8//f/+//9//z/+f8BAAQAFwAcAAoABAD7//b/+P/4//T/9//z////AAD7/wIA/v8GAAsAEwAYAAoABAAGAAUABQD///v//f8FAAwABgD7/+//9P8FAAUAAwD6//7/FAAZABMABQD2/wAABgAQAAoA/v/5//H/9v/9//r/AAAKAAsADAAGAAIA+P/5//7//f8AAPn/7P/y//D/9/8AAPn/AAD8/wMABgD5//f/9//5//z/AAADAAAAAAAIAAcA///4//r/AgACAAAABAACAAIA+v///wAA+f/7//z/+v/3//P/9f/2/wsAFwALAAQAAgAIAA4ABwD///j/AAAGAAkACQD5//v/AQAFABYAEAAJAA8ACQAEAAwACwACAPf/AAAEAAAA/v/1//r/CwAQAA4ACAAEAA8AEQAHAAIAAAAAAAQAAwD5//P/+P/4//3//P/9/wMACAALAAcA/P////L/9v8AAPz/BQAGAAIA/f/+/wgAAwABAAUA//8AAAAA+//4//j//v/+////+f/t//P/+f/9//3/AAADAPz////+//T/9v/3//X/+f/4/wAAAwAAAAAA9v/5/wMAAAAHAAkABQADAP/////+//7//f/1/+7/8v/3//3/+f/7/wcAEAAUAAoA+//8/wAABgACAPX/8v/4/////v8GAAQA+P8AAAcABAAGAP3/8f/8/woACAD5//v/AAAFABMACAAAAPb/+v8JAAgAAwABAAUACAAOABAABQAAAAYAEgASAAUA9v/2//n/AQAFAAMA///+/wcACwAOAAYA+f/6/wAABwACAP3//P8AAAwACwAIAAUA///7//3/AAD///P/8f/5//7/BgD6/+r/7//+/w0AAQD2//f/8//6/wAA9v/+/wUADAAOAA0ADAAHAAIA/v/6//P/8f/0//b/AAAFAAQAAAD8/wUABgD7//P/+v8DAAQA+//5//f//P8JAAAA8//6/wgADwAHAPv/+f8IAA8AAgD8/wAAAgD5/wAAAAD8//7/AAD8//7/AwACAAAA+P/6/wAACQAEAP7/BgAJAAMA/P/3//v/AAAHAA0AAwD7/wEA/f/8//7///8CAPv/9v/3//n/+//3/wAAAQAEAA8ACAABAAMAAgD///3/AAAHAAYABAACAAAA/f/+//z/+v8GAAcABQAFAP7/8f/2/wUAAgD3/wAABAAAAPn/+f///wgAAwABAAkACwAKAAYAAwADAAYABgD+//b//P8FAAoABAD4/wEABwABAPn///8AAPj/9//+/wQAAAAAAAYACgAAAPn/9P/7/wMACgAIAAAA+f/9/wkAAgD+/////v/8//j/+P/7//z//P8BAAgA///v/+//AAAKAAoABQD///7/DAALAPv/9f/3//3//f/6//z//v/9//v///8GAAIABQAGAAAA//8AAAAA+f/y//b/AAADAP//+P/7/wAAAwAHAAEA//8CAAoACQD8//j/AAAEAAIAAAD+//7/+v/8/////v/+//v//v8FAAMAAgAGAAYACwAJAA0ADgADAAAABwAJAAYA/v/4//X//P8AAPf/8//z//7/DwAGAAUABwAGAAIAAAAEAAQACwAQAAoABAACAPj//f8AAPj//f8BAAcA///6/wQAAAD7//3//v/+/wUABwD6//P//v8BAAAA/v/4//3/+v/6//r//f8BAAAAAwAAAAQADAAHAAQAAgD+//n//v/9////AgAKAAUA/P8AAPn//P8IAAoA/v/4/wAACwAHAP//AAAAAP7////3//v/BAD+//j//P8AAP///P/+//7//f8DAAcAAwAIAAwAAQAEAAoACQABAAIA/////wMA+f/y//7/CQAIAAYA/v/+/wIAAwAAAAUABwAAAP//AAAOAAsAAQD//////P/3//X/8v/x//j/AAABAP///P8AAAoACQADAAMAAAAGAA4ABQD+////AAD//////f8AAPv/+//6//r/+f/5//v/AAAHAAkAAQD5//b//P8DAAMAAQD+/wAAAwAGAAsAAwAAAP//+f/9//j/9P8AABMADgD9/wIABgAHAAoAAAD0/wAACAABAPr/AAAFAAAAAAD6//z/CQAGAPr/+f8HABIACwAAAPf/AQAJAPn/9P/0//v/BgAEAPb/8P/2//3////6//L/9f/9/////f/1//j/BQAJAAAA/v8GABAACwD7/+//9v8EAAMA/P8FAA4ACQD//+//7f/4//v/+f/8//3/BgAJAPn/+P8AAAgADwAEAP7//v8GAAcABgACAAQADAALAAcA/v///wgABwAAAP3/AwAFAAIAAwD+//n/AwABAP//AAD//wIABQD+////BQADAAQAAAD7//n//v8GAAMAAAADAAwADAAJAAAA9f//////9f/4//z/AgABAP3/+P/+/wYABwABAPr/+P/5/wIACAAHAAgABwAAAPf/AQAJAAoAAQAAAPn/9f/9/wAAAgAIAAcAAAD4//D/7v/x//X/8v/v//X/AQAAAAIAAQD//wQACgD/////BAAEAAAA9//5/wIADgAFAPT/+f/7//n/9//0//7/DwAJAPb/8f/1/wEABgAAAAAACgATAAsA/v/4//z/BwATABEACgAPAA8ABAAAAPP/9v8CAAIAAwD+/wAAAQD6//r/+/8DAAkACAD+//3/BgAJAAQABQANABgAFgAIAPz//f8BAAMABAD+//7/BQAFAPv/+f8AAAkACgAEAAEAAwAEAAAA///8//v/AwAHAAAA9v/5////AgD+//H///8OAAsABQD3//j/AwD8//H/+P8CAAsACAD4//j/AgACAPL/7//0//3/AAD5//P//P8BAP7/+f/6//n//f8EAPz//P8CAAAAAAD///j/+//+////AAAAAAAAAwD+//j//v/9/wEAAgD7////CQABAP3/AAAAAAAAAwACAAIABgAGAAIA///4//f//f8EAAgACAAGAAgABQD6//n//v8AAAYAAgAAAP3/BwARAAEAAAACAAYABgD+//j//v8JAA4ACwAFAAIABwADAPr/9//+/wQABwAFAAUAAwACAAQABgAGAAkACAAKAAoAAAD5//T/9//7/wEAAwAAAAUABQADAPz/8//5/////v8AAAEAAQD9/wAA//8AAAEAAAAIAAsABAABAAIAAAD+//X/8f/2//b/9f/0//n//f/+/wAA/P/7/wEAAAABAAYABwADAAMAAQD8//r/9v/8/wMAAAD//wIAAgACAPj/9v/y//X//P/9/wUADgALAAAA+v/5//r//f/7/wAABwADAAAA+P/4//j/7//2/wAABQALAA0ACQAPAAsA///5//n///8JABMAEgAIAAgACQD///r/+f/7//////////P/5//r//X/+/8BAAcADAAFAAkABwAAAAkAAgD//wEAAwAEAAMAAwADAAoACgAHAAgA/v/5//b/9v/z//j/9//4/wcACQAFAAIAAQAAAAUADAAJAAUAAQD//wMA/v/1//z/AAAFAAsAAgDy//T/9//5//X/8P/8/wAAAQD8//z/AAD8//n///8DAAMABgAEAAAA+//6/wAAAQD+//7/AQABAAIA/f/2//r///8EAAQA+P/2/wAA///7//v/+f8AAAQAAgAGAAUABQAFAAIACAAHAAQA+v/z//j//f/8//3/AAAIAA8ACAABAPv/+v8BAAAAAAD8/////P/5/wAAAgAFAAcADAAFAAwACgAAAP3/+f/6/wAABQABAAUACQAIAAgAAAAAAAcAAAD3//b/+v8DAAcABwD7//v/AQD3//j///8HAA8ADAAHAAIAAQD//wYACQAAAAQABQACAAIA+P/x//D/+//8//v////8////AAAAAAMAAAD+/////f8BAAgABgACAAYABwD+//b/+P/4////AgD9//j//f/7//X/9v8AAAgAEAAOAAEAAQAAAP3//f/+/wAABAALAA4ABQACAAAAAgACAP////8EAAQABQAHAAMAAAD//wIAAwD//wAA///8//v/+/8DAP//+v/6////AAD///n//f8HAAcADAAKAAUAAQACAAUABAD+//f/+f/8//z//P/3//X/+P/7//7/AQACAAQA/v/7//3/+//4//r///8EAAkABgACAAYADwANAAsABgAAAP//+//9//v/+v/6//n//f/+//7/+/8AAP7/8//2//3/BAACAP7/BQAHAAUACAABAAUADQAOAAgA///9/wEAAwD8//v/9f/+/wMA/P/7//f////1/+z/+v/+/wEAAAADAAUABQANAA8ABQADAAgAAwD//wQABAABAAQAAAD7//r/AAAAAP//AwACAAMAAwAEAAMAAQABAAAA+P/y//r//f/7//3/+/////n//P8BAP7///8GAA0ACwAHAAYAAAACAAAA/P/6/wAAAQD7//v//v/9//v//f/9//n/+//+//3/AAD8//3///8AAAEABQAHAAYAAgACAAMABAAGAAkABwAFAAUA//8AAPr//P/9//T/8//2//v/+v/+/////P8EAAEA//8BAAMACAAKAAgABgADAAUAAwD6//j//v8AAPz////+//3/BQAHAP7//P///wAAAQABAAEAAAAEAAIAAAABAAIAAwADAP7//P8BAAQABAD+//v//P///wAAAAAAAAUAAAAGAAYAAAD9//3/AwADAP//BQADAAAAAAD9//7//v8AAAEA+//9/wAAAAADAAEAAAAAAPz/9v/w//b/BAAMABEABgD//wAA/v8AAP///P8DAAgAAgD4//L///8PAA4ABAAEAA8AEAACAAAAAQAGAAwACQAAAPn//v8BAAMA//8CAAUAAAD+//3//v///wEA/f8AAAEA/f///wMABAABAAAABQABAPj/+P/7//3/+f/x//H/+v/9/////v/7//7//P/4//v//f8BAAoAAAD//wMAAAAAAP7/AQAJAAUAAAD9//3//v///wAA+v/3//z//v/3//L/8f///wYABgAEAAMABQABAAMAAQD+/wMADAAOAAkABgAJAAcA/P/8//r/+//8//v/8f/y//3/AAAAAAAABAAKAAoAAwAAAAEABAAHAAEA+v/8//7/AAAAAAUADQAPAAgAAAAAAAMABgAAAPv//v8CAP//+v/6//f/9v/5//r//f/+/wAA+//9/wMAAwAFAP///v8GAAMA/P8EAAAAAAAHAAQAAAD9/wAAAwAAAAQABgAEAAUABAADAAAA/v8AAAIAAQD7//7//f/6/wAA/f/2//3/+f/4////BQANAAUABgANAAoACQACAPv/AQAEAAYAAAD9/wAABQABAAEAAAAFAAQA//8AAP//BgALAAcAAgAHAAkABAD9////AAAAAAUAAAD+//f/9P/6//v/+v/+//j/+f8CAP///P/9//z//v/8//z/+P/5//r/+P/2//T/9f/2//z/9v/6//7/+v/8//z/+v8BAAAA+//9//3//f/+/wUACgACAAQABgAEAAQA//8CAAMABAANAA0ABwAHAAQADAANAAcAEQAFAP//BwADAAEA9v/7/wgA+f/+//7//f8GAP//BQAIAAMACwAEAAAAAgD7//z///8EAAQA+v8AAAEA+v/8//3/AgAHAAAA/f/4//P/+v/4//r/AAAEAAAA+f/5/wAAAgD7//n//P8BAP//+v/9//3/+/////r/+f8EAAMABgADAAEABQD8//f/9P/4/wYAAgD+/wQAAQACAP//AAABAP//BgANAAgABAAFAP//BAD///3/CAADAAEAAAD+/////f8AAPz//P8EAAEAAAAIAAUAAgADAAYABAAKAAsAAgACAAMA+//7/wAAAAD///7/CAADAPn/9P/3//b/+f8DAAQAAwD+////AAD9//v/9//7//7/+//2//b/9v/1//n/9v/0//T/+f////z/+v/3//v/AgACAAcACAABAAQAAQD+/wAA+f/6//H/8/8AAAAA///9/wAACwAMAAgACQADAAMADAAFAAIACQAQAA8ABgAGAAYA/v///wAA+v/7//3//P8EAAMAAwAHAAgACgAJAA0ACAABAAUACAAAAAEABAACAAAAAAAJAAEAAQAMAAoAAwAAAAAAAwADAPz/9f/5//T/7f/4/wMAAADz/+7/+/8AAAQABgABAAMABAAEAPv/9f/5/wAAAQAAAAAA+f/1//f/9f/7//n///8FAAMAAwACAP///f/5//7/CQAEAAEA///7//b/+P/8//j/+/8FAAsACgAEAAQACgANAA0AAwAAAAQAAQD5//r//v8AAAEA/v///wAA/f8FAA4ABwAAAPz/AAABAAMACwAMAAgABgD9/wIABQD2///////6//f/9v/7//v//v/+//v/AQAGAP///v8BAAkABwAAAPr/AAAIAAAA9f/5/wUABAACAAEAAQAGAAYABwAAAAAAAwAAAAAA/P8AAAUA/f/9/wAAAAD9//3/AQAAAPb///8BAP7/+v/3///////6//b/+f8CAPn/9P/+//7/AQD9//f/9//4//z//P8DAAAAAAABAPr/9P/8/wIACAAJAAwACwAHAAIA//8AAAcADgANAAUAAgAJAAQA+P/8/wIABQACAAUABQABAAwABgAAAAAAAAAHAAQABgADAPv/+f/4/wAACQABAAAABwADAAAA///5//v///8AAAAA/v8CAAIA9//5//3/+////wAA/P8AAPv/9v/7/wAAAwAHAAgAAAAAAAIA/P/9/wIAAgACAAUAAQD5//j/+v/5//j/9v8AAAkACAABAPv//f8AAAAA//8AAAQA///8/wAAAAAAAAAA//8FAAEA/v8CAAAAAAAAAAMAAAD8/wAAAwD+//v/AQD4//T/AAD//wEAAgACAAYAEAAJAAMAAwAFAAwADAAJAPv//P8CAAMAAAD3//7//v8AAAgAAAABAP3/AAAAAPb/+v/7//3//f8AAAEA/f/6/wEAAAD+/wQABAD8//v////7//r/AQACAAIABwABAPv/+f8AAAcAAQADAAEAAQAFAPz//f///wEABgABAP///P8AAAMABQAGAAQAAgD9//n/+f/+//3///8CAAQABwAAAPj/+f8BAAEAAwAGAAQACQAHAAYABQD7//v//f///wMAAgAFAAAA+//7//L/7//3/wcACgAJAAYA///8////CQAIAAkABgAIAAoA/f/4//j/+f/+/wEACgAPAAsAAwD8//3/AAADAPz//f8EAAgAAgD2//H/9f/3//b/8f/2//b/+f/9/wEABgAFAAIAAAACAAUAAwAEAAEAAgADAAYADAAKAAUABQAHAAAAAAD9/wAAAAD4//v/8//y//f//P8HAAEA/P8AAPf/9/8AAAIAAgAAAAQACQABAAEACAADAAoACAAAAAEA/v/+//X/9f/7//n/AQAAAPL/8v/7/wEABAADAAcAAAD7/////f/9/wAAAgAGAAcABgANAA4ADAAHAAIAAAD7/wEABgAHAAAA+//+/////f/+/wMABwAGAPv//f///wAAAQD9//7/AQADAAAA+f/+/wIA/f/3//3//v8AAAEAAgAAAAIAAQABAAEAAAAEAP//AgAEAAMA/f///wMA+v/3/wAABAACAAUACAAFAAkAAwD+/wIACQAFAAQAAgAGAAAA9f/2//j//f/7//r/AQD+//j//f///wUACgAEAAAAAgAFAAQAAgABAP7/+//5//b/9v/3//j/9//0//H/8v/8////+P/7/wYABwACAAEA/v/5//3/AAD6////BAAIAAwACwAMAAcABwAEAP7/AAAIAAoACwACAPn////6//f//f8EAAcAAwD8//3//f8BAAYAAQAEAAMA+f/5/wAABQD+//z/AQD//wAAAgD//wcABgABAP///P8AAP//BgACAP//AwACAAAABQAEAP7//f/+/wMA/v/8//v/9P/9/wQAAAACAAEAAQD///n/BAAFAPr//f//////AAD7//v////+//v//P8GAAwAAwADAAAAAAD8//n/+P8CAAUA//8DAP3//v////7////9//z/AAD//wEAAgAEAAcAAQAEAAkACAAGAAUAAwAAAAAAAgAAAP7/BAAHAAgABAD7//z//v//////AQD//wAAAAAAAAAAAgAHAAMAAgD///7//v/+////AAABAP3//v/+/wIABQADAP7/+P/8//7/AAAAAP3/AAD///7//f///wAA/P/+/////v/3//j/AgAMAAoABwAHAAAA+//y//X/AgAFAAQA/f8DAAUAAQACAAIAAAAAAPr/AAD///j//f/7//7/9//u//f/+/8EAAsAAwD8//v//v/4//f///8EAAcAAgAAAAUABQAIABAACwAIAAgAAgAEAAkACAAJAAYABAAGAAIA/////wIACgAEAAAA9//5//r/9v/2//z/AwADAAMAAwAAAPv//P/9/wEAAAD8/wMAAQD+//f/9P/3//3/AAD///n//f8GAP7//f8AAAYABAACAAUA+v///wQABgAFAAUABwAAAPb/+v8CAAAA//8AAAwADAADAAIAAgADAAUABAAGAAgACAAKAAIA/P8BAP//+P/5/wAA+v/2//z/+/8AAP7/AQAEAAAAAAD6//n//f/5//z/AQAAAP3//f/8//3//f/+/wIA/v8BAAQA/v8AAP7/AwAFAAMA+//4//7////6/wIABAAEAAMA//8AAP//AAAAAPn//P8AAAAAAQD///v//P//////AAD4//3/CQAJAAEAAAAEAAQAAwAFAAIAAAD8//3//v8AAAAA+f/9////AAAKAAkAAAAAAAAAAgAHAP7/AwAJAAcABAAAAAMAAAD7/wAACwAJAAAABAAHAAAA///9//v/AAD6//f//v8CAAYAAAD7//7//P/7//3/AgALAAoABAAEAAgABwAAAAAABAD9//j/8P/z/wAA//8HAAcA/v////z/+f/+/wAAAwAAAAAA/v/2/+7/+P/6//z//f8BAAkABQAFAAMABAACAP///v8BAAAA+/8CAAQAAQACAAAAAAADAAQA/P/8/wQABgALAAUABQAGAPv//P///wIABQABAAIABAABAP///f8CAAEA+f/3//n/AwAAAPz//v8AAAAAAgAAAAIAAwD9//n/+/8AAAYACQAJAAYA/v8BAAMAAwAKAAwACQACAP3//P/1/+//9v/x//j//v8AAAcACAAJAAIA+/8AAP3//f/9/wAAAAD9/wMABAAAAPz/+f/8/wcABgAFAAMAAAABAP7//v/9/wIAAwAAAAIA/P/y/+//8//6//X/9//9//7/BAAFAAEABQAHAA4ADgAKAAkAAQD8/////f/3//X/9P/1//3//f8AAAkAEAAQAAwADQAVAA4ABwACAAAA+f/8//z/+f/3//j/9//6/wMABQALAA8AEwAQAAcABQAAAAMA///6//H/7//q/+X/5v/2//z///8AAAcADwAIAAsAEQARAAsAAAD9//r/9f/s/+v/9f/7//j/+v8GAA0AEAAOAAkACgANAAwAAAD8////8//t//b/9f/0//P//P8EAAgABQADAAsAEwARAAYACgAMAAwAAwD6//v/9//0/+//8//+//3/+/8DAAcAEAAGAAMAAgACAAYAAAD6//j/7v/r/+n/8P/5//n/+/8DAA4AEAAKAA0ADQAKAAcA+v///wYAAwD8/+7/9P/1//L/8v/6/wEACAAPABEAFQAQAAUABgAQAAgA/f8AAP//+v/0//b/+f/5//z/AAAAAAgADwAMAAYACwANAAkACgAFAPv//v8AAPr/9P/t/+3/7//5//7/+v8BABQAEgATABMACwAIAAUAAQD6/wAA///u/+n/8v/y//L/9/8FAAoAEgAbABUADQAJAAwACQAAAAAA/f/5//L/7v/y/+7/8f/1//j//P///wUACQAOAAoACAAIAAIA+f/2//D/8f/v/+//8v/x//L/+f8CABAAFgATAA8AFQAZAAgAAwADAP7/8v/w/+7/7v/0//b/+f/8/wYADQAGAAYABwAOABEACwAKAAAA/f/6//D/9f/6/wAA/P8AAAMAAAAEAAYACgAMABIACAAGAAQAAAABAPf/8v/v//H/9P/2//b/9f/6/wAA//8DAAcACgAPAAwABQD//////f/1/+r/5v/q/+b/5//s//z/BgANAA0ABAANABMAFgAUAAsABQABAPn/8v/0//X/+v/+/wAAAgAGAAcADAATABYAGAAbABMACwAHAP//+v/6//b/9f/6//z/AQADAAAABgAOABoAHwAcABsAEwAMAAMA/f/y/+3/6//o/+3/7//m/+z/+v8BAAsADgANAAYABAAHAAQA+v/z/+z/6v/v/+//7f/v/+//8f/0//7/BQAEABEAEwASAA0ACAACAP//AgAAAPf/7//y//j/+P/8//z/BgAQAA0AFQAdACIAHAAXAAwACAAEAP3/9//y/+7/9//s/+v/+v8AAAIABwAJAAgAAwD///7/AQAAAP//+v/1//P/9P/z//r/+v/9/wEACwASABUAEAANAAsADQAQAAQA/P/3//P/9v/7//n/9f/3//r//v8DAAQABwAOABIAEQAPAAsAAQD9//z/+v/5//T/8v/z//v/+f/9//z/AAAFAAQAAwAAAAMABAD///z/9//z//D/6P/v//D/8v/4//b/+v8AAAAABQAPABUAEgARABAABQAAAP//+v/z/+r/5//q/+//8f/1//v/+/8GAAwADQAQAAoABQAKAAoAAQD5//r//P/+//r//f/9//r/AQACAAYACgAEAAkACAAMABMADwAFAPr//f/8//T/9v/v//X/9v/x//b/9f/5/wAACAAJAAcAAAAEAAgAAQD6//P/7//w//H/8v/z//b//v8IAAgACAAKAAoABgAIAAQAAgD///v//P/8/wAA+/8CAAIABwAQAA4ACgAKAA0ADAAJAAQAAAAAAAQAAAD9//z/9v/3////AQAAAAAAAAAKAA8AAgAEAAUAAwAEAAMA/////wEA+v/+/wUAAAAAAAEAAgD7//f/+//+/wMAAQD///r//f8DAP//+//6//P/9P/w//H/9f/6/wEAAwADAAkACgAJAAkADQASABMADwAMAAEAAAACAAcADwAFAAMADAATAAsACQAJAAoAEgANAAQABQADAAEA///+/wEABQAIAAsACAADAAEA/v/6/wMAAgADAPv/9P/3//n/9//7/wEA//8AAAQABgADAAAA/v8MAA4ABAAEAP7/+v/7//n/9f/s//X/+v/5//X/6//o/+r/8//5//z/AAD9/wUABAACAAYAAwAEAAAA/P/4//X/9P/1//j/+////wYADAAKAAsABwAMAAsACwAEAAAABQADAPv/+v8BAAQAAwAAAAAA+//+//7//v/5//r/AwAFAAgACQABAPj/+f/8//n//////wAA/P/9//v/+//+//z///8DAAUA+P/t//D/8//0//b/9f/7/wAA+//3//z/AAAHAAUAAQAKABEACwD+//j/+f/2//X/9f/z/+7/7//z//H/8//1//n/AQAAAP7/+v/2//z//v8CAAAA/f/7//j/+f/6//j/+f/8//7/BAAGAAEA/v8AAAMA///5//n//P8DAAQA/f////3/+f/6/wAABQAGAPz/AQAFAAkABQABAAAAAQD+//z//P/5//z/9//4/wMACgAOAA4ACwARABYADAAHAAMABQADAP///P/6//f/+f/8//7////+/wQADAANAAoACQAKAAoADgAJAAQAAgAFABAADQD///7/AgAHAAwACAAHAA0AEwAbABwAFQASABMACgAFAPz//P8FAAgACgANABUAFwASAA0AEAAWAA4ABAAAAP3/CQAHAAQAAgD8//f/9P/1//f//P8BAAcACwAJAP//+f/5//n////4/+//7f/z//z//P/0//P/+P/1//P/8//v//b//P8GAAEA+v8AAAAA+P/1//X/8v/5//7////5//n//P/7//7/+v/7//f/9//9//z/AAAGAAUAAwD///r//f/6//P/9P/2//r/BQAAAPv/+//+/wUAAwD8//f/9/8DAAIA/f/6//j/9v/7//n/9f/3//7/CAAHAPz/+f/1/+3/9v/6//v/9//4/wAABgAGAAEAAAABAAMABgACAPz//P/8//z//P/9/wAA+v/y/+n/8f/0//P/+P8CAAwADQAKAAEA+v/7//r/+P8AAAEA9P/t//r//f/5//X/8f/0//r/+//7//z///////z////8//7//f/6//v//P/9//j/+P///wAAAAABAAAABQABAAcAAQD5////AAABAAcAAQAAAAIAAwAEAAUABQAKAA4AFAASABEADwAJAAwAEwANAAMABQAHAAMAAAACAAgADAAIAAkABwADAAEABgAOAAkABgACAAIABQACAAAA9//y//f/9f/2//b/9//3////AAAAAAEAAAACAAAAAgABAP//+v/1//H/8v/2//H/9/8CAAUABQAGAAcAAwACAAoACwANAAoABgAAAPP/9f/+/wAAAQADAP3//f8CAAQABAAIAAkABwAGAAoABQAFAAkAAwD///v/AAD6//j////8/wAABgAOAAwAAwAHABQAFAAPAAgA//8AAAMA/v/8//n/+f/9/wAAAAAAAAAABQANAAYACAATABMAEAAPAAcAAwAHAAUA/v/6//7/AAAEAAQADAALAAwAEwAWABIACgAGAAUABAAEAP7//////wIABAD+////AgAEAAgABgAFAAQA/v/9//v//f8AAPz/+P/3//X/8v/y//X/+P/0//T/7v/w//P/7//z//b/+P/4//f/+P/4//z/8v/0//f/+P8AAAAA/P/8//7//v8BAAMAAwAJAAYAAwD+//3//P8AAAcACQACAAQACAAPABAADAAKAAwACAAGAAUABgALAA8ACgAFAP//AAACAAEA/f/w//f/+P/9/wEAAAD+//n///8AAP7/8//y//r/+//5/+7/5v/n//P////+//3///8BAAEABgAFAAMAAwAAAAIA/f/9/wEA/f8IAAwAAwADAAIAAwAHAAMABgAJAAoABAAAAAgAEgAOAAkACgAJAAgACAAMAAgACAAMAAgABQAAAAAABgAFAP//AQD6/+7/7P/r/+n/6//o//r//P/4//j/9v/9//3/9f/0//v/+//6//3/+f/y//f/BAAEAAAAAQD4//7/CAAOAA0AAgAAAAEABAAGAAAAAQAHAAcABAACAP3///8LABQAFgARABUAGAAWABIACgALAAoAAAABAAYAAAD4//P/7v/2//n/9P/2//L/+P/6//L/+//+//r/+P/2//H/8//3//b/9v/1//r/9f/r//T/AAAIAAoA/v/7//v///8HAAcABAD//wEAAQACAP7/+v/2//z/CQAOAA0ACQAPABUAFQARAAkACAALAAwAEAAPAAgACQAMAAoADAAPABEAFAATABMADgAIAAYABgAHAAwAAgD+//r/8//z//X/8P/r/+j/6f/w/+//7//v//T/+f/3//L//v/8//j/AgAAAPj/9P/0/wIACQACAAoAEAATABsAFQATAA8ABwAKAAcAAwAIAA0AEAAPAAkADwAQAAcADQAPAAwACQAHABAADgACAP//+P///wIA/P/+/wAAAQD7//L/9P/z//P/8f/j/9//5//o/+X/3//i/+D/3//e/9//3//b/9r/3v/p/+f/6f/1/wAAAAD8/wUABwD9//v/AwANABMAEQALAAgACwARAAwADwAYABkAHgAWABMAFQAbACQAHwAmACgAGgATAB0AIwAiABwAFwAPAAgAAgADAAIACgAUAAsAAgD+//D/7//1//b/9f/x/+f/3P/d/9n/1P/c/+X/5//j/9//4f/q/+v/5v/r//n/9//t/+v/8f///wQAAAD9/wMABwAEAAgABQAGAAAAAAAGAA4AEgAOAAwACQAMABQAEgADAAgAFAATABYAGAAbACAAHgAXABIADwAMAAoAEgAKAAoAEAAKAAMA+v/1//D/8f/x/+7/7v/r/+X/3//c/9f/0//c/+P/4P/k/+L/5//v//r/BQAAAAAAAAABAAsADgAVABwAHgAbAB4AFAAIAAUABgAOAAoABwANAAwADQAJAAYABQACAP3/9//7////BAAFAAkACwACAAIABQAFAAkAFAAYAA4ABwAIAAIA/v/9//j/8f/q/+P/2//g/+j/6P/k/93/4f/l/+j/5v/j/+j/9/8AAP//+//4//n//v8DAAQABwARACUAKgAkAB4AGAAdACMAJAAkABkADwAOAA4ADgAMAAMABwATAAoA/v/0//L//v8HAA4AEgASABEACwALAAwADQARABEAFgAVAAwAAgD6////BAABAPv/9f/1//H/6f/n/9//1f/T/9H/0v/D/8D/y//Q/9P/z//O/9v/6//z//n/+/8AAAcADwAYABoAFwAWABYAGQAdABoAGwAdABwAEwAHAAkACAAEAP//AAABAPz/AAACAP//AAAAAAEADQAWABYAFAAaACUAJAAdACMAMAA1AC8AJQAdABkACQD4//b/9v/q/+H/2v/a/8//xv+9/7z/w//I/9H/zv/J/9H/3//p//T/+P8DAAsACgANABEAGwAgACsAMwAxAC0AJgAlACoAJwAcABYAFwAXAAsA/v/6//T/8P/p/+3/9P/1//b/+f/5/wEADAAKAAcAEAAVAA0ACwALAA0ADwAOABQAEgAKAAEA9P/w/+r/3f/Z/9b/z//I/7//vv+3/7L/tv+8/8D/yP/M/87/0//c/+v/9//8/wYAEgAeACIALAA1ADgANQAxADoAPgAwACsAMgA0ACsAIAAdACIAIAAYABEADAAQABAABwAFAAoADAANABgAEwAVACIAIgAeAB4AIAAfACMAJAAVAAUA+//9//H/5f/h/9X/0f/F/7T/rP+m/6f/qP+n/6b/p/+t/7j/yP/P/9f/5f/z/wAADAAZACUALgA5AEIARABLAFAATABIAEAANAAvACcAHAAaABYADwAHAAAA/P/7//j/9P/4//X/8//6//z//f8HAA8AEgAWABcAGQAYAB4AJAAjABwAFgALAAUAAQD8//P/4v/X/9D/xP+7/7j/sv+u/6n/qP+r/7b/t/++/8v/1//p//f//v8KABkAIgAqADMAPwBHAEYASgBRAFcAUgBPAEMAOgA3AC0AHgAWABAABAAAAP3/9v/1/+7/8f/z//L/8P/t/+//8v8AAAIABAAPABcAIgAjACQAIgAfABwAGAAPAAEA+f/t/+X/3//P/8D/u/+z/6//pv+i/5v/nP+f/5//pv+0/77/xv/b/+z/+v8NABwAKQA1AEUAVgBTAE8AXABhAFgAVwBUAEkAPwAsABYAEwAMAAUA9P/o/93/3f/h/+D/4f/l/+v/8v/u/+r/8f/6/wcAGQAiACQAIwAoACcAKAAuADEAKQAcAA4AAAD1/+T/1//Q/8j/vv+x/6X/nP+e/53/nf+g/6b/sP/C/9b/5//7/wgAGAAtADgAPQBHAFIAVgBXAFkAWQBZAFgAUwBJADsAOwAxABwADAAGAPn/6v/j/9//3P/Y/9n/2//g/9r/3f/n/+7/9f/9/wUACwASABgAGAAbAB4AGAAaABoAEAADAPz/8P/i/83/v//C/7//uP+z/7D/sv+w/6j/p/+0/8P/1f/U/93/6v/4/wkAGgAsADgARABSAF4AXwBeAFgATwBQAEoAQgA2ADYALwAdABcADwAFAAAA+v/u/+//7f/q/+T/5f/z//T/9f/+/woADQAIABcAHgAbAB8AKAAsACoAKQAZABAABwD8/+n/2//Q/8f/t/+u/6r/n/+f/6D/nP+i/6f/sv+9/8j/3P/l//T/DgAkADAAOQBGAEoASQBLAFcAXQBcAF0AUwBMAEwARgA4ACkAIAAYAA8A/v/7//D/4f/g/93/2f/W/9L/2f/f/+T/7P/1//z/BQANABUAHgAhAB0AGgAUABEABQD8//f/7P/d/8//xf+4/7f/t/+z/6n/p/+t/6j/sP+0/7j/w//V/+j/8f/8/wsAGgAkAC4AOwBFAFYAXABbAFoAWABSAE4ASgBBAEEAQQAxACYAFwALAAIA/f/3/+//9P/x/+3/6v/n/+//7//5/wEA/f8IABMAEQANABIAFgAUABkAEwANAAgA+P/r/+b/1v/H/8j/wf+//8D/t/+0/67/qv+p/6v/tv+//83/2P/g/+b/9v8HABQAFwAcACwAMQA8AE8AVQBXAFcAWgBQAEcAPwA6ADQAKwArAB0AFQAOAAAA/v/u/+n/8P/v//H/9f/x//L/7//x//3/AQAJAAwACQAMABEACQAIAP//+v/6/+z/4P/X/9L/0P/O/8f/yf/F/8P/xv/B/77/vf+9/8n/yv/U/+L/6P/1/wAACwAeACYALwBBAEQASwBSAFMAVABMAEgARQBEAD8ANAAqACEAJAAWABAAEgATABEAAQAAAP7/9v/4//j/8f/2//L/6//r//P/AQD+//j/AAAAAAAA/f/3//H/9v/p/+j/6P/Z/9b/zv/P/9P/xf+//8X/xv/M/83/zP/W/+L/6v/3//3/BQASABkAJwAuADsARwA/AEgAUABMAEcAOwA4ADwAMAAqACwAIAAbABcABgD8//b/8f/t/+v/5//g/+D/4v/o/+r/8P/t/+z/+P/9/wQACwASABgAFQAPAA0AAAD1//b/9v/1//H/5f/c/9f/zf/J/8X/wv/G/83/z//O/9D/3P/h/+b/9f8CAAoADQAWAB0ALAA+AEEAOgA9AEEAQAA/ADwAMwAjACQAJgAbABEACwAHAAMAAQABAPv/9v////n/9v/z/+z/8//w//X/8P/m//D/7f/s//z/+P/3//f/+P////z/8//u//P/5//f/+D/4P/v//H/7P/q/9//3//k/+X/6P/r//L/AAAAAAAAAQAAAAAACAAXACQAIQAeACEAIQAlAB8AGwAbABYAEwATABcAEwALAAoADQARAAsACgAAAAEAAAD1//7/BAAEAAYACAADAAEA+v/7/wYABgAIAPz/8v/2//r/+P/7//j/9P/w/+//7v/q/+f/5v/v//b/7f/h/+X/6f/k/+v/6f/p//T/AgAOABIAFgAaAB4AHAAiAB8AGAAwADUAMAArABwAGAAXABMAEwAMAAQAAAD1//j/+P/1//X/8v/4//T/7f/v//T/9//7//n/9v/9/wIAAgACAAQABQAAAAUADQAKAAcABQD9//T/9f/t/+z/6//j/+D/2//W/9f/0f/U/9//2//e/+j/7//z//7/BQAKABEAHQAgABkAIgAoACwAKwAkAC4AKwAdACMAHAATABMAEgASAAYA+//2//b///8FAPz//P8AAPj/8P/y//T/+f/8/wYACQD8/wQACAAEAAAABgAHAAAA+P/w//z/9f/s/+3/5v/m/+P/5f/n/9//5P/p/+X/7v/w//f//f/+/wYACwAMAAwAEgAZAB8AIgAhAB4AGwASAA8AEQAWABAAEgAXAA4A///4//X/6//u/+z/8//9//X/+f/w/+//9P/1//r/+v///wIA///4//7/BAALAA0ADgAOAAwAEAALAAIAAQADAPn/8P/s/+z/5v/b/+L/4P/c/+f/5v/o/+r/6v/x//f/+v8HABIAEQARABgAHAAnACwALwAwAC0ALQArACEAIAAeABcAGgAPAP3//v8AAPX/7f/t/+7/5P/k/+n/7//u/+r/8//x//D/9v/9/wYABAAFAAQABgAJAAgACQAHAAgABwD9//b/+v/y//H/6v/h/+f/5P/f/+P/4v/k/+f/5//w//P/AAABAAAADQANABEAGwApADEALgAuAC0AKwAnAB0AGQAeAB8AEwAKAAgABQAFAPf/6//1//j/8//x//H/7//4//P/6f/w//L/9P/t//f/AgAEAAUABQAJAAgACwAJAAoABQD5//n/9P/x/+v/5f/k/+f/6P/k/9v/1f/e/+D/5v/s//H/9f/2////AgAFAA4AEwAaACMAKAAiACAAHQAkACMAIAAiABwAHAAeABkAFgAPAAYAAgAAAAIA/P/0//L/7v/s//D/+P/2//7/BwAAAP//9//8/wkADwAHAAQAAQD7//3/9////wAA9//+//X/7//r/+f/4v/a/9r/3P/l/+f/6v/t/+7/8v/0//n/AAAJAAsAFQAbABoAIQAgACYAMgAtACsALwAiAB0AHAAWAA8ABAAHAAYAAAD8//n/9P/z//f/6v/n/+L/5P/p/+z/8//o/+//+v/6//3///8IAAMA/f/5//z////8////+f/3//L/8v/z/+//4P/h/+3/6f/m/+T/5f/r/+v/8f/1//z////9////BQAUABwAGAAeACwAMwAtAB8AHQAjACwAKwAZABwAGwAVABIACAADAAIAAAAAAPz/+P/v/+r/7P/r/+r/6//0//D/7f/z//X//f///wcACQAEAAAA+P/7//D/7v/4//X/8//s/+3/6f/o/+f/5v/v/+z/7f/u//L/9v/0//X/9v/9/wEACQAJAAwAGQAZACEAIwAhACYAHgAfACgAJQAlACAAGAASABEADgAGAAcA/f//////8v/1/+7/8v/z//X//v/5//f//P/2//P/+f/6/wAABAD8//X/+P/2/+//9P/3//H/6//u/+3/9P/v/+n/9P/p/+H/6P/o/+P/3P/m/+//8P/3//r/BAALAA8ADgATACAAHwAiACQAHgAgACMAJQAjABwAHwAiABkAFgAPAAUA/P/2//D/6P/r//H/+v/6/+7/6//v/+v/7v/2//v//f/3/wAABQADAAsADQAHAAAABAAFAAQABQAGAAEA+v/z//L/8f/q/+b/6v/p/9//4f/r/+v/5f/n/+r/8P/7//7/AAAMABIAEwAZABwAJAAvAC4AJAAhACYAJAAfABsAFQATABAACwADAAEACAAEAAQAAAD0//T/6f/k/+b/5v/s/+7/9f/4//z/+P/3//r/8//1//f/8f/q/+j/6f/1//X/8P/2//r/8f/o/+z/5//i/+f/6P/m/+j/6//p/+//9P/9////DgAcABUAHQAiACoAMQA3ADoAOQA1ACYAKwAxACoAIwAfABUADgADAPz/9f/t//r//f/2//T/9v/2//X/8v/3//H/7//y/+7/6P/r/+v/4v/b/9v/1P/U/9X/z//K/8n/0P/Q/9H/0//X/9j/3//g/+r/9P/z/wAAAQAIABcAFwAZABMAEQAYABkAFgAbACQAJAAaABoAFQAPABEAEgATAAkAAAD8//j/+//5//T/+P/7/+7/6//u//f/+//9//7//P8HAAoACwANAAsAEQAVAA8AFAARAAIAAAAAAPb/9f/x//T/9P/v//7/BAAFAAIAAgAFAP7///8AAPb/9P/s/+D/0v/M/8n/x//S/+H/6v/2/wkAIQA3AEoAXQBtAHUAdQCKAJAAWgBXAGgAOgAOABEADwDm/8n/4v+8/5f/tv/c/4L/Xv/z/87/a/+f/+v//f+Q/6T/LQDz/8f/wv8EABMAp/+3/9T/1P+3/03/zv/J/47/8P+Q/+v/dgAfAE8ARwB+AMsAPgCAADEAqv+iAFkAb/9q//L/YwC9/5L/FwBLAKgArQA2AGkADAEMAWYAXgCtAHQAKABjAO3/XP/E/0wA0f+M/tX+Xv+iAEgAdf51/9YAigA8AEz/nv85AEQA6wAv/if/mQBYAIkBHAFI/oL/GwCn/g4AGQALALv/EgGNAWn+Hf6P/hz++f9i/un+2AE/AwMF/wERGbjJCQPHGyH0rveQBIQHgQJRCEYDwfSJ8PYLERDfCJHuXAfSE/n5i/KN+c3+XAb5ACn+Q/2oAGUJkQJI+8T5KQTi/0z/5wLM/JQCVAsSBA71QB9co0HAlCoM1HQPZ12mJTuJlUsIMQrIcA2tN2z/hvIYJLgp1dPgzKdFJQLl267+5PWUBFn72xxt5jcDtAw88Xz6EO9YD4v8Yft3DKv6/O/d/kAC4+uVAMETifd884IAixOk+OLtNPyf+70PiO1X+lMTUuuZBMcDYvyV/RAAe/wMBMH95fRqEOj4Tvkm/fcLtv1H+cMJFvI8B9kBUv5gAAn8xAab/Cn76v48CbP4AfiACjn6P/01Bs79bwCs/SUH3gE8+AgDKgCfALgBLfugAgL9ngJ1AeD+WgKv/lUAgAiF9VkN9uZWDD8K+AC/+x3z1hxH9VUANwABAWT7rvzdA8oARwiaBoLyFe9YD8L9IgIxBnf2UQgWATr/UwAVA8D2bPxMCdECxPl/+zwKCgDF+zH5NAkXBHr2/QUf+ygGAv+c8hoIEgRY+4AETAYb88/+vQSU/yUC+QEx/mD8aQGy/AkG+Puc/bcLB/4JBKv71wCd/DABcAEW/UEKJfRPAZkB/wE6BHP6ugNM/g4HGvpc/oQDffhO/1D/ZAKJA6YAz/quAkMD1/w4/igCvvijBYL7DgKj/5MCkvzO/3kC8vk6BJz85gHg+4YGSvhQA18B5/jfBj/8qf9XBNL9ZgIsAB79CgF+/pQBR/95/k8Dz//dABkCM//bA3D8Ov6Q/74C8QAZAif92/8oAgb8BwPJ/KD/nAOfAFv9Dv2lAZkDEwfS8yT7agEIAs4JZPor/pv9EQHF/hYEdP5p/BgEkPT4BUgHFP5n/DP9nQI4ASD4VwVkCFH8zvv6804OOvzp+moJ/PkXAtcCZv/Z/4r+/vWKCocA5/Q8C7gGhfczATH5vQS8BXn9EPzOBU77WABM/nL/mAVNAuz4fwDLA+T/fPmiBCgFMfo7/SQEHPfJA5YHufb+/Qb90gYkBYL8WAS6/XX4jv5OAov+kQ3v+BP9hwW++AP8eAZ2AQb9SgOWBNv8m/sa/x8F+vpdAS0Ey/+r+mIAZwEXBJv8AQDrAE0B+P58/9MAGfz2BAoCx/3G/dUA0gNv+tz+ZAMMALkCcvrKBqP91v4++p4CNf8dAdr/BAC9/0b+MwZP/aD+wQGi/8H+EgLuAWz3dgBdBoD8MAERA6n9sP+t+l0EhQKw/aEA6wHl+xz+gwPaAVT8rQI3Ah//pvvTBFAB8Pl8A7oCg/1W//D/FgQZ/WECPP+D/nP99gMVBF3/4fiDARkCr/7i/pz+0QMY/oL9nAIhA+v8VQCsAHn/kP5uAJoDNPxK/ygD1P8sALf5UwM5A5D8Qf4+BS78SP7FBXL6SP5JAbABdQFl/KQCWgCW/uIBD/xAAwoBWP4z/hcD2gCY/RwBgQBc/t8F0Pot/NIF5gTK+kD9fQVb/yL5nAW0AOf7QwGGA0T8PgD+A/EBb/p//YkB+v+yADACK/4wAzz9Df0YBcf8cf+XAwH+af5LAEEEO/s3/0MBOQC8/RYC1P14AagBKwHa/hH+KgEx/S/8fgaf/+H9aQMm/50Dh/1f/UgBoAES+/QDIQNF/Sn/fQFzAUP8fwHHAlH9f/55BIf/bv4KAAABW/5SAtL67f/oBfb9EAES/ngDdvwXAM3/v/+sA0z88v+AAYwDFPv1+ykDOgDHA6P7egJSAKH9v/4ZASgCsP6g/kv/VwCV/00AqwLZ/7785AIE/tEDXv01/lsBB/++AJf/MQBZArr+h/6WAK8Cf/k+BjMAqv2FAdr/KAFF/+wByv5w+kwDCAQ6/VT/mAFPARAC8/jO/xkGmfwr/JABLgKiAqr7CABNADsA3gFK/csAuwKb/ND/EABHAtP9Xv2YA5IBMv7cAJkBM/8p/B4BIwTD/BD/GwE2AIz90//OAq/+xP6ZA6L9p//x/68BHv5uAQYAFgBVAg/99/8GAVABdP7hAXoBcPtcAl0ARgAMAQ//7P0YAEYB/v8x/+j9wAKp/tABowBo/B0D5QDq/E4BxgEk+iUEhgCg/RcB/gEIALX+3/57AU3+ZP/GATUASv3X/4sCjgBC/cz/YAMj/GL/qgQs/xr99QAEALP/FgIX/qwAgf+8/wABz//2AKb+yALw/DT/iAVE+goBLQIU/1oAhv8CAiT/qf4vAbsBUv7AASD/K/1QANwBu/9ZAQr/Xv+8Al79Lv8aAb3+ogA4/mIA5//+AGT/m/88AToAof+L/w7/CAFLAEP+uAGsAP4AB/w4/wQDTv/z/34AiP7KAnX/TfyfAmIAKf45/2gDkgD9/PUBzf5h/6YB+gBd/ycAXQDTANj+PwCtAUL98QB4AEv/DwDjAPgAlfwmA7r/BgF8/aX+sAI6/yH/Zv4VAkQAa/5BAYf/YQCZ/zUBaP4A/tMDUQBB/LgApAFx/+r/Nv0lA4MA0f4l/0n/vQG0/z4Aav0tAlYA5f3r/0MCBf+T/8UC//7I/t8A9gBF/yD+twL0/WoAAgE6AQf/4P+aAkv+aP+o/hUDof6n/wMAlACEALn/9f3+/wUCAgD2/lIBK/48/s4Ck//1/pcA9P9A/hgCC/4NAS8AnwADAcD9bQAwAMX/Lf47ANkABQGXALD+lv/CAV7+JP8qAFQBwP6D/7QCKv6QAej+h//fACD9nwI5AhH9/QACARb/pwAV/+QBF/+i/yABJv83ACUBgv+1ACL/Q//L/4MANQBTAB//dACKAW7+DP+jASL++wC4AQj9xf+pAkP+qf+1AIH+ggHL//X+PACkAQL/mv6m/7QA/P+q/mkB1/9J//cAbf+gAIcBwf1I//UAwQAp/13/ZAG//zMAcv8N/+wCyP7S/6QBhf9GACn/df+aAMwAAAAc/5QABwDDAFcBVv5a/8EAtwAt/nD/kgHJAHP+dgEHAJf9jwJA/nz/kAC3AAv/NgAWAAsAUADA/+3+CQDAAK7+gABCAGH/4wBMAGL/R/6VAXD/tv+aAAAAE/9rAPMA4//c/tMAQAAR/7gBHf92AHsAaf6jAY//a/9kAH0ATgCT/gICEv8mAcP/uf5pAQP/ygA3AAD+5QFR/5cA/v/J/2YBWP9w/yP/hQFU/3n+1ABOAST+R/90AbL/2/6oAJ4Am/8KAUP+LwARAJT/cABe/psBif/Z/wMBev4CAfT/qQDy/ncAvf9W/+8AIgCN/+8AL/9UAE3/IwC6AAwB1/5/AIIBt/5y/xsB+//m/WcCaQDA/lEBJ/8bAC4Bav5fAXMAOv4sAHgBP/75/5EApwCD//b9PgKL/xr/RAFJ/7T+iAGN/4f+rwCLALH+KgJL/qb/FAHO/tEBqv5V/5n/6P/YAD8AswDd/kr/3wAiAJT/swChADf/0QCD/9b98wERABQANAHE/skASQCH/zoAtQDf/+3/zv8zAPP/LQDs/8AA4//W/rEBWP+J/k4BSgDF/4f+3gB7ADIAeP6wAHcAT//4/8EABwAO/rIC9/78/qr/EQBrAEb/2AHo/YgAxwCN/s8Adv86/9MAKAEI/soAEQF5/0P+BgI8ANL9ywG6/8r/7ACc////UACb/2QAewAA/5wAUgE9/6n+EQIWAKL+HQGc/7//GwEBAGz/f/9TAUn+fQDKAFT/Z/89Adj+n//9AND/mv5IAXD/aAAL/4MAnv+SAIMAof5PAEr/CQEr/3cAff8OAJQA/f7T/+v/DwF1/5AAS/+R/48ASQDVAMH+kAAAALP/pQBw/x8ACgGN/8P/XwDD/0kAqP/+AOf/Sf8kAWz+aAFoAEP/sgCZAB7/wv8QAaX+PQBXANT/+wDP/aoARwAoAO//VP9IAAsAQgB6/0QAef/wAKH/Xf+n/1QAfwBT/7H/agB3AKT/wv65AFUAxv7ZANz+PQAgAUX/qf8pADkB+f79/oQByf8+ABX/ZwCIAar+SwCX/0kAIQFQ/7wAfgDC/qEASAFZ/zP/3AB6/2UA9f/3//P/rP8oAAQA8f9F/wIBc/+D/4sAUgB2/zH/XwA8AVr/hgAo//L/wgCN/1gAzv9S/0EAy/+2/yQACv9BADoAHACY/xMA8/9CAP3/ggCs/g4B9QDa/osAggDZ/x7/YgAuALYAGf+K/6IBUP88AD4AYv+S/wUBoP+sAKT/FwDRAGT/EwATAKQA+v+H/7b/jQDF/yL/iADB/wAAt//DAJz+WQCsAFf/kQA5AIT/BgAxAKv/pP+hAE3/iv9pAJn/8P9j/2UAy//i/0IA7v54AdD/xv/h/9f/OwAAAJsA1f9iAGoAqv9WALX/jf9+AAAAOQC9/3AANABz/94AwP+p/8sA0//V/5cAsAC6/4P/0gANACT/PwD5/73/uv99APX+CwAjALD/PwDp/+j/SP/RAKP/Z/8EAV3/RgDBAOf+XwAfAAr//f9gAID/Rf+OAI8AU/9NAAAA/f/7//v/lwCk/3T/OAHp/2z/7gCz/x8A5v/L/w8AGgBLALn/sP9nAEcA8/8AAMz/qwCt/30A7P/R/xcBrP80AJ//YwA5AF7//f+O/73/IgAKAHX/mP9qAJb/SAC/AKj/4v8XABsAz/9OAFIAJ/9FAMH/XwDl/9X+dwANADT/eABZ/1MA6/+r/+UAbP/8/0sAyf8TAVT/m/96AeX/+P/9/woAyv9zAPn/AQD7/3f/cgDu/0sA4/+ZAFT/LwD+AD3/SQDn/5IA7P/d/9n/2P/r/xcAwP+a/14AQv9e/64AogAY/47/CwEm/93/mgB6/8H/sQCo/2kA6//O/5b/cQB3/24A6f6v/8sA7/+5//7/SACC/zEAkQDT/08AMwCi/wwAeQEg/0EAVQCl/3AAOACF/+j/RQCB/2oAnAA6//n/VgCd/54AGQBs/7MAAADc/10AFQDb/xgAp/8TAPn/vf+R/6b/MADE/1X/8f+xACj/bQAZAEcA2/+R/xUBQf+BADgATv8BAfv+/f8YAJP/9P8kAGX/8P+hAKD/vv8iADMADwA4AGwA2f9cAIYAo/9PAMUAKf9UAG0ANv+PAIv/IgDB/7f/UgAOAAAAkQCV/+r/bgAkANP/IABuAOj/6v9SAJH/CwCr/1T/iwBD/23/WwD5/9H/AQDy/+P//v9XAPf/4v8ZABMAMwDi/1cAKQCo/13/gwCX/1n/SgDD/1sAc//2/4QAHAAoAHT/2gDI/xAATgBmAPn/MQBAAPn/MQDc/ysAsv+1/0IABADI/+r/YQDI/zEAOwDe//T/fwCn/xIANwDu/9z/TgB3/+z/KwB3//3/z//j/8b/DAD4/xcA5/85AMf/2/93AMD/VwDb/xUA1f89ANj/3v8bAHb/EgADAN7/yP8KAK3/XQAjALv/AwB3AP3/PgA1AAoAlwAq/90AWABm/z0AKwDx/9X/EgAdAM7/qP+uAIH/LADt/xcA5//H/6EAwv/K/00A1/9IACEAXP8TABMAov9VAHf/1P/9/6v/4/8AALn///8pAEcAsv8kADsA7f8OABQA9f8eAEoAoP8OAG0Ayf+x/8r//P8fABUAtP8AADcA4f9gAEgA0v8OAEIAWAAmADkASQATADMAIADv/wUAu//c/8//IADq/9P/EgD0//P/wv///1MA+f+V/+7/dwAfAJf/CgAOAPX/qf8tAID/wf8KAPH/9P9z/1wAEACG/14A9v+k/1cASACP/2AAWQCt/xEAIAC1/9n/CQDd//L/9P/i/0wAKQCF/4cA//8qAPT/UgAuADIAGgBrAOv/DwA4AOj/9v8jAOL/1/8WAAsAsP9AAK//6P8EAMf/DQDV//b/UAAMAAIAuf9rAAAAq/8NAP//vv/e/xgAyf/1/woAr/85ANf/y/8aAMv/EQCFAJb//f+VAPj/c/+VAPj/nv8AAPf/5v/6/zsAyv/+/+//QwAYAPn/IgAyAC8AMQBhABQAXQAVAOf/XgARAM7/4P9FALb/1P/w/+7/8P9y//H/OACj//7/AgD7/+P/HQAWABoAxf8NAGQAov8gAPb/1/8HAOv/5f+t/yUAFwBi/2oAsv8mACcAxv8nAOH/TgDB////DwACAP///P8AAKn/EAA4AMP/0v9OAPn/QAAXADcARgA5ACsAIwBKAEkALgAuADIAPQAEAPj/+P/l/+D/1//A//T/7f+f/xkA1//d//z/0/8YAAgACgDK/wQAQQCi/ywA9/+W/+P/MgCe/+D/EQDP/xMAyv8KAOP/BAAEANn/RADQ/9T/bwD6/+H/BAAdAPX/CQAaAIr/PgAWAO3/CABaAOf/VABpAB0ARABTAEsAOQAWAFkAPQD2/xQALQCm/x8Avv/L/7X/3P/U/6P/3v+6/yoAuP+w/00AyP/r/wcAEAARAPL/DQDk/0QAz//y/9H/4P8CANb/sv8zAO7/yv8QADoArP8nADUA1P82AAgACwA3ACYADwD+/xgA9f8aAOf/MgD6/1IA8P8JAIIANQAAACMAhwAIADwAJwAtAPb/WgDj/9T/DQDw/7H/y//O/8P/2P/A/6H/1P/5/8v/8P/b//n/LgD0/w8ADwD8/wsAFgDv/+z/EQDE/xEAyP/P/9X/wv+y/xQA9/+r/wwAAAADAAUABwAIAA0ACwApAAQADgBSABcADwD+/wkAYQDt/w8AQwA+ABgAIwA6ADsACQBGAC8A+/86ABsAAwDW/wgA5v+2//r/wf+x/8L/5P+y/9z/tv8FAMP/EwANAAUA/v9XAPr/GQATAAEA/v8rAOb/+v/X/wQA+v+i/+j/4f/X/+3/4/8IAO7/HAD8/ygAFAAcADkAzP85AE8AEQDx/zsANgDO/04A+f/i/0sA4f81ABgAEAAnABkA9f9BAPP/EwDx/7T/HADn/+P/lv/u/+3/ov++/9z/zP/I//D/y//6/xAADQDp/yQAKQAmAEgADADx/4UA6f/s/yIA5//n/wcAxv/Z/yIArP/3/+P/7f8CAPr/GAAGAPr/EQA1ABoABgA+ACwAHgA3ADAA+P8dADQAQADa/zQAFwAfAC4A7v8kAAQALQAHANv/+/////r/2//b/93/xv/a/73/tf/U/93/6f/N/wAA5f8TACMAGgD7/yQATAAvAOz/OwD6/wAAJAD4/7n/2//k/9X/2v+X/+n/wf/y//7/9//t/xsAMQAHADEAKAAWAFsAEgA+AAwAKgAqAAMA/f8eACIA8v8JAPT/7/8EABIA0P/0/wYA6f/5/+T/7f8EAMn/+v/z/7P/AgDM//j/3v/X////CwAGAPH/OgAJAB4AWgAXABkAJwBZAAQA9f8mAO3/GQD4/9P/0//y/+H/2v/s/8H/4f8AAPX//P/3/xgA9f8sACYAHgAcABkASwAYABYASgAPAAcAFQAYAPP/MADu/+v/EQDc//L/7//d/+L/2f/y/9n/zP/0/+7/4v/G/+T/CgDD/w0ADADv/wQAMQAHAB8AHwAXADUA5f8kACAAAAAXAPf/5f/p/wgA3//Y/9T/1P/6/9X/4P/8/9//AQAVAAEAHAATAC4ACgBIACgAIQA3ADkAJgAWADMAHAAWACEA/v8IAPL/BgDe/+T/+f/M//P/wv/G/+r/wv/m/8D/0f8AANn/3P/4/9v/3/8eAPL/+/8dAAAACgAfADgAIAAHAD8ADgAXACIADgDy/wYADgDb//P/7P/l/9P/6//0/7H/9f8UANX/7/9AABIACwBPAE4AGgBNAGEAJQAnAE4AJgANAAoAGAD3/93/CADh/9H/5//a/9j/zf/N/9v/zP/f/wAA5f/e/w0A7f/s//f/8P8AAAMABwD///3/GgDs/wcAFQAAACcAFgAxAAoAKAAuAAcADwAaAPL/2v/w//v/wv/J/+X/3//R/9v/6//r////DgAEAA8AOgAiAA0ALwAyAD0AHwA2ADoA9f8zABQA7/8QAPr////i/+//EADh/+D/DwDo/9D/BwDg/8n/CAD1//P/7//u/xEA2//8/xcA+/8GACAAAgANAC0A9v8qABUAMgD6/wAAKgAAAO3/DADh/+P/4f/Y/+T/+f/F/+P/4v+9//z/8P/e/wAACQAWAAwAEAAsABMAOAAxABkAIABKABcAFwAVACoADwD1/wgA/f/7////2//7/9L/4P/j/9H/0v/4/9//7v/6/97/DgDw//v/FwDs/x4ABwD6/yEA6f8RAAkA9f8MAO3/AgAOAPr//P8QAPH/CwDl/wUABgDY//T/GQDM/+P/9P/v/+//FwDf//7/KQD4/yUAEgAjACUANQAuAC0ANwAwABQAPAAJAPT/BQAAAN7/5v/w/9r/4//S/8//3P/K/+D/CADU/+P/BQACAA8ACAD4/xEAAAAHAAgABQATAPz/HgAZAAUAFgD+//3/GwAMAPT/EQD+//D//v/w/+D/+v/m/+//2v/h//f/5P/r//P/AAAGAAoABgAhAA8AOwAoAAgALwAtAC8AMAAKACkADQAQAAAA9P/c/wUA2P/n/9n/5P/U/+H/9f/4/+b/AAAAAP7//P8KAA4AGwD8/xAAKQD9//3/FwD8/wcA+v///+3/7P8JAPT/BAAOAPr//v8IAOr/DQDx/+z/BQDi//X/AwDi//X/AgD4//X//P8EAO//JQAhAAkAHgAdABgAHAAhABMAAgD+/yQA5v8NAAoA+P/l//z//P/m/9b/9//X//3/BgDx//f/6/8DABsA/f/9/wkACgAPAAEAAAAAAPz/AQDz/w4AAwDq/ygAAwD2/wkADQATAOT/FgD8//P//v/j/+3/+//f//r/4//9//L/AAD6/+z/CQAJAAgAIQASABMAHAApABMAHQAXAAQADgAWAP7/AQAHAOb//P/f//T/7P/N//L/7v/u/+n//P/w/wMA8P8PAP7/9f8VAPX////7/wYABgD7/wcADQDz/wEA+/8KAAMACQD8//P/BQD9/xoA9P/6/wgABgD7/+j///////n/CwD+//f/DwD3/wYAEQAEABkAGAAOABUAGgAPABgAEwAKABoACgD3/wUA/v/w//X/7//X//n/AwDr//b/9v/+//r/8/8TAAAA+P8JAAQA8f/2//z//P/l/wQA8f/f//7/5v/X/woA7P8CAAQAHAAAAAAAHQD6/xgA//8MAP7/9/8IAP//8//1//z/8//5//D/+/8AAAQAFAD1/yYAFwAfABsAFwAYAAYAAwAiAPj/+v8XAO7/8P/w/+z/6v/w//f/AQD8/wEACwDx/w4AFwAUAAcAGQAhAAEAEgDt/w0A6/8DAP3/7f/u/9n/AADR//7/7P/y/wAA8v8NAPr/+v8GACIA8P8BABwAAwD0/x0A/f8HABMAAgACAAEABQD+/wUADQD5/wsAFAALAOz/DQAbAAIAAAAVAA8A7P8AAO3/+v/b//H/+P/Y/wMA+//3//n/9/8KABcA//8WAAIADQAcAAIACAACAAAA+v/y/wsA9v/2//X/7//g/+3/5v8AAPv/BwAeAAMACgAYABkABgAlABYACgAMAA8A/P/z//D/8/8AAPP/8f///wMAAQAGAAEA//8LAAcA+/8GAAUAAgD7//f/AADw/+///v/v//7/+P/7//r//P/1/wYA/f/z/wkABAD6//z//f/2/wQA7v/t//n/7v/0/+//7//y//3/AQD3//3/+f8RAAgABwAZABQACQALAA4ABwAIAAUA/P8GAPf/8/8AAPD/6f/2/wkABgD+/wcADAANAAcADwAOABEAKAAPABQACQAIABgA+//9/wAA6//u//L/4f/k//r/9//0/wEADgAOAAgAAQAHAA4ABAD//wwAAQAPAAAA9/8CAPj/8//w//T/7v/3/wQAAQD2//j/EAALAAcAFAAYAA8AGAASAA4AEAAMAAoA8v8BAPD//v/1/+v/AQD9/wYABgABAA8ADAAQAA8A/v8CABIA///q/wYABAD1//f/5P/0/+7/7v/6//D/BQD4/w8ABgD7/x8ABQAFAA4AAQARAAgA/v/9/+z/7f/j/9f/8v/4/97//P/0/+n/+f8KAP3/+v8fABQADAARABEAEAAFAAAADQD7//X/AAD9//b/7f/5//r/9v8AAAAABgACAAcABAAPAP7/BAAKABEABAD9/wUA/P/6/wEA///5//n/8v8CAPX/7//2//r/AQAAAAAAAQAOAAsAAQAIAP//AQACAPz/BAAHAP//AAD///3/+f8BAA8ABgAMABgAFgANAAoAFAAVAPj/DwAIAPv/CgD7//7/AAD7/wYA8P/0//n/8f8AAAAA+P8OAAgABwAOABgACQAQAA0AAQD+//P/7f/2/+n/6//7//H/4P/x//j/6//7/wIACAARAAUADwAOABAADgAEAAgAAAAEAAIA///7//X/8v/5//X/AAD2/wAADAADAAoA+v8IABoADgASABIACAAAAA0AAAD+/wkA/v/u/+b/6P/0//L/6P8BAP3//P8BAAUAAAAEAAYACQAHAP3/AgD6//b/9f/r//X/9//0//j//P/2//7/9P8AABAACQAFAAIABQAFAAAACwAIABEADwABAA8ABgD0/wIA9P/v/wEABAARAA8ADAAfABoAAwAUAAIAAAAAAP3/+P/4//j/7P/w//L/8v/v//H/7//x//n/8/8AAAUABgAFAAUAAAD8/wEAAwADAPb/AgAAAAMA+P/5/wsA///+//7/AgABAP//CgAJABMADAAZAB0ADwD+/w8AAAD8//3//P/5//T/8//1//X/8/8EAAAACAARAAcADwAJAP//BgAAAPH/+v///wEA/f/9/wEA6v/1//f/8P/5//r/BAABAPz/AAAEAPb/+v8FAAkADQAMAB4ADAAAAAcA/f8AAP3/AAAAAPP//v/+//r//f8CABYABwAHABEACgABAP//AAAHAPr//v8LAP7//v/6//X/7f/l//r//P/w/wMAFAAGAAAACQATABEABwASAAkA/f8GAP3/9f/4/+///P/5/+v/6//u//L/+P/7/////v8EABYACQAIABwAFwAKABIACQAKAPX/+P8BAO//7v/1//v/+P/0/wQACQAAAAUABwAQAAQA9P8CAAQA+//5/w4ABwD9//z/AAD7//L/9f/w/+7/5P/z//3//f8HAAEACwATABAAFAANABEAGAD9//X/+P/y//b/3v/0//7/8f/8/wQADQALAAQACwAJAAwAEAAPABEABQALAAgA/v/7//r/+P/7/wEA+//+/wIAAQD9//r//v8FAAAAAAAHAA0A+v8AAAcA+f/w//z/9v/2//f/AgAFAPT/+v8BAAQA+f/5/xUAAgD6/wYAEAARAAcA/v/+/wkA///8//v/+/8IAAQA/f/+//r/BgADAAcACAD9/wEAAAABAAkA/f8IAAIA+f8AAP7/9P/4//X/AAD7//z/AAAAAAsA+P/7/wUA+//+/wMABAAFAAEA9v8AAO7/6v/5//n/BADz////CwAFAAsA+v/7/wMA+v/5//z/9//+/wEAAwACAPj///8BAAUABgACABAAFAAHAAEACQD6//P/8//9//z/6v/9//7/9/8AAAQADQANAAEACgAGAAsAAQD+/w4ABAADAP///f8HAPn/5//n/+//9P//////FAATAAgABgAFAAwAAgAAAAwA///1//z/9/////j/9P8IAP7/9f/8/wMA/v/3/wAABAAKAAYABgATABQACgAKAAwADAAEAP3/+f/x//D/8P/x/+z/6//l//D/BwANABgADAANABAAAwAMAAoABwAFAPr/AAACAPv/9v/0//D/8v/z/wUABAAJAA8ADAANAAMAAAD8//3/CwANAAUAAQD5//v//v/u//z/+P/3/////P8AAAMABwAOAAIACQASAAcAAgD+/wUAAADs//L/8P/v/+//8//8//X//P/9/wAABAAKAAUABgAIABAAFwAQAAQAAQAGAP3//f/8/wYA/f/u//r/+v/1//f//v8BAPr/+v8DAAcACgARAAQACwAJAAUACgAAAPT/9P/s/+7/9f8CAPf/+v8CAP//AwADAAAACgAOABEAFwAMABYADQAFAP//8//z//X/8f/1//X/8//v/+z/9v8AAPf/AgAFAAMABwAPAAYACQAHAAcABAACAA4ACAD7//H/6f/p/+//+//4/wMACAANAAcA//8GAAIAAQAFAAsACwAHAAQACQAHAPf/9v8AAP//AAD7//X/8f/y//H//v8DAAEA/P/+/wQABQAKAAEABQAEAAUACQAGAAkACQD8//z/9P/1//v/7v/+//3//v/5//P/BQD+/wQABQAJAA4ABgAMABEADwAEAAAA/P8DAPT/8//3//H/9//6/wAA9//9/woACAADAAcABAD//wkACwACAAYAAQD8/wUADgAEAPX/+P8AAPH/8v/+//r/BgAFAAMABwAKABMACgAAAAcABAAAAP3/9f/+//v/+f/4//r/AAD6/////v/1//3//v8JABgAEAAEAPX/9/8FAP3/AQD8//T//f8CAAAA/P/+//j///8JAAIAAgAIAA4ABQD9////9f/w//P/8f/u//v/+f/5/wAA/P/+/wcABwACAAAADQAOAAoAAAAFAAQACwAPAAEA9P/4//3/8v/5//3/+P/1//j//v8CAPr/+P8AABEAEgAKAAsAEQAKAAoACwAAAPv//P/9/wQA9//y//P/7//4//D/8//5/wQACQAMABAADgAKAAgAAwAFAAkAAwAHAAQAAwAAAPf/8//z/+r/9P/1//n/9//3/wMABgAIABAADgALAAkABgAQABAABAADAAgABAD+//L/7f/y//P/8P/y//b////8//z/BwAMAAoACwAMABAADAAKAAMA+//9//7/+v/0/+//8//y//j/9//2//v/+f/5//z/AAAGAA8AEAALAAIABQAKAP7//f/9//3//P/4//v/+P/2//b/9//5//T/+v8BAAYACgAFAPz/+v/8//n//f///wUAAAD7/wEAAwAHAAQAAQAMABAADQAMAAoACAAEAAUAAwAAAAMABgAJAAUAAQD//wAA9v/1//7/AgAEAPr/9/8CAAEA/P/3//3///8CAAQABQAFAAAAAwAEAAwABgD9//7/9//1//v/9P/1//b//f8AAAAAAAD2////EgAQAAsADQALAAkABgAAAPv/9v/y//j//f8AAP3/+f/4//r//v8IAAAA+/8AAAoADwAJAAgAAAADAAwAAwD6/wAABAAIAAIA///z//T//f/8/wAA+//8////AQAKAAgAAwAAAP//BAACAPv//P/8//b/9//2//r/9f/6/wAA/v/8//3/BAABAAAABAAJAP7/+f/9/wMAAQADAAEAAQD9//7/BAD///v//v8BAAEA+/8FAAAA/v8BAP3/+v/9/wAA///+/wAAAAAFAAwAAwD//////v8FAAcAAgAAAAcACgD///b//f8AAP3/AQAIAAYA+//8/wIA/f8AAAUABAADAAkADAALAAUA//8AAAgAAQD//wAA/f/+/wMAAgAHAAoA/v/4//f/AQD///v/AgADAAkABQD2//H/8//3//j/9P/1//f/AQALAAYA///+//f/AAACAAMAAAAAAAIAAAABAAkA///5/wYACwAEAAEA/v8EAAoAAwD9//f//P/4//P/+P/2//r//v/8/wMA///6//v//v8BAAYADAAFAP3/+v/9//v//f///wEACQAHAP7/9//3//v/AAAFAAoAAwD5/wAACAAHAPz/AAANAA0ABwACAAMAAAAAAP7//v8AAP7/BAAAAPv//f8AAAAAAAD+/////v8AAAYACgALAA0ACwD+//b/9//9//n//f8BAPv//P8BAPr/9//5/wAABwAFAAYACgANAAYABgAGAAAA//8CAAMA/P/3//j/+P/2//j/BQAEAPv/+v/2//X//f/+/wIABgAJAAoAAgD7//f//v/6//3/BQAIAAsADQADAPz//f//////AAD8//3/BAAAAPj/+P8AAAAAAQAAAAEAAwD//wQACQACAPf/+f////b/8f/6//n/AQAIAAIAAAAAAPr/AAAHAAQAAgAHAAoAAAAAAPz/+////wAACAANAAcAAQADAAkACwALAAUAAQABAAIA+/8AAAQAAwALAA8ACQAFAAIA+v/2//n////6//b/AgAAAPf/8//1//j/9P/+/wsABgAAAAEA+f/w/+//+//8/+//8//+//z/+v8BAAUAAQAJABQADwD//wIACwAKAAgABQAFAAEA/f/+//j/8v/3/wEABwAEAAIA/v/6//j///8MABIADwAKAAUAAAABAPv/8//6//7/BQAIAP//8//1//3/BgAHAAMACAAEAAAA/P/+/wAA+/8CAAcA/v/0/+//8P/v//L/AAAIAAYAAgD7//n//f/3//f/AAAMABYAEQAIAAMA/f/9/wIABQAGAAYACwALAAIAAAD7//j//f/+//b/+P8AAAMAAgAEAAgAAAD//wMAAAAAAAEAAwADAAAA/v////r/7//r//7/CgACAAAA/f/5//7///8BAAAABAARAA0AAgD6/wEA///+/wUACQAEAAAAAAD9//v///8AAP7/AQAIAAAA+P/6//v/+//8/wAABAD//wAAAAD6//b/+f8BAP//AAABAPz/+f////7//f8EAAUACAAHAAEAAgAFAAoACgAKAAIA+v/2/wAABgAAAP7/CAANAAcABgAIAP//+P8DAAsABwACAAQABQD8/wAAAAD4//z/AwADAP3/+//+////+//7/wQA+//2/wAA+v/6/wAABAAFAAAAAAD6/+z/9//7//3//f8AAAEA+f/6//3//f8DAAEAAwAKAAkABQABAAEA/f///////v////z/AAADAP///v///wAAAQACAAUABwAGAAcAAgABAAIAAgAEAAAAAAAEAAIABQADAPr/+v/6//7/AAD8/wMADAAFAAEA//8AAAEAAAD+//3/AAAKABIACwD//wAA///5//T/7//w/+///f8MAAsAAAD6////AwABAAIA+v/2//z/AAD+//f/+f/0//3/////////+P8AAAEAAgAEAAMAAgAEAAYABAAAAAIABAAHAAkACAAFAAIAAAAFAAAAAAD9//n/AAABAPz//P8AAP////8AAAAA+f/0//7/AwAEAAEABQACAPz/AwD///n/AAAGAAgAAwAGAA0ABQD//wYABgADAAEA///7//v/AQAJAP3/9//8/wAA///3//r/+f/7/wUABQD6//j///8BAAAAAgADAP///P/6//P/9v/4//3/AgAFAAIAAAAFAAAABAAKAAUAAAABAAsACwADAAUAAgADAA8AEQADAP7//v8GAAgAAwAEAPn/9f/+/wAA/v/+////AwAEAAAAAwACAPv/+/8AAAYAAgAAAPv/9v/2/wAA+v/4/wAA/v////7/AAADAAAABAACAAEAAQD7//v/AgAEAAAA+P/8//3/AAADAAAA//8AAAQABAAEAAIA/v/9//f//P8CAAAA/f/2////AAD8////AgD9//3/AwACAPT/8//8/wAAAQADAAQAAgACAAkADAAHAAEAAQAFAAYACQAKAAYABAABAAMAAgD4//3/BQABAPz/+v/5//j/+f8AAPv/+v8BAAMAAQAAAAIAAAD9/wEAAQAAAAQA//8EAAgABwAJAAgABQALAAgABAAGAAIA///8//7/AQD8//n/+v/4//3//P/5/////P/8/wAA+//9//7/AAAFAAYA/v/4//b//P8BAAAAAAD+//3/AwAEAP//AQABAAAABQADAAQABgAGAAMABgACAP//AQD///v/9/8AAAEA+f/2/+//9v8AAAIAAAD8//7//f/8//3//f/8/wQACAAGAAQAAQAFAAUAAgACAPj/+v/+/wIABgAKAA0ADAAIAAsADQALAAUAAgAJABAADAADAAkAAgD//wMABgAAAAAABwAHAAIAAgD+//X///8HAAIAAAD7//X/+P/6//r/9f/1//j//f/9//r/9f/3//v//P8AAAAAAAAEAAUA///7//7/AAD+/wQADAAEAAEAAAD//////f/9//3///8AAAIA+v/5//z/+v/7//7//f/+////AAD9//3//f/6/wAAAAD1//b/9f/3/////v/+//7/AQABAAAABAAGAAEACAARAA0ADAAPAAYA/P8AAAYABwAFAAQABwAEAAQAAQD//wAACAAQAA0ABwAHAAcAAgAFAAMAAQAAAPr/AgAGAAAA///9//r/AAACAPn/8//5//z//f/2//z/+v/4/wMAAwADAAkAAQAAAAEABAABAPj//v8AAAMABAAAAAAAAgADAAIABAAFAAAA/v8AAAAA/f/6/wAA+//0//v/+//1//P/+//+////AQD///z/BQAKAAQA/f////3/AAAEAPz/+P/9//z/+f/7//v/+//8//7//f/2//f//P/8/wEABwAKAA4ABwAGAAYABAABAPr//f8DAAgA///9//j/9////wAAAwAJAAMAAgAGAAgACAAAAAEAAQAEAAcAAAAAAAEAAAABAAAAAQAAAP3/AwAGAAMAAAD8//7/AQAHAAQA/v/+/wQAAAAAAAMAAAACAAUAAAD+//z/AAD9//z//f/2//X/9v///wEAAQADAAAAAAAFAAYADQAMAAQAAQAAAAAA/P/7/wAAAgAGAAQAAQAFAAEAAAAAAP7/+//7//n/9v/+/wAA/f/7/wIAAwD9/wAA/P/4//T/+f/6//L/+f8AAAAAAgADAAQACwARAAwAAgACAAAA/v/7//3////9/wEAAgD8//v//v8BAP7/AQAIAAMABwAFAP7/AAABAP7/AAABAP7////9//v//f8BAAMABQD+/wEABwAFAAAA//8AAAEAAAD//wYABAD+//7//f/7//7//P/8/wIAAQAAAPz//P8DAAAAAAD9//v/AAAAAP//+//1//z/AQD9//3//////wAAAQAAAAQABwD+/wIABwAJAAEA+P/4//z//v8AAAEABAAHAAYAAwD//wAA/f///wEAAQD+//7///8AAP////8HAAMACwAOAAEACQAKAAsADAAGAP3/+f/5//v/9f/5////AAD+//v/AAADAAEAAwAFAAMABQANAAsABgAFAAgADAAKAAIA/f///wEA+f/x//b/9v/5////AgAGAA0ABwD6//j/+f/9//z//v/6//j/+v/3//j//f8EAAgACgABAAYAAAABAAYAAAD9//v/+//8//3/AAABAAcABgD+//3//f///wAAAQD+/////v/7//3///8AAAAA///+/wEA/f/6//v/+f/9//7//f8CAAMABgAGAAMABQAIAAQAAQACAP7/+v/+//z/+f8AAAcAAwABAAEAAgACAP3/AAADAAIABAD///7/AQAIAAYACAAGAAQAAwD8/wAAAAD//wEAAgAEAAEA//8BAP3/+f/8//3/AAD//wAAAwAAAPz/+//8/wAABgD8/wEABgAAAP//+v/7/wcAEgAIAAMA+//5////+//6//3/AAADAAEA/v/+//z//v/+/wQABAAAAAEABAD+//r/+v/6//3/AAACAAQAAAAAAAMACQAQAA0AAAD9//7/9//5//r/+v8AAAAA/P///wEAAAAAAAEAAAD+//n/+f////z/+v/7/wQADQATAAQAAwALAAAA+/8AAAQABQALAAcAAgD7//3/BAAFAAEA///9//f/+f/2//v/AQAEAAAA/v8DAAQAAAD5//z/BgABAPn/+f/8/wQAAgD8//v/AQADAAQA///6//z//P///wIAAgACAAIAAQD8//z/+v/6/wIAAgAAAPf/9v/6//f/+v/9/wAAAQAEAAcABgAIAAkAAwAAAAMA///9////AgAJAAkACAAEAAgAAgABAAAA+//3//r///8JAAkABQAIAAIAAwAAAPv/+//+/wAAAAAAAP7/+/8CAAgAAgAIABEACQADAAIAAgABAAAA///9//r//v8DAP3//P/+//j/9v///wEABAD///n/AAAAAPz/9f/6////AwAEAP7////8/wEAAAABAAAA/f/8/////v/4//3//P/6/////v/+//3/AAAEAAAA/P/9//v//f8AAPz//v8HAAoADAAQAAwABgAAAAAA/v/7////AAABAAgABQABAP//BAAEAAAA/v8AAAAA/v8DAAAA/v8DAP///f/4//n/BAAJAAoABgD//wAAAgAEAAAA/P/2//3/AgD+//z//P/8//3/AAD8//z/AAD8//3//P/8/wIAAwAGAAoABQAEAP7//f/8//r/AAD8//v//v///wIAAwAAAAAAAAAFAAQACAAJAAYAAwADAAIA+//+/wAAAAD+/wEAAwD//wMABgADAAYAAwAFAAAA/f/+///////6//v////8//7//f8AAPz/+v8CAAAA/P/0//T//P/6/wEAAAD9////BgAMAAoAAAABAAMA/f8CAAQA//8FAAgABAAAAPr/AwAIAP//AQAFAAgA/v/7////+P/6//j/9v/6/wEABgAFAAAAAAD///3/AQAEAPr/+v/8//f/AAD8//r///8IAA8ACQAKAAoA///8//r/9v/4//7//f///wAA///9//3/BQACAAAAAwD+/wMACAAFAAgABAADAAEA/f8AAAIAAgABAAEACgAHAAIA/P/5//X/+v8AAAAAAgAFAAMAAQAHAAwABAD5//n/+//5//T/9//9/wEABgAFAP//+/8CAAUABwAJAAYAAwD1//b/AAAEAAYAAgD9/wEAAwD9//7///8AAAIABwAAAPv//P/+/wAA/v/7//r//P8BAAEA+//6//z//P/3//b/AAAKAAEA/f///wMABwADAAAA/v/+/wQABwAEAAIA///+/wAA+//5//v/+/8AAAAAAAAGAAoACQAGAAEA///5//r/AAACAAMA///7//z/AQAAAPf///8BAAIAAAD9/////v/8/wAAAgABAAMABgADAAMAAAACAAYABwADAAEABgABAAAABgABAP3//v8CAAMAAQD5////AgAEAAUA+//6//r/+P/4//z/AQAGAAMABQABAAIA//8AAAQAAwAAAPr/9f/4//7//P/9/wAAAAAGAAIABQACAPz////+//X/8//6/wAA//8AAAAA//8BAAEABgAJAAYAAgAAAAAAAAD9//n/+v//////+f/8//3//f8AAAYACAAGAAUAAwAAAP//AAAAAP3//P/5//3/AwD8////AAD9/wIABgACAPr/6v/w/+b/3P/X//H/FgACAAoAGQBHAA0Aov9A/0H/if/u/5UA/QADAUQA5//J/wMAtv+L/wMAlgASAcsALQHFAH8A0//b/6b/vv9sALAAqgBOAJYAXwAhADUAnf8b/xv/PQBmADgAmQDbAFkArP+E/2//9/5L/0v/TP9W/6z/KQBS/x//i/46//L+KP+p/+r/JgABABEBawDh/4n/1QBvAUUBoQBEAN4AYQHyAPX/GADI/5P/Fv+5/8v/2v8r/w//7P6X/t7/hACKAMT/MAFpAPr/cwAlAIH/kf9J/5L+JADOAF0BSwEwAV3/s/6J/9AACADd/ov+o/6d/3H+ZAGvAZcHLgbn/bcLe/iGC8nkI+iuF1HYqQWy8nT8PgBj/d8amPc9Gpw0BO55AUbc9e4y59HKrSXE2YrJ3RIY/U8sbwIAH37mjx8pGhSiQT2RRMXwLEuEQgdC8umKqrKul4WWjGDfAdL6zZ4w7lqsJkgcKVA7TwYyixZK/IvhjeVA06bVY92Z6V77uvHEF+gr8CxgTZ5NJiCjEksZHya404vrnfXXyXj1b91a41DYh9kv7eLkEPzlAOIEahEXA0QYFRl/E7wvzB2SHM0LTgZYDgbxifcV7M7saOYx6hzkfOOf7xH7mv9ZBg8NCxEMDUsKcwb9B8ILqfydD0gDvPHx/VTtY+dP54TfZPMV+MkIMQhXDQwKExMLDFkHaQXGD+Ht5w9i9zfzr/GI8MkIfOokBG4CTPkYChkH//6OC0UPXBA9ECb62QWo/akG9/6fBoYAhvmeCuTtVe7d643k1ATH9oXwfhZHFgP8HPLC/mPutPCR6KvpovOf/Sn08/4MDR0K1SFpES8Y1xVTENINnf4K97v+Z/kp6C/9E//B9Y0EBgzEDOMBnAwjCiL92PcV/eoKUAq2DGEWERImBML7vgCY+fPn0eOI6pTmHeHI6aXxIfqFBagVSSMIJ7EcWRSzDvH96uy/6t/u6u1X8EIBX/o9/DX6pflu/e74ggU+BB8P3RBBDHwSjQ5IBZwI8wF0+yf5F/Y49Enz2fjk9xD9cQJ7ApAErQm2BSIGjAwpAf4HCwIo/Uj5rfIM+x7x3P5c+TQB7ww5CCYLKAVWB4IAnf/g9erwoPsU+inzJPJT9jz26PdeB1QHjAmrCAMFkwe39nX64P0NBK/1Q/47Cm79j/rZAKAJ7Pzi91YE3Q0WBbwLpg8NFEII5AOgDWD77vviCrf7ZPJ574HyzPU68pP2swmNCLgBdgvaB0kCQwCZBO7/wQEhA/H2hfkN99n9uv0o9WoIaxAVG3gQBxWqF1L/NvcE/kPxw/P9+XbvOfoW8fzmCfCn5QbyFwWV95sBZA1wEfAOOArMD38FAQitCkX/kgygCbwITAfXAEfzo/Mq8WfzJgOD+jQFWQNy/7QB5/pF+e77Xv3K+w77yfaD+e0C7wPwAk0GQwlSBUIGuf7EAt4GmwhjB48BFAcv/cbxFPSX87j3Xv5cAz8HeQhRCSYCoPhH+K/1vfg0+ZP8Lf5v/w0BJATxCPgLRw6lC9AJsgLx/tP7pvyX/c72wPo5+cr6M/xG/q8BgwRoBVoEoAeZ/g8EEwOG/x0A9vha+4j2bv1G/jP9QwNXAFz/fQEy/5UAUwOKAKgIJAThA78HlQKQ/5H3h/3D+fLy4PhM/FX+2vzLAP0GzQBuBUUFxAOoA/oIuv66AawBAf4s+GL8f/f789T7U/5tA6/8vQXOBYcCx/9LAyP//wS9BdcHRAkn/m/8fvnl+cX30gCqAO/54wBkBWz/0foO/MIC2fxO/iUNxgYUA2oDkf9c/ZL6FPz6+aoBVP/W/H8Dq/72/WwIjwdH/zoAtANK+T8ADwVD+47+I////nMDkgHW/1MHQP13AKcDIf9Y/uz/twJP+3D7o/ui+YkBRANJA+f+lvrcAkP7dvqb/YYAFALUAFEHJQSxAJD/ZvgiAVz56f/nBgwBhQFEAP0AJ/x3/yH/0/+4/DAA+wTfBAYC1/5tAez7dP6B/sEC1gYp/9kFPQgcAKD/jv6P/SH+8P3g/i0CJ/ws//kANP7v/JH9tf0sAlP+vvua+Wr/TvxI/Z4ESQEf/qwCQAAiAh4E4gW9CbwEUAnXBi79yQS4+lj4k/3C+XP2cf+x9rr9GACG/fz/9QE5/20DngbbBQ8AtvzEA732cvx1AI/8pf2JBWwE3Q2aAh0BSweoAzcDR/55+/b/7/em9Kj6B/u9/lcBywCXBgQGUACO/q8G//nH+Xj/Kv8sAncCgQT4+X8Cp//y9ywCLv2PAOICjfxfA6/+PQObA1sECgW6/h7/sfwZ+2T/wgPU/9z8CgO/AMb7ff7m/Vn+K/78AHEArQY4AbkBJQb2Arz7IACa+8r7F/rd//ACIAGiBOkCEQOeABEC/AIj/4kATQAQ/OP/PwBcAX/+Tv4bAgT9w/jA+mn/1fru+gcD4//GAJAEbgL8BV4CLgQ9Alf/QQP3/EQAsgKY+4b9ffu2/U0Ag/2SAmABzAO8AQQEw/1r/rn+Hvin+r/8PP/Q/P7/BgJRA8UDywVYAqIECgct/F/++fyf/AD8RgIwA0YCtQHXAGICjf/7AI3+2P/cAHD62Pxo+pz9RP7U/SkCLf/8A4QAt//pBuwCsQGuAnX/XP88/pgAA/yiAEcEW/4VAb8Bn/7LAHYB2gCWAeX/4f/y+1X7h/1T/Ln7rQHcAq0CAASWAmr9zQCsABECFf5c/a0AcP6v/zsDAQLKBQv/QQNhAmr9YP1f+9/5t/vs+1j+3gBKATwAVANvAu/+3QTwArUCBADNAb4C7P2V/Rj+c/+U/yP96P+/ADn/DAC6/HP9Xv7Y+n39zf68AzcF3QaWA8IGzwYSAwcBwv1v/nL6L/ll+7L4OvxlAQIABwZ0BA8BVgQwAOb+eAH4/4f89f/q/8v9dvp8ACT/2P2OAiEBVADfAxgCBQT3AigCjAP3/4X9Tfu2ACL+EP/RAO7+ngB//1X/rv46AAH+cgPWAHL8mv8r/q/7vv6W/5kBqQKVABwAHwFu/poAy/7nA00FagH5BBX++/5t/TH8+vuj+1b/U/4a/7ACKQB0AKAC4v82/xT/DgAhAGoAJQHHAHMB6AG6AFYCkf/V/ysC5f/J/xgBSgBV/9f8FP28/Un/4f0w/s8C6/3bACMB/v+FAd799v+F/dH+rwFcAMgDmAYoBc4BTQHPAIz/0f3O/aL+xP2++iH87/+C/o4BkACZAL4CcQCh/+IAhgCH/3H/hP+i//X+NAMFACQBPgGA/0kA4vyVAN3/ZP2aAu//CQBfA1QAuARNAFMAaQDn/aH9rf2s/cX+LP7B/Qn/2v1o/yUCnAH2Ao8EjwOLA8oBFv5M/6/8mfsV/g39CQGIAPP+GgM7/1P+sAJvAD8B1f+UAaP+iv89/pD9Jf0d/bEB0v6v/1gC4QItAvsB7wIaA4//Nf7h/LL/Ov3x/TUA1QEZAvT9eANaAaH+SQG9AkcB8f8fAbQBnv4W/wr/+P34/lX+5fyT/Cn9lf1N/+L/7f96A7UDmgHyA+4BCQJBAU8ARQAYAJv+JwFDAPL9+//y/zT/Y/0n/ib/cv70AJ0ArgCy/8UACv/k/GH/2P1l/mABuf87AHAAfwITAmgDFAMvAtQBkAEi/2//k/wH/k3/i/1f/hL/JQC/AE0AyAHE/wwBff/d/qQAof5//rn/T/8qAbn/cP/2AKMAV/+CAPEBvwEJAJIAlgBP/sX/EwLPAPwC8P/iAG0AT/xj/Jz7Wft/+w3+HwAfAGECsQVPA8ACrARBAyYBZQAYAe3+q/7x/TT/jv2b/rn+8v1J/vMBd/8VAXEE8wGSAbEBhAG4/y//Nv+g/xf/Dv3v/Wn8+vw9/Mr92/4+/ykCsAIcA04EKARYA38CWwH9AMX+pP4g/1n8df4+/xD9CQBB/1T+xP7T/w4BngBmAZgBSQElAbf9ev4sAHj9Sf6/AGb/cP82AA4Czf8qAI4AwP/UAYgAlQD9AHABzQEiANIALwB//5wAdwAx/6T/FP+G/lD+0v+3/koA9gA5/x8Bmf/S/9gAg//4ACkB0/8rANEAk/+x/+f/hv+i//j/hv7I/oMAUf80AdQATQBhAfL/2v91AGP/bf8s/2MAIv8EAEsAGgFVAV0BIABF/5v/3/+1/n0AqP7y/7gAVf45AHz/tv/5AKb/dwCf/vX/0gE+/zEBNwDR/9UAh/49AVr/3f9SAbv+4P++AED+Zv/l/ncAvP/uAHEAAv+wAsL/Dv+7Aj3/Bf8s//j/AAA0/kUAL/+j/lL/uv4TAQ7/hgD6AY8BiwJ4AeMBNQGD/3f/FwDg/af/TP+5/m3/Df1c/qb+AAFbAPkBZQL1/xgCegG5/wUBjP4bAGv/1/+VAPcA2gG7AD0BjQC7/ov/av8m/jsAz/4n/tn+lP56/p79/P/M/6EAMwGhAccCtQBFAMr/7/6G/9z9ogDU/iMAOQGK/5UAzABAAMoALAJ5AToBDAGNAJ3/GQB9/zX/n/76/lv+f/xe/XH96/2v/4cBugI9AhEDwgHAABQCggFoAcMA6P9tAMP+ZP7+/Fr9Q/7V/T3/QAHzAEUBRAHtAKcAtv8A/+r+y/7S/x8Aaf42AKEB2f7TAGMA///n/+cB2QAKAhAC5ABBAksAfgBg/37/Pf6h/X79Iv73/rT/mQCP/7j/eQGA/ywAagFrAZIAZgEUAoMAPf5b/yn/Pv19/6//lv/xAOP/hwGUACEBmABVAJEAXv9V/83/7/1k/xb/Gv/0ANb/nv8gALH/sf8VANf/AAGCAHkBSABTAMgAugDxANr/ZQDS/9f9Fv8A/3X++P4kABoBmAApAcgB8QBwAHr/UwCz/yT////w/jIAtP/u/1v/SAA8AGn/RQAAAPf/pgBxAHcAXwDk/wsAW/8r/8v+0/5W/1T/cwCGAIMBDwGAAJAAi/9R/9b/af/F/xoAIQCd//f/MgGU/yEAzwBLAGwBKgGcAdEAOQCs/7n+if6P/Wn+dP/G/+j/LwA4AfUA2f/YAK0AMwBu/27/Yv+0/93+mf+7/0X/L/8XAGgAVv8PARAAkgDCAO4AzQGKAHQAYwAv/wn/5f7z/uX/+QAaAVsAEAEwAKf/8P86ACr/gv88ABj/r/8g/8j+Ov4Q/wL/UQDzABMBxwHEAc4CLgEiAnoA6P+b/5D/sf5X/Wz+Bv8a/47/KABo/24AUACWADYBswC5AGT/w/+Y/2H/RQDaALn/HQAcAbn+b/9hAGL/kwALADEAWQEAAPcAUgB2AHn/l/6i/1v+B/8W/jr/iv8j/84AMwF8AZABzwHaATwBdAAeAJYAMv9k/w0Atv48/zH/k//K/6z+af+0/zT/c//6/1cAXwANAFUACQGv/zsA7ABYAFcBhQAmATcACwDn/7r/VgDX/ov/gP8G/5H/sP97/5r/Hf8XAPv/WwA3AXkAuAA3AGYAg/9aAPf+7f8iAD7/PwDn/3wAQABH/5sAFgC0/8j//QDlAC8A0ACCAEYA1/8AAGcAjf/8/hb/K/9F/gz/lf/Z/28AjwCRAK0A6wC4AEgBSgG1APUAygCb/2b+YP/s/U7+Ev9E/9b/OABhADIA3ADRAPP/OABAAMr/4/8xAPv/1f+7AML/cwAcAIr/EwCA/8AA9/8ZACoA5/8OAKX/+v8XAAAAaQBNAP//GgBo/1v/e/+V/6H/5P+6/wsA2P8RABQACABtACEATgBuAF0AjgAbAZ8AKQElABkAEAAG/9z/+/7V/zH/0f6T/3v+X//v/pz/WgCgAKAA3QBWAHQAhgAzAX0AowDKACMAAAB3//7/O/85/w8AvP9y/9D/Zv+y/9L/AgC3/2sAzQA5ALgA2QCj/+v/5//S/8n/0v/7//v/9v/i/44AdQDo/1wAyv/D/9v/8v8bANz/yQAFACn/T/9a/3P/tv9lANQA0wC7AOb/YQDj/0//u/9v/53/wP9Q/+j/3f/t/1MA3AAOAN4AvQDz/4MAWQBuAPv/JQAEAGj/uf4X/wP/g/4Z/+b/0f9VALkAlAFIAckB6gHkAF8B1v9W/5b/lv6J/kv+vf6o/hX/vf81AAQBDQFUARgB2gDm/zkABgCK/3sAqP/0/2v/gv/j/q3/U/80/8sAAgCjAAIBIAEBAZcAUQC//4v/Nv9J/2n/Ef8dANH/2f9DAEgAygBKAMsAewA4AK//QAANALH/TACF/3f/9f/D/xIAuP9t/1AATP9G/5L/OgDlAJIB6gCCAOoAdf/8/rb/Cv8r/ykAz/+t/9n/ggAwAEMAZACBAM8Akv9E/zn/fP4O//r/0f+5ARsCuAHLASoBl/8u/9n+Mf7o/uf+bf+D/wMAtf+h////eP9VAGkALQGlAUMB1gHAAIEA/v8P/9L+Gf81/wb/0P+t/8z/Mv/0/8P/1f9bAGQAVQEPATEBmABRAHgAQv9V/9j/Kv+E/87/1f9S/zH/vv9I/xMA4QDSAAwBAgEjATMAnf+8/w3/Dv9T/8P/1v/M/6UA+/8uAOb/CwAfAKIAfACbALMAVQARAAIAEAB//8n/nv+H/23/cf9g/0L/nf8EAHQAkQDmALUAoADx////dv/0/uX/yP8bAHgAkQCoAJMASgATAOT/z/9R/27/Tv9w/4L/cP/S/2wAnQDoALIAiwBsANj/jP+l/3j/iv/M/7kAFAB4AM0AGgAbAJ//yv+K/5D/+v86ABgAyf/k/6T/3v/B/67/SABIAAEAHgAAAMH/X/8zAN7/cwDoAL4ABgEsAFwAnP8+/wr/If94/6j///9LAA8AYACVADoAhgCeAPAAAAANANn/Ff/g/if/3f5T/yEARgCaAMUA2QBjAIUATwBCAFsARgBaAMX/yf/T/zH/QP+1/0z//f/h/zMAKwAqAOX/sv8WAMH/6f9IAJUAhwCtAKEASQDy/9X/xv96/3f/t/+z/8L/HQAOAB0AaQAaAAIAJgDj/6z/fv/B/73/5P8PAEIATgCKADYAMADv/7f/0P+1/woAFgBDAHwAdgB0AE4ABwDY/6n/kf/Q/5D/EwACAMv/BgDx/9b/b/+Z/+X/sv/1/0YAbQCBAKoAQACPAC0AQQBXAE0AhAC8/7f/f/87/z//Sv/a/3f/RABiACgAgQAUAD4A5/9HAMcANACcAD8Aov+o//7+Q/8R/2z/3v/m/2cAlAAxAKwAfQBYAFUAmQAtAPb//P+Y/yT/Xf9Z/3j/CQAFAE8AVwA+AE8ABADs/zoACgD//0AAPQBwAML/KgDi/9P/sv9z/wUA5P8LACoAOgCBAC4A0v/h/+D/q/9d//L/2//s/xcADQBgAN//YgBJABgAggA1ACcA//8NAMX/oP+r/5j/7f/y/xwA/v8YABUA5P9MAAUABgAZAEUA/P/x/xUArf+3/7v/sP/2//3/HAApAEYARgAfAEcAKQAsAGEAwv/l/zAAmP/i/+n/k/8QAJj/zf/3/83/TADd/1oAOQD9/1gA8/8aABwAHAAWAB8AFACm/+X/6v+2/83/FAAOABgAFgBKAEUA//8oACMA4/8kAM3/pv/i/4j/r/99//f/NwDK/2sAQwAjAE0AEQAOABEAMAD5/1QANQDq/xEAxf/b//D/2v/7/xAABgDy//D/6f/I/6D/4f/S/9D/HQAWACUAPAAUACEA/v/8/xkA8P9PAAoAJgA9AAsAMwDi/ygAFwD6/xcA+f/v/wIAwf/x/73/Y//Q/3X/mv/3/9r/DQAwAFUAWwBhAGwAZgBHAEoAUwD9/0gA+f+y//7/xv/C/67/9P/Q/8D/7v+a/wEA8//K/wUABQARAB8A6f8YAAcAEgD4//f/XAAYABsATQBZAA0ADAAVAN7/EADS//L/8f/C//n/jP+y/+v/mv8OAAAAEwAKACsAUgAIADQAGQBAACQA8v9XAOD/5f/P/7L/xf/9/9D/BAAxAN//KQD6/wQAPgD1/zUAJAD6/yQA1f+4/9X/rf/L/+7/5P8VANv/JwA2AEIAXgBoAGIAJQBEAOL/7v/F/5D/w/+o/6n/xv+q/wAA4f8nAGYAEQCUAI0AIABWACsAAQDL/9b/7P/U/8T/5f+5/9D/0f/a/xoABwBUABYAeQA/ABcARwALAAMA1f+p/8f/nv/n/8P/6f8GAOj/0P9BACcAPgArAE4AUQANABUANADO/w0Av//T/9H/sf/w/9b/7f8eAOn/EAAUAAAAGQAEAAcA/v8JABwAEgARACAAHAADABUAy//S/wYAyf/V/+H/3P/y/wQADAAbAAwARQDx/ysAMwADAFkA6v8YAAAA2v/3/9r/1//d/8//5P/1/w8AGwAtACkAGgAYACgA/v8TAOr/IADf/83/8v+i/8r/x//Q/+r/CAAUAE8AQgBWAGkANABlAC4ADAAmANr/6v+Z/67/p/+I/67/z/+9/ywAIABBAFwALgBcAC8AQwAlABEAFAC9/+j/6//d/8L/3P/u/8X/2v8GAPn/HQA2ABoAFAAYAA4A8v8JANn/1P/3/8H/+P///8r/EgAAACEAJgAqAEEACgAgAB8AAAD0/+b/9P/T/8v/8v/F/+j//f/m/w0AGgAcAD4AEQASAAcA3/8gABEA6/88AOn/GQAAAPf/BQD4//f/DQDv/wcABgDf/yMA0//y/w0A8f/0/wMAJQDi/x8AEQAOABgA+v8cAPD/AQAGAAIA/P8OAOr/AAANAOD/AgDW/wkA2f/4/yEAyP8kAN7/0P8PAPD/+f9BAP3/LABWACIATgDy/yUA8f/s/9L/tv/o/8//0v/q/9z/3f8PAO//EQAXAAMAMQAaABcAKgAxABAACwDq//D////D//z/5P/9/wQAwv8FACQA6f8BAAAA7P8rAAYAAAArAPL/EAD7/9//+P/2//D/8f8kAOf/LgAsAAgAKAAkAP7/IQD1//P/DgDY/9n/8v/Z/+3/xP/u/+j/AQD2/zwAGgAhAE0AFgAYACwACwD+/woACADq/+L/9//W/+z/5P/S/xoA8f/4/xoADgAKAAYADQD8/wUADAAkAP3/DAAIAPL//P/y/+f/4f/1/9z/BgD6/wAAFgAGABEADAAeAAIAAQD8/wMA/P/7//H/+f/1/wAA9//k//H/DwDk/xoAAAAEAAIAAAAXAPr/CQATAPj/HwAhABgAFAADAPH/+P/q//v/x//1/wEA6//0//j/DQANAAAACAD9//X/AgDw/9//+f/x//b/AQAPABIADwAkAA8AJAAyABwADAAUAO7//f/n/9j/1f/S/9T/wv/f//T/9v8EAA0AHAAqAC8AKgApAC4AGgAgAAMABgAOAO7/7v/e/9j/3v/m/+L/3P/z/+P/6/8KAPn/+P8TAAEADQAlAAkABwAHAAIABwAJABoAFAAcABoADQDz/wIA5P/3//z/4P/2//f/AQDt/9z/6v/g/+f/CQAOABQAMwAfAB4ALgAMABAAGgD+/wcAAADq//H/6f/n//P/6P/5/wUABAAFAAsAAgAQAPv/+v8DAOP///8DAO//BAABAPv/+v8EAA0ADwAfAA8AFwAPAAsABQDp/+f/5f/U/+f/+v/3/wAACAAFAA4ADAAIABkACwAOAAQA+P/j//T/4v/Z/+D/5/8BAB4AAAAgACIACwAtABwAGAAfAPr/EgAGAOz/6//U/9v/1v/n//j/BAAMAPf//f8CAP7/GQARAB4AJAANAAAAEAD1//P/8f/Y//X/+/8DABQAAAATAA0A/v8KAAcAAwADAPv/AAD4//v/5//f/+b/3//s/wMABwAhABkAJgAwAB4AIAATAPX/BQD5//X/9P/l/+n/8f/t/+H/4f/9//r/BQAUAAsAGgAZABYAEwAGAAgAAgACAAwA/f/3/wUA+v/2//v/AAADAAMA8v/2//f/7v/0//n/+P8JAAQACQATABMADAADAP3/7//s/+L/5v/2//v/BQADAAEA/v8EAPn/BQAHAAMABwAJAAMABQD///X/AwAHAAEABQD7//z/+f/7/wAAAgAHAPz//f/7/wAAAQD6//n/9f/1/wAA/v8JAAAAAwAQAAkACQASAA0ABAAEAAsAAwD+//P/7v/0/+X/7P/t//3/CQADAAgADQAQABYAFgAWAAQAEwAGAAMABQD1/wAA9//+/wYAAgAAAAUABQD+/w0ABwAEAAAA9P/4//H/7f/s/+j/3//g//L/AQARABsAGAAWABMAEgANABUA/v/9/wQABAAAAPP/7P/l/9f/5P/u//j/CQACAAIADAAOAAoAAwDz/woAEAAGAAsAAQAAAAAAAAAFAPz/EQALAAUACgD5//T/+v/3//7/AAD5/wAA9v/1//z/6v/w/wAABQASABIACgAFAAIADQAMABAAEQAMABIA/f/y//X/6//x//H//f8KAAkAAwD6//j/9//9//z/AwACAAAABgD+//7/BQDy/wIABAAJAA4ACAAGAAAA/f/5/wIAAQAFAAMA9f/z//j/8f/3//H/9f8BAAsAFQASAAUA/f///wgA//8QAAwAAgAAAPL/7//s/+z/9P8CAAYABwAFAAMABgD+//r/AAD8/wUAAQD8//v/+f/2//z//f/+////CgALAA4AFgANAAwABAD9/wEA+//2/+v/4v/t//f/+P/6/wwAFAAOABwAHAAbABQABwD9//f/7f/w//X/8//6//f/7P/3/wAAAAAFABMAEwAXABQADAAAAPX/7f/y//j/+f/1//j/+v////n/AQAGAAAADAAGAAsAEgAGAAIA+//x//H/9f/7//f/BwAFAAEA+v/+/woADgANAA8AEAAIAAAA8v/p//L/8//5//z/9//8//r/AAD+/wUADwAGAAoACAD9/wAA/P/9//L/9P/+/////P8EAAAACQAMAAgADAAIAAYAEQAKAAEA/v/3/+z/6//t/+7/9P8CAAgACwATABAAEwAFAAkADQAFAAoAAQD6//r/9//0//b/AAD//wYADwADAP7/9//0//P/+f/7//v/AAACAAEA///7/wAABgASABAAEgALAAQA/P/8/wAA+/////7//v/7/+j/7f/n/+D/+P/9/wAAEwAJAAsABQACAAwABgAGAAgADwARAA0ABwABAPv/AwAHAAgAAADy//n//v/1//f/8v/z//z/+f/+/////f///wMAAgD//wUABwADAAcAEAATAAcACgAFAPv/+f8DAPz/9f/y//f//v/0//b/9P/0//n/AgAAAAEABwAHAA4ACAADAAkACAAEAAAAAwAAAPv//v/5//z/BAAGAAUAAAD+////+f/u//f/+P/3//z/8//0//b/9P/9/wQADAAHAAkADQACAAEACQAIAAUACQAEAAEA+P/6//r//P8BAAQAAQD6//7/AAD4//H/+v/z//f/+//6////BAAMABQADgAOABMAFAAMAAoAAAD8//z/+v/y/+z/7//2//T/+//4/wEAAwAGAAwABwAGAAkA/f/6/wIA//8IAAsADgASAAkADQAFAAQADQAAAA0ACwACAP3/9P/p//T/+v/4//r/+/8BAP3///8BAPr/CAARAAwADwAHAAsAAAABAAQA+/8DAAIA///z/+7/9//1/wAA/v/9//z/9//5//j/8v/u//X/AgD9//z///////7/AAAAAAEAAAADAAgAAQAAAA4ACQALAAEAAAACAAUABwAEAAcAAQAAAAAA+v/4//n/AAAKAP//AAD///L/8P/0//r/9//9/wUAAAD+/wQAAwACAA4AFgAKAAIAAAD5/+n/9//x//f//f/5//z/AQAGAAUA+/8CAAEAAQABAP//AAAAAAAAAAD7//3/+v/2/wkAEAASABUADwANAAkAAAD+//f/+v/6//3/+f/+/wAABwAGAAQAAgD5//3/BwAGAAUABQAGAAAA/f/6//z//v/4/////v8DAAMAAgAFAAAACQAEAPv/9v/y//f/9P/5/wAAAAD+////AQADAAAAAwAEAAAAAwAEAPz/AQAAAAMABgD///r//P/+//n/+P///wIA/v/6/wEA/P/3//7//P/2//r/AAD4//P//v8FAP7/CgAQAAMAAwAHAAMABQAFAAMAAgAAAP7/+f8CAAgABQAIAAUA+v/z//H/+P/4//n//f/8//z/AwAAAP3/AgAJAAoADAALAAgABAAHAA4ABwAAAP///f/8//n/+/8BAPz//P8BAAMAAQAAAAAA//8CAP//+f/3//3/AQAJAAwABAAGAAQAAgAJAAAA/v/9/wAACwADAP3//v/6//X/+v8BAPz//v8BAAoABQAIAAsAAQABAAAA/v8CAAIACwATABUAEQAKAAUAAAD8/wAABgD6//r/BAD9//n/+P/5//v/+/8DAPj/9P/7/wMAAwADAAAA+//5//f/9v8AAAcABQAGAAoA/P/9/wIAAgAAAAEACQACAPX/9v/6//P/+f/+//r/AAD9//j/+P/1//z//f8EAAkACgAFAAAA/P8AAAUA+//2//n/+f8CAAUABwD8/+z/8f/z/wMABgABAAMAAwADAAQACgAHAAAAAAAIAA0ABgAIAAUAAwALAAsABwAEAAYA/////wQAAAAAAAEA//8CAP//+//0////BQD7//X/+f/8/wMABAAJAAIA/P8DAAwADgAQAAYAAwABAAEAAQD8//T/8v/7//3////+//v/+P/x//b/9f/7/wcABgAMAAkAEAAFAP7/AAD//wIAAwADAAcAAwD8//r/8v/1//n//P/4//v/+/8AAP//AQABAAIAAgD//wgACAAAAAMACAAJAAUABwAFAAcABgD///3/AAAAAPj//v8DAPP/8v/6//r/+////wIA+f/4/wEA///6/wQACQAGAAcAAwD+//3//P/9/////f/3//r//v/1/wEABgAHAAgAAAD+//r//v8CAAIA///+/////f8DAAYAAgD9/wAAAAACAAUAAgD+//3/BwAGAAEABQAEAP7/AAAFAAIA+v/y//L/BwALAAQABgADAP7/+P/4//3//v8AAAIABQAEAAkABQD//wYAAQD4//n//f8FAAMADQAFAPv//v///wgABwAIAAAAAAAFAP3/+v/4//f/+P8AAAcAAQD9//n/+/8FAAgABAD//wUAAwD9/wEAAwABAAAA//8AAP3/+f/6//7/BAAEAAYAAgD9//7/AQD//wAABQAGAAcACAAMAAQA/P8CAAoAAgD7//j/9//4////BQAHAAQACgD///r/+//1//3/BwAEAP//8//y//T/+v8CAAAABQALAAMA+/8DAAEA//8AAAIABwAHAAYA+v/3/wIAAAD+/wAAAQD3/wEACwADAAAA/P/7//r/+P/8//v/AQAFAAAABQAEAAUAAwADAAIAAAABAAIACQALAAYABAD//wAABAAFAAYABQD7//D/8v/1//v/BAAGAP7//P////7/AQABAAIA/////wYABAABAP///P/8//z//v/+/wAAAAABAAoABQD+/wAAAAABAP3/+//z//X//P/6//r///8EAAUACAAFAP//AgAAAAIABwADAPz/9v/4/wQACgAGAAAA9f/4/wAA/v8AAP3/+f/2//7//P/0/wAABQAIAP3//f8AAPf//P/9//7/AAD8/wIABgAHAAUA/f8BAAQABAAAAP//BAAEAAwAAwADAP7/+//6////DgAHAPf//v///wAAAgAEAAcABAAIAAAA/f/8//b//v////7//v/9/wAABQAAAAEA+v/4/wIAAwAMAAcAAQD9//j/+//6/wIAAgAAAAkACgABAP7//f/8//v//f8AAAQACQAOAAgA/f/7//3/+f/3//r//f/9//3/AgACAP///v8HAAoAAwABAAcABAD//wAAAAABAP//AAAFAAMAAAD8//v/+f/9//3//v8IAAUACAABAPz/+P/3//z//v8IAA4ABAADAAEA///2//f//v8EAAIAAAAAAP7/+f/2//v/AgADAAIABQAFAP7///8AAPf//P8CAP//+/8AAAIAAAABAP7/AAAAAAEAAAAAAAYABQACAAAA+f/+/wYACQACAAAAAgAAAAAA/v/+/wUAAgAEAP//AgAGAP//+f8AAAQA///+////AwAJAAsABAD8/wAABgAEAAMACgAHAAAA/f/1//n/+P/6/wAAAAD///7/AwABAPn/BQAHAAAA//8BAP7/+v////j/9//9//7//f///wQABgAKAAYAAAADAAkABAAGAAYAAgD7//j/9f/4//j/+f8AAAIAAAD8//7/AgAAAPv/+/8AAAEAAQADAAYABwADAAAA+f/7//7/+f/7//v//P8AAP3//f/+/wAAAwD4//j//f8AAAEABAALAAgAAgD4//r/AAACAAcABAACAAsAAAD2/+//8f///wIAAwAMABIADQAGAAAA/P/6//n/+//+/wAABQAHAAMABAAEAAEABAABAAIAAgAAAP//AQADAAAA+v/8//f/+P8AAP///v8AAAEA//8AAAIACAACAPn/+f/9/wAA///9/wMAAAD+/////f/+//v/+f8CAAAAAAAAAPb/9//4//r///////////8CAA8ACAD8/wAAAwAAAPz/AAADAAQABQAEAAQAAwAEAAMA/v8CAAIA/v8AAAAAAAABAAAA///7//3//v/+/wMA//8BAAYABAANAAwABAD9//7/BQAKAAkAAgACAAUABgD+//j/9v/5//X/8//3//j/AAD///7/BQADAP7//f///wYACgALAAgAAAAAAPz//v8DAPv//v8DAAQA///3//f/+P/9/wMAAgD6//f/+v/6//j/+//7//n/+v8AAAMABgAJAAgAAgAEAAUA+//7//T/+v8FAAMAAAD8//n//v/3//v/BgAEAAcACAAPAAoA/f/8/wYABQAEAAMAAAABAAQA//8HAAQAAAD9//j/AAAGAAMAAQACAAIABAAAAPv/9P/4/wIAAAAEAAoACAAEAAQAAwABAAEAAAAAAP3/AAAAAP///f/9//7/+//4////AgAAAAMAAgAAAAAA/f8AAAMA+v/5//3////8/wAA//8FAAYAAQADAPj/+f8AAP7/AwAAAPr//v/8//3/AQD+/////v/+////AAACAAcABgAAAP/////2//f/+v///wEA/v8EAAAAAAAHAAQAAwACAAEABwAEAP//+v/+/wUAAQAEAAEA+//9//f/9P/6////AAD//wIAAAAAAAIA/P/9/wAAAQAGAAkABgAGAAgADAALAAoACAAAAAAAAQAAAAAAAgAHAAAA/P////3/9//0//r//v8AAAIA///6//////8AAPz//v8BAP//BAABAAEAAgD/////AAABAAMAAAAAAAMA///5//n//v8AAAEAAAD5//v//v8DAAgABQAKAAoAAwAAAP3//P/6//7//f/6/wEA///9/wAAAgAFAAMAAgABAPr/9//6//j/9v/5//7//f/6//z//v8HAA0ACAAHAAYA///8/wEACAAGAAcABwAEAAAA/f8BAPz/+f///wAAAwADAAAABAAHAAIA+v/4//r//P/9/wEAAgAEAAcACQACAP//AAD//wAA/f/8/wMABAAAAAAAAAAAAAAA/f/8//7//f/7/wAABgAFAP3//P/+//7//f/9/wIACAAEAAAAAwAAAP7//P8AAAIABQAEAAgACQAGAAMA/v/6//b/+P/8/wAAAwABAAAA/P/8/wEA/////wMAAAAAAAAA//8BAAUACwAFAAIAAgD9//v/9////wgACAAEAAEA+v/x//H/9//+/wEAAAD9/wMA/v/6//r/+v8AAAcABAAFAAkACwADAAIAAwD5//r//f8DAAMA/f8BAAUABgD+//v/AgACAAQAAQABAAQAAwABAAgABAAAAAIAAQACAAgACAAFAAkACQAHAAcA/f/4//z/+/8AAAAA//8AAPz///8AAP3/+f/6//3//f/8//z//v8BAAUABAD9////BQAJAAUA//8EAP//+P/7//f/+f/1//P/+f/+////9f/8/wIA/v/4//v/AgADAAAAAAAAAAEABAAAAAAA/P/5//7/BAAFAP//AQAAAAAAAAAAAP//AQABAAIACQAHAAQADAAHAAMA/v/8//7/AgD/////BQABAPz/9v/7//z/AAABAAMAAwD9//z/AgAAAP////8CAAcAAwAFAAwABgD7//n////7//v//P/8/wEABAAEAAQAAwAAAP//AAD+/wAAAwADAAAAAQAAAAIABAAAAAAA//8AAP7/+v/+/wEACAAFAAMABwAGAAUAAAAAAAQAAQD7/wAAAQD//wAAAAAAAAAA///5//////8AAAMAAgAAAPn/+P/7////AAD9/wMAAwABAAUABwABAP7/AAADAAcABAAAAAQACgAGAAEAAQAAAPj/8P/1//z/+P/1//r///8GAP3//v8CAAMAAgAAAAMAAAD9/wUACQD+//n/+//9//3///8AAAMAAQD///7//v/3//z///8AAAEA/P8CAAsABQD6//n/+f/8//z//P/+//3//v///wEABQAGAAIAAwADAAAA/f8FAAoABQACAAQAAgAAAAAABQAIAAcACgAFAAEACQACAP7////8//v/+f/5//f//P8DAAIA/f/8/wAABAAAAAAAAgAAAAAAAAAAAPz//v8BAAMACAADAPz/BAAFAAEA+//9//z/9//5////AAAEAAUABgAEAAEA/f/6//v//f/3//3/AAAAAAIAAQAEAAQAAgD9//7/AQD///7/AgAAAAAA///6////AAADAAMABQAFAAEA/v/6//n/9v/4//r//P8AAAQAAQAAAP3///8CAPr/+v8AAAUABQAAAAIAAQAAAAQABwAKAAcAAAAAAAEAAAD///v///8AAPz/+f/4//n//f/6//n//v8AAP//BgAFAAEABQABAAYABQAFAAQAAwAHAAMAAwAEAAMAAAD+/wMABQABAAAAAAD9/wAAAAAAAAAA/P/+//7//P/9/wEAAwADAAUAAAAAAAEA//8EAAYACQADAAIACAD+//r/+P/7//v/+P/9//v//f///wAA//8DAAIA/f/+//v/+v/9/wAABgAFAAYAAwAHAAcAAQAGAP//+//9/wEAAQD8/wAABQAEAP3/+v/9/////v8CAAMABAAAAPv/+/8AAAAA/P8CAAMAAAACAP//AQAEAAIABQABAAQAAwABAAEAAwAAAP3/AAD9//j/9//3//7/+P/3//v/+P/5//7/AAACAAIAAwAJAAsABQABAAEAAQD//wAAAwAAAAAAAgAIAAcAAAD9//7/AAD8//T/+v///////////wQA/v/4/wAABgALAAMA+/8AAAAAAgD+/wAABwAIAAoAAwADAAAA/v8DAAEAAwD4//T/9v/2////+//4//v/+f8EAAkABAAEAAIA///+//f/+P////v/AAAAAAAA///8//7/AAAAAP7/AQD+//z//f////3/+f8AAAEABAAJAAYABAAAAAAA/f/+//7/AAADAAUACAAJAAcABgAGAAwAAgD8//r//f/7//X//f/7/wIA//8BAAYA/v////z//f8BAAAAAQADAP7/BAAGAAAAAgD8//7/AAD+/wEAAAADAAAAAQD+//f////6//v///8CAAgABAAFAAUA///8//3//v8EAAcABAAFAAAA///4////BAAEAAQAAwAFAAMA/f/7/wEABgAFAAEAAAABAPr//P8AAPz//f8BAAQABwABAAMAAwAAAP7/AAAAAP7/AwAIAAEA+////wMABQD9//7/+f/9/wEA/f/5////AwAAAAIABQADAPn//P8AAAAAAQABAAMAAQD7/wAAAAABAAMAAQAEAAYA///+//z/AAADAAsABQABAAUAAgD1//X/+f/4//r//v8AAAMABwAJAP//AAAGAAUAAQAAAP7//f/6//7//////wIA///7//n/9f/4//3//v8EAAEAAQADAAEACAAEAAQACAAAAAIA///+/wIAAgAAAAAA+v8BAAUA/v8CAPv///8BAAEAAQAAAP//AAAFAAkACQAEAAUACgAEAPn/+//+//3//P/9//v/+f/9/wIAAAD//wAAAwADAAIAAgABAAAA//////3//v/5//n//P///wAA+//6//7/AgAEAAEAAAABAAQAAgAIAAkABgAAAAAABAD///v/9v/9////AAAEAAEAAgD7////BwADAP//BAAHAAMABQAEAAQA/v8AAAYABgD9//L/9v8AAPr/+v/9/wEABAAFAAUADQAMAPn/CADw//n/wP/E/9T/zf8EACoATAArAHYAnAB3ADcA+v+i/5T/jf+j/1P/Jv/X/yoA7f/e/04AbAChAJMALADt/+L/SQBnANn/+v/U/83/QAC0/53/HQBIAHcAUADI//z/DQDh//r/3f/n/w0ADQAEAP//+/8HAAYABgAEAAUAAgAAAAEAAQAAAAIABQAJAAAA+v/5//v/AQD+//z//v8AAP7//v8EAAAA+P/5//f/AAAEAAAAAAAAAAIAAQAAAAEAAQADAAMAAQAAAAIABAAEAAUABwD2/+P/8/8BAIv/vv9dAPf/5/72/tMA9v+z/ZUArwEYAaEAcQA3AC0A9f5X+9r/JAM7/pn+AAP9AzAAgf4NA1gCNgBDAfcEXgFq/LAADf+A/KX/q/tr/oUDpwb3/4T/DgWoAS0EJ/+88736+wbQAC8G3ORG9J8Tie9f+8nqmPn5EIH9wwTeD0sFIQWnBLYCNQWFB1kK6/4e9xEBX/o4+dT9rwvz9YrvXw1x51bu2wOU8+AHzCDyDcEJ9gVa+Bvwkt47vIOvOSYnBTADshu4HegeKQQKDCTRBRU1MKHp7TE3QbFcFvQB+bzB16gindu8z9p8u/7nFDsLPmz0czdBOtU6Cyu1BRETAuUvCiTXuPCU5Xrkq/cq8HYM6x/xH1s1TSirFWsKUxmfA5juSgyqBJv0k/ZS57vn498K5PPni+2D6170wQCNBvMKrhnEHe8WwxneESUYdwiDEOkHNgiB/fr3zOOj5cbgyuEY7RT1cgX9AQgKjwv4CWMFeQFEEAIEfQXNAFQH9/yE9TD1r/Ru7FXxkPgBAxf/IgMjCKcOGA8cDIQGEQS4+Tb78fk7+bb3xfd//6v+6AsN/XMC8ACC/wX90QN9De0Ftw1xAf/5xfkq+Ln+rwSIC1QBjABmAPbzAfbZ8Hb2f/YG/Er+Ogb+EE0Flf5o/ekAB/vs8m/qV/Za/DX8GffF+wcKhw1MDB0LUQn1D30GPAVLBBr6GPo0+kT1Yvoo/Ln5PAYNBqgAtQLuARUBv/wl/TkIQgooDDoVBQ8mDLgJEARn+73zRPIw6PPtmuex5t/mJPGU+IEIUxPnGZke4xmKGB8C8vsU7z7zVPL68Ib6ef5M/r706vh8/boCr/0bBqwKLAwzCmALKw7BBrYKdf/xAMT1r/3P9dD1l/pv9/L77v+h/Zj+XQKDCM0KIQkRCqwIWAUQAHj2MPPT8yv1vfXx+hr8JwANBWYFRwNgC9QIuAY3Au4COAET/uv5sPmv9Cf29fmz+xQGqgL1B8gHVwP4/vj6UPo5+jwBLvwr/08B6/yjAOr/w/4f/Sr6GwVNA0MCIAG+AnEESAosDGwR9AvXCfoEWP24+9rr5fJI9Yv4ZgBfAkL9+ft0/a38pgFY/roA9gDjAxUGOAFuBIQCzfzE9LP4gABbBR4NxQ3VDfMHcgF8/asDHf0X+an1avt1/jnzdvjz8P/0wfNE8Xv53/xCBhAP+BNND+sM0QJsBjYAJwJXCXAJtQQrAiv+1vYx+Obxv/tt/hH8qgStASICAwDJAN38VP73/VP5d/i9+Sf9OQR5AisGGAY5BgQBff5p/s8A5gXwBbEDjwQLAdb6JvXU9rf59Pwu/v0DWQd4CTwIvf8d+DH4MPr19yb9MP3M/5YCVgGUBLsJHQZvCDEFkf6H/Ur/KP0n/Mv+D//5/cb7av7F/YMEYgO9A+cD7gD2AQUCrQNR/SwBQfp7/Wj99/vNAXj9KP8gAYL8//s4AcYC5P92Ab4BywbdAV4FtQEPABD/VP1h/Xf6VfqM+vIBhPy2/9IDQAEEBNMBOwSY/ekAqARSAn0CVwN+Ajj8lvpQ+Gj6aPnz/uj8HgRjBEgCmv7M+7j9bAKvBqIDLQkGBp4AjP4P/gX9evuj/nT+cf6H/b/9dvrN+4n+Z//g/sIDvQjxBYYCMQD7/68BDv1B/9/71/w+/SkAQP45AH8CMAXMBOf/QQG4Aar96wFqAdr9/P7OAQEDYAAo/On/WwC//2sBPwNvBZcBCwI5/D37UPsz+sb9Jf9BBDQFjQIKAlkAHfss+/T+if6g/i4CxAWfAuj+8v7C/dP9XvtEAnEBgQBpAv4BC/2h/qL9yPzJ/KP/XgLBAX4E7AOVAOQAjfpM/RT+KgFWAeIE2wSzBPYCHgG39/j/gP20/oYC1v3/AXP/Cv/j/gD6P/81/7QDYgAj/sABdf4g/fX84P1i/K4Alv+SAE4FIwNZBgYF1AWfBZb+2gDL/378F/2m/F7/4/xY/Xz71wDv+Pf8Dvy1AN0AMwdKCF8GZgIZAQj7tvl0/D/7nv0CAlsFmgEoBIsAmwK4AucD5QRW/zn/iv8a+3j2/fwC/uL/IAEnAl4FBwav/4QBMQNw+ZH5lAAf/8L//wFM/lD+Yf3c/dD9uwIK/4QA2f7K/uUBRwMSAVEFYwHdAFAAi/0A/m7+3QGXAW4AAgF3AZH9vfxc/OsBmP3J/gcAEAKtANIAzANWASwCTP31/sb8KP32+k7/tAF+AAcC7wLsAqcCuwLYA8EAkP54/zz/wf/f/v4BIv+CAX//gPxD+hf8qv+5+wb+2v5JAKn/nwLYBKYD2wSJA6cBy//p/67+Wv/E/cL/9f8Z/VAAm/1K/ZIAcQJlAcYAjgJKAdEAJgDq+kr/Gvxk/pf+Ff80AZsAHgNHBYcD7gNrAi/+jfzN/Rf7r/wbAWoA5QFIAGID9gCNAan/2gDf/zX9IP4//lMAKv6B/kD+Gv4NAAQBVwGtA8wDsQIcAg8BVv05/poAs/w8/5P/mQDQ/sj/qP/q/xkCyAHpAjsCZgEB/0/8ev0//S3/bv2CAvMCTf9fAcn91wBkAcwB1QG9/vX/8/3V/UMARwG7AjkCw/9vAQP/s/+z/DL8qf6u++v9i/+s/8oBsAFeA+ABNgOLAbUBJwLdAHsABgFx/xD9yv+4/sH8wv9uALH+dAFA/y7/dP7m/A781/ws/7sAPQNIBMwEjAWVBIcDQgGQASP9u/zX+x37S/tn/bP/DQCIAxoCTQGQAiP/zgFrAYn+ev1r/oz9Rv3G/cL/e//+/yAB5P9jAQwDMQRoAbABYgLdAEIAA/0vAH3/YwAg/8z+ngDm/nH/t/7T/7H+AQEXAXL/yQCS/9T8FP4c/18AoQCmAboAKgFRAfT8TwAqARkDkQKiAhwCAP9BAB39c/yT/LL8lf2X/hUChQPIAJEB+QAWAIX9gf7X/Yr/4wGwAewAoQL6At//ZQHH/eL/QwE5AZ4A5gEbAJz9tPz//MH9PgBu/iMAcAEgADwAOQHS/2H/1P+D/oj+Pv60/xACUAKaA5EDbAJyAdYBQAA4/7r+xf3O/bb6E/7R/f/+Yf8bAg0CKQIYAawBK//8/jj+Gv73AL//VQLZASoCRgAa/9z/zf3Y/aD/E//K/2kBUgGKAX8CeAHFAY7/Gf/m/db+Fv98/9L/ef93/yn/fP76/oQAvP7IAKIByQE6A1QCGQKZAFX/k/54/cD+dP4fADAAowCgAA3+hf9JAHr+VwBGATMC+v8vAQ//+P51/fz9OP7W/r3+xQEEAhYCagTJAlwBVf9u/g7+P/5U/u790gB+AHsACgErAIwAcgDyAGoCNwC1AkQB7wDp/i//0/7N/SUAq/0W/vv8F/72/Sr/jwB/AEUB8wEUAfcBWgJtAaoALgCAAPL/LAFCAKz/LQE4/2YAXv7P/YH+v/67/3r/IgFWAP3+uf/F/qb/3/6b/ycA3P/I/3f+gwAIAHACTQK5AX4CnAGwAJ0Ay/9O/pr+cf8u/tT+UwDVAMoARgBXAaH+6P/8/jb/Av+T/0H/Of9VAaAAef+5AAMArP8bAA0BvQEvAAQAVv/d/w//8f/YAKYBegLSAGIBmf8h/iv8Yv2F/Kn8Av4rAFD/iAIDAlcCyAJkA3wBEwGvAZn/rP5P/xr/qf6z/rz+9P5O/27/vgCBAFsB9gJSAZ4AWAEzAUoAkACF//7/SP+A/t/9xP1j/C39Of7q/Wn/XwClAcIBhAO4As0D+AEGAh4BK/9N/0j/Jf7I/v3/6f5P/+7+bf44/ggAyP54AKIA+ABRASgBZwB1AKIAuP5A/6X/FP8V/1X/YwDs/0b/o/+XAGsAZgHMAOwAuwFuAeD/yQBu/+EAgv9HAOH/I/+p/0X+If9o/1MAKQBz/3MAsP+RACz/UQDa/0sB5gDIADMAjQAgAET+6gDq/jz/Lf8X/xP/cv/D/woARwCCAT4BnP8mAVEAqv8B/w0A+/6M/10A1QDUAc0BtQDo/kAAif/q//f+1v+M/xMAgv9j/wsA4wCd/z8AhP8z/08Au//IAEMA7wDKAJL/WwA9APT/cwDeAIoATf/P/+b/2P7W/hEARv9a/7f/e/+eAOD/vABS/98BWgDi/zIAyv8MAAX/zv8t/yX/w/9J/8L/yf+RAOwAaAHYAW0BtwCnAHT/DQCBAFj/jv+Q/vH+RP78/TT/jv/WAD0AHQHaACQAKwHOAEIAfQDV/4n/vQAqAPcAAAHEABEBbAAVAM3+2f+7/tj+k/9p/g7/4f75/kn+DP9cAOb/xACyAQUCeAHRAGIADv8dAK3/Xv/y/wYAXP9eABgAvf/wADwAsQDDAJ0AcwA1AEEAUgCKANEA0v+h/wf/6P08/Rn9oP6D/vP/JwHQAaQBhQHwAGoBZgG9AfkAyADIAAYAX/9u/kn+y/0C/kj+Cv+0AO7/AQEPAe8A+QCEAC3/rv/r/tH+dP9F/2UAhwBJAO8ABQDU/xv/AQAUAMcAswFrAoIC7gGCAAsA3f4//jv+wP0L/x//OgBj/5P//v+p/9r+4wCDAckAyAGrAboAWAB4/3v/UP60/uD+iP/W/3n/UABhAJYAOQFAAL4AiQD8/3UAo/9V/yr/df/I/ywA///c/qP/e/9o/7r/mAAWAEwB8ABBAYgAhwANARsAkQAxAAAAof75/tz+5v7C/lMAXAA/ABoB2QBCAEkAKwCE/xMAmv+Z/wkA8/8yAPT/IACm/x4AhP+s/woAgf87AKAADwA7AXkAcADz/1T/CP/h/vn+8P/K/6AAQQGBALkAAAD2/6n/NQAQ/2n/xP/2/y0AMgCRABcADwDQ/zUAxgCwAJQBlADwANv/kf+h/n7+1/7Y/sX/i/8lAfQABAEeAUMAOgDY/3n/1/6j/xf/Bf9v/8D/NwArADcAj//C/9v/qP9HABEBkgHDAbwAnQBF/1//r/7w/qH/x/+mAEQAOQCSAIAA5f8MANv/Tf8xAMb/s//e/7//J/8v/zX/+/5DAGgADQGjAVgBlwEgAUABgQADANf///7c/uT+t/5J/0H/Uv8c/5r/MQAgACQB7gATAUcA/f+t/4f/DAAZAJUAUACFAKz/2v8c/8f/Xv8hANz/jwDMAEUApAB7AGYAsv/w/+L/A/8b//v+/P4e/3D/hv8BAdYASAEBAqUBrQBWADYAuv+H/4n/7v+m/+n/5//h/wv/Pf8+/1j/Iv9q//7/OwBbAOb/ZwAzAIwAVwCnAOAAhQCZAEAANACT/5v/MQCb/8X/yv/1/+P/+v+m/27/bv+d/8v/QwA7AHMAmABfADgANgAyAM//dP/S/3b/mv/r/4YAUQADAEQAGgDo/93/egDq/20AbQBfAG4A4//c/yoABAAQ/zf/bv/u/ln/h//M/zQAHQCCABIAvwCUAJMAewHQABIBwwBHAI//+v5x/33+3f4P/2z/c/8vAGAAjwB1AEEA2f/F/8z/of8PAH0AVwCTAG0ALAA2AAcA+/80AD8AMQAkABgA4P+A/6L/pP/v/wYAVwA9AC8AJQCz/7f/dv///7f/3v8IAM7/9f+m/9X/0//r/6T/JQADACEAngCVAOkABQEOAZ8AeQAHAKr/af+Z/7T/OP9n/wL/df8L/3j/xP/z/48A5P9+ADUAVQD4ALIA2QBZALMAEQC9//r/lP/m/6X/3v/a/3//vf+h/yn/lf9b/y0AQQCjAHsANgBkAAUA6f8TALH/EQAbACkAZQDI/8UARwBGAP7/jP/Q/zr/zf8EADUALgBnAC8AJP/G/3H/DgB2AK4AzgCBAFEAwP8aAFz/hv9K//T/Rv+t/3z/0//j/wAANgBCAE8AuwBUAIkApwBZACgAVQCg/8//Qf8J/3//gv8+/wAAgQBZAJsA4QDCANwAxwDUAEoACADM/+3/i/9y/yX/Ev/7/ib/7v5v/7v/z/+QAGcAoACoAKYAqQA2AIkAJAC2/67/df+c/0T/2P/a/y8ANwChALsA2AA7AZAAWwDB/4P/fP8m/zL/dP+H/9T/xP9cAOL/YADy/x4AMwDv/wgANAAGAPT/IwBJAPz/AADQ/2X/of/G/9P/QAB7ADcAcwDIAG8AmgCvAGYAOQAOAHL/aP///jn/U/91/9H/MgBcAH0AfAA6AJ3/Tv+F/zj/zP/0/1oAywDLAPUAjwCkAH8AFgDi/6f/o/9d/4D/s/+M/+f/vv+Q/4P/9f+7/0IAwwC7AAMBwwCnAEcAAQDi/77/df+f/2T/M/+6/03/b/+P/5r/rf/w/wwAWwBlAPsAtAAnAdMAogBGANj/zf9R/37/hP9z/7r/uf/r/9n//P9XAD8ATQCJAI8AQQA/AB4Ap/+0/4D/of/A/+j/6v8AAOz/7/8dAPL/GgC9/xUAFQAeAPb/ZQBvAIEAQgANAL7/nf9b/1j/hf+j/y8AFQAuAE8AegA1ACwAMwAJAJ3/4v+l/xgA0v85AHgASgCAABQA5v+N/4L/VP++/4P/8P83AFIAUQCfAKAATwCOAA8ADgCh/6r/uP+a/9f/CAD8/0gAUwA1AOX/GwDf//z/GgARAPf/4P/H/2f/v/+S/7z/2v8aAAcAFQA+AEAA8/9LADQAOgBXAFIAuQBYADYAPwC7/xEAX/+K/yD/ff+D/8b/CgBAAIkAlgCkAK8AbQBEALD/3/9i/0L/d/9p/7j/o/8RAOn/YwA8ADgAcQB7AE4AiwBbACsAKADN/9f/dP/C/37/pP+a/9//6P8XAFsAFgBwAB0AFgAPAAwABgAUAFwAFABJAO//8P+c/4T/Xf+S/6X/vv8CAEgAOwBrAIIAJQBXABsAFQCQ//f/2f8MAE4AWgB4AFgAbAAGAOT/o/+M/6v/w//x//n/WgA+ACYAIwDT/7n/rP+0/6T/0P/T/+7/2P/Y////8//j/wEANwAmACYATQBWAHkASAA6ACQAIwAXABQAFQD//9X/6v+n/5j/ZP+b/5P/2/8+ACwAfQBiAH4ALgAoAP7/FQD2/+X/6f+u/8r/qP/f/8n/4v8oABIASwA9AEwATgBYAHMATQBGAAgAtv+e/5T/cP+E/9f/+v8pAFwA/f8kAAAA7f8EAN//8f/u/xwADQDf/9f/2//H//v/8f8FAD0AQgBuAEcAaABQAA8AOADI/87/tv95/6b/ev+s/7X/1//z/z0ASABfAF0AOAAWAO7/4f+o/9D/8v/g/wsA5//k/7//wf/n/+f/LQBWAJ0AiwB0AHkAVQAGAPz/zv/L/5z/2/+2//H/x/+7/wwA3/8kAPr/YAA7ADYASAAKAA4A5/8DAMD/4P/V/3//yP+o/+b/6/8iABUANQBUAEUAfABiAHoAWgBIACkAAADu/8T/yf+v/8j/z//L/8r/5P+9/+z/wf8MAAkADgA0ABsA9/8aAPj/6P/P/8L/8v+u/wIA3f8PADYATwAyAEsAOwAkABYA/v8gAAwAJgAtACMAIQD1/9X/zP+r/93/n//U/63/4f/W/+D//f/U//b//P8tACgALQAcAAEAJADP/+//6v/w/xEAJQBCAE8ASwApADYAKAAeACsA8P8EAO7/z/+1/6r/xP/E/+j/+P/r//z/BwDz/xYAQABUAFkAXgBHAPj/FQC8/9P/5//S/wQAEgD3//b/8v/I/+3/7v8EACsAMAAvACYALgD4/9//FQDV/+7/2f/m/87/5/8UAOz/HgA9AAUALwArACQAFQAIAO7/zP/R/7n/y/++/9v////n//7/6/8IAPD/IAApADoASAA2ACUAEQASAMX/1P/s/8f/y//3/wIACQAlAB4ALgAnABQAEwDy//X/4v+x/8D/s/+d/7b/wv/k//P/OgApAFkAcABcAFgALgAiACIA8v8CAP7/yP/P/9P/uf/i/wYAGAAlAEEARgAWACoAEQD5/wAA9v/b/8v/1/+p/7n/t//d/+T/IwAjACcAPwAsADgAMwA8ACUAHgD+/w0A7P8GAOH/CQDx/+P/AgDj/+L/5v/w/+f/6//8/wAA9P/+/+7//f/p/+j/9f/v/woA5f8TAPr/AAAGAPX/DQAaABMACQD+/wMA9P/3//H/CAD5/xkA/f8EAPX/8f/p/9z////0//j//P/x/xEA5P8IAAgA7v8bAPj/AwD6/wsA6v8BAA4A8v8oABoA8v8VAO7/+f/5//z/FgAXAB8ADwAjAAUADgADABIA+/8NABYAFQAeAPr////2/93/6v/O/wQA8v/9//H/9v8SAPL/EAAvAB8AMQD9/xkA8P8EAPL/AwAKAPj/EgAHAO7/AADy/wUA6f8NAB0ADwAsACwAAgASAOX/0f/P/87/xP/t/9f/9//7//f/5f////r/8v8ZAO3/HQAeAAkAFQD6/wIA9//i//r/9/8MABYAGQD//wkA9v/R/+v/3v8EAPH//f/4//7/9v/6/wQA//8GAAcAAQANAP3/8P/v/+v/7//8/xUAGAAxACgAJgAaAAwAAwD+/xkACwAYAAIAAgDr/9L/4f/C/+X/5//u/xYADwArABcAAgADAP3/5f8PABoAAAADAAUA9f/f//b/9f/+/wsAEgApAP//IwAPABkADgD//wMA3/8AAAgAAgAUAPz/+//6//j/9f/z//n//P/3//j/DwD6//H/AwD2/+v/4v/k/+3/7f8GABIABQArACcAGAAtADUAFQAaAAEA9P/x/+H//v/o/wIAHADy/wIA+//v/9f/6//0/wAADAAEABkADAD4/+r/4P/j/+7/+P/y/y8AAQAUABQA/f8LAAQABAACABYABwAGAPj/9P/s/+7/DwAHAP7/GgAYAOv/EAD0/+D/9v/+//H/5/8QAAkA4P8FAOH/+v/t/+z/FwAAAA4ANAAHAAkADAD1//7/AgD8/wwA+/8IAAMACADv/w8A9//m/wMA5v/6/wEA9v/7//D/9f/R/+n/DwAPACUAMwAJACYA8//9/w0A8/8QAAMA8v8TAAUA+f8cAAoA8P8MAPf/DwABAAcADQACAP3/AwD7/+L/IwAAAPD/EgDn/+H/5v/8//r/FwAdAAIADgAbAPf/BQD6//D/5v/a/wEA8f/7/yUAEgAzACkAFQAjABgABAAHAAcA/f/2//H/8v/d/9j/4P/p/93/6f/9//H/BwAKAPv/BwAAABMAEgACAAcABAD8/97/5v/V/+r/BwAAAB8AHAAbABAABAD+/wgA9v/4//L/BgACAAwAAADx/+r/+P/x//X/FgAMAAwAGAD7//j/9v/8/+j//v8CAOf/3P/d/9H/1//4/wEACwAgACkAEwAaACkAFQAVACAAGgASAAwABQAFAA8ABgDz//f/9f/x/wIAAAAGAAoADQAJAP3///8IAAEAAQAFAOn/5//m/+X/7f8FAA4AFgAbAB8ANQAnACQAIwAFAPj//f/1/+7/CgAAAP//BAD0/+//9/8MAAEADwAUABMACAACAAwA/v////n/5P/h/97/4//d//b/6//x/w0ABAAZACMAEQASABEA9//u/+z/5P8AAPH/+/8DAPL/+v/4//X/+P////P//v8DAAEADgD5//b/7P/d/+X/6//y//z/AQAAAAcAAQACAA4ADgASAAYACwAEAAgADAAAAO//AADv/+3/AAAAAA0AAAD4//b/7//r//D/8P8JAAkAAQAMAPr/BAALABAAAAD0//f/8v/4/wUABgAKAB8AEAAAAAsADwASAA4AFQAHAAUABQD9/woABQAUAAAA6P/y/+X/4f/p//f/9P8CAAMAEAAnACAAHAAFAA0A/f/t/wEA/f/+/wUADAAFAAcACAALAA8AHAAdAA4AEQATAP7//f/7//D/7f/t/+b/6P/4//D/5P/k/+n/7P/u/xQAIgAaABsADQD9//n/7P/o/+z/+v/7//b/DgARAAwAGwAZABgAGwAOABcABQD//wEA6//2/+r/4f/1//X/9P/8//n/AgACAAAACAAGABEADgAGAAQABAD6/+j/5//l/+f/6v/1/w4AFAAhABUAHwANAAAABgANAAsA/P8MAP7/9f/q//P/7P/s//3/+f8CAAQAAgD7/woACwANAA4ADQASAAQAAQDz/+b/7v/h/+L//v8PABYAJQAmACoAHAARAA8ABAAIAAIABAD7//b//P/2//7/8P/q/+T/5f/0//T/CQAJAAoACQAJAPr/+/8CAPz/+v/y//H/7P/r//n/+/8KABIAGgAQABgAEwAGAAMAAQABAAMAAgD///7/BAAFAPL/8P/4/+z/+f/1/wQAAQAGAAoACQAFAPX/7f/v//n/5v/0//H/7f/+//r/CAD6/wsADAANACkAEwAPAAYABQD4/wEACAD//wAA+/8EAPP/AgD3/+n//v8AAAkABQAHAAAABQAOAP7/8v/6//z/9v/8/wQAAgADAA4AEgAOABAADAALAAsADQACAAsADgD9/wAA/f/5//P/////////AQD2/+X/4//7//L/+P8EAAMA/f8AAP3/7f/3//X/9v/1//b/9v8IABoADAAAAAQACAAHAPD/9//6/wQAAQADAAwABwAFAAYADgAGAAUA8P/n/+X/4f/s/+r/9P/2//7/DAASAAsA///+//r//P8FAPr/AgAPABEACgAIAAoADQD9/wQABgALAA4AFQASABwAHgAaABIABAD7/+f/4v/k/+P/6//n//P/9v8AAAAACQAOAAMA///1//b/8//5//L/AgAOAAsADwAFAA0ACgALABEADQAZACIALAAtACgAFAAOAAwA+//0/+r/5f/i/+P/4//q/+v/7f/3/wAABAD3/+7/8v/x/+z/9//2//L/8f/2////BAD+//T//P8HAA0AAwAKACIAIgAiACAAHwAPAAgA+P/z//j/+P/0//f/+//7//H/AAAGAAcACQANAAAA7//s/+z/8v/2////BgAKAAwAAgAEAP3/BQAKAAYABQD//wwACgAPABEADwATAAQABQD6//z/AAD8//3/BwABAPX//v/9//3/9//2//X/9//9//3/9v/6////CAANABMADAAHAAMABwACAPr/9P/+/wEAAAAAAP7/+v///wAAAQD9//3/+P/y//f//f/4/wAACQAFAPz/+//0//H/9//5//j/AgAIAAAABAAXAB4AFQAWABMACAAOAA8AAAABAAkABwD///r/AgD///f/+P/z//b//v////n/AwAAAAQAAQD+//r/9f/1/+j/6f/r/+7/9//7/wwACwAIAAAABAAGAAgADAAMABAAAQAHAAEA+f8AAPv/AgD9//r/7//y//////8BAAAADQAOAAYAAAD7//7/9P/y/+3//v/4/+z/9f8BABUAEQANAAoAAwAGAAEABQAKAAcABQAFAAIA//8DAPv/+/8AAP7/9f/r//D/8//6/wQADwAKAAcACgAFAP3/+//+/wIAAwABAP//AwANAA0ACAANABcAFwALAAUAAwADAAsABQAHAAIAAwAAAPv//P/+//H/7//1//X/+f8AAAAA+v/1/wAA+//1//L/6f/r//H/8v/6//j//f8EAAIACAAIAAMAAgAAAAAABgAKAAcACQANABAACQACAAcABAADAPj//f/+/wIAAQABAAUABQALAAwAAgAAAP3/+f/1//7//f/8//7/AwAFAAQACwAHAP3//P8CAP7//P8HAAwABgAKAA0ACAABAP7/9f/w//X/8//s/+3/8//3//r//f/7//j/+P/+//f/9f/4//T/+P/8/wEABAAIAA0ABAD7//z/BQAJAAkADQARABQAFAAMAAAABwAJAAEAAAD5//b/9v/8/woABAAFAAoABAAAAAAA+f/2//L/7f/u/+//+v/+////CgAMAA8ACgAIAAMAAwAAAP//AQAAAPv/+v8BAAYAAwD3//P/9v/6/wAAAgD+//r/+v/7//b/+v/8//r/+P/9/wQAAgAAAAYABAAIAAYAAQADAAMABAAJAAoAEQAWABEAEAAFAAMADAAJAAAA+f/8//z/+v/4//f/+//+/wAA9//+/wAAAAD3/+v/8P/2//v/AAAFAAEACgAOAAsABAADAA0ADAADAP7/AAAKAA0ABgAAAAkABwAAAPf/+v8DAAAA+P/y//X/9P/4//X/7v/3//r/9P/x/+z/8P/3//r//v/z/+3//v8BAAcADAAKAAgADQAPAAsAEQAWAA8ACwANABAADAABAAQAAwD///7/BAAJAA0ACgAMABAACQADAAAA/f/6//X/9P/4//b/9f/6//7//v8GAAwAAwADAAgADAAMABAAEwAQABEAEwAOAAkACgAMAAAA+f/8/wAABAAFAAUACAAHAAMA+/8AAAcA/f/w/+v/6//r/+P/6f/p/+3//P/8//j/+f/3//D/5//q/+7/6//x//r/9v/2////AwD9//r/9v/7/////v/6//n/BQASABYAGQAWABAADwARAAoACgAOABQAFwASABEACgAEAP7//v8AAAEABwAGAAYABgD6//X/+//7//v/+//7//n/6P/s//L/9/8FAAYAAQAAAP///v///wAABgAJAAsAEwAQAAcAAAACAAcACwANAAUA+//2//P/8//3//j/9v/9/wEA/f/2//L/5//l/+L/4//q/+j/5v/p//L//f8EAAoADAAPABEABgD8//7/AAAEAAwAFQAcABwAIQAkAB4AGQAbABwAEQALAAwACAAOABMAEgAQAAkABgD///v///8CAAIABAAGAAEA/f/+//j/7f/x/+n/5P/u/+7/8f/w/+7/7//u//f/+P/t//H/AAAFAAMAAgAAAPv/8f/t/+n/7v/3//j/+P///woACAAHAA8ADAAQABMACQALAAsACgAKAAMABwACAP//AwAEAAQABwAOABAACAAHAAMAAQD9//n/+v/9/wAAAgD//wAA///7//7/AwADAAQACAAKAAcACwAIAAkADgANABEADAALAAUA+//8/wAABQAMAAkAAwADAP//AwADAAAACAAGAPv/8P/x//X/9v/v/+3/7//n/9X/y//O/9v/4P/q//b/AQAIAAUA///7/+7/5v/p//D/9P/2//r/BQAGAAkADgARABQADgAQABgAGAAeABcADQAUABkADgAGAAMABQAHAAYABwAJAAkACwAJAAkACwANABcAGAATABEACwACAPv//f8GAAoABAAAAAEAAgACAAIABwABAP3//f/7////+//+//3/+//3//L/6//j/9v/2f/d/+b/5f/h/+H/7//z//b/9v/5//j/9v/2//b/8//3/wEACQAFAAgADQANAA8AHAAjAB0AGwAdAB4AHAARAA0ADAALAA4ACQABAP//+/8BAAIACAAKAAkABgD//wEA+f/t/+3/9v/4//v/+/////3//P/5//T/9v/9//7///8CAAkADgALAAUACQAPAA0ACQAFAP3/+P/0//b//P/8////BAAAAAIABgAEAAAAAQACAPn/7P/t//T/7//x//P/8P/y//T/9f/0//n//P8DAAgAAgAAAAYACgAIAAIACAAHAAQAAwABAAIAAAAEAA8AFQASAAsADgAYABcACwALAA4AEQARAA4AFAAVAA8ACQAHAAkA///6//n/+/8IAAsAAAD9//3/9v/y/+z/6P/o/+j/7f/s/+v/5//s/+z/5//r//H/+f/x/+7/6v/t//P/7v/v//b/9v/9/wQABQAGAAsACwAQAAsABwACAAQABQAGAAMABgALAAwAEQARABAADAADAAMAAQAGAAMA///5//n/+/8AAAMAAQAAAAIABQAGAAYACAAJAAoACwAHAP///f8IAAgABQAPABIACAAGAAgABgACAP7/AAD//wEABgAAAPf//f8GAAwAAwAGAAUABQADAP3//v/1//n/9v/1//r///8EAAAA/f////z/+v/5//r/9v/x/+3/7f/x/+//9//4//T/8f/s/+r/9P/4//b//v8AAAAAAgAAAAAAAwAJAAoACAAMABAACQADAAEABgAHAAwAEwAQAAwABAAAAAAABQAJAAEAAgABAAQAAQD///z///8AAPr/+v/3//v/AAABAAYAAAACAAQABwADAP3//P/8//v//v8BAAEAAAAAAP//AAABAP//AgAFAA0ACwANAAsABQAFAAQAAgAFAAMABQABAAMABQD///7/BQAJAAMAAAD4//H/8v/0//X/8f/4//3/+v/8/wIAAAD9////AAABAAMAAAD3//v/AgAGAAgABAACAAMAAgAAAAAA/v8AAAYABwAAAPz//P8AAAYAAAD7//f//f/+//7/AAABAAQAAwD//wAAAgADAAgABwAGAAUACAANAAwABAD7//7/AAD9//v/+P/5//r/+v/5//v///8AAP/////6//z////5//f/9//4//3/AAAAAAAABAAFAAQACgALAAoACwAGAAMABQAIAAcABQAEAAYABgACAAEAAwAAAAAA/v/+//n/9//2//j//P8AAAQAAwAAAP//+f/5//r/9v/8//7/+/////7///8AAAIAAwAFAAIABAACAPj/+f8CAAQAAQACAAEAAAABAPb/9f/7//n/+/8AAAQA///8//3/+//5//n/+//6/wAACwAGAAEAAQAEAAYAAAADAAgABQAHAAMAAQADAAUABAAJAAoACgAEAPz/+P/4//r/AAABAAEA//8AAAQAAQAHAAEA+P/6//7//P/6//n/9P/5//z/+f/7/wMACwAQAA8ADwALAAoABwADAAEAAQAGAAMAAAD8//7/+v/9/wQACAAEAAAAAwAAAP7//v////b/8P/5//j/8//5//f/9f/7/wAAAwAAAPr/+v8DAAgADQAMAAMAAAACAAEABgANAAgAAgADAAUA+v/2//3//P8EAAwAAwACAAAA+v/2//T/9v/8/wAAAAD+//n/9v/6//z/AAD///v/+/8AAAEAAAAAAP//AAAGAAAA+v///wAA+v/6//j/AAAFAAQABAAIAAwACgAHAP//+f/5//3///8AAAEAAwAIAAQAAgAFAAUAAQACAAgAAwADAAcADAAEAAUABgADAAcABgACAAAA+v/2//P//f8HAAAA+f/8/wAAAAD+/////f/8/wIAAgD7//3/AAD6//n/+////wAAAAAAAAEABwALAAgABQABAAAAAAAEAAYAAAAAAP3/+v/4//r//f/9/wAABQADAAYAAAD6//r//P8AAP7//P/5//X/7f/v//P/9P/4//7/AgAEAAoACQALAA0ACgAMAA8ACwAFAAAA/v/9//P/9P/1////AwD8//z/AAADAAAAAQABAP7/AAAAAP7/+v/4//v/+v///wEA/v/+////AQAFAAMAAgAFAAsADwAQABUAEwADAAIABAAGAAYA/v/8//3//f////z/+f/0//z/AAD//wQAAQD7//j/AAD+//T//f8CAAAA///7//v//P///wIAAQAEAAMABAAPAA8ADAAIAAcACAAEAAEAAQD1//T/+v/8/wAAAwAEAAIAAgADAAIAAwAAAAIACQACAPz//P8BAAEA/P/5//f///8CAAUAAwAAAAEABgAHAAQAAAD9//7/+//8//f/9//8////AgAAAPr/+P/3//3/BAAHABAACgAAAP3/9//8////AgABAPv/9//8//n/+v8BAAIAAQAAAAQABgADAAQABgADAAAA+//6//z/AAADAAMABgAEAAAAAQAOAAsAAQADAAAAAgAEAAMA/f/8///////8//v/+v8AAAAA/f8AAPv/+/8FAAkABwAHAAIA///7//r/9f/6//3/+P/8/wAA/P/9/////v8BAAcADwAMAAMAAwAAAP7//v///wAA/f/2//7//v/8//v/AAADAAsACwAIAAcACQALAAwABgD6//P/+f/3//b/8//0//r/+//5//n/9v/6//////8AAP7/+/8AAP7/9f/2//v/BgAFAAQABgADAAMAAwADAAwADgAIAAkABQAFAAQAAwAAAP7/+//8/wIABgABAAAAAwD///3//P8AAAMABQAAAAAAAwABAPn/+v///wAAAAD7/wAAAwD//wAAAwABAAMABQD//wIACQAEAPv/+v/3//n/+//5//f/9//6//3///8BAAAA//8AAPz//f/2//X/9v/5//3/AAD+//z/AAAGAAYABwAJAAkABQAHAAwACwAGAAMAAAAAAP7/+f/1//r//P////3/AQAGAAYABwAKAAoABAABAAUAAAD6//f/+//8//v/9//4//v///8EAAkAEwAWABEACwAGAAUABwAEAAQABQADAP3/9//3//r//f8EAAEAAgAFAAcAAAD7//n//f///wQA///2//X/9v/7//r/9f/2//f/AAD+//v/AAAEAAgACgARABEACQAEAAQAAAD9//j/8P/u//X/9f/3//f//f8BAAQAAwABAAAA//8AAP///f/+//f/9//7////AAADAAIAAgADAAcACwALAA0AEgARAAgAAQD9//z/+f/6//z/9//3//j/+v/6//f/+/8AAAAAAAAAAP7//f/+////BQAIAAQA/f/7/wAAAQD+//3/AQAIAAYABAAFAAAABQAMAAoADAAIAAYAAAD5//T/8P/x//n//P/9////+v8AAP7/AQAGAAQABQD8//b//P/+//3//f8AAAQACQAOAAwAAwAAAAUAAwAFAAwADAALAA4AEAAFAAAA/P/+/wAAAgD8//r//v8BAAEA/f/+////AAAHAAIA/v/+//j/+v///wAA/f/3//7//v/+//z///8AAAMABAABAAAA///+/wAABgAFAP3/+f/8//3/9//0//f/+v/4//n/+P/y//f/+v/6//7/AAD+//z//v8AAAEAAAD9/wAABAAFAAsACQAEAAUACgAQAA8ACQAFAAUABwADAPv/+v/3//r/+P/3//r/+f8DAAkACQABAAAABQACAAUABgAEAP3//v/+////BQAHAAYAAQAEAAUABQAKAAoACgANAAwACAADAAAA/f/+//3///////7/AAD4//3/AAAAAAQAAAAFAAUA/v/+//z//f///wAA/P/5//r//f/9//3/AwACAAAABAACAAAA///6//z//v/6//r/+v/9//v//v/8//r/+//5//z/BAAEAPz//v8BAP//AAAAAAEA/v/7//3//P/9/wAA/////wMAAwACAAUABwAIAAUAAgABAAIAAAD9//3/AAADAAEA+f/8/wAAAgAIAAQABwAJAAUAAgAFAAQAAwAAAAIABwD+//r//v////z/9f/z//n/+v/7//z/AwAGAP7///8DAAQAAwAAAAQABAAAAP3/+/8AAAgABwADAAMAAgD9//v/AgAGAAsABgACAAEAAQD9//v/AAAAAPv/+P/4//j/9//2//r//P8AAAIAAwAHAAIAAAD8////BgAIAAQAAwAAAAEAAAD8////AQAAAP7//f8CAAAA/P8AAAcACAAGAAAA//8DAAQABQAEAAQACQABAAAAAwACAAQAAQACAAsACQACAAMABAAEAP///P////v/+v///wEAAQD8//f/+//9//3//P/8//3//v/5//n//f8CAAAA//8AAP//+//7//n//v8CAP//AQD///j/+//8//r/+f/6//z/+v8AAAgABgAAAAAAAwACAP7////+/wEAAAD//wQABQABAAUACQAKAAEA+////wcADAAMAAsABwAFAAUAAAAAAAAAAAD//wAAAAAAAAAABAAEAAMAAwD9/wAAAQD9//r//P/9//j/+////wAAAgACAAEABAAEAAEAAwAGAAUABwAFAAcABAACAAEAAQAFAAUAAAD//wEABAABAP///////wIABgAMAAgAAwABAAAA/v/6//v//P/2//f/9v/5//r/+//+//v//P8AAAAA+v/5//v/AAABAAAA/P/4//v/+v/5/wAA///2//b/AAAHAAQAAAABAAIAAAD8//z//////wAA///5//f/+v/9//3/AQACAAIABQAFAAYAAwAFAAgABAAGAAAA/v8CAAEAAAAAAAMABgAGAAQACAAHAAQABQACAAQABgAFAAQABAAGAAYABQABAAAABAD7//v/AQAAAAIABQAIAAYAAAADAAkABwAEAAAA/f8AAP//AAAAAPv/AAAAAPn/+//5//v///8EAAcABwD7//H/8//2//r/+f/5//z//f8BAP///P8AAP7//P/9/wAAAAD8//n//v8AAPr/+f/5////AAD8//v/AAAHAAoAAQAAAAQACQAFAAAAAgAEAAUABgAGAAIA/v/9////BAAHAAUAAAD//wAAAAABAAIABAAGAP7/AAADAAAAAgD5//f/9//4//n/+v/9//7//////wAA/P/5//3/AAABAAIAAwAEAAEAAAD///7/AAAAAAMAAgAHAAMA/v8AAAQACwADAP//AQACAAUAAwD+////AQADAAEA//8AAAQAAQD7/////f/4//j/AAADAAAAAQACAAgABAD+//z/+//9//3//v/8//v//f///wEABAADAAMACwAPAAoACQAEAP7/AgAAAP3/+f/5//z/BAAFAAIABgAGAAUAAgACAAAA+//8//3//v/+//n/+P/6//z//P/9////AQAFAAoACgD//wAAAwD///n/9P/2//n/+//7//3/AAACAPr/+P8AAAUAAwAAAAAAAAAAAPr/+f/5//3/BQAKAAoAAQD+/wAAAgAAAP3//f8AAAMABwAAAPr////+//z/AQABAAMAAgADAAUAAQD7//z/+v8AAAcABAADAP////8BAAMAAwABAAIABAAGAAgABwACAAEA///7//v//f8CAAMABQAFAP//AQAAAAAA/////wIABQADAAMAAgD7//v/AAADAAkAAQD4//j//f8DAAEA+f/9//7//f/6//T/9//4/wMABAAGAAcAAAD//wQACAADAPr/9//9//3/+//5//z/+f/6//7/AAABAAEAAQAAAAgACAAAAPT/+P///wMABAAEAAMA/f/+/wEAAAD+/wAAAAAHAAwABwAAAAIABQAEAAAA/v8FAAUAAgAAAAIAAAD5//v/AQACAAIA//8AAP///f/+//v/+/8FAAUAAQACAP//+v/2//n/AAAAAAEAAgD9/wAAAQACAAQAAAAAAP7///8GAAQA+v/+/wIABAADAAMAAAD6//7/AwACAAAAAgD///z/BQAHAAgAAAD+/wQA//8AAP3/9f/z//r//v8AAAAA/f/6/wAABAAFAAAA+f/+//3/AAAFAP7/+f/4//n//P/+////+f/+/wEAAwAHAAUABQAFAAUABQAEAAIA/v/4//n/BAAIAAQABAAGAAgABgAFAAMAAgACAAAA//8EAAUA///6//z///8BAAQABAACAAUAAQAAAP//+P/4//b/AAAMAAAA8P/z//n/+/8AAAAA///9/wAACAAKAAYAAAD2//r/AwAAAPf/8//7//7/AgAEAAAAAwAGAAEAAAAAAAAA/P8DAAMAAAAAAAEAAAABAPv/+/////3/AQAEAAMAAAD+/wMABwADAPv/9//8////AAD///z//f////7/+v/6/wAAAAADAAoABgAAAP7/AAD///7/+//7//f/+f/6//T/9v/7///////7//3/AgAHAAwABgAFAAIAAAD9//3/AAABAAAA//8EAAIA9//5//r/9//5////AAD8/wAABgAIAAQAAgD//////P///wUACwAIAAUAAgAFAAkABQD///7//P8AAP7/+f/5//n//v8EAAMABgACAAMAAAD7//X/8//1//X/9v/5/wEABQAGAAMABQAEAP///f/5//j//P/4//z/AAAIAAwACwANAA0ABwACAPj/8v/0/+7/AAD+/+D/BQAZAAkA+//8/woA5P/m/yYAIgDX/9//NwAhABEAHQAjAAUAof8TAEkAz//z/8///P8nAOD/WAD3/53/GwAAAEsA7v+y/2gAyf8BAFcAxv8sAKb/0P9VAKH/OQA7AO//LgDk/5kANgA5/+//IQDd/8z/8/8NAML/GQBhACoABADc/+z/8v8BABwA8f+//+n/KgA6ADUA1P/K/y8AMADL/9v/9v8OADIArP/C/04ArP9MAG0ANv8iACEAjv9JADwALAAaAAwACACO/8EBIwD8/an/xQBdAPf9Lf81AA4As/9AAF8Azv/h/5sAnQDs/nH/IgF4/5P+lwC7AB0AxgGU/4/+qQAP/48AJv99+8YA6ADxBw8EigQQA270xvJZ750BawUTEn4O+QE0+uj5NvqpAiILGgC4+7v18e+iAvHdR0WMCt3u+x3p5zn1vtZF/PA2IPucHKD7yOPR8iTuqBDuISD0XAYu8VHn+g1r/egU2AYK/OMJVfqZA9PwtfojBOsC2BIw/yzzxvSc7rz+YAh8Dm8Fffad+kj5i/WwC0kCpf39Ap/8vgOW/Cv84//Q/fQDLf8GAxf9ifkTA+UDqwYnBdP/+/s99h73ff3I+2kDA/x3/soCpwTyCMkE/ATlARYB5wG8/mf9Df48/MYA4gDkAg0BkAGOAvYAAAVkAYkAMQEZ/0QA6v3U/LX8LgFJAeP/uv0t/8j9PAAEAUYBPv6c/10C/P5IBusBsAHR/A78hAH9AuX/iv0F/dgEc/57AV0AIfqk/hD85gTQBAEB9gGg/F4Bcv+9Aaj/EPnRAkUEEgHQ//L/iAAl/93/tQDBAgEDUf99/tUAVQBkAFUARv/h/7T+sACi+4/+ZP7n/y8A+PzGATn/AwLp/3X+cv/2/b0B+AHg/XH+cgA1+2r9swFHA2IBHwD2///8If9HADD+qgJKAh8D4QHx+0L8VPmV/6oEfwfDBn//yvzg+Uf+IACgAw8GYwGhAaf++v9lAMkBrgNXALwARv95+7P/Nf1KAWoE4//pAuz9Of6JAPX+ugCvABH/3QAvAJT/qgAbAOH/SQKk/0QBsP8t/5IAFP3n/lP8TP8wAFwBkgJ4/9gBtv6IAokAcwIwAJv+PQA1/9f/bP3u/sv+HP9E/7UASABG/57/rAGVACD/E//lAF0A/P5aAGgAHADx/rQAUgDl/ov+rP9b///9Fv/GAB8Acf9pACUCwwCr/8YACgHg/97+K/4X/uj+2/4iADoCkQHRAI8BsADE/7L/1P6nAKAC5ADC/7T/av6h/mT/Cv8pAV0CKAJ2AXkAnP6M/qsAqP/HAJf/vf75AE8BZgAsAJn/bwBnAjH+Xf4d/Pz8owAwBJIFSgTP/s38q/tp/O8BugHkAaQA3ABy/1P9jPxu/psA2f+wAzECKP9f/8f+RwAFAur/4QCL/t/81/52ADMC4QFRAOsBvf48/+P/wP4oAFj/JgB3AGwAfP7u/eX+5v2v/3MAOwDDAVL/TAG8AJ7/3QDAAA8A5AEf/2IAYv/e/fH+l/53AYkAnwFQAO79Fv5R/oL/awIzBIYCav/t/GX+Zv6iAcAAnQL7/3n+cf61/lEBhAFrATYB+P59/cD+ZgBCAm0EEADa/nL9Ov0iAPD/bwGsAbv/ZwBc/sf/0AHk/4oCSv9S//L+IP5dACMA5QE/AvD+AACT/xP/mgAYAR/+Zf+D/8QAWgEHAOD/FP+TAM7+lAEiAB8BLwCx/qkAaP6z/xj/qf5IAJQCxP+QADj+OP6FAZH/lQF1/zMAzP5A/pUAWgKI//n+LwAR/zP/KgB6AZcAsv9N/3n+Lv8iAMcCDQFF/yn9PP9WAYoBeQLJAOH+p/1M/lYAagCTAR0BnP/3/4f+xv9ZAFgAbAJMAHIAaf+u/u8A2QCiAXP/gP2I/pH+5QFBAf8BogD1/Rv/6P8x/5YAkwBaAboBAgAXAGz/4P7S/ksAlQDCAH3/Wf/y/2AAYQGdAWT/4f7k/QAAqAGHAkkA+P9f/mv9oP5OAJMAKAEWABQAaf9i/xgAXf+SAFb/wf90AHL/LwLt/yAAwf48/i0A7v9OAUoBLQFC/zD+n/8q/2gAHwECAAAAWv5mAJ/+9ABDAq8AEABn/gL/qf66ABIBTAKA/9j+tP61//MAigAqATT/sP4A/4QAugCmAa4ATwBl/vH+Zf+yAKIBn//T/7j+IP/J/6QB5AAHAeX+j/7DANj+mgG5AHP/e/+3/fT+eQBoAHQCQQLBAGX+W/7T/nYAlgP6AYMBIv9N/f79QP9qAQcBWADP//D9N/5q/m4ARAL+Ap4CHQBd/mj86v7fAHkCDQHf/yn+4fzl/v0BSQLOAeH+u/6a/jv/0QBmAXIBw/8c/7H/Q/8//ysAQgBzAC4A5QAc/wIAk/+H/xMBNQDh/8j/mf5s/8r/9QCaAYMA2gAI/0r/1QBA/5wAHgAJAI//Rv8BAVL/3f9fAKD/6ADV/wkAbP9q/+T/lwAfADMAlAAc//X/wP/c/7D/RAB/APD/ygAw/+v+IQCq/yQBNwCv/+X/I//FACMB3P+mAB0AR/6pADf/0v9OAOH/PgCx/9YABwBKAG7/SwB9/4D/UADR/04AOAEz/2L/ggBw/xEBVP9K/8r/Gf80AEsADAGl/9D/AwBx/34A+/9JAaYA4v/F/zH/K//8/p8ASAEUAOsAiP90/3kAl//bAC8BLgBTADT/GP9J//b/4wClAE0Axv8k/xb/dwF4AMz/OQA5/jcASgCVAAIBbv58/6r+k/8sAZ8BZQB5/8z/qv+P/8oA9/8tAIj/Hf91AJb/EgEFAJ0AuP9y/3X/iv5dABMAEQFmAdT/Kv+7/hv/GABmAOYA//8fAMH/XACJAJgASgDV/uT/Y/+C/0MACAAuAOcAJgCEAD0Arf4AAMP/J/86AHMAwwDWAFUAKgBn/wf/QwAXAMAARgAV/5v/D/87APwAcwCQABsAuP85/04A3P88AEEAyP/3/3X/iv8eAL4ASgCJARAAPf9E/wX/DwCiAHAA+QAPAEL/ov6F/y0AOwCbANwAMAAAAOn/AQD7/43/sf/h/6n/EwBnAAsATQDQ/6r/HQCs/37/t/9+AML/JgCTAAAATQCQ/0//mf9o/8v/6QDxAL8Am/+a/yj/1f84AIoAIQBnANH/T//r/xP/ywBtAGwApwD4/tr/Vf8DAL8A0wBjAMH/Gf+2/0UAEgCjAED/AQBz/7v/WwBKAE4AaQCk/xgAm/87AFgAhv8fAFn/HADO/84A9ACoAEwAWf+S/zn/OwBFABoADgBL/7v/fv9fALUAxAA4AK7/kf91/9z/fABjALIAyv/q/z7/MP9BAAUAvgBTABEAwf+Q/9//kgDJ/zQAm/+m/woA2P+tACMAsf9+AJD/BgCZ/xIAQQBs//sASQAPAOL/gf8fAIr/PQCh/3//i//a/2gAAwElABcA6P+m/k3/BQBIAFMAwQDQ/+3/U//n//b/NACqAK//ZgB6/7b/FgBNAIUAuADQ/3v/o/9A/0sAQQD3AM3/EgD6/tT/RQDJAOkA6v9TAEz/tP/y/+H/uAAzAAsAxP/Q/6T/LABiAE8AJABkAMH/3/8SAEcALQDM/9X/vf/k/9T/OwA4ADkAAwDl/7f/wv89AE4ASQAXALv/d/+h/7b/WACVAOH/OgCt/6j/1f+4/14APQBLANf/e/97/wUANAAyAMAA1f/H/8v/Lf+LAPP/ywCEAD//zP/x/n3/gQA9ABIB8v++/zz/bv8UAHQATABiAJH/dP8DANv/MQDBAF4Awv/n/8n/m//w/wIAnACRANX/OgDE/57/AAAbAAwAKQDA//7/yP/e/8sACQAAAO7/h/8/AOb/fwAtALj/BwAOAMv/YQDh/7j/TgCt/xUBQADV/ysAX/8XAOr/CQAAAHP/u//I/04AigBqAHYA7v/0/6X/EQDP/xIAKACP////qv+l/zQADQDD/yMAeP8PAB0ATACrAAgA1P/M/2z/z/9RAC0A1//0/0D/1P8YAO//pwD6/woA8f++/+7/9/9zAPX/FgBZANz/kP+y/73/IABcADoA/v+5/7j/CABuAKsAdAAOAHf/OP/H/0gAtgBLAEIAu/88/7P/XwAmAKkAZAC0/5r/1//Q/4sAhwAmANv/3v+4/8r/DQBhAEgAZACZ/3b/o//I//n/mwBkAPD/vP+C/yUAOwCCAFgAOf/u/3v/4f+dACwAPwCV//X/2f8TAFsANwD8/xIAq/8GAL3/SgDk/97/PgB7//f/OAD0/ywAKgAXAMj/vv8ZAAcAJgAKAMz/rv+k/yEAOwC3AJL/1f+8/4z/RgBKAG8A9f/1/2n/7P/e/w0AcADH/zoAxP/R/00AFwA/ACcABwCr//3/qf8lACUArv8RAAkAFgAnAO3/AADq/xgAQQBrACYANgDJ//L/o/+4//n/vf8RAMn/7/9GADcAyAAYAB8AoP9m/+j/DgCOAEwA3f+f/2P/x/9OAEIAEgACAKv/yv9XAEkAxQBZAL7/lf+F/0v/LQCAAMkAWQDB/6L/Sf/i/0oAGwB2AKf/7v/3/+z/lgBTANj/8v9e/83/2f/0/1UAXgAmANb/pP/H//L/HQBBAPf/ov8AALr/hgBwABcA1v+I/3v/HQB0ACQAcACL/5L/8f/g/40Awv/t/+D/4/8SADoAEgApALT/6v82AA8Ay/+o/xAAFgBOAB8AUwDM/67/KgD6/xwAIADz/w0ADwAVACUA4v/a/9L/QwALACMACQC2////5P8OABEAGgDm/7X//P/9/00ALgBjAP7/vv/N/6X/LQAHAFcAAgDR/7z/1v/+/ykACQD5/9j/AwAbABkAbwA3AOT/8P+9/6P/3//0//T/NQD+/wkAJAD4/xwA6P/8/x8ABgAfAAEA/v8NAOb/4f++/6b/1v/h/0QAGwBnACgAFwAVAOr/AQDs/+j/4P/+/+7/4//4/xYAEgAYAAsA5P/X/73/EQBGADQAVADw/wgArf+y//D/4P8gAC4A6//t/zwAHwBJAFcA3f/h/8L/6P8XAFgAEgANAMn/4P/6//T/IgAJANX/8v8MAFAAKwA4AP7/6/+4/7r/4//J/z0A7v/3/wkA9v8cAB8APwDO/wkAy//j/4cACwArAK//i/+7/woAOQBcAAMAtv+//+L/QwBeAD8A/v/c/8P/2v/d//L/PwAEAAcA6P/E/9r/7/9hAB0ARQCq/9z/3/8JAG4ACwASAKn/tv/p/ywAOAAwABYA5v/+/yQAyv8VANn/7f8lAOr/IADb/+7/8f/9/xkAJAAhAOX/HQDv/xwAIADp/xMA7P/y//H/5/8CAAsAAgA4APH/+f/H/wcA//8AAEIA5f8ZANr/3P8wAOT/AwARAPH/GgAAAPT/AgDI/+f/JAAVADIA1v/z/73/EwBJAA8ASgCf/7v/yP8CAEkAWQAFAAQAs//q/xgA+P8qAP///P8MAA0A8P8hAPD/+//z/97/AwDh/w8AKwAVAAMA5//i//f/BwAgAOL/HADW/+T////9/xEA5f8bAO3/IwD8/+b////t/yoAHQAiAAQA4P/c/83/6P/8/ywACwABAPH/1P8QAAcALgAMAAwA3P/4/wMADADz//P/+v/2/xEA/v8LAOD/8v8bAAkANAAAAPr/+//j/wIA9/8IAAIABQADAPf/7v/u//j/IwD//xQA7P/d/w8A+P8xAAAABQD4//v/8//1////6/8EAAoAHwAfAAsA7P/6/+L/EwAPAB4AJwDx/wEA2P/z/woAEAAuAA8ACQDj//L/BwATAAsAJADg/+r/4P/b/w8AEgAvABcA9//X/87/5P8JABUABgAWAOf/AAD+/yEA+v8LAPz/3v8ZAPn/FwAFAOb/AADs//P/+v8AAAIACADw//b/BwATACoAGQD4/+D/5f/K/wgAKADy/xQA4/8JAAYAFAAPAP//+v////3/CgD///n/7/8PAAEA8/8YAOP/BQABABAAAQAPAP3/BgAIAOP/+//X//v/BAAEAAYAAwDm//b/AgDy/xsAEAADABYABAAOAOr/CQDw/xAA4f/m//T/6v8hACQAJwATAP7/6P////r/CgALANv/AwDn/wsADAADABAA5f8NAOf/AwAUAPf/JgD7/w4ADgD+/xMA7v/l/+//5v8CABgAKwAOAAoA8f/0/w4ACQAYAAkA7f/5/+j/8P8NAPT//f/x//f/8P8HAAMAEQAlAAgAEADu/+v/6//s/wIAEgAUAAYACQD4/+3/BwD4/wMAFAD5/x8A+/8PAPj/7//v/+L/9//z/woABQAEAAAAAQAKAAsACgAQAOX/3v/j/+r/FAAdABUAFwDj/+T/6v8AABMAHQAEAPH/9//y/xsAAwAcAAkAAADb//r/6P8FAAAADgAJAPf/CADo/w8A/f8RAAcA/P8QAOr/FQD1//z/+f/t/wEA/f8PAAIA+/8AAPz/9v8EAAoACwARAAAA/f/z/wQA//8KAAUA9v8GAPj/GAAFABYAFAD+/wQA/P8AAAAA7//x/+//9v/7/wYAAgAGAAcA/v8KAPz/AQAAAP3/CwAQAP3//f/y/+f/+P8AAP7/CQD8//3/AQANAAUAEwD+/wcA6P8BAAAA9/8GAPX/BADv////AAD4/w4A/P/7/wQACAACAAEA/v/v//L/8v8BAAAADgD8/wAA/v8AAA8ABgADAAUABQACAAQAAAAAAP3/+P/y/wcA+P8UAAYADwD9//n/8f/u/wgA+f8QAP//+v8BAAAAAQD+/woA+f/2//3/BAADABMAAAD8//3/9f/6//j/AwD6/wQAAAABAAAA/P8GAPz/DgALAPb/DAD7/wgAAAD///7//P8DAAcAEAAGAAIA+v8KAPr/+f8AAP3//v/9/wkABwADAAsA8f8AAPf/BwAJABAADADz//L/9v8AAP//DwD8//7//f/1////BAD+/wAA//8CAPL/AAAFAAYAEAABAAQADAD0/wYA/P8NAPX/BQD1/woACwAFAAYA9/8EAOv/BwAKAAMABQDx//X/9v8EAAAABAABAPT/+v/m/wQA///7/wcAAQAIAAUABgAAAAEA/P/5//L/7P/7//L/AgD8//3/AQADAAsA+v8GAPf/AAAAAPz/AgD0/wwA9P/9/wAA5/8AAPf/BgAHAP3//v/7/wAADQASAAgACwD+/+3/AAD9/wMABQAIAAkACgAJAAYAFAADABMABQAJAP7//P8LAPv/CQABAAAA/P/y//v///8KAP//BwAJAP7/FgAIAAQA9P/x//b//f///woACAAGAAkABQAAAAAA9v/8//7/+//v/wkAAAD+/wQAAAD9//L/6//0//b/AQD9/wAAAgAAAP7//f8EAPr/AgABAP//BAD9/wcA/P/5//X/9f/2//L//f8AAA0AEQASAA0AAQD9//n//v/9//n/AAAAAAEA/v8AAPv/CQAHAAYAAQDw//r///8OAA4ADAAIAPn//f////f/+P/5//T/+f8IAAAADwD8//z//P/2//7/8f8BAPf//v8IAAIAFAALABIABgAMAAUAAAABAPT/+f/m//r//f8BABEABAACAP//BQANAAYAGAALAAYABgD8//v/AwD3/wEA+v/9/wgA//8IAAkA9/////b///8AAPz/AwAAAAMAAwD9/wIA/P/7//f/CQD+/wIAAgD///n/9P8CAPj/AAAAAP3//f/9/w4ADQALAA8A/P8DAAIA/P8CAPX/8f/8//b//f/9//H//v8DAAcACgAFAAkA/P8KAAEA//8FAP7//f/4//r/9P8DAAgAAQAKAAAABAD6////+v/4//P/8f8MAAoAGAAgABcAEQACAP3/9f/x//f//f/y//v/8P/s//L/8v/0//b/+/8HAAYAEAAMAAcAFwARABQABQDv//T/7v/4//j/BAADAAUAAAD+//j/AwACAPn/AADs//D//f8GABUAFgARAAMA8v/q//P/8v/8//7//P8BAP//AQDv//f/+f/4/wIAAAAFAAkACwAXABMADAAIAPb/AAD//+3//f8DAAAA/P/9//n/+//8//7//f8DAAIACgAYAB0AHQAaAAoA8P/0/+r/8P/5/wIABgD4//3/9P///wAAAAAOAAcABgAQAAQACAARAPv/GQALAAoACwD4/wUA9v8AAAYA8P/8//L/8f/x/+P/6f/y/+//DwANABUAHQAUACEADgAFAAYA5f/t/+H/2v/u/+b/6v/7//3//v/y//n/AAD7/xEABQAMABkADQACAAoADgAEAAoA/f/1/+7/7f/4/+7/AQD+//X//v/p//z/EQAKACoAIgAbACEAFQAPABMA9//w/+z/6v/1/+b/8v/3//f//P/3////+v/+//3/BAARABUAFwAWAA0AGgAQAAcACgD5/wAA5//y/+T/9P/9//T////9//L/DAAMABUAIgAMABcA/v/+/wkA8P8AAOP/3f/z/+3/8f/4//z//f/1//j/8//4/wEA/v8VABUACwAWAA4AGAAYABMAEwAGAP3/6v/e/+n/4f/4//f/9P/1/+//+//1/xIAJAAVACgAFwANAAoA9f/u//L/5//t//L/+v/z//P/9v/2////AAAAAAgADgAEAA4ADAD9/wEACAATABEADwAWAAwACwAHAP//DgD5//P/9//e/+3/+f/0/wgACgANABwAFgAcABgAAgAKAOf/9f/t//H/AAD6/wwA+v/5//z/6P/1/+//9f8HAPn/BgAHAPL/AgD9/x8AFwAWABcA/f/9//j/+/8BAPD/6v/n/9j/5//f/+//DwAIACUAGQAbABwAAgAGAPj/6v/9//b/BgAAAP3/AwD3//T/9P/+//r/+v8FAAAABgANAA0AEAAGABEABgD6/wIA8//7////AAADAPz/+P/d/+H/5f/n//H/AgAFABsAHQAiADMAGQASAAAA7v/z/+r/7f/1/+3//v/8//3/+//w//f/9f/5/wAACAAOAA8ADQALABYADAAVABYAFAAAAPv//P/5/wAACAABAAEA+v/0//7/8v8EAA4AIwAvACcAKQATAAIA7v/n/+//5v/v//b/6P/0//f/+P/7/+v/8P/s/+7/8//0/wcADwAcACYAGwAXAAwA///2/+7/8f/t/+j/8f/s//D/7f/g/+P/7v/4/wMAFwAhABUAHwAYAA8ACwD2//P/8P/w//T/9P/3//n///8BAPL/7//s/+v/AgAEABIAFwANABgAFwAjACAAHwAXAAAA///q/+H/6//r//r/+//u/+n/6f/u/wEAEAAqACYAHAAUAAAAAgAAAPz/+/8AAP3/+P/4//L/9v/z/+3/6f/n/+b/6v/7/wgAFgAcABoAGQAgABIAEQARAAcAEAAKAP3/BAD6//P/7f/j/+r/7v/1//v/BAAVABsAGwAeAB8AFAAQAP3/8v/q/+f/6f/v//v/AAD8/+3/5P/h/+j/7f/7/w4AEgARAAoACgAKAAkADgAIAAEA/P/v/+z/8P///wsACAD7/+z/7P/n//D/BAAPACIAKgAhACkAFQAIAAcA+v/5/+7/4//f/+v//v8IAAoAAAD5/+3/6v/3/wcAEgATAA0AEwAXABIABQD6//r//P/6//X/+v/5//7////5//n/8//5//v/AQAHAAoADAAOAB0AIAAaAAgA9v/l/97/3//s//P/AQAHAAAA+P/t/+//6P/y//z/AwAMAAcADwAVABgAGgANAP//+P/1//f//f8JAAsACQAAAAEA/v/v//b/+P/9/wAABgAPAAoAEAAQAAgABwD6//f/9v/y//n/AQD+//T/9f/s/9//5P/j/+z/+f8AAAoAEgARAAkAEAAVABsAEwAJAAkACQAEAAQAAQD8//f/8f/u/+3/9f/9//z/+/8GABQAGAAZABQADwALAAAA9P/v//T//v8AAAUAAQD3/+7/5//o//T/AAAEAAgACgAUABkAEQAYAB4AGQAQAAIA9//1//j//P8DAAMA+P/r/+T/5f/q/+z/7f/9/wUAEgAZABkADgADAP//7v/1//n/+/8FAAAABQACAPf/7//o/+X/7P/v//X/CAAVABcAFAAQAAwACwAGAAMADAALAAkABQAEAP3/+f/5/+v/7//y/+//8f/4/wEAFgAhACEAIwAPAAAA+f/w//f/AAD+/wMAAgD///v/8P/s/+7/9v/x/+///f8AAAUACAAOABcAFQAQAAcAAAD//wAAAAAAAAYACgAHAAQA8//q/+z/7P/w//3/BgAQABgAFgARAA4AAAD4//j/9v/5//3/AAD4//T/9v/6//T/8v/1//X/+/8AAAUACQAQABEAEQAPAAwAAwD7/wAA/v8AAAYABAAAAPr//P8AAP7///8BAAAABAAEAAQABQADAAMACAADAAEA/v/6//X/8f/1//n/9f/y//L/8v/1//r/AgAHAAYAAAADAAUACgAQABcAFwAMAAgACAADAAAA+/8AAAMA///7//r/+P/9/wIAAQALAAoADQASAA8ACQD///T/8P/u//L/9//7/////P/2/+7/6f/o//P/+v/7/wAAAgACAAUADAAUAA8AEAAOAAMA//8AAAEAAwAEAAAA+f/3//b/9//8/wAAAQD+/wEACgAHAAcABQD+//v/9//2//T/9v/8/wAABwABAP3/9//3//n/9//5//r//f8BAP7/AgANABMAEgAQABIADAAGAAQAAAABAAcACAAHAAgA/P/1//n/8//+/wcAEAAZABMADwAGAP//9P/t/+//8v/y//D/8P/w//X/9v/6//X/8v/3//X/+f8CAAkACwAPAA0ADAAQAA4ABwACAAYACgAIAAYACwAHAAkACQABAPn/8f/0//7/BQANABoAFgATAAsAAgD6/+3/7f/y//T/+f/2//L/7f/w//D/8P/0//j/9v/1//7/AAAGAA0AEQAUABMAEQAIAPn//f8EAAwAFQAQAAUA+v/u/+n/6v/t//v/AwAKAAgABwAIAAgACwAJAAEA/v/9//b/8f/4//j/9f/0//L/7f/p/+n/5v/t//z/CAANABAAFQAWABIAEgANAAcABgAIAAsABwAJAAEA/f/2/+//9f/v//P//f8CAAsADwAUABUAEgAPAAcAAAD3/+//9f/6//z//P/1//H/5v/j/+X/5v/s//X/AwANABsAHAAUABIACgANAA0ADQAUABQAFgAWABMADAAEAAIA9//w//D/7v/z//n/AwAOABYAEQALAAUA///7//r/9v/z//b/+f/x/+//7f/o/+L/4v/j/+T/7//6/wEAAwALAA4ACwAIAAYAAAAAAAUACwAUAB8AHgAYAAoA/v/w/+r/8P/y//j//P8EAAsABAALAAcACQANAAoACwAAAAEA/f/9//3/+P/3//T/7//m/+X/6P/y////CgATABsAFAATABMACwAHAAIABwANABQAFQAOAAgABAD7//T/9f/1//X/+//5//j///8FAAIAAwABAP3/9P/1//j//f/9//b/8P/r/+z/6//n/+j/8f/1/wAABwATABgAGQAeABgACwAHAAoADAASABgAGQAcABsAEgABAP3/9v/w//r/AAADAAUACwAMAAcA/v/y/+7/8P/4//j/7v/u/+//6//o/+D/2//V/93/5P/u//7/DQAWABgAHAAYABQAEQAIAAYADQAPABMAGgAaABMACwD+//T/7//x//n///8DAAsABwAJAAUA/f/6//H/7//y//j/+P/9/wIA/f/3//D/5v/j/+D/4//u//P//P8MABMAHgAeABgAGQAWABsAFAAWAB0AIAAbABQACQD9//j/9P/w/+7/8f/4//z/BQAMAAkACAADAPz/9P/v/+7/6//0//7/AQD7//H/6//n/+X/5f/o/+//AAAKAAsADAAPAA4ADQAIAAkACgAKABAAFAATAA4A///4//j/8f/u/+//8//4//7/BAAIAAUAAQD9//n/+v/6//f//P/9/wAA//////z/9//2//P/6//p//D/+P///wgADwALAAsADwATABUAEAAMAAoABwAIAAgAAwD7//n/9f/w//L/9f8AAAkADwAPABAADAAJAAcABAAIAAIAAAD///3/BAADAAAAAgD6//D/6f/n/+v/7P/w//n/AQAMAA4ADQALAAEA///8/wAABgAKAA8ADQANAAcA+v/s/+f/5v/p//T/AAANABIAEQAUAAsABQALAAcAAAD+//f/9f/2//r/+//3//P/8P/u/+v/6v/v//b/AAABAAIACAAIAAUACQAOABIADQANABQAEwAWAA8AAQD7//3//f/4//T/9v8AAAwAEAAPABUAFwARAAgAAAD4//X/8//6//7//P////f/7//t/93/4P/l/+X/6//v//7/AwAEAAwADQAPAA0ABAAIAAcABwAPAAkACQAHAP3/8P/s/+j/8v/6/wIACQAOABQAEgANAAUAAAD6//b/+v/8/wAABwAEAAAA/P/2/+//7P/u//j/+v/+/wkADgAQABEAEQALAAMAAQAAAAYADAANABAACgAEAPz/9P/w/+7/7f/y//n/AgAOABgAEgAHAAUACAADAP3/+f/4//j/+v/5//v/+f/5//r/7//y/+7/8f/6//7/CAALAAsADQANABAADQAMAAwADgARAA4ADAAEAAAA+v/3//b/9f/0//H/+P/9/wIACAAPAA4ADwAOAAQA/f/7//7/AAD8/wEA+//w//D/6P/m/+n/7P/1//n/AgAJAAsAEAAKAAMA//8BAAcABwAGAAgACgAPABAACgAAAPf/9P/y//L/9v/7/wAABwAGAAkACAABAAQAAgABAAEA+/8AAP//+//5//P/8v/z//X/9P/s//L/+f/4////AAAIABEADwANAAUAAwALAAYAAwAIAAwAFwAZABEABwD+//f/9v/y//b/AAAEAAkABQACAP///v8AAPv/AAADAAUACQAOAAMA/P/1/+3/5v/g/+f/6f/v//n/AwANAA4ACAACAAAABAALAAUADQASABQAFQANAAIA+v/1//P/7v/1////BQAOABEAEAAKAP3/+//1//T//v8AAAsAEwALAAgAAgAAAPT/5v/h/9v/4P/y//r/AgAKAAwADAAJAAcAAwAAAAYADAAQABEADQADAAQA+v/v/+3/7P/z//f/AAAHAAMACwASABAABQD8//f/9f/4/wAAAwAFAA4ADgAFAPj/8v/2//P/8//0//3/AwABAAMACgAJAAQAAAAGAAkACwAOABEAFAARAAoAAQD9//n/8v/o/+v/8P/5/wAABwAIAAAA/v/7//r/9v/5/wEAAgAFAAIA/f/8//v/+v/0//T/+P/4//z/AgAFAAsACQADAAIAAwADAAMABAAGAAsADwARAAsACgABAPT/9P/z//r//f/+/wAAAwAHAAMAAAD4//n/+P/5//z/+/8FAAkAAAD8//n/+P/2//T/9P/3//n/AQAFAAYACAAEAAQAAgD//wEAAQAGAAoADAAMAAsADAAGAAAA+v/4//v/AQABAAIAAgAFAAkABgAGAAQAAAAAAAIABwAPAA4ACAADAAAA+f/z/+//7//0//D/8f/6/wIACQAHAAMAAAD7//3/+v///wMACQAPAAsABQAAAAAAAAD9//v//P/4//X//P8AAAQABAADAP///P/+/wEAAgACAAgACQAHAAgABgD+//n/+P/x/+3/7f/1/wEAAQD//wAAAAADAAIAAAAEAAYACAAJAAYABgAFAAYAAAD9/wAAAAAAAPj/+P/8//7/AQAEAAIABwAIAAUA///7//v//P/9//r//f8AAAQAAQD2//b/+//1//X/9/8AAAYAAgAGAAcABQAHAAQAAQAEAAcACwAKAAMAAgD///n/9f/3//b/9//y//D///8IAAsACgAKAA4ADAAEAAAA+////wEAAAAFAAcAAwD9//r//P/3//n//v8EAAoACQAEAAAAAgAHAAQAAAACAAYACAAHAAsACQAGAAAA+//0//L/9f/x//f//P8BAAYABwAKAAMA+f/7///////+/wIABAADAPv/+f/1//T/+v///wAA/P/8//v/+v/6//3///8FAAMAAgAIAAsACQAMAA4ACAAAAAIABAD6//r/+f/4//f/+v8JAAsACgAMAAgAAQAAAP7/9//4//7/AAAAAP3//P/8/wAA+v/5//f//P/9//n//f8AAP7/+//8//3//f/5/wAABQAJABQAEAAHAAAA///5//P/9v8AAAcABAAGAA8AEAAKAAUAAgAFAAMAAAD+/wAABQAFAAAA/////wEAAAD6//j/+f///wAA+/8HAA8ADAD///n/+f/x//L///8FAAwADAALAAkAAQD8//X/8f/v//L/+f8AAAcAEQARAAMA/f8AAAMA/////wMAAgD///v//v8AAPn/9P/v/+//9P/2//7/AgACAAgAAwD9//v/AAAAAPz/AgANABEAFwAaABgADgACAPz/9f/1//j/9P/z////CAAGAAcACQAIAAgACAAFAP7/+//9/wIABgAJAAMA/P/2//P/9v/5//T/9v///wYABAD//wAABwAGAAAA/f8AAAEABQAKAAwADQANAAcA+//2//T/6f/c/+T/+f8FAAkACQAJAAoABgAAAPn///8AAAUADAAMAAkAAAD///v/8//z//f/+P8AAAgACwAHAP7/AwADAPv/+f/9////AAAEAAsACwAIAAUABQAAAPf/9v/1//P/+v/+/wMA//8AAAcACAAEAPz/+v///wAA//8AAAAABAABAP7////6//f/9v/1//j//P8DAAUACAATAAsAAAD5//n/CAAKAAwADwANAAsABAACAAAA+v/2//v//P/+/wIABAD//wAAAgAIAAQA/P8DAAMA///3//b/+//1//P/9P/9//7/AQAEAP7/9f/0//f/8P/y/wAAAQD7//r/AwAHAAcACwANAA4ADQAKAAQA/f8AAAQA/v/5//3/BQADAP7/AgAKAAQABAAGAAoABgD+/wIAAQD7//j//P8AAP7/+P/7//3/+P/+/wIAAQAAAAQABAD//wAA/P/6//z/AQAHAAgACAAKAAgAAgD5//X/+f/0//L//v8NAAgAAQAFAAIAAgAGAAMAAAADAAQABQAEAAEA//8AAP3//P8BAAAAAAAAAAAABgABAAAA/f/8/wAA/v/+//n//v8GAAgACgAIAAMA/v/4//j/9P/x//f/+//6//7/AAD9/wMACAAMAAcA//8EAPz/9v/7/wQABwAAAP//+v/y//P/+//8//////8KAA0AAwD//wEAAAD5//7/CQAJAAgAEgARAAYA/v/5//n/9P/5//7/AgD8//X//f8EAAMA/f8BAAcAAwD9/wMABQAAAAEACAAEAPj/+f/9//P/9P8AAP///P8HAA0ACAD///r//////wAABAAJAA0ADgALAA8ABwD///7/+v/2//T/+f/5//r//P8DAAkAAAD9/wMABgACAPv/+v/+/wEAAQAHAAAA+//+/wAA+P/w//T/+v/7/wEACwACAPn//v8DAPz/+v8EAAgABwAIAAoABgAFAAMAAwAAAPn/8P/x//n//v8BAAUACQABAAEAAgD7//n///8MAAUA/v8GAAQA9//w/+//9v/5//b/+/8BAAAAAQABAAAA///1//z/AAACAAcABwAHAAkAEAAOAAwACQABAAEA8//u//j/+f8DAAYACQASAAsABQAJAAoAAQD6/wIAAgD+/wMABAD9//v//P/6//r//P8AAAEA/v8EAAYAAAACAAYAAAACAAMAAAADAAQA//8BAAEA/v/7//f/9P/y//j//P/9//7/BwAGAAIAAQABAAUA/v/+/wEAAAD9//3/AAADAAEA//8AAPr/+v8AAP3/+f/9/wAABAAIAAkACQABAP3/+//5//v/AgAHAAoABwACAAAA///9//z//f/+////BQAIAAkACQAGAAkABAAAAPz/+P/1//f//P/8/////P/8//b/9//7//3/+v/7/wAA/v/8/wAAAwACAAEA//8BAAEAAQAKAAoACwAGAAEA+//1//P/9f/5//v/AAAEAAoADQAPAAwACgAEAAAAAgAAAAIABQAFAAgAAAD8////+v/3//3/AQACAP7//v8CAP///v/+/wAABgAAAAQABQAGAAUAAQAEAP3/+v/4//D/8v/0//j//f///wIACQAJAAkABwAEAAEAAAADAAMAAQAFAAUAAAD7//X/8//w//P/+f/+//7/+v/6//v/+/8BAAAAAAAAAAEACAAJAAgAAwAFAAAA+P/3//X/+P/8/wAAAwAEAAIABgD//wMABQACAAUAAAAGAAYAAAD9/wEAAwD//wAA+f/3//j/9P/1//z/AQAFAAoABwADAAUABQABAAMABwAMAAsABwAEAAQAAAD9//7/+//7//7/AQD///3//f8AAAMAAgADAAYABAACAAMABQAIAAgABAD+//r/9//9//3/AAACAAEA/v/6/wAAAAABAAQAAQD9//r///8BAP7//v8GAAUAAAD8//b/9f/4//P/9f/7//j/AAACAAAAAgADAAkACgAFAAkABAAHAAIAAwAJAAAA+//7//v/+////////v/8//f/+//+//7/AQABAP//AwAEAAYABQAKAA4ADQAHAAIABQAEAAQAAQD6//r//f8BAAYABgAHAAsABAD+//n/9//4//r//f8BAAEA+f/3//v//f/9/////v/7/wAAAwAAAPz/9//7/wAA/P8AAAcAAAAEAAoADAAJAAMABAD///v/+P/2//f/8v/5//z////9/wAACQADAAkABQD//wAAAAAEAAkACgAJAAMAAAAAAP7///8AAAcABQD+////+//0//D/8//6//3//v///wIABQAGAAAA///6//3//////wEAAgAFAAUACAAGAAcABwAIAAUA//8AAP7/BQAEAAEAAwAAAP7/+//7//T/+v////7//P8AAAkABQADAP3/+f///wAAAQAGAAYABwALAAkABwAAAPr/+/8BAP3/9f/7/wEAAAD///v//P/////////8////BwADAP//AQAFAAAA9//3//j//P/9/wIABAAFAAMAAAD///v///////7/+v/7//3/+v/9/wEAAAD7//r/+f/2//n//P8AAAAA//8DAAkAAQAAAAEAAAADAAUA///8/wQACwAOAAcABAACAAEAAQD+/wUABgAJAAcAAwABAAIAAAD9/wIAAgAEAAYABQAAAAAAAQD9/wEAAAAEAAMAAgABAP3//f/+//3//P/+/wEAAgD8//n/+//8/wAAAwAAAP7/AQACAAIA/v/6/wAAAwAJAAUA/v8AAP7/AQACAP7/AAAFAAcABAAAAAMAAQABAP///v8AAAAAAAD9//v//f8BAAAA+f/9/wEA/v8CAAQACAAGAP//+//+/////v/+//r/AAD8//H/9P/6//b/9//9/wEAAAD+//3//v8AAAIAAwAEAAMABAADAAEAAQABAAIAAwAEAAIAAgD+//z/AgADAAQAAwACAAEA/P/5////BQAHABAAEAAAAPf/+f/2//j///8CAAAAAAADAP7//f/9/wIAAwABAP///f/7//j/+P/5/wcABwABAPz/+v/8//z/+P/5//z///8FAAgAAAD//wEAAAAAAAQA//8AAAUAAwADAAAABQAAAP3//f8AAAAAAAAEAAUAAAACAAAA/P8BAAEABQAKAAgAAQACAAIAAgAGAAoABwABAAMAAAD+//j/+/8CAAIABAABAPz/+f/6//b/9P/+/wIAAAD//////v/+//z//v8BAP//AAAAAP///f/7//z/AAAAAP3//v8AAAEABAAKAAoABwAEAAEABAABAAAAAwAFAAAA///+//b/9//8/wEABAACAPr/+P/5//7/AwAGAAcACAAIAAEA//////7/AAAAAAgACwAAAP7/AAD6//z//v/9//7///8AAAIA///9//r/9P/3//r////7//b/+v/7//z/AQADAAMABgACAP7///8IAAkABgAGAAMABAD///r/+f/6//n/9P/5/wAA///7//v/AAD+//z/AgAEAPr//P8CAAMACwAVAAwACAAGAAMAAgD/////AAADAAUABgADAAMABgAEAAAAAwAEAAIABAAEAAUABQABAPv/9//3//j//P8BAAcACgAFAP///f8AAPv/AQAHAAAAAQD+//3//v8AAP3/+f/+/wAAAAD8//n/+//5//n/+v/+/wAABQACAPr/9v/7////AAAEAAAAAQAAAAQABwACAP7//v////r/+f/7//7/AwACAP//9f/9/wYAAAD//wYACgAGAAAAAAADAAcAAwD8//7/AAD9//z//v8AAAgABAADAAMAAgAAAAEABwAGAAQAAAADAAQAAQD9//X/9//2//v/AAAAAAEAAQAAAAMAAwD+//7/+//4/wEABQACAAEAAgAFAAMA//8AAAMAAAD+//7///8AAAEAAgAAAPr/AAD///3/AQABAAYAAQD+/wAA+//9//v/+P/2//f/+v/4//r/AAD+/wEACwAIAAAA/f/5//r//f/+//3/AAAIAAQAAAACAAEAAAD7/wAAAwAEAAIABwAIAAIABAAHAAYABQAJAAgAAgADAAcABgAAAAIAAwACAAIAAQD8//v/AgABAAIABQAAAP//+/////7/+v/4//v/AAACAAIA//8BAP7//P////z/AwABAAIA/v/7/wAA9//5////AAAAAAAAAQD8//3//P8DAAQA+P/7//T/+v/8//b//v/9/wYABQAAAP7/+f/5//n/AQAEAAYABAAEAAcACAAIAAkADAALAA0ABQAEAAYAAQADAAQAAwAAAP3/AAD7//z/AAAAAAIAAgAGAAYAAAD///7/+v/2//b/9f/4/wAABQACAAAA+v/3//j/+v/8/wEAAwAEAAsABAD+/wEABAABAP3/+//5/wAAAQD8//j/+/8AAAMAAAD+//z//v8DAAMABgAHAAQAAwACAAAA/v/+/wAAAAAAAAIAAQAAAP//+//+/wEAAgD///////8AAAIABAAFAAMABwAAAAAAAAD7//7//v8CAAMAAgACAAAA///6/wAAAAD+/wEABQAHAAYAAAD8//n/9////wAAAAD/////AAD//wEAAgAAAAMABgAFAPv//P/8//v//v8BAAsAAwAAAP//+v/6//r/AgAAAAIABQAAAAIA/v/6//n/AQAEAAAABQAIAAQAAgADAPn/+P8BAAMAAAAAAAIA/f/4//b/+v/5//X//P/7//n/+v///wEABAAJAAcACQAKAAsACwAFAP/////6//7//v///wAAAQABAP//AgD///7/AwD//wEA//8CAAYACgAFAP3/BAAAAPv/+f/5//z/AAAHAAAAAAACAAAA///5/wAABAAAAA0ACwAJAAoABAAAAPj/+P/z//D/9v/7/wAAAwACAP//AwABAAUABQD8//r/9v/+/wMABAACAPn/9v/2//j/9//7//7/CAARAA0AAwD5/////v////3/+v8CAAAABgAIAAUAAwACAAgA/v/+/wAAAgAHAAcACgAKAAIABQAJAAQAAQD//wAAAAAAAAAA/P/4//j/+//7//3//P/+/wAA/v/4//f/9f/x//z/+v/5//v///8DAAAABQAIAAUADgALAAMAAwAFAAEA/f/+//r/9v/4//z/AAD//wYAAwD//wAAAAACAAMACAAKAAEABAADAPj/+v/8////AwACAAIA//8DAAMAAQACAAEABQAHAAYAAAD//wEAAwAKAAwABQAAAPv/9P/x//T/9v8AAAMACQAIAPv//P/9//v/AgAKAA0ADAAFAAEA/f/+/wAA/f/5//3/+f/6/wAAAAAAAAEABgAHAA4A9P/4/9n/tP/a/9H/BQARADoAYABCAD4AEwDg/8b/+P+6/83/8/9IAGMARwBQAAsAsv9bADIACQA3AAUADQDj/zQABgDM/9X/HAAlAND/2f9XAHkAVgDG/5f/X/+L/97/KQAqAPb/8f8IAAgA/P/w/wIA/v/8//v//P8DAAAAAAD//wAAAwAAAAEABgAHAAUABQD8//n/AAADAP7//f8FAAYACgALAAcAAgD///7/AAABAAAAAwACAAAA+v/4/////P/5//z//P/8//z//f/+/wIABwAEAAAAAAAAAP3/+//6//r//f8CAAQABQD+//7/+//5//z/AQD+/wAABQAKAAsABQAAAAIAAQD7//7/AAAAAAAAAAAAAPz/+v/8//v/+/8GAPX/tf/6/1f/GAArAmIAkwBcA4X+oQHE//j9ZPtF/Gz99PvOBIgESfqi/L8Ah/8EB2wHRAso/dUJ9P5S94wDpfSb62v/x/xqB4kM4QTAAvIFjwzZArMj4SiZ7qr2FbtNmDwl4VWG+Zsj9P2FwHj2n8YCHUw9y/m67zj9zqySoJVdxPrY6o40OBPSOi8kCNad4wXiCqXN3U3q0g6m6cIPE2GK42NJED0PMagTmc6s5f6qkvTmE2D+4Qo08GH7ifUWCy8pkyXIE+kX7v078fP+Kgp+G4MSxA+FD6kJECn4EFbzAtqA8ivgMNJ97iLDHPagCGnqgSKgDt4h5DL5PZARAxRLB/z8DvRK7E/rPeKmAp3htuKmBTvvuvlVCF3/APlf7MsGfgDLCkgE3CPuHDgIuiFR/HP3pumk9Ezmas5t413vOPkPAkAbvxzkK2Uing9+/FDy4PYP9APh0ulNzhYYOglKHPf9CuKFJ43aCPl1/xsNnR0j67/2/w52/3j6VAtxAP0LEfUw6Pf64AC7Gg4RrgTFEbz9uwVb/TUQAggy4ZTyiO5q7zL9HPorBQwCq/ADHEb3zQ8sCbz/nREH+F38B/bl9RUCLPRXDjUBRvOH5GvveQadBcwACPwu/UXn6fj1CYEdmyZBK/AMoxGQDCn0hwFT6PHwFeYy2pLjRe3I9egBUxaEFxwPChVF/CkM4g2pBSMKcgHjBFbrZP+z9zf41PVT5v7w6uDF/8wEWg3GBJ4KyxHC/5sPtBKQCqIFWQGv+hD4wfAA/lT+2OiK/Kb8ifd7+K79kBJMCg4ReBagCwgDKfzJ9S38Sua/8qf4JvkA84sBPBWmCU0a9QKoA00Fhv/LBmf9svksBQ/5R/1V79P7sBk6AyLyc/unDib3RwCSA0IAMwLo56YArgwx9osFGAj8+838sv3Z8BnwZ+7fBEEFJAZpCKQHnxBMEb0Fpg40Cw71LgCp7Jrql/WWAagNBgbd9tryqP+N5NXuUSgeDvv+pAl/6LwDihbDBbkI/QQm9CjrmOvm+5IaDRkiAyUFKwDJ8zoDWv93A+r+4AN09lfuBwc3+X39XPo17z/80OvA8E0IVQWEBKIO/Q+yEvABBgJJCzIG1fy5A2r5VPYk95UIAwz7/XH9IvyK+JT6fv9fCXf/oPwKB27t//dqCJX7WgF8DGL6IPgxDWP6hQGNCy7wUQ0MBh4DMArh/fwATPf4/WoAW/yJBYYCvgBU/zL+Bfhy+E3xP/bC+TQHKv0w9/4IjQDNCLoaNwABBJITOfMF+fj/f/+zAJ72DfT4+er7wgQpBZb/fQDlAVf/UfyI+g0JBAsH/DgM9gCA/PEEovzi/v3vLPOa/5D5cAFwC/wGIgbXBKYJlQTa+zkCoAZu/En7PPYc+sT2I/wo/GH6avzq+dD9JAX/C3UNxBdlBWQBkAEN+aEGA/6W9qQBmfbA9w37Lf1R+WcAxAKH+G8B0wt8Bj8KFP7oCS4FNf3t+qHxif/EA7UCegN6+1D9EfzrAR4Ckf6V+rrzkABnCe8OoASQAEz9gvQy/j0D/wKA+FwDM/ZW+eAA7v/4Afr9nwTC+Q0DCQGVAzoOsAOp+zX9n/qd/boFSgUgA24BxPiO+hIE1/ykDu//2v9H9/z0dfa++98K/ANIATcCVv8dB14IvwOnBif1QfQQ+Dr+pgd1A60OOf7zAgH52wEU/Qv92/vJ+az6Dv7wADMIrAt//+UBiv3i/B76dPwm+Vb90v+H/fv7+wYJB1sEVRGgDAQDD/3J91f6Lfs//+X37/yE+V4EWga3AYwIfwawBpX+GPk/+tb2Uv7O9/wDsvb3/GYEY/2XA0kDmguAAp0FiQeM/xkBDQRz+3j42Pwt/If8XgHy+x794Psz+8n5DgOp/s0CIhDtBKwMiACiAsT18fQw+GfwoQv4A0ABzw4x/mf8l/gU/nQMAAaW/Bf98/2/+rMCiAHeA1oFnvhw/rH7LvZ+/9YJ3wcV/xoGk/rP/4wId/2cBAb6P/3o/pT/4gOw/MwAIwNY/Fr/X/tvAUX9Uv9EANgBxgLf+64E1QD8/nEF9wMU/939qQNz8XQBS/34AtQKW/bE/yT8OAGI/toAGP8RAZ4C/PzW/hH+QADiAOD/o/19AU39CgXoB/r/oQXU/l78NgXa/KIB+vsdA5b/0/4H+aX7rQMb9/QB9/6i/hMBzPsXCm4DzwFDBrAEoP16/DIAevo+/v7+2vkTAWIHXfsBBkgCEfyRBhUAdvsxAOH+TgEa/9D/1/0A/Y3/JQI1+lkFPgT7/q8BNgtl/zgAH/1M+Cz+o/75/FMHuABm+qsDAwCP/YsE0fqC/WwAqgDY+yv/fAY4BUMCT/w7BDX+FPhPBXL9gP1A/7L6wf6CAhsEbATlBrMDjgLAA4r7dvtu/zv5ofqn/r/9ZP2LBCsABAK4/WT/fwk//ygFNQAf/s78qfzM/cz//QOz+cb8KAFEAj8IHgRDAgoFEgFh+1H9OP6K+6L8MQDm+Mj/wf+W/o8BkQOHAfIAcAFXAhMBbQBD/AP+ywalATADpgWgA5gD/vkD//b4cf+T+qX3cfrQ++UCNgBRCFEGcQE+Atj+Pv9bAAUBmgAcAc0BEfwkABr8X//LBKYCogMhA1X8sfx3/cT9fQV7A8v9Gf80+xz39viJAUcCrf2PBuj/GwD9BMkBEAZfBCj+FPv++k7/6/sF/78FCAGUA0wEuQC7/QoB4PwE/msClQAoAmYClP6I+DH5zf9r+S0DYACgAWUDkgDgAmsHV//Q/2QDVvsJ/l0AjwGmBG4AzQK4/gX7LQA5/bj8XP8I/FP6YAHq/aEEggIWA3wDPwFA/SD+iwNe/DECKwDn/rAA+/0ZBMT+sQQKAiv+FgFK/TgCev9T++r8Ufxd/wUAVgMnArP8Pf74/f8ALwROA10CSgVm/wD/xfrP/2gB9f1rBHz7kgFNAR39SQCfAfz/5v2U/7b+lQHs/98Aof6g/Zb+ov1yAmoDT/8ZBa8BLf+ZAZgBqfyG/iz6c/zU/VP+LgQkAXkCQwbFAGMD7v+l/8YCCf/2/UX88vkd+0n/1v26ArkAEAJ3AYMBtwG7BHYEAwP3/JL++fc3/ioAGgHKBKQAWQIkAJL8/AFP//z9qQG5/Ar+ZP08/+/9BgOeARUDNwMp/dP+Rv9dAMIB+wJ9Adn/hf4z/ab+YABp/kn8T/6S/3sBKAG7AlYD7AAqALX9kgDWATwBWAAgAVEC2P40AMIALf9M/7b8j/wC/dX9TP8w/+P/NQO9AKMBkP9ZAs8ATQH9//T+nwAN/rsCigCZ/uUDRP90/ij9QwAqAu8AXQAF/dr/EwDR/OUApvwf/jIDvP5/A40BNQIPA5gBrAHI+/YB+vtX/fABo/zL//MDtvzk/9//JQIPAX8ARgOB/gIAwP46ANwBhv0L/Z4Awv3x/i0CNv6BAq0ATf8bAJb/y/88Av79zAE/AREAAgVzAJcDYP8H/2L+3v0aAbP5zvpE/fz9Nv9zAAIBQgL8AkMCogHQ/0cEpQNtAoUAqf9i/yD9ZwBw/j3+efsr/q/7eP08/m//4QGaA1IDvwN9BSsDMAFoAkoBRf65/MT6Q/2y+jz6bv34AfgAdwKOAqoD1/6WAIkC4ACWAnwBLwFg/vj/jP4l/38AT/7j/U7+sPo3AeMC9P+4Amv/owHUAh4AywCNAQEASgC7/BYAMv7TAPH/Kv1jANn+5AHyAAIBZP/j//f+NwGW/x4AUwKNAFEB+v/S/HoAs/20+ykA8v+8ACwAzgBG/yACkAHcAbP/mP+4AA8A2P1MAq4ACABmAHD9kwC2/sf8sQIdATb/BwFhASgB//3H/mb+3gCQAEr9HAB7/2gA3f4fAG4BzACkALAC5P9u/t4CCQD5AYIDyv77/w7+Pvtn/xj+h/0EAOj/SwCx/YgAUwKgASoDSv5zAVX+FwJMAFT+PgMm/9L/UAEP/qj/ZgHo/FQCs/94/p//oP1/AHQAnARq/z8BGQDA/6sAjwB//mT+x/xS/XD+pv+IAf8AUwLDAa4BWAEKAbwBif/x/zP+uAHA/csB+AE2/UkAjvuF/hQA5P+oARQAzf/0/V7/uP82ABkCPQB8/uQAdwBhAvwB4AKe/yD/HAD6/Tb/Gf+z/w8AsP8t/0z+5P9DAfX+iAGq/mD/FQGBARsCjADV/4v+Zv4x//YA9gApAGYAQwDj/Ob+HQAKAOb/ZQJQAUoB1AFuARMBtv/5/1T/O/8A/mz9JP80/iH+uQCH/nr/MAFcAJYBAgF6AsgDpQA6AIQCHv7DADT+m/74/0T+iwBI/V8AQ/88/sIBCv92//oAAwFuAToBP//Z/wkA7f7d/YP/pf82ANz/xP7q/wABjAJ3AWABvgHK/rcBlQFlAN3/Ev9A/gH+3vyW/7T+bv4+AAAAKwL0/5IBfAGa/3wBIwCBADcBQf8G/rn/I/8V/zsAOAD6AVT+WgHm/UIBKwF6/sAB1/4/AIQC3/9FADIAk/57/97/LP51/gn+yP6T/T0C9gD4ATsE4gCqARwBrP7LADH/Dv24AKP+GgCz/yEAoADN/TEBSP5oAKkAFf8pAQMAKQBdAWEB3QC3AEb+HQE6/l//Df+O/kIBPADm/pcASAEhALMBUAAXAFn/ggBPAP7+BAAR/yL+1v/X/8b/vv/TAHD+NQGTAD8BNQLK/08AO/9D/t7/Rf/t/9T+Kf/RABcBGAEQAfYBSgDy/in/g/86/9X/DwE6/+YAuQAj/+v+Vv9N/4X/a//wANP/QAEeAYQA1wCDANP/QADD/nX+tQCv/hf/3v9A/87/YgEcASoAugCyAG3/N//0/xEBNP89AGUA/v3L/yIC4gFyAD8B0f9y/gL/0/93/Wb/0v4H/w8AQv9mAPgAPAI0AbkBOAAIAbwARf80AbgAkf5H/z3+//+n/6UAOAD5/c7+Vv+E/1MBeABMALkAjwA7AC//TwI0APT/FQDr/cX+1//JAM7/lAGyAKP/YQHy/1gAgAFNAAH/O/70/p3+EP9F/4r/xf6g/mUBJP5uARoCMwHNAqr/swDN/97/CgGAANcASgAGAG/+VP9UAOP+gABN/8v+nf7U/k3////DACf/GgFf/yAA1QF5AfgB0/+kABT/C/52ACsAYP+AALAAKgDo/5oBewBH/1b/+v1O/9/+kf8VAWkApwBYAD8AFgAEALT/mwCl/0v/mQCT/3P/bAFjAGAA9//I/xoASf9SAPIAVQBCAKf/7f+t/87/zf9LACT/6/6T/1r/KAAu//7/mQCc/9H/ogABAT0AEgGMAH4AlQAFAEsAz/+W/6YAOgAD/xQA4v7QAD7/d/8gALL+AADv/0X/MwDhAMb/fgDuADIAJACwALP/3v+m/9L/wgCj/9f/uf/I/9H/1P85AKUAgv9qAIcAGQBTANQATQBUAL7/tP6a/4r+rP9y/xn/v/97/0MA4P+3AKMACQENAQoAkADGAJEA1QAA//X/Jf/5/9IAuf/5AN/+oP9j/5v+NADT/ub/Ef8i/+gABgB1Af0BeQBHADsAlQC8/xwAlwBG/0v/8P7D/lwAIv9YAPP/hP8YAB4AGQE8AdMAbgB4/3b/JgD+/z0ALgA0/2sAWf8S/7T/c//K/1YAdABw/78A5v/a//wAKwDVAK7/XQDg/joAif+u/9cA9P8HAUr//P8CAFsAPAD5/7cAkP/k/1r+0/5Z//L/aQD6/zoAHgAmAVQBzQCyAaEAOgAx/2X+xf6p/n7/h/89/wkA4v++AP8Ahf9AAVYBUAC3/6YAvf/I/7cBif82AIH/Tv+4/pb+df8I/+//KgBoALAAvQDWAPEAGwCKANMAuf9A/1n/I/8K/wsAIwBM/yIAAgDl/5sAUACDAVgAYgC2/0r/1P8GAGEAQwBLAFT/dv///n3/zv/B/x4AUgCgAJQA/ABVAHoA9wD9/sD/o/+G/r7/0/8x/y0AkACoAC8Arf8NACUAbgBAAJgAPwCB/3v/vv+OAKX/jgBrAGv/HgCY/1kAV//o/7f/Jf/d/63/1P9AACwA6v8UAWwASQDdAGcAJgDZAB4ADQAEADr/rP+H/0T/iP+h/07/wv/V/yUA7P+wAB0AUgDzAGEAegBsAA0AqgCM/8v/zf8t/wP/N//5/nj/RgCs/7gAHgBpAKcBygHsAOUAyv9i/1D/Xf7X/2D/aP///8f+LgASAGQAkQBeAOb/xv8DAH8AnwCIAMIAhP+iAI//xv/f/2L/DgA3/zr/ev/0/+T/NwAXAb4A1wCdALb/nwA9ABoAlv8E/1f/Zv/Y/yYAnADB/0UAzP9T/1UAgv+z/7sAPgDE/3IAUwAAABsAmQB9/0sA3P/f/ycA6/66AFcA9/9cAMP/9f7Q/2v/2f85AEMAq//8/7sAAwAfAWUAOgDL/0H/mP+Q/wgAPgAoAEQABwCmABwA3//Q//L/vP9W/87/FABv/4wAMwAMAPb/MQCY/1n/6P8d/xgAiQASAEMBRwHFALEAQABb/1oAOf/n/nr/cP5//zf/EgDWADwBJwGiACcA3P8SAKn/Y/8RALD/g/+2/yUAOwAAAKEAHwDX/w0Agv/I/4gAEAANAD8AUAD4/10ADwA+ACoAhP9p/63++v9d/2n/EQDd//L/5QCUABgBIgHRAB8A8v9z/1v/IQBR/3P/EwBk/97/AQC8/wIA6//l/xsADwASAJkAAACbAEAA/v9CADoAp//J/9P/rf/6/4j/3P/c/+H/TgDO/xUArgB1AEIAYAAGAAIAMAAdAKH/aQCl/4T//v8r/xUA6/96/zcA//9G/4MA5v+dAGgADQBWAM3/cwDrAEIAiQD6/5f/9v9B/8v/Sv/l/mr/dv/N/8D/qABdAGgAjQDFANUAywB4AMr/9f+5/7b/rP+B/zf/mf/t/qr/UACp/+gAFQANAK8AhgDmALUATQDm//H/gP9f//D+hf+x/7P/Q/9m/8IAGQBqAAUBAwCcAOz/if9kAL3/UQBPAJD/EQBVADQAwf+3AFIAw/8vAFj/ev+k/8L/4P9VAP7/TgBT/wkACQDA/yMA2/8PALb//P9iALcAYACgAPP/7P+e/wAA2v/G/3//Y/+d/53/+/+dAGcAUgD6AH0AfgB8AFYAp/9M/3v/9v64/xAAYv9mAO7/3v9cAPr/SgAkACQAIAATAKoAKgBxAFsAc//A/2r/n/+Z/3b/PwDP/6v/YQBv/54AOQAuAFcAAAD3//H/cABEABkAGABu/xEAiP/a/0IANQA+ACEACACY/yEA+P9tAM3/IwARAMX/rv/0/9j/+f8SANT/zf+x/0AAHgAqAEcAFwDa/wEAs////2gAyv9MAEUAsP9YAEwAlP8SADEA4f/Q/0gA8v/U//7/8f/V/wEA1v/h/xMA3//7/yAA7f8gAPD/KwD0/87/YAAbADcA9v/3/zoA2v/F/08A6v+I/w8AeP/r/+v/5/9nAJj/DQDu/yAAJwBGAB0A8/8hAOH/MAACAHEAEwDx/zoAtv/p/w0A/P+v/8H/7P+6/xAAOwAOAHcAEwDY/2MA3f/4//z/yP/W/8f/0P/u/xcAIwAhABEABAAtADgAEQBMAOH/EQAtAOn/GwAIANz/sv/n/7v/v/8AAAAACAAJAN3/JgBWAAQAZAAnANv/CwDn/7v/DQAAAOX/JgC8//3/EQDN/x0ADAAIAO//EwDx/wYA9f/V//b//v/m/+j/5P+y/x4ARwD4/0kAVAArAC4AKwAOACIAtP/3/9T/uf/i/9v/FQC1/zUAVgAAAPn/CgCe/+X/BQAXAC4A9P86APf/CwA3APr/6v+P/8r/jf98/xcASwAXAB4AkgAwADAAiQA6ABcAVADu/+f/g/+1/7n/lv/q/7z/9f80ACwAZQBPADUAIAAUAOr/5//6/9j/h/8aANj/6/94AMn/LwADAPr/AgDd/wkA0P8IAOb/AAAAABcAJAACAFgAFAA6APL/+P/P/8f/+f+7//H/pP/j/wQA7P9CAEsAHQBdAAEAQgArABEA8v/i//f/u/8AAPv/CAD4/wAAGgDO//r/v//V/7L/7P8IAPD/QABBADoANQBMAPT/MQD0/wEA2P/F/9n/1f8IAO7/9v/8/wgAAwA2APH/GAA5AOz/HQD1//z/wv/s/ywApf8cAAMAEgAAAAAAzv/F/y4ADAAHACAAKwAlAAEAMgDd/xEACgDa/+T/9P/L/wQABgDu/x8A+v8PAPn/EQApAPT/EAAeAN7/+f8JAN3/DwAMAAEA+v8SAOX/4f8vANv/FQAUAPD/LAAAACEAHQD8/xMA+P/F/ygA2P/1/x4AtP/s/+L/3f8GABgAEwAVADsACAAzACgABQAmAPH/8P/0/+T/4/8RAOL/8v8HAMr/BgD+/9n/JwAYAAsADgD2/xUAxP/z/+P/yv8TANz/NwANAAAAJgD1/wwA5/8IAPD/9v8DABEADgDr/wsAAADj//7/2P/8/+//HgApAAIATgAAACQAKgAPAPT/7f/t/8D/AgDU/+z/GQD6/xUANQAkAAYANQDe/93/8P/J//r/1f8AAPz/BgAyAAMADQD8//3/EQAJACMAFAAfABMABwADAPj/y//B/+H/1f/6/woA5P8HAPX/EQANAA8AQgD+/xoA+f/s/xQACQD7//b/FwAAAOz/FwD4/9j/BwDn//L/1//1/xMA3/8YABsA9P8xAPj/DwAUAP//CQADAN7/+v8eAOn/CQAYAO//AQACAPj/5P8GAO7/5f/z/wUAEQAZAAgAKAAqAPn/TwDx/+f/AwDh/+T/7//h//3/AQD6/wsAAAAYAAoADADg/+f/6P/+/+3/EwArAAUANwAUABAAAAAHAPH/3v8SAPD/DAADAAMA7P/8/+X/7v/Y//L/9v/4/wEACAAiAAAAIQAPAAoABQAgAAQACQADAPb/9f/c/+n/BQDv//L/FQDs//3/9v/h//r/1v8UABIADgAnACEAJQAwAAQABwDe/+j/6//h/xUA3f8YAPX//f8AAOv/+//b//r/4P8AAB4ABAAoABwADgA0AAsAHwAYAPn/+f/n/+P/7v/d////8v8LABcAEgAXAAEABwAWAPr/9/8RAOD/6P8CAN3/BgAFABAABwAUACgAGgAiAAwACAD7//7/+f/v/7z/4f/S/9z/7P/w/wQA+v8hAAoAIQAOABgADgAEAB4AEwD3/wYABgDm/wcA9v/n//b//f/l/wYA9P/9/w0AAAALABMABwD+/wYA5f/7//7/9v/+/w8ADwAJACwAIwAOABcABgD7/+b/0//W/9P/xf/u/+D/AAAYACEAHAAuACUAFAAgAAUA/v/h//H/5f/2////CAAXAPn/HwD9/+r/+v/o/+P/4f/v/wIACAApABwALAAYAAgACADh/+z/6v/O//L/AQAGABAAHAAXABUAGQD6/wIA8f/h////7f/x//j/6f/4/wAABgAVAAEAEAAKAPn/HQD6////FgDu/wYACAABAO//DgDg//f/7//Z//z////o//r/DQDy/wgAGgASABAAPAAFABUAGQDr//H/7P/b/9v/8P/Y//7//f/6/yQAFwAPACAAFAAHAAkACQDw/wsAAgALAAQA9v8AAAAA9P/8//D/9//1//3/BAD9/w8AAwACAAAACQD3/+v/BwDo//X/BQDz/wsADQAQAAMAFgAOAO//DwDx//r/AgDu//H/9f/s/wMAAQACAA0AHAAGAAwAGgD9//3////+/+n/BAAAAAIAHQADAAgACAD8//v/AQD7/+j/+P/n//j/DAD//xQAEAAYAAEAFAD9//b/BADu//D/AwD5////BQADAAAAAQAOAO//CgD9/+//AAD8/+n/EgAAAAAAHQDu/wAA+f/u/+7/7v/1//P/AwAKAPv/EgAFAAYADwD2//L/9f/u/+b//P/4//r/EgAFABMAJgAJABkA+f/+/wUA5f8BAO7/8f/9//7/BwD5/w8A9/8IAAIA7P8LAPn/AgAaAAQAEwAOABQAEAALAAwA8v8AAOf/7//4/+n//f/z//z/EwD4/xEAEwABAAkACAAHAAoACAAAAAEA+f8AAAwAAQD9/wcACAD6/xAACQAAABMABAADAAYA9//8/wMAAAD+/wAA+f/8/wcA9v/7////+P/+/wQA+f/1/wgA+f8JAA4AAgAJAAkA+v/8////8v/z//X/6v/6/+z/7v/2//////8GAAgAAQAKAAUACwAAAAcAAgAAAAYA+f////P/+P/z//r/AADp//z//P///wEA+f8BAAgADwAHABEAGQAAABYAAADx/wIA6v/3//j/9v8FAAsAEAAJABEABwANAAcA9////+T/AAD0//f//v/p/wkAAgAAAAwAEQARABUACAALAAEA+P/6//P/9v/4/+//+v8BAO7/AQD7/wMADAAGABYAFwALABcABgAAAAIAAQD6//z/8//8//n/9P/y//j/BgACAAwABwAMAAgABgD4/wAA+f/y/wUA+f8CAP//AQAAAPX/BQAAAAAADAAGAAQABAAEAAMABAD0////9//8/wQAAAAKAAYADQAAAAcABQDz/wAA+P8AAPf/8v////f/9v/8//D//v///wEAAgAEAAkABQADAPv////2//z/+P/4//b//f8AAP//AwAGAPz/BgD4/wAA9P/3////+P//////BgAHABkADQASAAwABAAHAP3/8P/9/+n/9P/5//j/BgABAAgAAgAGAAsAAAADAAcA+P/6////+v8NAP7//v8JAP7//P8EAPn/CwAMAAgAAwAGAAYAAgD///3/+v/3//r/8P/2//v//P/9/xcACAATABIACwAUAAEABAD7/wAA7//t//b/8f/+//z/9f8AAP//AAACAAAABAAEAAYA/P///wMA/f8PAAUAAQAJAP3/AQD8/wMA9v/9//j/AAADAAAADwAGABEABgAQAAIAAAAAAPL/9v/6//7/AAD+/xAAAwACAAAA+P/8/wIA+P/1//j/9v/z//T/+f/4/wIA//8HAAkABwAPAAoAAQD+/wkA/f/7/wAA9v/3//L/+//8/wAAAAAJAAMABwACAAAAAwABAP7/+v8HAAAACAAFAAIAAQAAAAEA9v/+/wAA/f/9//L/BAD+/wYACQAGAA0AAgACAPv/+//4//r/AAAGAA4ABgAKAAgABgD7//z/+P/1/wAA/v/7//3/BQACAA0ABgAMAAEA/f/1/+7/7f/s//D/8v/9/wQAFQAXABUAFAAJAAIA/P/x//X/9//7//v/CQACAAkAEQAOAAcAAwD6//b/AAD0//z/+/8AAPz/BgALAA4ADgAKAAQAAgD5//n/9//2/+7/8////wIACQAPAAwADAAEAO//+P/3/wQABwAKAAgADQANAAEAAgAAAPb/9v/o//P/8f/0//z//f/+/wcAFQAXAB4AEAAIAP7/6//h/+f/6//w//X/+v8PACEAIAAdABcAAwD6/+v/1f/n/+7/8P/1//P/AwALABoAFAAaAAAA+P/t/+D/7v/5//3/AwAcABwAKwAlABcABADr/+X/4P/h//H/+v8FAPv/FwAeABgAFAAFAP7/8f/p//D/6P/x/wsADwAdAB0AGAAeAAEA8//Y/8v/3P/f//T/CQAxAEcANwBBAC0AEgD1/8n/wP+j/7L/yv8HACQAZAByAHUAXgApAO3/pP9z/1T/ZP+K/9P/LgCCALEAxwCxAGUAEwCt/03/I//4/kH/lv/s/3wAwwAIAQkB0QBzAOz/fP8T/8n+3v4N/5n/HwCuACMBXwFHAfQAXgDG/zD/wv6g/r/+I//G/2wACQFVAWQBLQGWAAgAaf/s/qT+qf4N/3X/FQC4AB4BRAFIAeEAXwDO/zz/6/68/ur+Q//E/1cAywAiASkBAgGiABIAov9A/wT/BP8u/4D/+v9bAKkA2gDlALMAWAD3/5D/S/8x/y//av+7/ygAdQCtAMYAoQBoABoAxf+H/1//S/96/6z//f9BAHQAmACMAGoAPwAAAM3/kf+O/5z/uf/h/xkANwBcAFoARgAVAP7/2f+4/8j/xf/Z//X/FgA6AEgAVAAyABgAAQDb/77/sv/C/8r/2P8LAB0ALgA1AFEARQAmAAsA6//C/7D/lv+0/9X//P8oAFsAjAByAGcAPAD6/7z/if+E/3v/qv/l/yYAaACDAIoAbwBIABAA3f+Z/33/bv+B/6n/3/8dAFQAjQCYAI0AbwAcAN7/hv9z/0j/Vv+e/+X/PQCNAMEAxQCDAEsA5f+K/1T/Qv9k/5T/8f88AG4AowCcAH0ATgAKANj/iv+B/3T/hv+4/+L/LgBfAIoAjwB8AEwADwDO/4z/df9y/4z/w/8HAEoAdgCOAHoAUgAdANn/sf+T/4n/nf/T/wIALgBSAGcAYQA/ABcA8v/L/8D/sf++/9v/5/8IABYAOAA4ADcALwAaAA8A8f/m/9T/wP/O/9f/9/8GABoAMgBEADYAIAAQAP//9f/U/9j/2P/u/wYABwAtADYAPAAhABwAEQD0/+n/yf/Q/87/1v/c//f/DwApAC8AKAAgAA8A/P/u/9z/3v/U/+X/6/8FAAgA+P8MAAwADAD3/wgACAAAAAUAAAALAPb////3/wAAAwAFAAAABQAQAAQAAQD8/wAA+P/w//H/7//5//P/BAD9/xEAFQAVABIADQAFAP7/7v/n/+f/5v/t//z/BwAQAB0AGwAOAAcA/f/w/+n/6P/y//H/AAAEAAoAEQAZAA0AAwAEAAAAAAD4/wEACAAAAAAAAAD+/wQA//8AAP//CQAGAPv/CQAHAAEA/P///wAA9//5//H/+v/9//3/BAAKABQADwAOAAYA+//x/+H/9P/n/+3/9/8IABsAIAArAB8ADQABAOn/5//Y/9//5P/6/wgAEwAaAB8AEwANAAAA+f/u/9v/5P/n/+7/+f8DABQAFAAZABgADAD9/+7/8P/o/+z/9f8LAAcAGwAcABYACQD///n/7f/2//T/+P8CABAAEAAHAAQAAwAFAAYACAAFAAwACQD8//L/+//w//r/+f8BAAQA9P///wAAAAAJAAAA/f8JAAIA/P/5//r/+//7/wYABAALAA8ADgAOAAYAAAD3//P/9P/w//f///8EAAsADAAGAAIAAQD1//D/6P/0/+n/7P/8/wQADgADAB8ADwAIAAEAAQAAAPb/8//w//T/+////wgABwAKAAIADAD7/wIA/P/x/woA7v8AAAEABQATAAQAFwAHAAQAAADz//z/8P/2/wAA/P8FAPn///8EAAYABQAAAAkAEAAAAPr/+//y/+n/9/8CAP7/CAAPABUACQAJABAA+P8FAPb//f/4/+v/CADz/xEABQAPABYACQANAPb/AgD6//X/7v/y/wQA/P8HAAAAAwAHAAEAAAD7/wUA9//3//3/+//y//f//v/9//3/BAAJAAoABAAFAPj//v/y/wEA+P/6//v//P/1//n/AgD8////AQAMAA8ABwAAAPr/AAD5/+v/AAD6/xIACAAUABUACwAKAPf/AADq//D/8v/2////9f8KAAIAFAAQAAMAGgAFAAgA8v/x//7/6P8CAAkAEAAbAAoAGAAGAPr////m/+j/5f/n/wEA9P8JAA8AAgAYAP7/CgD5/wAABgD4/wEA9f///wQACQAAAAAA/v/2/wAA/P8KAAAA/v8KAP//DAD9//z/AgDx/wEA/P///wgAAgAMAAsABwALAPz/+P/1/+z/9P/x//7/BAABABoAEQASAAgAAAACAPX/9P/w//X/8//1////BAAKAAwADwACAAAA+v/4//f/6P/s/+3/+f/+/wwAEAAMABIABwABAPv/AAD9//b//P/9/wwACgAHABYAEgALAPj/+v/5//D/+f/v//b/9v/8/wMACAAGAAgADAAKAAAA+f8CAP3/DQAAAAIABAACAAMA+v8JAP7//f8EAAMACAAJAAsABwAFAAMA+P/9//X/8v/v//n//f/9/wgAEAATAAwADAD///3/7f/m/+3/8v/5/wAABgAHABAADgAGAPr/+v/5//P/7//z/+3/AwD7/woAEgARABsADAAMAPH/6P/x/+v/9P/w//L/BQAFAA4AFQARAA4ABQACAPL/6//x/+7/9v8DAAgADQASABMADQAKAPv/9v/w/+3/9//y//P//v8AAAUA//8RABgADAARAP7/+v/9//j//v/8/woADQAEAAsA+v/9//r/7f/6//r///8GAAAACAACAP3/AwD//wAABQD+/wEAAwD9/wUA/v8GAAcAAAACAPr////+//j//P/7/wAA+v/3/wAAAwAIAAwACAAEAP7/+///////AAD///3/BwAAAAUAAwD9//n/8f/6////AgACAAAABQD+//v/AAABAAcACQAHAAYABQACAAEAAQAAAP7//f/+//z/AwADAP//AQAIAAUA//8AAAUABQD9/wAA//8FAAIAAAAEAAYADAAIAAYACwAMAAYA///x/+z/8f/7//7/+//+/wIAAQADAAIAAAAEAAEAAAD7//H/8v/0//7/BQADAAoACwALAAsABAAGAPn/8P/u//T/+f/6/wIACgAIAAIABAAAAAQAAwD///3/+////wQABgAIAAEACAAJAP///v/2//7/+f/5//n/+v8BAAMACwAOAAoACQALAAQAAAD5//7///8GAAMA/v/7//r//v/2/wEAAAACAAUAAAAAAP3/AAD///////////3///8IAAgAAAD///3//f/4//j/+////wAA+P/7//z//P/8//3/AAD+//3/AQAFAAsACwACAAUAAQAFAAUAAQAAAAAAAgD4//r/+v/4/wEABQADAAkADQAGAP3//v8AAPf/9v/4//r//v8BAAAABwAIAAcABgAAAP//+P/1//T/+////wAAAQABAAAACAAJAP3//P/9//7/+f/8//v//v8BAAcADAALAAQAAAD9//b/+v/6//r/AAAFAAkAAwD+/wAAAAABAPn/+P/8//z/9v/2//j//P8FAAUABAAGAAgA///8//3/+f/4//z/AQAEAAwADQAMAAgAAwADAP//AQAAAPj/9v///wYADgABAAAAAgD///3/8P/s//H/9f/4//b/9/////v/BgAEAAQABAABAAQAAwACAAAA//8AAAYACQALAAgAAQABAP3//P/9/wEAAwACAAEAAQD///3//v8EAAgAAwAEAAkAAQACAAAABAAHAAYABAADAAIAAAD////////9//7/+v/9/wMAAgADAAYABQAHAAIAAAACAAEAAgD8/wAACgAGAAMA/P////z//f8FAAIA///+//v/+P/3//7/AQABAAYADgAKAAcAAgACAAYA///5//j/AAAAAPf/+P/8//f/9v/6//3///8AAAIAAgD8//v/AAD9//3///8DAAUAAAAAAAMAAAD+/wAAAQD///7///8CAAQABQAEAAoADgAFAP//AQABAAAABQAIAAAA/P/+/wEAAQADAAgACQAAAP3//f/5//b/8v/8/wgABwAIAAUABQADAP3//v8BAP7/AQAEAAYABgABAAIAAwABAAIAAgD7//L/9P/+/wAA9v/9/wUA//8AAAEAAAD8//T/+P/4//v//P/8/wQABwAEAAQACAAEAAAA/v////f/9P/7//v/AQAHAAsACgADAAQA/f8AAAMA//8AAAAAAAADAAAABQAJAAYABAD9//z/AAD5//P/+v/+/wQAAwAFAAMA//8BAAEAAAADAPr/9v/5//n/AAABAAIABwAJAAgABQD///z//f8AAAMABAACAPz/AAAGAP3/+P/6//7/BAD+/wAA/v/7////+//+////AAABAAAAAgADAP7/AgD///z////7//z/AgACAAQABQAFAAUAAQAHAAwABwAGAAAAAAACAAkACAAEAAMAAgAAAAQABQAAAP3/+//5//v//P/9//j/BQAJAAcABQACAAQAAAAEAAUAAAD8//7//v8CAAAA+//+/wAAAgADAAIA/P/+/wAAAAD+//v//v8GAAMABAAGAAYABQAAAPz/9//5/wEAAAD+/////v/+/wEABAAEAAIAAQD///f/9P/v//b/AAADAAYAAAACAAAA+//+////+//3//r/AAAAAP//AQAAAAUABwAEAAIAAQD9//f/+f/+//7//v8GAAoACgAHAP//+//8/wEAAQD/////9//5////AAABAAMABgAFAAMA/f/6//j/+v/6//n//v8EAAYABgAGAAgABAAAAAAA/v8BAP7/+v/5//v//f8AAAUACwAMAAgABwABAP7/AAD7//j/+f///////f8AAAEAAwAFAAcAAgD7/wAAAgD+/wAAAgAGAAAA9//3//v//P/+//////8CAP3///8AAAMABgAGAAAA/f8AAP3//P///wAA9v/3//3/AgAEAP//AAD//wQAAAD+/wEAAwD///7//f/7//7/AAD+/wEAAQD+//z///8CAAYABQAEAAUABQAIAAsABwAJAAYA/v/6//r/AQAFAAcABQAHAP7/9v/6/wAAAAD+/wIAAAD//////v8AAP///////wAA+/8AAAAA+v/+//3/AAAEAAAABAAEAP//9v/5//7/AAACAAYAAgADAAMA///9//v/AwABAPz/AAAAAPz/AQD///3/BgAMAAcAAQAJAAgAAAAAAP///f8AAP///v/5/wAABAAAAAAA/v/8////AAD+//z/AAAAAP3/BwALAAQABQACAAAAAgD+//7//P8AAAAA/v/9//7/BQAJAAYA/v8BAAQABQABAP7/AgAAAAMABQACAAAAAQAAAAAA+f/2////BAADAP3//P8AAP7/+//8/wAAAgAAAAIAAAD9/wMABQAAAPv//f/+/wIAAgD9/wAAAwD9//3////+/wEAAQAAAP3/9//2//z/AQABAP3//f/5//j/+/8AAAIAAAADAAUA///4//3/AAAFAAQAAAAAAAIAAwAAAAAAAgADAAUABAACAAUAAwAGAAAA/v/+//7/AAAAAP///v/9//v//P/9/wAA//8DAAQAAAD+/wAAAwAIAAUAAQD+//7/AQACAP3/9f/2//3/AAABAP7//v8GAAMAAgAAAP//BAABAAQA/v/4//3/AAAAAP///f/+//z/+P/0//z/AgAEAAEA///9//z/BQAEAAAAAAADAP3//f8AAP//AQADAAcABQD+/wMAAgACAAUAAQABAAAAAAAAAAAAAQACAAEAAQAAAP7/BwAIAAcABAAEAAQAAwABAAIACgAKAAUAAAD4//v///8BAAkACAAHAAUAAQD7//7/AAD//wAAAAABAAAAAgD///v//f///wEA+//4//3/AAAAAAAA/v/+/wAAAgABAAQABgACAAAA///9//v/+P/5//j//f/+//3//v8BAP///f/9//n/+////wAAAAD+//v/+f/7/////f/7//3/AQAAAP//AgAFAAEAAAAGAAMABAAJAAYABwAGAAQAAwAAAAAAAwAGAAYA/f/7//r//v8AAAQABgACAAQAAgD9//v/+f/7//3//f/8//v/+f/5//n//P//////BAACAAMABQAAAAEA/P/+/wAA/f/4//3/AgD///z//f/9//f/+v/8/wEAAQACAAQAAgAAAP///P8CAAEAAAABAAMAAwAFAAUAAAACAAMAAwAAAP7//v/9//7/AQACAAQAAQD6//n/AAAAAP7/AQACAAUABgAFAAUABgAFAAUABQADAAUAAwACAAEAAQACAAMABgAEAAIAAQD+/wAABAABAP3//f8AAAEAAwADAAAA//8AAAIAAgACAAQAAgD+//7//f/7//n/9//6//7/AAD8//f//P/8//r/AAADAAMA///9//3//P/+/wAA/v8AAAIA/P/+//v/+v/7//3///8AAAAAAQABAP3/+//5//j//f///wIAAwD9//3////9//z//f/9/wIAAgADAAEAAQAFAAIABgADAAEAAAAAAAAAAAD+/wAAAQAAAAAAAQAEAAcACQAFAAMAAgABAAUACgAIAAEA+//5//b/9//9/wAAAwAFAAcACAABAP//AAABAP7///8EAAcAAAD7//z/AAABAP3/+//7//v//v8AAP//AAAAAAAAAwADAAMAAwADAAQAAwACAP3//v8AAP3//f/7//v///8AAP7/AAAAAAAAAAACAAAAAAAAAP7/AAABAAMAAAACAAYAAAD5//3/AQACAAEAAQD//wAAAwABAAIAAAAAAAEAAAACAAMAAQAAAP3//v8BAPz/9f/6/wAAAgD9////AQD9//z///8DAAIAAAD9//v/AAD//wAAAgADAAcABwAEAAIABAADAP7/9v/6//3//f/9//v//v/9//b/+v/9////AQD9/wAAAgD9//r//v///wAABAACAAIAAgABAAEAAQAFAAEA/f/+//z///8AAAAAAQACAAcABQABAAQABQADAAMAAAD+////AAABAAMAAQACAP//AQAAAAAA///9//v//f8AAP7/9v/x//r/+//7////AQAFAAMA//8AAAUAAAAAAAIABQAEAAAAAAAAAP3//P/9//3//v8CAAIA///7//3//P/+/wIA//8BAAIAAAABAAQAAQADAAcACAAAAAAABQABAAAAAwD9//7//v///wQABgAGAAcAAwABAAAAAAABAP//+/8AAP///v8AAAMABgAAAP//AQD//////v8AAAgABAD+/wAAAwADAAIAAQABAP/////+//7/AAAAAAAAAgAEAAIAAAD9/wEABAACAAIAAAAAAP7//v/+//7/AQABAP///f/5//z//v8AAAMAAwADAAAACAAHAAEAAAAAAAAAAQABAAAA///7//z//f/7//z/AAAAAPz////+//v/+//5//n/AAABAAAAAgACAAMAAQAEAAgABAD+/wIABgAHAAUAAAABAAAAAAACAAMABQAEAAQAAAD+/wQABQAAAP///P/+/wEAAAACAAIAAwAAAPj/+f/3//j//v8AAAIAAgAAAP//AAD9//3/+////wAA/v8AAP7//P/8//v//v/9//3////+////AQAAAAAAAAD///3/AQACAAAAAAD///n/AAACAP3//////wAAAgD+/wAACgAMAAcAAwABAPv/+////wEAAAD9/wIACwALAAIAAwAGAAkACAACAAMABQD///v//f/6//b///8FAP//AQAAAPz//f/4//3/AQACAAUAAQD9////AAAEAAEAAQAAAP7/+P/6//z///8BAPz//v////j//v8AAP7//f/6//7/AgAEAAIAAAAAAAQABgADAPz/+f/7//v///8EAAcABwACAAAAAAABAAAA/v8AAAEA/////wAA/P/8//v/+f/6//r/+v/9//7/AAACAAEAAAD//wIAAwAEAP///P8EAAUAAwAHAAsABwADAAQA/v/9/wAAAQACAAEA///+/wMAAwAAAAQABQADAAQAAAD//wAAAAABAAAAAQAAAPz//f8CAAIAAAAGAAcABQACAP//+v/+/wAAAQAFAAkADAAGAAIABgAFAAMAAwD+//v//v///wAABgAFAAIABQD+//v//f/4//j/+v/8//r/9//9//v/+v/7//z//f/8//z//v/7//z//v8AAAAA/P/8////AAD+//v/AAACAP//AAD///r/+/8BAAcACAAJAAMAAgAAAAAABQAFAP//AQADAAAA//8BAAMAAgD+/wAAAwAHAAAA/v8DAAMAAgACAAQAAwAEAAMA/v8EAAUABgAHAAUABQAFAAQAAAD6//7/AgD9//3/AAAAAP7/+P/+/wEAAQAAAP7/AAADAAIAAgAAAAEAAAACAAIAAQABAAAAAQAEAAUAAQD5//T/9v/3//T/9//8//3//P/8//z/AgADAAAA/f/7/wAAAQD///z//v8EAAQABAADAAAAAAD8//3/AQADAAIA///9/wAA+f/6//n//f8IAAQA/v8AAPz//f8CAAQAAwAIAAMA+//+/wIACAAHAAIABQAIAAUABQAHAAcACAADAAEABQABAAAABAAFAAUAAwACAAEA//8AAAIAAgAAAPz/+//+//3//f8AAAAA/P/6//r/+v8AAAIA/v/+/wMABgAGAAAA/v8FAAYAAAD+//z/AAD+//7//////wIAAAAAAAAAAAABAP3/AQD+//7/+//3/wIABQD9//r/+//7//z/+P/5//3//P/9//z//P/+/wAA+//3/wAAAwAAAAAABgAHAAUAAgD//wIAAAAAAAIAAwACAPz/AAADAAAAAAADAAcABAACAAAA//////z//f8AAAAAAAAFAAMABgAGAAAAAQD9//3/AAAAAAAAAAACAP//+//9/wEABgAGAAIAAwAEAAEAAAAEAAQAAQADAAcAAAD6//n//v8HAAIA+f/7//3/AQAAAAAABQAFAAUAAAD9//z/AwAHAAIAAQABAP//+v/7//f//P8DAAMAAAD9//3/+//9////AAAAAAAAAQD9//7/AwABAAAAAAABAAIAAAD+/wEA///+//z//P8AAAAAAAD+//7//f/8//z/+v/7//7/AAD+//3//P/8/////f8BAAEAAwAEAAEAAAD5//r//P/+////AAAEAAMAAgACAAAABAABAP7/AQAAAP7///8CAAUABAACAAUABwAFAAAAAQACAAEAAQAFAAYAAwABAAIA/f/+/wAA/v8AAP//AAAAAP///v8AAP//AAAAAAAABAABAAEABQADAAQABQADAAAAAwAAAAAAAgD///7/AAAGAAEA9v/4//v/AAABAAIABAAAAAEAAwACAAIAAQAAAP7/AAD+/wAA//8AAAMAAgD///z//f8AAAAAAAAAAAIABQAEAAUABAAFAAEA//8CAP3/+f/7//3////6//v//v////7/+v/+/wAABQADAAAA/v/+/wAAAAD///3/AQACAAAAAAAAAAIAAwD+/////f/6//v//v8BAP///v8BAAYABAAAAP//AwAEAAUAAwD+//3/AAAAAAAA/v8AAAQAAwAAAAMAAgD///3//P/9/////P/6//f/9//9/wAAAgD//wIAAgAAAAEA/f/9/wAAAgAFAAcAAwD//wIAAQAAAAAA//8CAAEAAQD///7/AAD9/wAAAwADAAMABAAKAAYABQAEAAIAAAD+//r//v////7//f/8//3//f/+/wAA//8AAAYABQACAAAAAwADAAAAAAADAAIAAAD+//7///////v//P8AAP//+//5//v//f8AAAIAAwD//wAAAwABAP3//v8AAP///v8AAAIAAAAAAAAA//8CAP7//P/9/wAA//8BAAMAAAADAAwACQADAAEAAwABAAEAAQD+//v//P///wEAAAAAAAMAAgAFAAYA//8EAAgABAAFAAMA/P/2//j/+P/6//7/AQAEAAYABQAAAP3/AAD8//z/AQAGAAYAAQACAP//+f/9//z//f8DAAMAAAD9//r/+P/+/wIAAAABAAMAAAAAAAAA/f////r/+v/8//n/+P8AAAQABAABAAAAAwABAPz//v8AAAMAAgAAAAUABgAGAP//AAACAP3/AAABAAAA/f/8//////8AAAAAAAAAAAAAAwAFAAEA+//9/wEABAACAAUAAQAAAAMABwADAP///P8FAAUAAQABAAQABwAAAP7/AQAFAAoACQAEAAQABgACAAEAAQAAAAMABAAAAP////8AAAMAAAD//wAAAAAAAAAA///+/wAA//////7//f/8//z//f/4//f/+f/6//n//P/9//r//P8BAAIAAAD5//3/AwABAAAAAAD//wAA/v/9/wEA/f/7/wAA///+//z/AAAAAP7/AgAEAAEA/v/9//r//f8BAAYACQAHAAMAAAAAAAAAAAABAAQAAgD+/wAABAACAAEAAAABAAAAAAD9//3/AwAKAAcABAD7//f/+v/8//7/AAADAAQABAAFAAAAAAD+/wAAAgAEAAAAAAAAAAAAAAABAAYABgAAAAIABwAEAAQAAQAAAAEAAwAAAP7/+////wUAAAD8//v//P//////////////AAAAAAMABQADAAAAAAAIAAcAAQD+//3/AQAGAAQA/P/3//j/+v/7//r/+v/+/wAA/v/9/wEAAAAAAAMABAAIAAMAAAD///7/AAABAP/////+//3/+//5//j/+f/+//z/+//9//r/+/8BAAYABAADAP7/+v8AAAEAAAADAAEA/f8CAAUAAQD+/wAAAQADAAEAAQAEAAQABgADAP//AQACAP///v///wAAAAABAAUABQAEAAUABQAAAAcACgAFAAMA//8AAAMA///9//z//f///wEAAQD+/wIAAgAAAAAAAAACAAMAAAAEAAYAAAD+////AAAAAAAA+//7/////v//////+P/3//r//f/7///////+/wEAAAADAP///v/+//n///8AAAIA///+/wIAAAAAAP//+f///wMA//8AAAAA+//4////AAACAAcACQAJAAUAAAAAAAEAAAD8//n//f////3/AAADAAIAAwADAAEAAQAAAAQABwAFAAIAAQAAAP///f/+//7/AQAIAAkABgD/////AwADAAQACAAIAAYABQABAP7/+//8//3/AAD9//z///////3//f8AAAAA/f/6//3/+v/4//z//v8BAAAA/f/9//r/+P/6//z/BAADAAAA//8AAAAAAAD9//7/AAABAAEAAAAAAAAAAgAFAAIA/v///wQAAQD9//3/+//4//v/BgAIAAcABgAAAP7///8CAAIAAAAAAP7/AQAFAAIA/v8AAAIAAAD8//v//P/+/wUABQAEAAQABgAEAAcAAwAEAAgABQAAAPv///8BAAAAAgABAPz/+//7//v/+P/9/wMABQADAAAA/f/7/wAABQAIAAcAAgACAAEA+//9//7//f8AAAAA/f/6//v//P8BAAEAAAD///z//f8AAP7//v8BAP////8AAP//+v///wAAAAD9//v//v/+/wAA/P/9//3/+/8AAAIABQAEAP7//v/8//3//////wMAAQAFAAIA/f8AAAIABAADAAQABgACAAAA//8AAAIAAwADAAMAAgAFAAYABAAFAAQAAQACAAMAAgADAAMAAgAFAAYAAAD4//v/+//+/wIAAAAAAP3/AQAAAP7/AAD9/wAAAgAEAAAA/f/7//z//v8AAAAAAgAFAAQABQAAAAMAAAAAAAYABgADAP///P/7//z//f/7//v/AAD///z////6//f/+/8AAAYABAACAP///////wMAAgADAAAAAAAAAPv//f/6//n//f8BAAUABQADAAQABwAFAAEAAAD6//r//v8AAAAAAwAAAPz/+v/8////AAAAAP7//v/9//r///8AAAAAAAAAAP3/+P/4////AgABAAMA/P/5////AgD//wAABgAFAAMAAQAAAP7//f8BAAMAAAD///7/AAAEAAYAAwACAAQAAQAAAP7//////wUACAAAAAAABAABAAMAAgAIAAUA/f8AAAAAAAD9////BAAEAP///f///wIA+//9/wIABQABAP7////+/wEAAQAAAAQABQADAAMA/f/6//v/9v/6/wAAAAD//wAAAAAAAAAA/P/4//v///8AAP3//v///wAAAgD+/wAAAwD///7////9//7/AgABAAEA/f/+/wEA/f8BAAkABgAEAP3/AAAAAAEABwACAP////////n/+P/9//7/BQAHAAMAAgABAAQAAQAAAP7/+f/8/wIAAgAAAP//AAACAAQAAQD//wQACAAHAAMAAwADAAEABQACAAAAAwAAAPr/+P/9/wEA/////wAAAAABAP3///8CAAIAAQACAAMA/v/7//3/AQACAAEAAgAAAP7///////n/+////wIA/f/7/wAAAAABAP7//f/+/wAAAQAEAAEAAAAEAAEAAQAFAAIAAQAEAAgABAABAAEAAAD+//3//P8AAAYAAAD5/wAAAgACAAYABAAIAAcA///6//T/8v/0//v/AAACAAAA/P/6/wIACQAIAAgABQADAAUABgD9//7/BAAAAAEA/f/0//r//f/7//3//f8AAP3/AAABAP3//P/8//v//f8AAAAAAQAEAP//AAAAAAIAAAAAAAAA////////AAD+////AAAAAAAA/f8AAAIA/v///wAAAAD+//n/AgABAAAABgAFAAUAAwABAAIA//8BAAUAAgAFAAIAAQABAP7//v////7//P8AAAYAAQD9//7/BAAEAAEABgADAP//AAD//wAAAAD7/wAABAAAAPz/+f/9/wUAAgABAAAAAAD+//n/9/8BAAcAAwABAP7/AQAFAP///f///wAABAAAAPv/+f/6//z/+v/8//z//f///wMABQADAAAAAAAAAAAA/P8AAAAA/f8DAAEAAAADAAIAAwACAAQAAAD//////f/8//3//f/7//v/AAAFAAMABQAHAAMAAgABAAQAAQD+/wAA//8AAAQAAgACAAEAAwADAAAAAQAEAAQA/////wEA//8EAAMAAAAGAAYAAQD///3//v8BAAQACAAGAAEA///+//z/+f/6//j/9v/6//z//f8AAAIA//8CAAMAAAD7//n//v////7//v8BAP//AQAAAPz/AAD+//v/AAADAAYAAwD9//7/AAD+/wAA//8BAAQAAgABAAMAAAAAAAEAAwAAAP3//v8AAAAAAAAAAP3/AwAAAP//AAAAAP///v8DAAYACAAEAAEAAwAEAAcABQAAAP3//v/5//n/+//8/wEABQAGAAMA/v/+/wIABAACAAEAAgACAAEA+v/7//v/+//9//7/AwAAAP///f/6//n/+//+//3/AQAEAAIA///7//v/+f/6/wEAAQAAAAAAAAAAAP////8AAAEA/f/+//n//f8AAPv////9//7/AAAAAAAAAQD+/wAAAAD+/wAA/f8CAAIABAAIAAgACAAHAAkAAwACAAAAAQACAAIA/v////3/+P/+/wAABQAIAAMAAQADAAMAAQD+//z/AAACAAMABAABAP///v8BAP///v8BAAIAAAABAAUAAwD6//3/AAAAAAIA/v/7//v/+P/3//n///8BAAAAAAAHAAQAAAAAAP//AwAEAAAAAAADAAgAAgD+/wEAAAD///7/AAABAAEAAQAEAAIAAwAGAAAAAAAFAAQAAAD9//3//v/7//z///8AAPn/9f/0//r/AgADAAAAAgAFAAEAAAABAAMAAwABAAIAAAD+/wAAAAAAAAAAAwAFAAEAAAAAAAUACAAAAP7///8AAP7/9//2//f/9//6////AAAFAAAA/P////7/AwAEAAEAAQD+//z////9/wIABwAIAAYAAgABAP///v///wAAAgAEAAMAAAAAAAEAAQABAAQABwAEAAQAAwD///r/9v///wEAAAD///7///8AAP///P8AAAEAAQAAAAAAAgABAAAAAAACAAAA/v8BAAEAAgAAAAMAAwD6//7//f/+/wAA/v/+//z///8CAAAA/P/9////AwAGAAEA/v////v///8AAPv/AQAAAP7/AAAAAAAA/v8AAAUABwAEAAAA//8AAP3/+//8//7/AQAEAAEA/P/9////+////wMAAgAAAAAA//8AAAEABAAHAAQAAAD8//3/AAADAAAA//8AAP3//v/+//3/AwAHAAgABAD///r/+v/8//3//v8AAAIAAAD7//3/AAD7/wAAAwACAAAAAQAGAAUAAQABAAMAAgABAAIACAAFAAMABQADAAAAAgABAAAA/v/7//z/AAABAAAA/f/+/wAA/v/9//3///8AAAQAAQD5//X/+P////7//f/8//7/AwAFAAEA/P/4////AQD7//7//f/8////AwADAAAAAQABAAMAAAD9//3/AQADAAAAAAD+/wAA///9//7/AgAAAAAA///5//z//v/7//z//f8AAAEAAwAHAAcABAD/////BAAEAP//AAAGAAsADQAKAAYACAACAP//AAAAAAAAAgAIAAMA/v/+//3//v8EAAEA/P8CAAUAAQAAAP//AQAAAAAAAAD7//7/AAAAAP///P/+//3//f///////v8FAAgAAAABAP7/+v/4//z/AwAAAP//BgADAPn/AAAFAAEA/v///////P/+//z/+//8/wAAAwAEAAQAAwACAAIA///8//r//v////3/AAD+//n/+v8AAP7//v8AAP//+v/3//r/+P/9/wAAAAAAAAIABgAGAAIAAgAEAAQABgAEAP///P///wEAAAAAAAEAAwAFAAYAAAD7//n/AAAAAAAAAQD+/wEAAgABAAAAAwD//wEABQAAAAIA+//9/wAA+v/8/wEAAAD//wAAAgADAAMAAQD+//v/AAADAAAA//8AAAAAAAABAAIA/f/6//f/9v/+/wEAAAD6//3/BQAEAAIAAAAAAAIABQACAPz///8AAAEABwAJAAYABgAIAAoACQD8//r/AQD///7///8CAAYABgAFAAUAAAD+/wAAAQACAAMABQACAP7//v/8//L/8//7//j/+f/9//v/+v/9/wAA/f/7//7/AQD//wMACwAJAAAAAAAEAAQAAwAGAAAA/f8CAAQAAQAAAP7//f8CAAUA///9/wEAAwACAAAAAQAAAAMACwAKAAQAAAD///v//f//////AAD9/////v/8//3/9//4////AQD+//n//P/9//z/AgAEAAIAAAD//wIAAAAAAP7/+//7//7//v/9//z/+//9//7//f8AAAAAAQAAAAAAAwABAPv//P8EAAQAAAADAAUAAgAEAAQAAAD9//v/+//6//n//f/9//3/AAAEAAUACAAIAAIABQAKAAgABwAIAAYABAABAAAA///8/wAAAAD+//7//f/8//n//f8DAAIAAAD//wAABQAGAAIAAwAEAAIABQACAPz//P/9/wAAAAADAAQAAAD//wAAAAD+////AAD+////AAADAAgABgADAAAAAQD+//j/+//7//3/AgABAP///f/+/wAAAwAAAPz//v8AAAEAAAAAAAEAAQABAAUABAAFAAMABAADAAEABwAFAAAA//8AAAEA//////3//v/+/wAAAAAAAAIAAgAAAP3//v8AAP3//v8CAAIAAAD8//r//f/+/wMABAAEAAMABAALAAYAAAAAAP////8DAAEAAAAAAAAAAQAAAAAAAQAAAAAAAwAAAAAAAgABAAAAAQACAP7//f/6//n/+///////+//7/wEA//8CAAMA/v8AAAAA/v/5//v/AgAFAAEAAAACAAEAAAD//wAA//8BAAYAAwABAP7//P/+//7////8//7///8CAAAA+P/8/wEAAAD+////CQAEAAAAAAACAPv/GQAXAPD/EgD0/+T/2//6/+3/JAAsAND/9f/i/wwAKABjAAEAKQAyAIv/y//w/xAARgC3AIf/Z//O/4D//f+UACcA6v/fAAQAxP/4/7//7P8BAdwA5f/z/3L/ov84ADIAMv/1/qX+DP80AKkAoQAvAGz/pP5S/yX/5P+HAHIAzf/O/5L/a/8KAPT/UgCBAF8AngBaAY0AXwBTAF3/MgB0/ur+QgCQ/xYBFgCrAAL/zAHK+gz+l/7O+uAN4wzbBBD/6QArAX4DrQTS+gYDoQFDABL45/O0B7D1fOynAVMRvAtvCP75hPDcAusFHgLr97OiXMPiLdAS+CX3Fo76FwFr2jP+GSG5GnEQWvmO8onrEQLrH0sNcPY09s30VgfDFoMViQIZ4BrTQ/RAIqADX88ga9Mf79ABCPzUcBb/1yqmGB0PBy0xsjCXJH4OP96+4FXc6/BLEvcfRP6g8Gvq7QohCbAIMQvw7WwCD+yEBsIB9gATAK7/DQJM/FYBfwbhAEYAOwN7BwMG7fmZAfUC0gJS+Jr72ALm8mkFufdd+N0PM/08/S8NNgMU9r0AtgWXAp3/uAUTAhX/sPs29jABnAWS+AQF/wFr+iADb/4O+oj7EfrU/lECzwJsBrUEsvqf+Nv53frS/TkCngCOAiz7o/57/fYCSwQFAZr2dPuM/uf6WwkDC5H/dAdA/jH+APd9ARYbr/9X+X/0EgzzArH3gw1KDIgCQPYj/XgCzv9+BCsIq/l+9aL4nQDYDe8HJwYXBcX5qvNK+o78rvueAx79B/71+9b/EPvA/xj/UwDrAtT5lwOrAA4AkQOm/+ECj/7F+dT8RAbaCUoBcwuT/v/4UvYJ/O0AZgKd/z4D0vxg/nAH/gTTC48GbP5T/JT2nPoT+1YAuf9P/zcAY/5D/8QFhwNNBbAB/vsI+Q37lPnfAVgDdwCiALH8Lvu7/jACBwAxA+78dftr/W8A8wO8BFkFrv8t/7X+2/uVBV3+nwBiAc76X/7lAEUCQQP8A1MBowQE/3P+9vwT/5gC2APbCf8Fqfww86z7+PsBBL4JxwZvBBT8GfhT/XoCRAGTB28GXP5B/lD7fv70/n383P8+/7b/P/j5/+4HPwPa9Ij7NgI2/AQCkwO+CdL/sPpl/aj7X/3b/1wGwfwhAJgEdvm1+pj9DwRECQIErP1A/fH4uf6N/XgC+gUe/ysBNvrG++QDDQ7FCGj92fTu8wAA6AILBE4SsAq1/HX5Uu8C+D0EjwGDAFACqv7jARP8vQDHBbP7Dfja/w8BSQJSBvYFov1O+Db5j/jE/9MLCQrJARcB5vqq/Cv7JQJQB1QELQT6/q76Ff5I/sz+6wKKAkcAXfwMAKIAlACxCY4Cc/rz+v/7D/2oAtQFUwJ9+5n+2f6u+wEDYgMyAyACOv7h+wz+kwEFAJQCuQGV/HkBaQAI/L3+DQHO/3/9twBWAVAAVQMS/HT+J/5l+sIA2P3PAKkDPQTdA7YAuv9U/Vz/5QL7Abn9evvX/wn9cP/6BVP+EwEP/fL6Wf44ARcFAQLw/l/+gPy2/i0CSQFhBBED+v3p/hv/fvyj/0MEbv8J/3cANgOGAIYAtQOyAKf9fv4RABf/kwHA/yQCif4F/A3+UgDMAy4ACAK/AGwA7AAo/goAzgO3/Xv/WQMg/aX/HQDHA0UAU/xgAVn8DQDdApUA0/8XAHL+AfsEAYcBmwErBLT9Hf4u/kj6sP7C/roESQMqAIH+oP4JAaz/jQBh/5L+8P2hADMEeQOJAYj7bvrQ/GP+9AHwBPkAewDF/1/9pv2uAEYCXgD8/g3/Yf8NAFEERAIQAi3/Bvyy/Z3/2wBnBksB7ADb/5z7+gG3/6gAoAEM/U38Rf3LAeUBlgQVBRz98vxf/aH8cQJQBPf/RAIa/yv/df+dAaP/YP68AtX/Uv9b/9kANAGc/Gn7af7u/pMAaAJrBJUC1P3O/bL8+//PAFoCkQJwA4gCcf4I/Fr/m//BANEC9P63/zoA/v0W/O//wQCJ+2gAw/8fBBME8AFi/gX+SQBJ+gf+rwE3AP0DDwKzAa7/5f1JAFn96/6ZA4EDVwCS/ij9cvpz/Nn/nAHfAzYEFQEU/iD8xvsJALsAUwNuBTUBXv/3+/39nf35/2sB6QHA/1UCf/5eALcEx/8K/sH/sf0W/b0BQAGBBK0A3/zA/lX+iQBzAi4BhgKN/Cn8JQAW/goB4QJWBJUBYv9OAM78vv27//n/MQHSAT8Btf8uAa77t/zpAA0BKAF7AX0BNwCQ/Z39q//q/xD/fgCxAoIAdgL0/RUABv0b/dcBTv5vA3sCXQHyAPn7Vv1Z/r4AdwFWASYBNAE1AJ7+lP/E/tkAOP9C/14BJQCe/zwAu/9+/k8AkgDw/+kBRABo/wb9nv78/xAAagG7AiQCXwDAABr/FAAb//v8SgHp/xH/8wB4ARgACgCd/x//Rv9OAB0AWwFgAiX/v/9W/7f+AQCM/y8AGABtAGwAAwAsAED///9kADQA2QC/AIgAjP43//X/yP5sAJoAhABJAXz/o/4x/8b/8v5n/zABDQDtACj/bf9vADwAhP7U/9YBTgCH//v+xQEYARYATwAv//v+KgDB/nUAfQGo/9H/N/9v/6P/+AC1Aab/ff8S/0P/hP8FACkCswCsADkAZf6K/3UAw/9Z/y0ASf+NAFABZP/n/y4AHf/G/wcB3wJ/Azj/A//f/Qv9U/5cAMMB1f/9//YAm/9QAO0AHf+e/s3+kwCE/3ABWQI8AVT/NP3M/i8BpwFNAdQB4QC7/mj8Vv4U/00B0AFV/3YAIAAx/2b/OgC2ADoBzf5r/47+zP/xABD/pgClAYQAZP/JAF0A1wATACr+M/8Q/moAIABzAUEBTv+V/hL/nACc/10BFgFVAP3+9P9h/6UAPAEuACn/Mf/o/r//PgHmAS4BWADt/rD+Tv7C/7T/lACZAoYAGAE8AEj/Vv7Z/ln/GP+IAZEBov/r/9L9q/8YAFv/igGdAqEArv5QANb9mv29ACsBZwEiAbgAgf9Y/ur/O/+Y/0cAWwBa/9wAiQDcAFsAzP67/13/2//zAQYBrv94/1f+gv6O/04BEAIfACsAUv9F/pn+FgERAhUBBABr//T+0/7//4UAfP/+/0sB6/9HAeQBTf/+/t/9rf4kALX/PgGgATIAJQA8/lL/gwBGAA0BzgFz/+P+DP8x/gMAoQB0AMYATQADAF4AJgBxAOD/9v9a//n+Rv9OAHgAmwAmARb/lAAYAPT/1wCX/10Af/5P/0sAQwABAQ4Ahv/P/5D+eP/VAOMA9QEkALUAk/8E/5r/Qv8EAO//5/9oADYAXACGAPT/TQBQ/xgAPABt/tf/1P/p/rkAbv+B/0QAQwBcAG4BdQDMAND/5P5L/7oAqQDVAB4ATwBl//v+C/85APwA7f9d/4n/nf+R/4D/AAA7AKwAov8nALcAUgBUALgAEAD4/4r/LP/K/9b/0P9gAGEARAC//2kA7f/a/1X/yP/k/+UAQgAsANMA2/73/5n/t//7AHf/I/8TAQsAyf8lAWgAzf+4/87/ev9jAMH/QwBGATYAjP8NADP/sv8tABYABgEFAN//FP71/nj/RQB1AcoAqwA6AKH+1/9mAGwAOQApAG3/w/9LADcA3wBBALH+2f8kAPD/6AAXAKv/0f/q/tn/JgDCANn/JABz/5L/wf+EANYAUgDl/z3+zv6F/x//HgEQAdAAvgDP/1sALP8DAAkAngAbABYAtf+P/6AAuP/j/+//2v/g/1UA8f9o/wwApP9s/3kA+v8zAMQAEgBZAMD/0wDo/xn/gwAFAHb/l/8NAIoAUABkAAgArQAkAKD/h//+/3b/KwA1AJP/ZADf/37/hf+eAOEAXf+/AEP/y/+UAJT/NQHRAOj/gv/Z/oL/8P/F//b/5ACYAJP/ov8KAHL/GwACAEQAMQAsANb/HwA3/5L/ZAD6/1kACQCT/zsA0P+7/8H/xv8hAPP/rwBkAJsAqQAw/wUAmf8aAOT/uv/O/wUAnwDt/+P/RwBp/8P/LwD+/z4BnQBM/+D/0//A/xIAZgASAB3/Bv+9/woAtgAxAIoAQABP/xEACwB3AEMA7/8wAKL/rP8aAVIACgDV/5P/P/9//yQAmACv/3X/CwAwALIAJ/9aAMAADgA7AFn/SgDX/zMA3f+a/48Azv9m/8//UgBtAHEARgCqACX/Sf/4/53/aADAALAAh/+B/8H/8f9PAPb/1v86/0n/NgD0AKoABQCp/5D/LP/g/7sABgGxAG7/t/+P/woAzf+cAFQAdP/E/4//igBwACoAyP89/2v/bf/AAKUAhwD7/0r/Nv+//7MAzwB7AH4Alv/p/mH/YwAdAGoAhgAvAOn/rf/C/wgAdQC8/xAAHQCz/5MA7//P/0j/FwC1/2IAagBrABMAkP+X/8b/jP/1/6YAZADr/5oAyf9e/0oAYgAmAMv/RADO/03/f//C/zQAPgBMAMUAFAC1/wMAw/+I/9z/ngA+AA8ARv8YALf/5v8yAHEAQQDF/xcAm/90ALEArv8/AG3/Ov+6/zAAcgApAOD/0v+u/zoA2P83AN//4f+E/83/hwAiALwAYgCu////u/8WANj/tf/g/xYA1v/v////bQDg/8//JwAdAFIACABpACsACgDI/0P/0f+v/4n/XgCcABkAZADv/33/aQBW/z0ASAAgAIMA6/80AA4A6v/5/+b/CgAvAJ7//f++/5j/rf9GAGMAAQA3AOD/7f8AANf/NgCtALj/LAAnAN/+RgAjAAsArAAFAPb/qf+g/9L/BgApABwAUwD2/8v/yP8DACcA9f/L/ygAKgC1/9b/BwD6//b/AQD0/00AKAASAA4A0v/r/+3/6P/q/0EAIAAuAC4AzP+k/2L/KgD6/0MAcQAjAOz/gP+v/xwANgABAG4AcwCw//H/TwALAI3/5v/L/6n/ov8pAJAAIwBEABEAlf8RAHQA0/8vAPf/5v/O/4n/DADS/1kAUAAaAPf/9/+9/9//7//u/3oAKgD0/y0AFAADADYAxP+2/6z/SAACAO7/TwAUAMD/uf/S/6P/CgAOAWUA9v9HAHb/kv/k/yQASQADABkA1f/A//n/DgBCACkAg/+z/7n/HAB+ACUAzgDe/53/df+x/44AOAA8ALL/jf+q/87/bQB/ALr//f/b/5L/NwATAMEAIgCU/7f/VP8eAJ4AOgBNAFcAY/9q/8T/HwAfAFQAVgCE/8j/yf8AAFIAXgAsABUAHgC//+H/1P8WAA4A5v/F/6f/8v9AAH8A8v9ZANr/gv8BAB4AbgAqAF8AsP+M/5n/3f9MAF0A/v/9/7T/p/8mAFkAigAFAOf/5/9X/+X/vwCvAOH/GgC//4D/0v8aAOv/DwDg/8T/CwAVABIAMwBfAI3/0v+AANv/HQBAAC8AmP/Z/yMA2//C//3/8v/f//L/BQBRAPD/DwA7ANX/RQArAP7/LgC1/4r/EgDZ/+b/NgD8/x8A4P/M/yEANQD0/0cAGADP/x8A+v/x/0UA8/8FAPD/mv87ADkArv8mAN//qf/P//D/SAARADMAVwDA//H//P/F/yEARAD+/yEA6f/R/+v/xv8QADwA5P8DAPX/EAAkAAkAKwDi/7j/AgAKABwAGABAAPz/tf/e/+H/CwAuAD8Au//M/7n/9/9NACwAYgAoAAAA5f/Y/xMADgDj/wcAxv/9/woABwAXAO7/zP/K/x0AEwAZADEABgDj/+z/BgAAADcADwDz/97/vf/m/x8ACgABAAoA3v8aAP//AgAhAOT/NgD9//P/KQDV/+r/yv/E//7/FQAlACUA0v8XAAoA3/8kABYAHgAaAAAA+f/r/xoAEQARAOr////M/+b/5//x/zkA5f9TAPb/8f/n/+//EQALABQADAAPAOf//f/h/+D////V/9X//f8PAB8AFQAkAC4ABgAyAC8A1P8EAO//pP/9////+/8UAAoA7v/o//j/FgADAAUAFwD//wIAIQAPAPH/JwD5/+7/AwAnAPb/4P/4/9z/zf/3/x8AGAD///b/BgD9//H/GgAdAPr/2f/9/xoA9v8/ABYA4/8BANX/6f/0//b/CQDZ////CwAcACwAQQAEAMz/5v/l//v/DgAKABAA5//7//3/BQAFAAsAyf/x/+b/DQA/ACAAFQATAAsA6/8SABsA///d/93/7v/V//L/IQABAP7/AQD5/yEANQABACIAIAD//+r/5f/l/9z/6/8OAOv/7v8LAPj//v///wgAFAAFABgAFAD+/yQACQAQAPP/5P8JANj/9f/S/wAAGwDp/ywABQAHABAA4P////v/OgAYABoAEwD3/x0A7v8FANr/6v/g/+D/+/8SABEABwAhAPD/BgAhAPj/9P/v/+X//v/2//j/DgD+//3/2f/z/+r/8/8NAAUACwAPAP7/BQAOAA4AEwAfAO7/AwDn/+H//f/2/wwA5v8EAAAA//8DABQAFgAGAAQA/f8PABAAGgAJAPT/DwDo/wAA9f/6/wIA2f/t/9//CAAFAPX/JgAaAAUABQAPAP7/AAAdAPT/+v/h//L/3v8OAPv/CgAKAPz/BwDp/xMAEwARABgAFQAPAPT/FAD2//v/+//b/+j/7v8DAAkAFAACAAUACwD7/w4AFAAAAA4A8f8OAPT/AAAbAAEAAAD7/97/7f/h//L/DwAGACUABAAEABIA3P8AAAAA6//1//L/+P8JAOT/CQD3/9v/DADk/w4AEgD//xoA/P8NAAIABwD+/wAADQABAOb/BAAFAOT/9P8LAPX/+f/6/wUAEgAVABoAEQASAB0ACAD4/xIAAAD+/wEAAADr/wEABADz/wUA+P/9//z/BgAbAPr/DAD6//f/9/8BAAQA///8/wYA9//0//P/5v/q//f/8P8FAAEAFgAaABQADgAGAAkA/P8AAPL////8//H/CQDt/wYABwD4/wYAAgD//wIADQD6/xUAAQAWABUACQARAPv/6v/w//v/+/8BAAIA7f/2//z/AgANAAIABgDz/wEA+/8DAA0A/f8DAPT/9f/8/wIABAAEAOv/5v8CAPr/EAAAAA4A/f/4/wQAEwAKAAAABgDm//7/9f8BAPf/9v8BAAYA7/8XAAgA8f8NAPv/9/8VAAkADQAPAAEA9v8AAAkA//8AAAoAAQAJAPT/BQAMAPn/+v8UAOn/CQAIANz/DADy//z/+//8/wUAAAAIAPL/CQAFAPT//v/x//T/AAAMAPj/EAD0//f/BgD//xEAAAABAP7/5v8CAPj/AwAOAP3/CgD5//3/FQAKAAUAFAD8/w4AAAAHABQA+v/+/+v/8f/5//b/AgD4//P/BADy/wYACgAAAAEABADt/wAADQD7/xIA+//1//X/9f/5//f/9f8CAPb//f8HAA4AFgAHABkAAgDz/wYA8//0/wMA+//4////BAD3/wIAAQD7/wcA/f8AABAAAwASAA4ABgANAAgA/////wEA+//t/wAA9f/s/wcA8v/y/wYA+v8DAAwA+v8VAA8A9v8VAAsA+f8OAAEAAQD6//f/8v/3//b/9f8CAPv///8YABAADwAcAAUABQAFAP7/AwD5//b/+/8AAPb/9v8FAPb//f/2//T/AQADAAwAGQAQAAUAAQAQAAsABgAIAPb/4v/t//f/9v///wQA/v/3/wMA//8AAP3/DAAGAP//DgADAPj////8/+v/9v/w/+b/7//1//v/9P8EABAACAARABYABgACAP3/+f/1//v/AQAAAPn/AwAAAPb/BgD7/wQADgANAAsAGAANAAkADAD//w4A+v/7//j/7v/z//X//f////7/AwADAAkADwAGAAsACQD7/wQA//8DABAABQAKAPf/5P/7/+3/7//+//v/9P8DAAcADAANAA0AEAAGAAIABwD9/wgA/P/y//n//P/r//n/+f/q//r//P/9/wQADgAXABEAEgARAAkAAQAGAAAA7f/y/+7/4P/v//T/8v8BAAYA//8NABAABQASAA8ADwAKAAgACgAGAPz//P/4/+7/8f/s/+f/6//3//f/BwAKAA0AEQAZAA4ABwAJAAMA/v/+//z/+f/5//b/9P/4//T/+f/5//z/AAAMAAoAFgAcABIAHAALAA0AAgD6//b/7f/o/+f/8//1//f/BgAAAAgADwAHABIAFwANAAYAAwD///7/9v/6//f//f/z/+f/9P/w//z/CgADABMADgARAA4ACAACAPz/AQD8//j/+P/1/+//7//r//L/AQAAAAkACwAIABIADQARABoAFwAHAAIA/f/z//n/8//z//D/7v/0//f/+/8DAA4ACwAIAAgAEQAMAA0AFQAFAAEA+v/y//L/8f/t/+n/7P/2//n/BAAGAAYADwANABEAEwANAA4AAAD1//b/7//t//n/8v/z//3/+f/+//////8PAAsAEAAVAA8AEAAKAAQAAwAAAPz//P/4//b/7v/s//T/9//9/wUABQAGAAcACQAHAAYACwAJAAQAAgD8/wEA+v/s/+//7v/1//X/8v8DAAIA//8NAA0ADAAWAAwACgALAP3/AAD+//H/+v/y/+7/9P/v//b/+v/6/wQADgAQABMAFwASAA8ADgAJAAUAAAD+//r/8//s//T/9f/4//3///8BAAcABAAHAAoABwAFAAEA//8BAPv/+//v/+X/+f/y//P//v8CAAgADQADAAUABQAAAAoAAgAGAAgA9v/6//v//v/3//n//P/4/wMA///5////AgAJAA4ADgAUAA0ACgANAAYAAwD///X//f///wEA///4//7//P/+/wAABQAAAAYADQABAAgABQD8/wIA/P/0//f/8//x//H/7v/6//z/AAABAAIACAAHAAoADAADAAcAAAAFAAQA/f8AAPf/+//6//v/+v/3////BgACAAUACQADAAcAAgABAAYAAwAAAAAAAAD+/wAA+v/8/wAA/v8AAAAA/v8AAAMAAQD9/wkACAAHAAQAAAAEAAAA9P/z/+3/8//7//3//v8AAPz/AAD//wUABQAFAAkABQAGAAcAAAACAAMA+//7//j/+v////z/+//9//3/AAAEAAgACAANAAsAEQAOAAgAAAAEAAAA/P////f/9v/2//b//v/8//v/+/8AAAUADwAPAAkACwAJAAcAAAD4//T/8f/3//r/9//x//b/9v8DAAQA//8FAAEACQAIAAQABQACAAIA/f/8//3/8v/2//j/9f/5//r/AAAGAAEADQAMAAsADAAIAAkABgAFAAYAAQAAAPv/9v/5//X/8//8//r//P8BAP7/BQAHAAoADwALAAsABAD+//z/+P/2//L/8f/3//X//P8AAP//AAADAAYADAAIAAcAAgAHAAYAAwD///z/+v/3//n/+f/5//3///8JAAcACAAOAAcACwANAAcACQADAP//BwD9//r/+//0//j/8v/y//n/+P/5//n//P8FAAsACAAKAAkABQAFAAUABgD///z//v/5//7////9//v/+v/7//r///8HAAUABQAGAAQACQAFAP3/BAABAAAAAADz//v//f/4////AAAAAAYACAALAA4ABwAHAAMABgADAP///f/5//j/9//2//b/+//4//r//////wYABgAFAAoACQAFAAcAAAD+/wMA+//1//L/9//1//X/+//3/wAABgAHAAwABwAIAAcAAwABAAcABQADAAMA//8AAPr/+//7//z//////wAABAAGAAgABwAKAA0ACAAGAAUAAAD5//f/+f/5//f/9v/0//n/9//6//r/AAAGAAUABgAFAAYABgACAAIA/v/0//v/+v/7//z//f///wEAAAD+//3/AgAFAAoACAAAAAIAAAD+/wAA+//7/wAAAAD+/wIA//8DABAADAAMAA4ABwAGAAQA/////wAA+//5//r/+f/7//r/+v/6//z/+/8AAAIAAwAHAAgAAwABAP7/+f/9/wAA+f/7//r/8v/4//v/+/8AAAAA/v8HAAUABgAKAAgACQAJAAUAAAD+//7//P/6//3/+v/6//////8DAAMAAwAJAAoABwAGAAUAAgAAAAEAAAAAAP3/+P/5//z/+//8//v//f8AAAQACwAMAAgABwACAAAA/v/9//7//f8AAPz/+f/9//r/9//8////AwAKAAkACAAJAAcAAwAGAAEA/v////3/+f/6//n/+/8BAP7/AQAGAAEAAQAHAAYABQAFAAMAAwADAAEAAgABAPr/+P/7//n//P8AAP3//f8CAP///v8CAP3//f8CAP//AAABAP7//f/+//f//v8BAPz//f/9//r//v8EAAIABAAGAAEAAgACAP///P///wAAAgAEAP7//v8BAP7/AAD/////AwADAAMAAgAAAP//BQAIAAYABwABAP7/AAD9//7///8AAAQABwAGAAAA/f/7//j/AgD///7/AAABAAQABAAAAP7/AAAAAAMAAAD9/wAAAgAAAAAAAAD9//r/+v/7//n//v8AAAQABgAGAAYABwACAPv/+f/+////AwABAAAAAQD//wAA/P/6/////f////z/AAAGAAgACQAIAAUABAD+//j/+v/9/wAAAQADAAAABAD//wAABQAAAP//AAAAAAQAAwAAAAAABgAAAPn/+f/8//3/AAAAAAIAAAAAAP/////8//r//P/3//z/AAAEAAMABgAGAAYAAQD9///////9//3//v8AAAMAAwAAAAIAAQABAP///v/4//n/+P/9/wAAAwAAAAAAAAAAAAAA/v///wAAAwAEAAIAAAAEAAQAAQD///3/AAD//wEABAAFAAMAAQD//wAAAAD7//3/AgAEAAAAAAABAP7/AAAAAPz/+//7//z/AQAFAAYABgAGAAQAAgAFAAAA/f/8/wIAAwD8////AQD//wIAAgAAAP7/+v8AAAAAAQACAAMABQAAAAAAAQAAAAAA//8AAAAAAQD+/////P/7//z/AAD/////AQABAAAABAAEAAIAAAD6//z/+//7//v/AAABAAEAAgAAAPz//v/8/wEA//8AAAEAAAABAAQAAQAAAP3//v/+//3//P/9/wIAAwAGAAcABwAEAAIAAQD9/wAAAQACAAIAAAD//wIAAQD//wIAAQD/////AQD6//f/9//+/wIABAADAAAAAAD+/wAAAgABAAAABQAGAAUABAAFAAQAAQAAAAAA+//3//v//v8BAAUAAgACAP7////8//3/+v///wEAAAACAAIAAwABAAIA/v////7//f///wAA//8AAAIAAAAAAPn//f8AAAIAAQAAAAMAAwADAAEAAAD7//r/+P/6//3/AAADAAQABQAGAAUAAgD//wAAAwD//wAA///+/wIACAAMAAQA///+//r/+v/+/wAAAQADAAUABAAAAP3//P/9/wAA//8BAAEAAAABAAIAAQACAP7/+f/6//r////9//7/AAAAAP7//v8AAP7//f/8//v//v///wEABAACAAIAAAD//wAA+v/7//7///8BAAEAAwADAAMAAQAAAP7/AQAAAAMACAAIAAgACAABAP///P/+//3//f/+/wAABAAFAAMAAQACAAIABAD///z/+f8AAAIAAwACAAIAAgD///3/+v/4//r/AAAAAAMABQABAAAAAAAAAAAA/v/7//n/+f/7//7/AAAIAAcABAADAP///f8AAAAABAAHAAkABQABAAAA/P/5//n/+//8/wEAAgAFAAgAAgD+//3//P/6//n//f/9/wAAAgADAAIAAQD///7//f/9//3//f8AAAMABgAIAAkABwAEAAAA/P/7//3/AQADAAQABwAHAAYAAwD7//r/+//5//3//v/9/wIABAADAAIAAgABAP3///8CAAAAAgD//wAAAwADAAEA///5//v//f/+/wAAAwACAAQABAADAAAA/P/6//j//v////3/AAAEAAMABgAGAAEA+//4//n/AAAAAAUABwAFAAQAAQD///r/9v/8//z///8DAAUABgADAAMAAwAAAPz//P/+/wEABQAEAAYACQADAAAA///7//f/+P/+////AAAGAAUABAABAP3/+//7//r/+f/9/wUABwAEAAEAAQD/////+v/2//r//v8AAAAAAwAHAAcAAwAAAP3/+//5//n///8DAAYACQAJAAUAAAABAAAA/P/5//7///8EAAUABAADAAEAAQD///r/9//3//v/AgACAAUABAD//////P/+//n/9//7/wEABQALAAgABQABAAEA///8//j//P/9//7/AQAAAP////8AAAYABAD+//3/AQAHAAcABgAFAAQAAAD///7/+//5//7/AwADAAYACAABAAEAAgAAAPv/9//8////AAAEAAIAAgAFAAIAAQD///3/+//8//7///8AAAEABQAIAAYAAgD9//r/+P/4//7//////wMAAwABAAAA+v/0//n/AAACAAAABAAIAAcABwACAP3/+v/8/wAAAAABAAIABQAFAAMACAAFAAAA/v/8////AAD/////AgACAAAAAAD+//3/+v/6//j/+v/+/wAAAgABAPv/+//5//n//f/9//7/AgAFAAUACAAFAAQAAQD9//n/9P/6//3/AAAFAAcABgAHAAEA+v/8//7/AQACAAMABQAEAAQABwACAP///v8AAAEAAAAEAAYACgAJAAkABQACAAAA+f/3//n/+v///wIABQAJAAkABQD///f/8v/6//7///8EAAQABAAFAAEA/P/3//r/+//8/wAAAgAFAAcACwAJAAUAAQD9//r/+//7////AwAGAAkACAAHAAEA+v/2//H/8//5/wAABQAIAAkABwAAAP7/9v/z//P/9//7/wAABQAGAAMAAgABAP3/+v/5//r/9//9/wAAAQADAAUABAD+//n/+f/3//b//P8AAAUADAAMAAwAAwD9//z/9f/5//z///8IAA0ABwADAP///v/4//n/AAACAAkAEAAQAAwABgD+//v/+v/3//j/+////wAACQAJAAQABQACAP7/+//0//b/+v/8////BQAGAAIAAQD9//3//P/8////AwAGAAQABwAJAAgAAQD9//z/+//8//v//f/9/wIACAAIAAUAAgABAAAA/f/+//v//f8GAAkACwALAAIA/////wAA/P/6//3//v/+/wQAAAD///7/+//7//r/+/8CAAEAAwAJAAkAAgD//wAA/f/8//r//P8AAAIACgALAAcAAQD+//z/9//7////AwAGAAgACAAFAAQA/P/2//b/+P/+/wAAAQABAAIABgAEAAEA//////z/+P/4//v//v/+/wEABAAEAAEA/f/3//b/9////wAAAQAAAAAAAwAAAPr/9v/4//3///8BAAIACQAKAAcABgAAAP3//P/6//3//v8EAAgABgAGAAMAAAD/////AAD//wAABAAGAAkACwAFAAYAAQD4//j/+//+/wAAAwAEAAYACAADAAEAAwD///z//P/6//3/AQAAAAAAAQAAAAAA/f/4//v/+//7//z///8CAAYABQACAAAA/f/8//v//P8BAAQACAAIAAgABQD9//7/+f/3//7///8AAAIACAAGAAQABAACAAAA/P/8/wAAAAD9/wEAAwAFAAMA///5//b/9P/1//n//f8AAAQABgAEAAEAAAAAAPr/+v/9/wAABgAIAAoACQAHAAUA///6//r//v///wIABAAJAAwABAD9/////P/7//z/+f/7////AAABAAAAAAABAAAA/v/+//3//f8AAAAAAAADAAIAAgABAP3/+f///wAAAQD//wEAAgACAAEAAAD///7//f/6/wAAAgADAAUABAACAAMABAAAAPz//v8BAAIA/v/+////AAAEAAQAAQAAAAAA/v8AAAAAAQACAAQAAgD///3//f/6//3//f///wAAAQABAAIABAADAAAA///7//f/9f/5////AQADAAcAAwD//wAA/P/9//3//f8AAAMABQAFAAoACAABAP///v/9/wAAAwAHAAYABQAGAAAA/////wEAAwACAAIAAQAEAAAAAAAAAAAA/v/6//n/+//7//3//v/+/wIABQAGAAMAAAD8//j/+//6//3/AwACAAIAAAD//////f/8////AQABAAIAAAAAAAMABgAFAAIAAAABAAIAAAD///v/AAADAAYABQAAAAAA/v8AAAIAAQADAAYABwAHAAEA+//7////AQD+//z///////3//f/+////AQD//////v8AAAAA/f/+//7/AAD+//v/+v/6//v/AAAAAAIAAAACAAEAAgAAAP7///8AAAAAAAD//wIABAADAAAA/v/+////AAD/////AgADAAQABAAAAAAAAAADAAIAAQD///3/AAABAAMAAQAAAAAAAAD///3/+//+//3///8AAAAA/v/8//r//f/9//r/AAAEAAYABwABAAUABwAHAAcAAAAAAAAAAAD//wAABAAFAAcAAwAAAP///v/8////AwADAAUAAQABAAIAAAAAAP//+v/6/wAABQADAAAA/////wAAAAD+//z/+v/+////AAAAAAAAAQAAAAAA///7//f/+f/+/wAAAgACAAUABAAAAAAA/f///wQABwAHAAMAAwAFAAAA///+//3//P////3//P/8/wAAAgAEAAYAAgACAAIA/f/9//r/+//+//7/AQACAAIAAAD///z/+//8//3///8AAAIAAgAAAAEA///8//v/+////wEAAQD///3/AwABAP3//f/7//3/AwAHAAQAAwAFAAkACwAEAAAA+v/8//3//f/8//7/AQAEAAMAAgD9//z//v/9////AQADAAEAAQAAAAAAAQACAAAAAAABAAEAAgACAAEAAQABAAEAAQD+//r/+v/9////AgAAAAAABQAIAAYAAAD7//z//P/8////AgAFAAQAAwADAAAA/v/+//7/AAAAAAAAAQAGAAIA//8AAP7//f/8//3/AAABAAIAAwADAAQA///+//3//P/6//X/+f8AAAMABgADAAMAAgAAAP//+//6//3/AAAFAAYAAwABAP////8AAAAAAAD+/wAAAQACAAEAAQAEAAgACAAFAP3/9v/2//j/+////wIAAwAEAAUAAwAAAPv/+//+/wIABQADAAMABAACAP//+f/5//3//P/7////AAAAAAAAAAABAAMAAAD//wAA+//6////BgAKAAkADAAIAAIA///8//3//v8BAAEAAQACAAMAAwAAAP7/AAAAAP3//P/7//3/AgADAAMAAwD7//n/+//7//v//v8AAAIAAgABAAQAAgD+//n/9//6////AQADAAYACAAHAAAA+P/6//z//P8AAAAA/v///wAAAgABAAAAAgACAAQAAwABAAMABwAJAAcAAwD///3/+//7////AAAAAAEABQAHAAQAAAD9////+v/7//3//f8BAAQAAwAAAAAAAQD+//3/+//9//7//v/+//7//f8AAAMAAgAAAP7//P/9/wAAAQAFAAUABwABAPz//v///wAA//8BAAUABQAGAAMAAgAEAAQAAQD9//3//f///wIAAQACAAIABAAEAP///f/1//T/+v/+//3//v8CAAUAAAD6//v/+v/7//n/+/8CAAUAAQAAAAYAAAD+/wAA/////wEAAAAAAAAAAwAGAAQABAAEAAEAAAAAAAAAAwAJAAoABwADAAEA/v/7//r/+P/5/wEAAwAEAAUABgAGAAEA/f/5//v//P///wAAAQABAAAAAQD+//z/+v/4//r/+//9//7/AAAAAAQABAABAP3//f////3//v8BAAAABAAFAAEAAgABAP7/+v/4//v/AQAEAAUAAwAEAAMA/v8AAAAAAAACAAAAAAAAAP3/AQABAAQABgABAPv//f8AAAAA/P/9/wEABAD///z/AAAAAAIAAAAAAAAA+//9/wAA/////wAAAQABAAQABQADAAMAAwACAAMAAwAFAAUAAQABAAQAAwADAAAAAAAFAAQAAgADAAAAAAD9//7//v/+/wAAAQACAAQABAAAAPz/+//8//z//P/9//3/AAAEAAQA/v/7/wAABAADAP7//P////7//P/7//7///8AAAEAAQD9//r/AAACAAMAAwAAAAIA/f/7//j/+//+/wAAAQADAAQAAgD///7/AAD+//z/AQABAAAAAwAFAAMAAgABAP//AAD+//3/+//6//3////9//7//f/+/wAA///+//3/AAAAAAAAAAD+//3/AAACAAAA//8AAAIABAAEAAYABAAEAAEAAAAFAAQAAAD+/wIABgADAP7/AAAAAP7//P/7/wAAAQABAAEAAgACAAEAAAD+//7/+//8//7//////wMAAwACAAAAAAAAAAAAAQABAAQAAQAAAAAA/v8AAP7/AAAAAAAAAwACAAMAAwAAAAEAAAAAAP////8DAAIAAAABAAEABAAHAAUAAQD9/wAAAQABAPz///8AAAAAAQAAAAIAAQD//wAA/v/9//n/+f/9////AAAAAP7//f/+//7//v/9//7/AQABAAEABAABAP///P/7//3//v/7//v//f8AAAQABAAEAAQAAQACAAAA/v8AAAQABgADAAMA///8//z//f/9//z///8CAAYAAwACAAQABAADAAAAAAAAAP3/AAADAAQAAwADAAEABAAFAAAA/P/+/wAA//////j/+f/9//3//f/+//7//////////f8AAAAA/f8AAAQABAADAAQAAgABAAAAAAAAAAAAAAAAAP//AAAAAP3//f///wIABQABAAMABQACAP///P/8/////P/+//3//f/+//7/AAAAAAIAAwAAAP//AAADAAMAAQABAAEAAAD///7///8CAAEA/v/8//7/AAACAAMAAAABAAEAAwACAAEAAQAAAAAAAQABAP///f///wEABAAAAP3/AAAFAAUAAQAAAAMAAQD+////AAABAAEAAQAAAAEA///4//z///8AAAMABAACAAAA//8AAP//AAD9//v//v/+/wAAAAD//wAAAAAEAAAA/P8AAAQAAwAAAP7//v/+/wAAAwACAAEAAgD9//3//////wAA///+/wIABQAEAAAAAQAFAAEA/f///wAA/v8AAAIAAgADAP7//f/7/wAAAQD9/wAABQADAAMAAQD///3//P8AAAAAAAAAAAIAAgD9//3///8EAAMAAgADAP///P///wAAAQACAAIAAwD//wAAAAD+//3//P8AAAEA///9//3/AQABAAEA//8AAPr/+/8BAAEAAwAAAAAAAQAAAAAAAAD6//v/AAACAAIAAQABAAAAAAAAAAMAAgAAAP3/AAAAAP3///8FAAYABQADAAMAAgADAAAAAAABAAQABQADAAMAAQAAAP//+v/8/wAAAAACAAMABAAAAPz//P/9//3///8AAP//AAAAAP7/+v/9/////v8AAAIAAQAAAP///f////z/9v/7//7/AQD///r//f///wQAAAD//wMABQAHAAEA/////wAAAAAAAAYABQADAAAAAgD///3/AAD//wAAAQAFAAMA///4//v//v/9/wAAAwACAAAA//8AAAAA/P/+//3//P8BAAIAAQAAAPr//f8AAAAAAAD+//7///8AAAUABAACAAMAAQAAAAEAAQAAAP3//f/+/wIABgADAAIAAwABAAAABAACAAAA/P/+/wMAAAABAAEA///+/wAA///9/wAA//8AAAEAAQD//wAAAAD8//7////+/wAA/f/+/wAAAAD/////AAAAAPv/+//+/wAAAwACAAEABAAEAAYAAAD//wEAAwADAAEA//8BAAQABwAEAAAAAgABAAAA/v/8//7/AQAFAAIAAAAAAAIAAQD+/wAAAQAAAP7////9//7/AAAAAP///v8DAAAA/v8AAP7///8CAAEAAAABAAEAAAABAAAAAQAAAPz/+//+/wAAAAAAAP7/AQD///////8AAAEABQABAAAAAQD+//z/+v/8/wAA///+////AAACAAAA+/8AAAEA///+//7/AAD9////AAD9/wAA//////7/AAABAAMAAwAAAAAA/P/+/wAAAAD6//r//v///////v8BAAQABgADAAAAAAD//wAAAAACAAQABQAFAAMAAgD//wAAAAABAAEAAAABAP//AgAEAAUAAQAAAAQAAwAAAP3/AAABAP///P/8////AQAAAPn/+//9/wIAAwABAAMAAAD///3//v8AAP//AAAAAAMAAwABAP3/+/8AAAUABgACAAAA/v/+/wQAAwD+////AgABAAMAAAD7//3//f8AAP/////9//z//P/6//v/+f/8//7/AQAFAAcABQADAAAA//8AAP//AwAFAAAA/f/6//z//f8AAAAA/////wAAAQD//wAAAwADAAIAAgD//wAAAgABAAEA/////wAABAACAAIAAwACAAEAAgAFAAIA//8BAAAAAQACAAAA///7//3///8AAPz/+f/9//r/+v/9/wAABAAHAAUAAAD8//z/AAACAAEA/f/+//7//f////3/AQABAAMA///8/wAAAgAFAAQAAwADAAAA//////3//v///wAAAQAAAAMABAADAAIAAQAAAAQACAAFAAIAAgAAAAAA//8AAP//AgADAAAA///9//3//f8DAAMAAAD8//n/+//+//7/+v/+/wEAAAD///r/+v/9/wAAAQAAAAAAAAAAAAEAAgADAAUAAgACAAMAAQADAAQAAgADAP7//f/+/wAA/f/7//v//v/+/wQACQAHAAEA/v/9//7//f/9//z/AAABAP3/+v/8//3/AAAGAAUABAACAAEAAQD//wMABQAAAAAAAAAAAP3//f8AAP//AAACAP///P/9//3//v8AAAIAAQACAAQAAwADAAEA/f8AAP//AAD//wMAAAAAAAMABAAAAAAAAgAAAAAA+v/6////AgABAAAA///8//v///////v/AAAGAAIAAAABAAEAAAAAAAEA/v/7//////8CAP7//f8AAAIACAAHAAAA///9//3///8BAAQAAQAEAAQAAwABAAAAAAAAAAEAAAAAAAEAAAABAP7/AgAEAP//AAAAAP//AwACAAIAAAD+/wAA/f/9/wAA//8AAAAA/v8BAAIAAgAAAAQAAAAAAP7///8AAP///f/9/wAA/P////3//f///wAA//8CAAQABAAFAAEAAAD6//z//v8AAP///P/+/wEA/v8AAPz/AgACAAQAAAD///r/AAAAAAAAAAD9//3/AAD///////8AAAAAAAAAAAAAAAABAAAAAgABAAEAAQACAP7//f8CAAQABAAAAP///P/+//v//v///wMAAwAGAAQABQD+/wMAAAAEAAAA///+/wAAAAAAAP3//v8CAAEABQD///////8BAAIAAQAAAAQAAgACAAAA//8DAAcAAAADAAAA/v8CAAQA+v/7//n//v/9/wEAAQAEAAgACQAFAPn/+P/6/wAA/v8EAAIA/v///////v/8////AgAAAAEAAgACAAQAAgABAPr/AAABAAQAAAD///3//v/6/wAAAAAAAAAAAAD6//v/+//+////AQABAAAAAQAAAAAAAQAFAAMAAAAAAPz//P/+//3//v/9/wAAAAADAAMAAwAAAP7//v8AAP3/AAAAAP////8AAAEABQAEAAQA/v8AAAMAAAADAAAAAQD8/////v8AAPr/AgAAAAYA/v8AAP//AwAAAAIA/v/6//7/AQADAAIABQAEAAYAAAAAAP///f///wAA//8AAAEAAAABAAMACAADAAEAAAAAAP//AAAAAAAABgACAAAA/f/7/wAAAAACAAEABQAEAAUA/v8BAPz//v/8//z/AAAAAP//AAABAP7//v/4//z/9//+////AAD9/////f8CAP7/AAAEAAIAAAAAAP7/AQAAAP7//v8AAP//AgD+//v/AAAFAAIAAwD//wAAAAAAAP///f/5////AAADAAQAAQABAP//AgABAAQA///+//7/AAAAAAEA/f8AAP3//v/+//3//f8BAAAAAwADAAYAAQAEAAUABQACAAEA+//9////AAAAAAIAAAACAAQAAAACAAAA///+/wAAAQACAAIAAQAAAP7/+P/7//3//f8AAAEAAAD+/////v/8//7//P///wIAAAABAAQABAADAAMAAAD9//z//f/8/////f8AAAAAAAACAAAA+//8//z//f/9/wEAAwABAAUABAAAAPv/AAAEAAIAAwACAAMABAABAAIAAgAAAAAAAgACAAkABwAFAAUABAACAAAA/f8AAAAAAQD+/wAAAAABAAAA/v8DAAIABAAAAP//AAAEAAAA///5//3//P/9//3/AQAAAAEAAQD///7/AAAAAAMABAAAAPz//P/5//v//P/9//r//v8EAAQAAgAEAAUAAgD///v/AAD///3//v8BAAAAAwD+//3//v/7////AAACAAAAAgAAAAAA/P8AAPr//f8AAAYABQAEAAMABAACAP/////8//3///8DAP//AQAAAAEAAAABAP7/AQAEAAcABAAFAAEAAAABAAEAAAD+//7/AAAAAP7//P/+//3/AAADAAEABgACAAMAAwD///r//f///wEA//////z////9//7//v/+/wAAAAAAAP//AAD//////P/9/wAA//////j//v8AAAAAAQADAAAAAgABAAEA/v/+//v/+v///wEAAgACAAQAAwACAP7///8AAP7/AAABAP///v////3/AAAAAAAAAQAAAP3/AAABAAIAAAD//wAAAAD///3/AQADAAEA/v8AAP3/AQACAAAAAwAAAAAAAQD+/wMABQAFAAQAAAD//wAA/P/+/wIAAgAAAAMAAwACAAQAAwAFAAIAAQD///7//f/9////AQD//////////wAA/v/+//7///8DAAQAAwD+/wAAAAAAAAAAAgAAAAAAAAACAAEAAQD9/wAABAAFAAMA///7//z//v/+/////P/9/wAABAABAAAAAAAAAAUABwAFAAUAAgD+//7/AAD+//3/+v/6//7/AAABAAEAAgABAAAAAwAAAP3//f/+//7/AAD8//z/+v/9//3//v/9/////P8AAP7/AAAAAP//AAADAP//AQABAAAA/v/+//z///8AAAMAAwACAAEAAAAAAAAAAQAEAAUAAwAFAAUAAAACAAEA///9//7/AgAAAAIAAgAAAPz//f/6//7/AgD/////AAAAAAAAAAABAPz/+f8AAAAAAQACAAEAAAAAAP////8AAP///v8DAAcAAwD//wAA//8FAAsABgABAAEAAQD9//3/+//+/wMABgADAAQABQADAAMAAgABAP7/AAD//wAAAAACAP//AAD+/wIAAwAEAAQAAQAAAP///P/+/wAA/P/+/////v/7//3///8AAP3/AAAAAAQAAAD8//7//v/+//7////9/////f///////v///wMAAQADAAMAAwACAAIA///9//v//f8AAP///f/+/wIAAgD//wAAAgAAAAEA/v8AAAAAAAD///3//f/6//7/AQADAAAAAgAAAAEA/v/9//r/+v/9/wAAAAD+//7/AAAAAP//AAD//////v8BAP//AAABAAAABQAHAAUAAgADAAMAAwAAAAAA//8BAAMABQABAAMAAgACAAAAAgAGAAEAAAD+/wEAAgADAAAA/P/7/wAAAAADAAQAAwAFAAYACAAGAAEAAgADAAEAAAD//////f///wAAAQAAAPz/+v/9//z//v/8//3//v///wAA//////3/BAAHAAUAAQD//wAA/v///wAAAwD/////AAD9/////v/+//7/AQAAAAEAAAAAAAAA/v/9//z/AAD///7////8//3/AAABAAAAAAABAAQAAwADAPz//f8AAAAA/f8AAAAAAAAAAP7//v/8//7/AAAAAAEAAAAAAAMABAACAAAAAAABAAIAAAAEAAAAAAAAAPz/+/8AAAAA/P/9//7/AAD//wAABQABAAEABAAHAAcABAACAP/////+//7/+//+/wIAAAADAAIAAgAEAAUAAgAEAAEA/f/9////AQADAAAAAgAHAAUAAQAAAP3///8DAAAA/v/8/wAAAwABAAAA/f////7/+/8AAAAAAAACAAIAAAD8//n/+/8AAP//AAADAAAAAAAAAP//AAD///3//v/+//7//v/+//7/AAACAAQAAgAAAAAAAQAAAAAA/////wMAAgACAAAA/P8BAAAAAQAAAPv///8DAAUAAgAAAAAA/v8AAAAA///6//7/AAABAAEA/v////3//v8BAP//AQAAAP7/AAABAAAAAAABAAUABQADAAAA/v/8//z/+v/+//7/+//+/wAAAgAEAAgABQACAAAAAgACAAEAAQD+/wAAAAD7//v//P8BAAUABQADAAEA/v8AAAUA///9//z//f/8////AAD//wAAAwACAP///f/4//n/AAADAAAAAQAEAAUAAAAAAP///P8CAAIAAAAAAP7/AAAAAAAAAAD+/wAABAABAAAAAwADAAMABQAEAAAA/f///wIAAAAAAP///P///wEAAAAAAP//BAAGAAIA///9////AQD8//v/+//8//v///8EAAEA/v8AAAAAAAD//wAA/f8AAAIAAAAAAP7/AAAAAAAAAwAFAAEAAgABAP7///8AAAAAAAAFAAQAAQABAAIAAwACAAIAAAD7//n////7//3/AwAFAAEA//8CAAQAAAABAAMA///9////AAAAAP7///8AAPr//P8BAAMABAABAAEAAgAEAAMA/f////7//f8BAAIA///9////AgAAAP//AAD+//3/AwAEAP7//f8AAAUABAADAAAAAAAAAAAA//8CAAIAAAD//wAA//////z/+/8AAAIABgADAAEAAAAAAP7//P/7//7/AAD9//z/+////wEAAQABAP7/+//5//3/AQAAAAEAAgAFAP7//f///wAABQACAP3/AAADAAMAAgADAAEA/v8CAAEA/v8AAAEAAwAAAAAAAAD9//3/AgAEAAIAAQAAAAEA//8AAP7/+//8/wAAAAAFAAIA/f8AAAAAAQAAAP//AQACAP//AgD///n/AAAEAAQAAAABAAIAAgACAP//AgABAAAAAAD6//z//////wAA///8//z/AAADAAMABAAAAP//AAAAAAUAAgAFAAIAAQAAAAEAAwAAAAAA//8AAP//AAD+//3/AQABAP///f/7//v///8FAAQAAQD+/wAA/v/8//z/+v/4//z///8BAAAA/v8AAAEABQAEAAIAAAACAAMAAAACAAQAAQAAAAAAAAD//wAAAwAGAAQAAQAAAP//AAAAAP7//v///wEAAQD//wAA//8AAAAA/P/6//n/AAAFAAMABQAFAAAAAAAAAP7//v8AAP///v8BAAAA///+/wAA+f/4////AQAAAAAABQACAAEAAQACAAMAAQABAAMAAwACAAMAAwAFAAIA//8AAAAAAAAEAAUAAgAAAAEAAgAAAAAA///+//3//v///wAAAQD//////v///wIAAQAEAAIA+//8//n/+/8AAP//AQABAAEAAAD7//3//v/+////AgABAAAAAwAFAAEA//8BAAEA/v8AAAQA/v///wEAAQACAAAAAQD///7/AAD9/////v/+//3/AQAFAP7//f/9/wAAAQABAAAAAAAAAAEAAgD//wAAAAD/////AQABAP//AAAAAAAAAwACAAAA/v/9/wEA////////AAAAAAQAAwABAAUACAAFAP3/+v/+/wAABQAGAAEAAQACAP//AAAAAAMAAQABAAQAAAD//wAAAAD9//z//P/8//n///8CAAIAAAAAAP//+//+//z/+////////f8AAAMA/v/8//z/AQAAAAMABgAFAAAAAQAEAAAA/v8AAAIAAgD/////AAAAAAIAAQAAAAEAAAAAAAAA/v/+/wAAAAAAAAAAAAAAAP3//f8AAAAAAAAAAAEAAQAAAP3/+//6//3//v/9/wAAAQABAAMAAQAEAAgACQAHAAUAAwAAAP3/AQD//wAAAwACAAMAAQAAAAIAAgADAAEA///+////AAD+//z/+////wAAAAAAAAAABAACAAAAAAD//wAA///6//z/AAAAAP///f/+/wAA///8//3//////wAAAAD/////AAD///z//P/9//z///8DAAIA/f//////AQAAAAAA///8//7/AAAAAAYACAABAAIAAwAEAAQAAAD//wEAAwACAAEAAwAGAAUAAgABAAQAAgACAAUAAgACAAEAAQAAAP7/AAACAP//AQAFAAMAAwAAAP3//f////7///8AAP//AAABAAMABAAAAAEAAQAAAP7//f/+/wAAAwAAAPr/+//+//7/+f/6/wAAAgACAAAA/P/+/////f/6//7/AAABAAAAAgABAAEAAgACAAIAAwADAAAA/////wAAAAD//wAAAAABAAUAAwACAAIAAgABAAAAAQADAAQABAD///z//v8CAAMAAgAHAAcABwAEAP/////+//3/+v/4//r//v8DAAQABQAEAAAA//8BAP7/AAABAAAAAAD9//z///8AAPz//P8EAAMAAAD//wAAAwACAP//+f/5//3/+//6//n//P8AAAEAAQAAAAAA/////////v8BAAAAAAACAAAA/v/9//v/AAAAAAAAAgAAAAAAAAD8//3/AQACAAEAAAD+/wAA/v8AAAIAAAAAAAUAAwAEAAIAAQACAAAAAwADAAIABQAFAP///v8CAAEA/////wEAAgAAAP3/9//4//3/AAACAAMABgAFAAIAAQADAAQAAQAEAAUABQAFAPv/+//+//7/AAADAAQAAAAAAP//AAACAP///P///wUAAgD9//r//P8AAP7/+f/6//7////+//3///8AAPr/+v/9/wEAAAD7//r//P8AAAIABAAAAPz/AAAAAAAAAgD//wEAAgAAAAAAAAAAAAMABgAHAAgABgABAAMABgADAAEAAAABAP7/////////AAAEAAUABAAGAAcAAwD///z///8BAP///v8AAAAAAAD+//n/+v/9/wAAAAD9/wEAAgAAAPv/+//+////AAD9//7/AAD/////AAACAAIAAAAAAP7/+v/4//j/+/8AAP///P/+//7//v/+////AAAJAAgABAAGAAcACAAEAAEABAADAAQAAQD9/wQACAACAAIABAAFAAAAAAAAAP////8DAAIAAQADAP///P/9//3/AAD8//v/AgACAAEAAgD/////AQAAAAEAAwACAAEAAAD+//7/AAABAPz/+v/+/wEAAAD+//z/AAAAAPn/+P/6//r//v8AAP//AAAAAAEA/v/9/////f///wIAAgAHAAgABAABAAAAAAAAAAAA//8AAAAA/P/+/wAA//8BAAAAAAAGAAcABAAAAAIAAwD+//7/AQD///7///8AAP3//P/9//7/AQD///3/+f/3//3///8AAAIACAAEAAAA/f///wMABQACAAAABQABAAAAAwADAAMAAgACAAQAAQAAAAAAAQABAAAAAAAAAAAAAAD///3//f////7//v/9/wAAAgABAAEAAQADAAQAAAAAAAIAAAD///v//v8BAP////8AAAEAAQACAP///f8BAAMA///+//z/+f/7//3//P/9////AQAAAP3////+//3///8CAAAA/v8AAP7///8CAAEAAQAEAAIAAAABAAQABAACAAgACwAFAAgABgAAAAEAAAD6//v/+//7/wAAAAAAAAEAAgADAP3/////////AQAAAAAAAQACAP///////////v/6////AQACAAYAAwD//wAAAQAAAP//AgADAAIAAQADAAAAAAD///3///8AAAEAAAACAAQAAgD+//r/+//+/wAA/v8AAAMABAAEAAQAAQAAAAAAAAABAAMA//8AAAIAAQAAAP3/+//+//3//v8CAAQABAACAAIAAAAAAAEA/f/8//v//P/8//z//f/+//z/AAABAAAA/v/7//7////9//3///8AAAEAAwACAAMABgAGAAAA/P8DAAQAAAAAAP///f8AAP///f8CAAEAAgACAAMABwAFAAcACAAFAAEAAAD+////AgABAAAAAQABAAEAAQACAAAA/f/9//3//P/+//7///8BAAAA/P/5//z//f///wEAAAAAAAMAAgD+//7//v///wEAAwABAAAAAwD///v//v8AAP3//f8AAP//AAD+//r//v8BAAMABgACAAMABQABAP//AAD8//r///8AAAEAAQAAAAAA//8AAAQABQAAAAAAAAAAAAAA/v8AAP///v8BAAEAAAABAAAA//8EAAEA/f///wEAAwAAAP7///8AAP7////+/wAABAAEAAEAAgADAAQAAgAAAAQAAgAAAAAAAAAAAP/////+/wAAAAAAAAAAAQACAAAAAAAAAAMAAgACAAAA/P/6//n/+v/+/wIAAQD//wEAAwADAAAAAQADAAIAAAAAAP3//v///wAAAQABAAIAAgAAAAIAAAD+//7/+//9////+v///////v8EAAAAAAACAAEAAAD//wAA/v///wEAAAD//wMAAgD9//////8AAAAAAAAAAP//AAD+//v//f///wMABAADAAYACQAHAAMAAgABAAEA/P/8/wAAAAAAAAEABAAAAP7/AAABAAIAAAD///3//v8AAAAA/f/9////AAD///z//v8AAP///P/6//3/AgADAAMAAgABAP7//f8AAAIABgAHAAEAAgAEAAEA///+/wEAAQD+//r//P/7//7/AAAAAAIAAAD+/wAA/f///wMAAQABAAAAAAAAAAAAAwADAAMABQABAP7/AQAEAAcABQABAAAA/f/7//r/+v/+/wAA9//6/wAAAAAAAP//AgADAAAAAQADAAAAAAABAP3//P///wAA/P///wQAAQD+//7/AAABAP3///8DAAMAAQAAAAAAAAAAAAAA//8AAAIAAQAAAAAA//8BAAMAAQABAAIAAwAEAAUAAwD+//3/AAAAAPr/+v/9//7/AAAAAP///v///wAAAQABAAAAAQAAAAAA///6//7/AAD+/wIAAgABAAAAAAADAAUAAQAAAAAA//8AAAAAAgADAAIAAwACAP3/+//7//3//f/9////AwAEAAAAAAABAAMABQACAAAABAAFAAQA///8/wEAAAD+////AgACAP///////wIAAQABAAAA//////z/+P/8//z/AgAFAP///f/9//7//v8CAAcAAwD+/wEAAgD//wAAAAAAAP7/AgAHAAQAAQADAAMAAAD//////f/8///////8//z/+//+/wAAAwAGAAAA//8CAAIA/v8AAAAA//8BAAAA/v///////f/7//7/AwD///z//f8AAAUABwAEAAMAAgABAAIA/f/8//z//P8CAAEAAQAAAPz///8AAAEAAQAAAAMABQD/////AAAHAAYAAAAAAAAA/v/8//3///8AAP7////7//z/AgACAAAA/P8AAAIAAgAAAAMAAwADAAIAAAD8//z/AgABAAAABAAFAAYAAwAAAAEAAAAEAAMAAAD///r///8CAAEAAwAAAP3//v/+//7/AAABAAEAAAAAAP7/+//7/////P/+/wIAAAD+//z//f///wAAAgAAAAEAAwADAP///f8AAAMABAACAAQABAADAAAA/////wAAAwAAAP7/AAAEAAUA/v/7//3/AAAAAP//+//5//7/AgACAAAAAAABAAEAAgAAAAEAAAD6/wAABAABAAAA/f8BAAIAAAD6//n//v/9/////v/8//3/AAAAAAIAAwAAAAAAAQAEAAEAAAAAAP7/AgAAAPv/+////wAAAAAAAAIABAAEAAMAAAACAAMA///9//7//v8BAAEA/v8AAAMAAwAAAAAAAAAAAP///v8AAAEAAQAGAAQA/v//////AQAAAAAAAAD+//7//f/+//v//P/+////AAD9////AAADAAAA/v/9/wAA///8/wAAAgACAAQAAgD/////AQACAAEAAAAFAAUAAQABAAEABAACAAEAAgAAAP//AgACAAAAAgABAAMAAAAAAAAA/v///wAAAQABAAAAAAAAAAIAAAACAAEAAAACAAYAAAD6//7/AAD9//v/+f/4//z/AAAAAAAA//8BAAEAAAD///7/AAAAAAEAAAD//wAAAQD///r/+//6//n/+v/8//3/AAADAAEAAgAEAAQAAQD//wIAAAAAAAMABQAHAAQAAAACAAAAAAAAAAAAAAD9/wEABAAGAAIAAgAEAAAA/f/8//3//f8AAAQAAwAAAAAAAwD+//7/AQAAAAAAAAAAAAAA/f/+/wAAAAD9////AgACAAYACAAFAAEA//8AAAAAAAD/////AAADAAAAAAD///r//v8BAAAA/f/8///////+/////f/+/wAABgABAPz//P/+/wEA/v8AAAIA//8AAAAABAABAP7/AAAAAAMABQADAAAA/v8AAAIAAAD5//r//v8AAAAA///8//3/AQABAAIA///5/wEABQABAP//AAAEAAAABAAEAP7///8AAAMAAAAAAAUAAQD9/wAAAwABAP3//f8BAAEAAwADAAEAAAAAAP//AwAAAAEABgAGAAIA/P/9//3//f/+//7////+/wAAAQAAAP3//v8AAAAA/v/+/wMAAQACAAUAAQABAP////8EAAIAAAD8/wAAAgD//////v8AAP7///8BAAAA/v/7//n//P8AAAEA/v/7//7/AAD6//r//v/9//3/AQAJAAcAAAAAAAIAAAAAAAIAAgABAAEAAgAGAAoACAAGAAIA/f8AAAEABQAAAPr/AAD/////+v/2//3/AAAEAAAA/v/9//7/AAAAAAAAAQAAAP///v8AAAAA/f/7/wEAAwAAAAQAAAAAAAUABAADAAEA//8AAAAAAQAAAAEABwACAAQAAgAAAAAA+//7/wAAAAAEAAUAAwABAAAAAAACAAAAAAAAAAMABQD+//3///8AAAEA///7//r//P///wEA/f/4//v///8CAAEA/v8AAAEABAAAAPr//P8AAAAA/v/+/wAAAAACAAEAAAD///r//P8AAAEA///8//v//f///wAAAAD8/wEABAAAAAAAAwADAAIAAgAEAAIAAAACAAIAAwAGAAUAAwADAAEA/v/+/wAAAwAAAP3/+v/7//3///8AAP3/+//+/wAAAQAAAAAAAAACAAIAAwADAAMABAAGAAQAAAAAAP3/+//9//v//f/9///////+//z/+v8AAAUAAAAAAAEABQAFAAQAAgAEAAMABAADAAEA//8AAAEAAAACAAMACQAFAAAA///7//z///8CAAIA///+/wEAAQD7//j//f8AAAEAAAD9//3///8AAAAAAAD+////AAABAAQABAABAPz/AAABAP7//f/8////AAAAAP7//v/8//z//v///wAAAgD9/wAAAwACAAIAAAADAAMA//8AAAAABQAHAAQAAQD///7//f/+////AQAEAAUABgAAAAAA/////////f///wAAAgACAAMAAwABAAMA///+//3//f////3//f////7/+v/3/wAAAgAAAP7///8AAAAAAwACAAEAAAD+//3////8//v///8CAAcABQADAP//AAACAAQAAgAAAAEAAQD+//v//f/+//3/AgABAP/////+/wAAAwAAAP///v8AAAYAAgAAAAgACgAFAAIA//8AAAAAAgAHAAgABwACAP7/AAAAAAIAAwAAAAAA//8BAAAA/f8AAAAA/v/6//3//v/+/wEAAAD+//z/+v///wAAAAAAAPz/+//7/wAAAwACAAQAAAAAAAIA/v/8/wAAAAAAAAIAAgAAAP3//f/+/wAAAAAAAAEAAAD////////9//7/AAAEAAYABQADAAMAAgAAAAAAAQABAAEAAAD+//3//v8AAAEAAAD//wEA///+//3/+v/9/wAAAAD///3/AQAGAAEAAAD/////AAABAAMABAADAP///f/8//3//////wAAAAD+/wAA//8AAAEABAAFAAAA//8AAP3///8CAAQABgAHAAgACQAFAAEAAAAAAAEAAQABAAEAAQADAAEA/v/6//n//P/9//3///8CAAMAAAAAAAAAAAD/////AAAAAP///v////3///8CAAEA/f/5//r//P/+/wAAAQADAAMAAQD7//n//f8AAAQABQADAAIAAAAAAAIAAAD8////AQAAAAAA/f8AAAIABAADAAAAAAD+//n//P8BAP////////3///8AAAQAAQD///7/AAAGAAcAAgACAAUABAADAP3//P/8//v///8CAP//AQAHAAYAAAD9//v/+//+/wAAAwAEAAAA/P/6//7//v////7/AAAEAAEAAgAEAAMAAQABAAIABAADAAAAAQAFAAIAAAD+//3//v8AAAEA///7/wAAAAAAAAAAAQAGAAMAAAAAAAAAAAADAAIABAABAP////8AAAEAAAD+//z/AAADAAMAAwABAAAAAAAAAAAA///9//3//v///wAAAAAAAAAAAAD+//n/+f8AAAAAAAACAAEAAgACAP/////9//3//f/5//z///8BAAIAAgD///3//P/9//7//v//////AQAEAAAAAAAEAAQABAADAAEAAgAAAAEAAwABAP////8AAP//AAAAAP//////////AAAGAAYAAAD+//7//v/+//v//f8AAAAAAQAAAP7/AAACAAMAAQAAAAIAAgABAAMAAQAAAAAA//8AAAAA/P/7//v/+v/9////AAABAAEAAAAAAAIABQADAAAAAAABAAIAAAD+////AAABAAMA/v/5//r//P///wMAAwAAAAAAAQAEAAMAAAD9/wAAAwAAAPz/+//8//v/AAAAAAAAAAAAAAIABAAHAAoAAwABAAEAAAD///3//f8AAAAA/f/7//3/AAAAAAQABgAFAAEAAAD+/wAAAwABAAAAAQACAAIAAAAAAP////8AAAAA/v8AAAIAAAABAAAAAQABAAAABAADAP7//v///wEAAwABAPz/+v/9//7/+v/3//3/AgABAAAAAAACAAAA/v8AAPz///////7/AQAAAP/////9/wAAAgABAAUABAACAAMABAAAAAIAAAAAAAAAAAD+//v//P/7//r//v8BAAMAAgAEAAIAAAD/////AgABAAEAAwAGAAAAAAAAAAAAAQAAAAAA/P/7//7////+//7///8CAAAA/v//////AAADAAIABAAEAAAAAAD///z//P///wIAAAABAAMAAAABAAEAAQD///v//f/+/wAAAQABAAAAAAD9//n//P8CAAIAAwADAAIAAQAAAAIAAQAEAAYACgAHAAYABgADAAAA/P/8//7/AAAAAAAAAAACAAEA/f/+//7///8CAAAAAgABAP////8AAAAA/f/9/wAAAQD//////f/+//3/+//8//3///8EAAYAAwABAAAA///+/////f/+/////P/5//r///8BAAAAAAACAAAAAAD+//7///8BAAIAAgADAAIAAgD+//7/AAAAAAQABAADAAQAAwAAAPz//v8BAAAAAQACAAAA/P/8/wAAAAD8//7/AAAAAAEAAAD8//3/+//8//v//f8BAAIAAAAAAP//AgACAP//AAAAAAAA/f/8////AAAAAAQABQAEAP7//v8AAAMAAQACAAAA///+//z/+//6////BgAJAAYACAADAAAAAgABAP////8BAAMAAgABAAIAAwACAAAA/v///wAAAAABAAIAAAACAP//+////wIABAAFAAQABAADAAAAAgABAAAAAAABAAUA///9//z/+//9////AAACAAMAAQD+//r//v/8//7/AwADAAQAAgADAAIA/v/8//7/AAAEAAEAAAAAAP7//f/7//3/AAACAAQABAADAAAA+f/4//r/+f/9//z//P////3//P/6//r/AAABAAAAAAD8//n/+//4//f/+P/+/wAABgAHAAAAAQACAAAA//8AAAUABAADAAUAAQAAAP7//v8AAAIABwAJAAUABQAFAAEAAAAAAAEAAAADAAQA/v/9//7///8BAP///P///wAA/////wAAAgABAAAAAAAAAP7///8AAAAAAgACAAMAAwACAAIAAAAAAP7////8//z/AgAAAP//AAABAAYABwD///7//v/7//z/+f/+/wAAAAAAAAEAAQABAAMAAAABAAIACQAHAAIA/f/5//3//P8AAAIABQAGAAcACgAJAAYAAQD+//7/AAD+/wAAAAAAAAMAAwAAAAAA/P/9/wEAAAD///r/+//9////AAAAAAQAAwAAAAQABgABAP////8BAAAA///7//r/AAAEAAEAAAAEAAUABAAAAP7///8AAAEAAwD///7/+//6//3//v/9//7/AAABAAAAAwAEAAMAAgACAAQABgAEAAIAAAAEAAMAAAAFAAMAAgABAAAAAwADAP//AgACAAAA/v/8//7//f8AAP//AAAAAAAAAAD///v/+//7//z/+//5//r/+v/7/wAABQAEAP//AAAEAAEA///+//7/+f/5/wAA/f/4////AQAEAAYAAAAAAP///f8BAAAAAQAEAAAA/v8AAAEAAwABAAAAAAAAAAIA/f/6//7/AAA=\" type=\"audio/wav\" />\n",
              "                    Your browser does not support the audio element.\n",
              "                </audio>\n",
              "              "
            ]
          },
          "metadata": {}
        },
        {
          "output_type": "stream",
          "name": "stdout",
          "text": [
            "\n",
            "\n",
            "TRANSCRIPTION:\n",
            "\n",
            "\n"
          ]
        }
      ]
    },
    {
      "cell_type": "markdown",
      "source": [
        "##변환중 ..."
      ],
      "metadata": {
        "id": "XHYyAxVofS9B"
      }
    },
    {
      "cell_type": "code",
      "source": [
        "!cp /content/silero-models/korean.wav /content/test/\n",
        "\n",
        "DATA='/content/test/'\n",
        "dir_list=os.listdir(DATA)\n",
        "\n",
        "nation=[]\n",
        "path=[]\n",
        "for i in dir_list:\n",
        "  new_i=i[:-4]\n",
        "  new_i=[j for j in new_i if j.isalpha()]\n",
        "  new_i=''.join(new_i)\n",
        "  nation.append(new_i)\n",
        "  path.append(DATA+i)\n",
        "\n",
        "DATA_df=pd.DataFrame(nation, columns=['labels'])\n",
        "DATA_df['source']='DATA'\n",
        "DATA_df=pd.concat([DATA_df, pd.DataFrame(path, columns=['path'])], axis=1)\n",
        "DATA_df.labels.value_counts()\n",
        "DATA_df.to_csv(\"Data_test.csv\",index=False)"
      ],
      "metadata": {
        "id": "IrqiydrPZrqk"
      },
      "execution_count": 10,
      "outputs": []
    },
    {
      "cell_type": "code",
      "source": [
        "ref=pd.read_csv(\"Data_test.csv\")\n",
        "df=pd.DataFrame(columns=['feature'])\n",
        "cnt=0\n",
        "\n",
        "for i in tqdm(ref.path):\n",
        "  X, sample_rate = librosa.load(i, res_type='kaiser_fast', duration=2.5, sr=44100, offset=0.5)\n",
        "  mfccs=np.mean(librosa.feature.mfcc(y=X,\n",
        "                                     sr=np.array(sample_rate), n_mfcc=13), axis=0)\n",
        "  df.loc[cnt]=[mfccs]\n",
        "  cnt +=1\n",
        "\n",
        "df=pd.concat([ref, pd.DataFrame(df['feature'].values.tolist())],axis=1)\n",
        "df=df.fillna(0)\n",
        "df.to_csv(\"TEST_processed.csv\",index=False)\n",
        "df.head()"
      ],
      "metadata": {
        "colab": {
          "base_uri": "https://localhost:8080/",
          "height": 192
        },
        "id": "3F8vltEMaSLm",
        "outputId": "f1a925b4-ab5c-4215-d85f-ed63046b84bc"
      },
      "execution_count": 11,
      "outputs": [
        {
          "output_type": "stream",
          "name": "stderr",
          "text": [
            "100%|██████████| 1/1 [00:00<00:00,  1.22it/s]\n"
          ]
        },
        {
          "output_type": "execute_result",
          "data": {
            "text/plain": [
              "   labels source                      path          0          1         2  \\\n",
              "0  korean   DATA  /content/test/korean.wav -38.924789 -38.498482 -35.51762   \n",
              "\n",
              "           3          4          5          6  ...        206        207  \\\n",
              "0 -35.935726 -37.524109 -34.646877 -32.061253  ... -48.054054 -45.594364   \n",
              "\n",
              "         208        209        210        211        212        213  \\\n",
              "0 -43.538757 -43.631893 -43.477318 -45.279819 -48.855778 -49.310993   \n",
              "\n",
              "         214        215  \n",
              "0 -49.672714 -49.555824  \n",
              "\n",
              "[1 rows x 219 columns]"
            ],
            "text/html": [
              "\n",
              "  <div id=\"df-21f6cc95-a28d-4b7b-90b8-e69b362fe0bb\">\n",
              "    <div class=\"colab-df-container\">\n",
              "      <div>\n",
              "<style scoped>\n",
              "    .dataframe tbody tr th:only-of-type {\n",
              "        vertical-align: middle;\n",
              "    }\n",
              "\n",
              "    .dataframe tbody tr th {\n",
              "        vertical-align: top;\n",
              "    }\n",
              "\n",
              "    .dataframe thead th {\n",
              "        text-align: right;\n",
              "    }\n",
              "</style>\n",
              "<table border=\"1\" class=\"dataframe\">\n",
              "  <thead>\n",
              "    <tr style=\"text-align: right;\">\n",
              "      <th></th>\n",
              "      <th>labels</th>\n",
              "      <th>source</th>\n",
              "      <th>path</th>\n",
              "      <th>0</th>\n",
              "      <th>1</th>\n",
              "      <th>2</th>\n",
              "      <th>3</th>\n",
              "      <th>4</th>\n",
              "      <th>5</th>\n",
              "      <th>6</th>\n",
              "      <th>...</th>\n",
              "      <th>206</th>\n",
              "      <th>207</th>\n",
              "      <th>208</th>\n",
              "      <th>209</th>\n",
              "      <th>210</th>\n",
              "      <th>211</th>\n",
              "      <th>212</th>\n",
              "      <th>213</th>\n",
              "      <th>214</th>\n",
              "      <th>215</th>\n",
              "    </tr>\n",
              "  </thead>\n",
              "  <tbody>\n",
              "    <tr>\n",
              "      <th>0</th>\n",
              "      <td>korean</td>\n",
              "      <td>DATA</td>\n",
              "      <td>/content/test/korean.wav</td>\n",
              "      <td>-38.924789</td>\n",
              "      <td>-38.498482</td>\n",
              "      <td>-35.51762</td>\n",
              "      <td>-35.935726</td>\n",
              "      <td>-37.524109</td>\n",
              "      <td>-34.646877</td>\n",
              "      <td>-32.061253</td>\n",
              "      <td>...</td>\n",
              "      <td>-48.054054</td>\n",
              "      <td>-45.594364</td>\n",
              "      <td>-43.538757</td>\n",
              "      <td>-43.631893</td>\n",
              "      <td>-43.477318</td>\n",
              "      <td>-45.279819</td>\n",
              "      <td>-48.855778</td>\n",
              "      <td>-49.310993</td>\n",
              "      <td>-49.672714</td>\n",
              "      <td>-49.555824</td>\n",
              "    </tr>\n",
              "  </tbody>\n",
              "</table>\n",
              "<p>1 rows × 219 columns</p>\n",
              "</div>\n",
              "      <button class=\"colab-df-convert\" onclick=\"convertToInteractive('df-21f6cc95-a28d-4b7b-90b8-e69b362fe0bb')\"\n",
              "              title=\"Convert this dataframe to an interactive table.\"\n",
              "              style=\"display:none;\">\n",
              "        \n",
              "  <svg xmlns=\"http://www.w3.org/2000/svg\" height=\"24px\"viewBox=\"0 0 24 24\"\n",
              "       width=\"24px\">\n",
              "    <path d=\"M0 0h24v24H0V0z\" fill=\"none\"/>\n",
              "    <path d=\"M18.56 5.44l.94 2.06.94-2.06 2.06-.94-2.06-.94-.94-2.06-.94 2.06-2.06.94zm-11 1L8.5 8.5l.94-2.06 2.06-.94-2.06-.94L8.5 2.5l-.94 2.06-2.06.94zm10 10l.94 2.06.94-2.06 2.06-.94-2.06-.94-.94-2.06-.94 2.06-2.06.94z\"/><path d=\"M17.41 7.96l-1.37-1.37c-.4-.4-.92-.59-1.43-.59-.52 0-1.04.2-1.43.59L10.3 9.45l-7.72 7.72c-.78.78-.78 2.05 0 2.83L4 21.41c.39.39.9.59 1.41.59.51 0 1.02-.2 1.41-.59l7.78-7.78 2.81-2.81c.8-.78.8-2.07 0-2.86zM5.41 20L4 18.59l7.72-7.72 1.47 1.35L5.41 20z\"/>\n",
              "  </svg>\n",
              "      </button>\n",
              "      \n",
              "  <style>\n",
              "    .colab-df-container {\n",
              "      display:flex;\n",
              "      flex-wrap:wrap;\n",
              "      gap: 12px;\n",
              "    }\n",
              "\n",
              "    .colab-df-convert {\n",
              "      background-color: #E8F0FE;\n",
              "      border: none;\n",
              "      border-radius: 50%;\n",
              "      cursor: pointer;\n",
              "      display: none;\n",
              "      fill: #1967D2;\n",
              "      height: 32px;\n",
              "      padding: 0 0 0 0;\n",
              "      width: 32px;\n",
              "    }\n",
              "\n",
              "    .colab-df-convert:hover {\n",
              "      background-color: #E2EBFA;\n",
              "      box-shadow: 0px 1px 2px rgba(60, 64, 67, 0.3), 0px 1px 3px 1px rgba(60, 64, 67, 0.15);\n",
              "      fill: #174EA6;\n",
              "    }\n",
              "\n",
              "    [theme=dark] .colab-df-convert {\n",
              "      background-color: #3B4455;\n",
              "      fill: #D2E3FC;\n",
              "    }\n",
              "\n",
              "    [theme=dark] .colab-df-convert:hover {\n",
              "      background-color: #434B5C;\n",
              "      box-shadow: 0px 1px 3px 1px rgba(0, 0, 0, 0.15);\n",
              "      filter: drop-shadow(0px 1px 2px rgba(0, 0, 0, 0.3));\n",
              "      fill: #FFFFFF;\n",
              "    }\n",
              "  </style>\n",
              "\n",
              "      <script>\n",
              "        const buttonEl =\n",
              "          document.querySelector('#df-21f6cc95-a28d-4b7b-90b8-e69b362fe0bb button.colab-df-convert');\n",
              "        buttonEl.style.display =\n",
              "          google.colab.kernel.accessAllowed ? 'block' : 'none';\n",
              "\n",
              "        async function convertToInteractive(key) {\n",
              "          const element = document.querySelector('#df-21f6cc95-a28d-4b7b-90b8-e69b362fe0bb');\n",
              "          const dataTable =\n",
              "            await google.colab.kernel.invokeFunction('convertToInteractive',\n",
              "                                                     [key], {});\n",
              "          if (!dataTable) return;\n",
              "\n",
              "          const docLinkHtml = 'Like what you see? Visit the ' +\n",
              "            '<a target=\"_blank\" href=https://colab.research.google.com/notebooks/data_table.ipynb>data table notebook</a>'\n",
              "            + ' to learn more about interactive tables.';\n",
              "          element.innerHTML = '';\n",
              "          dataTable['output_type'] = 'display_data';\n",
              "          await google.colab.output.renderOutput(dataTable, element);\n",
              "          const docLink = document.createElement('div');\n",
              "          docLink.innerHTML = docLinkHtml;\n",
              "          element.appendChild(docLink);\n",
              "        }\n",
              "      </script>\n",
              "    </div>\n",
              "  </div>\n",
              "  "
            ]
          },
          "metadata": {},
          "execution_count": 11
        }
      ]
    },
    {
      "cell_type": "code",
      "source": [
        "test=df.drop(['path','labels','source'],axis=1)\n",
        "for i in test:\n",
        "  test[i]=test[i]*0.01\n",
        "test=np.array(test)\n",
        "test=np.expand_dims(test, axis=2)"
      ],
      "metadata": {
        "colab": {
          "base_uri": "https://localhost:8080/",
          "height": 99
        },
        "id": "Ql4UqlMZagu0",
        "outputId": "e466ad54-816f-456b-bae2-8c9182f1ceb7"
      },
      "execution_count": 16,
      "outputs": [
        {
          "output_type": "stream",
          "name": "stdout",
          "text": [
            "1/1 [==============================] - 0s 31ms/step\n"
          ]
        },
        {
          "output_type": "execute_result",
          "data": {
            "text/plain": [
              "  predictedvalues\n",
              "0          arabic"
            ],
            "text/html": [
              "\n",
              "  <div id=\"df-765d8321-df0e-47b5-86ff-7a486b719727\">\n",
              "    <div class=\"colab-df-container\">\n",
              "      <div>\n",
              "<style scoped>\n",
              "    .dataframe tbody tr th:only-of-type {\n",
              "        vertical-align: middle;\n",
              "    }\n",
              "\n",
              "    .dataframe tbody tr th {\n",
              "        vertical-align: top;\n",
              "    }\n",
              "\n",
              "    .dataframe thead th {\n",
              "        text-align: right;\n",
              "    }\n",
              "</style>\n",
              "<table border=\"1\" class=\"dataframe\">\n",
              "  <thead>\n",
              "    <tr style=\"text-align: right;\">\n",
              "      <th></th>\n",
              "      <th>predictedvalues</th>\n",
              "    </tr>\n",
              "  </thead>\n",
              "  <tbody>\n",
              "    <tr>\n",
              "      <th>0</th>\n",
              "      <td>arabic</td>\n",
              "    </tr>\n",
              "  </tbody>\n",
              "</table>\n",
              "</div>\n",
              "      <button class=\"colab-df-convert\" onclick=\"convertToInteractive('df-765d8321-df0e-47b5-86ff-7a486b719727')\"\n",
              "              title=\"Convert this dataframe to an interactive table.\"\n",
              "              style=\"display:none;\">\n",
              "        \n",
              "  <svg xmlns=\"http://www.w3.org/2000/svg\" height=\"24px\"viewBox=\"0 0 24 24\"\n",
              "       width=\"24px\">\n",
              "    <path d=\"M0 0h24v24H0V0z\" fill=\"none\"/>\n",
              "    <path d=\"M18.56 5.44l.94 2.06.94-2.06 2.06-.94-2.06-.94-.94-2.06-.94 2.06-2.06.94zm-11 1L8.5 8.5l.94-2.06 2.06-.94-2.06-.94L8.5 2.5l-.94 2.06-2.06.94zm10 10l.94 2.06.94-2.06 2.06-.94-2.06-.94-.94-2.06-.94 2.06-2.06.94z\"/><path d=\"M17.41 7.96l-1.37-1.37c-.4-.4-.92-.59-1.43-.59-.52 0-1.04.2-1.43.59L10.3 9.45l-7.72 7.72c-.78.78-.78 2.05 0 2.83L4 21.41c.39.39.9.59 1.41.59.51 0 1.02-.2 1.41-.59l7.78-7.78 2.81-2.81c.8-.78.8-2.07 0-2.86zM5.41 20L4 18.59l7.72-7.72 1.47 1.35L5.41 20z\"/>\n",
              "  </svg>\n",
              "      </button>\n",
              "      \n",
              "  <style>\n",
              "    .colab-df-container {\n",
              "      display:flex;\n",
              "      flex-wrap:wrap;\n",
              "      gap: 12px;\n",
              "    }\n",
              "\n",
              "    .colab-df-convert {\n",
              "      background-color: #E8F0FE;\n",
              "      border: none;\n",
              "      border-radius: 50%;\n",
              "      cursor: pointer;\n",
              "      display: none;\n",
              "      fill: #1967D2;\n",
              "      height: 32px;\n",
              "      padding: 0 0 0 0;\n",
              "      width: 32px;\n",
              "    }\n",
              "\n",
              "    .colab-df-convert:hover {\n",
              "      background-color: #E2EBFA;\n",
              "      box-shadow: 0px 1px 2px rgba(60, 64, 67, 0.3), 0px 1px 3px 1px rgba(60, 64, 67, 0.15);\n",
              "      fill: #174EA6;\n",
              "    }\n",
              "\n",
              "    [theme=dark] .colab-df-convert {\n",
              "      background-color: #3B4455;\n",
              "      fill: #D2E3FC;\n",
              "    }\n",
              "\n",
              "    [theme=dark] .colab-df-convert:hover {\n",
              "      background-color: #434B5C;\n",
              "      box-shadow: 0px 1px 3px 1px rgba(0, 0, 0, 0.15);\n",
              "      filter: drop-shadow(0px 1px 2px rgba(0, 0, 0, 0.3));\n",
              "      fill: #FFFFFF;\n",
              "    }\n",
              "  </style>\n",
              "\n",
              "      <script>\n",
              "        const buttonEl =\n",
              "          document.querySelector('#df-765d8321-df0e-47b5-86ff-7a486b719727 button.colab-df-convert');\n",
              "        buttonEl.style.display =\n",
              "          google.colab.kernel.accessAllowed ? 'block' : 'none';\n",
              "\n",
              "        async function convertToInteractive(key) {\n",
              "          const element = document.querySelector('#df-765d8321-df0e-47b5-86ff-7a486b719727');\n",
              "          const dataTable =\n",
              "            await google.colab.kernel.invokeFunction('convertToInteractive',\n",
              "                                                     [key], {});\n",
              "          if (!dataTable) return;\n",
              "\n",
              "          const docLinkHtml = 'Like what you see? Visit the ' +\n",
              "            '<a target=\"_blank\" href=https://colab.research.google.com/notebooks/data_table.ipynb>data table notebook</a>'\n",
              "            + ' to learn more about interactive tables.';\n",
              "          element.innerHTML = '';\n",
              "          dataTable['output_type'] = 'display_data';\n",
              "          await google.colab.output.renderOutput(dataTable, element);\n",
              "          const docLink = document.createElement('div');\n",
              "          docLink.innerHTML = docLinkHtml;\n",
              "          element.appendChild(docLink);\n",
              "        }\n",
              "      </script>\n",
              "    </div>\n",
              "  </div>\n",
              "  "
            ]
          },
          "metadata": {},
          "execution_count": 16
        }
      ]
    },
    {
      "cell_type": "markdown",
      "source": [
        "##RESULT\n",
        "\n",
        "label: English, Spanish, Arabic, Mandarin, French, Korean, Portuguese, Russian, Dutch, Turkish, German, Polish, Italian, Japanese, Macedonian"
      ],
      "metadata": {
        "id": "KjrqshcVfZS1"
      }
    },
    {
      "cell_type": "code",
      "source": [
        "# predictions \n",
        "preds=loaded_model.predict(test, verbose=1)\n",
        "preds=preds.argmax(axis=1)\n",
        "\n",
        "preds = preds.astype(int).flatten()\n",
        "preds = (lb.inverse_transform((preds)))\n",
        "preds = pd.DataFrame({'predictedvalues': preds})\n",
        "\n",
        "preds"
      ],
      "metadata": {
        "id": "en1Y9otTfWMR"
      },
      "execution_count": null,
      "outputs": []
    }
  ]
}